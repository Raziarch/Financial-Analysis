{
 "cells": [
  {
   "cell_type": "code",
   "execution_count": 750,
   "id": "4ad9a5b9",
   "metadata": {},
   "outputs": [],
   "source": [
    "import pandas as pd\n",
    "import matplotlib.pyplot as plt\n",
    "import matplotlib\n",
    "import numpy as np\n",
    "import seaborn as sns\n",
    "import warnings\n",
    "warnings.filterwarnings('ignore')"
   ]
  },
  {
   "cell_type": "code",
   "execution_count": 751,
   "id": "4359b61b",
   "metadata": {},
   "outputs": [],
   "source": [
    "#CreditRisk_df.columns=CreditRisk_df.columns.str.strip()"
   ]
  },
  {
   "cell_type": "code",
   "execution_count": 752,
   "id": "55e7b44c",
   "metadata": {},
   "outputs": [
    {
     "data": {
      "text/html": [
       "<div>\n",
       "<style scoped>\n",
       "    .dataframe tbody tr th:only-of-type {\n",
       "        vertical-align: middle;\n",
       "    }\n",
       "\n",
       "    .dataframe tbody tr th {\n",
       "        vertical-align: top;\n",
       "    }\n",
       "\n",
       "    .dataframe thead th {\n",
       "        text-align: right;\n",
       "    }\n",
       "</style>\n",
       "<table border=\"1\" class=\"dataframe\">\n",
       "  <thead>\n",
       "    <tr style=\"text-align: right;\">\n",
       "      <th></th>\n",
       "      <th>Full_Name</th>\n",
       "      <th>Requested_Amount</th>\n",
       "      <th>Web_Amount to Borrow</th>\n",
       "      <th>Amount to Borrow</th>\n",
       "      <th>Annual_Revenue</th>\n",
       "      <th>Web_Gross Annual Sales</th>\n",
       "      <th>Gross_Annual_Sales</th>\n",
       "      <th>Lead_Score</th>\n",
       "      <th>LeadID</th>\n",
       "      <th>Self Graded Credit</th>\n",
       "      <th>Lead_Self_Graded_Credit</th>\n",
       "      <th>Is_Submitted</th>\n",
       "      <th>Web_Ad Outlet</th>\n",
       "      <th>Ad_Outlet</th>\n",
       "      <th>Web_Date</th>\n",
       "      <th>Ad_Outlet_Source</th>\n",
       "      <th>Is_Funded</th>\n",
       "    </tr>\n",
       "  </thead>\n",
       "  <tbody>\n",
       "    <tr>\n",
       "      <th>0</th>\n",
       "      <td>David Harris</td>\n",
       "      <td>NaN</td>\n",
       "      <td>$10,000 to $25,000</td>\n",
       "      <td>$10,000 to $25,000</td>\n",
       "      <td>NaN</td>\n",
       "      <td>Less than $100,000</td>\n",
       "      <td>Less than $100,000</td>\n",
       "      <td>11</td>\n",
       "      <td>00Q4u00001eYBsYEAW</td>\n",
       "      <td>2.0</td>\n",
       "      <td>2.0</td>\n",
       "      <td>0</td>\n",
       "      <td>101.0</td>\n",
       "      <td>101.0</td>\n",
       "      <td>2021-04-11</td>\n",
       "      <td>NaN</td>\n",
       "      <td>0</td>\n",
       "    </tr>\n",
       "    <tr>\n",
       "      <th>1</th>\n",
       "      <td>Pedro Rodriguez</td>\n",
       "      <td>NaN</td>\n",
       "      <td>NaN</td>\n",
       "      <td>150,000.00</td>\n",
       "      <td>NaN</td>\n",
       "      <td>NaN</td>\n",
       "      <td>$500k-$1mm</td>\n",
       "      <td>8</td>\n",
       "      <td>00Q4u00001cJlowEAC</td>\n",
       "      <td>NaN</td>\n",
       "      <td>NaN</td>\n",
       "      <td>1</td>\n",
       "      <td>1105.0</td>\n",
       "      <td>1105.0</td>\n",
       "      <td>2019-05-02</td>\n",
       "      <td>Digital - Affiliate</td>\n",
       "      <td>0</td>\n",
       "    </tr>\n",
       "    <tr>\n",
       "      <th>2</th>\n",
       "      <td>Lashandra Fulcher</td>\n",
       "      <td>NaN</td>\n",
       "      <td>NaN</td>\n",
       "      <td>$10,000 to $25,000</td>\n",
       "      <td>NaN</td>\n",
       "      <td>NaN</td>\n",
       "      <td>NaN</td>\n",
       "      <td>24</td>\n",
       "      <td>00Q4u00001fOHswEAG</td>\n",
       "      <td>NaN</td>\n",
       "      <td>3.0</td>\n",
       "      <td>1</td>\n",
       "      <td>1119.0</td>\n",
       "      <td>1119.0</td>\n",
       "      <td>2021-06-08</td>\n",
       "      <td>Digital - Affiliate</td>\n",
       "      <td>0</td>\n",
       "    </tr>\n",
       "    <tr>\n",
       "      <th>3</th>\n",
       "      <td>Gary Nunez</td>\n",
       "      <td>NaN</td>\n",
       "      <td>NaN</td>\n",
       "      <td>$25,000 to $50,000</td>\n",
       "      <td>NaN</td>\n",
       "      <td>NaN</td>\n",
       "      <td>$100k-$200k</td>\n",
       "      <td>24</td>\n",
       "      <td>00Q4u00001ebawUEAQ</td>\n",
       "      <td>NaN</td>\n",
       "      <td>3.0</td>\n",
       "      <td>1</td>\n",
       "      <td>1119.0</td>\n",
       "      <td>1119.0</td>\n",
       "      <td>2021-05-03</td>\n",
       "      <td>Digital - Affiliate</td>\n",
       "      <td>0</td>\n",
       "    </tr>\n",
       "    <tr>\n",
       "      <th>4</th>\n",
       "      <td>Sonja Williams</td>\n",
       "      <td>NaN</td>\n",
       "      <td>NaN</td>\n",
       "      <td>$10,000 to $25,000</td>\n",
       "      <td>NaN</td>\n",
       "      <td>NaN</td>\n",
       "      <td>$1mm+</td>\n",
       "      <td>24</td>\n",
       "      <td>00Q4u00001f1eZyEAI</td>\n",
       "      <td>NaN</td>\n",
       "      <td>3.0</td>\n",
       "      <td>1</td>\n",
       "      <td>1119.0</td>\n",
       "      <td>1119.0</td>\n",
       "      <td>2021-05-09</td>\n",
       "      <td>Digital - Affiliate</td>\n",
       "      <td>0</td>\n",
       "    </tr>\n",
       "    <tr>\n",
       "      <th>...</th>\n",
       "      <td>...</td>\n",
       "      <td>...</td>\n",
       "      <td>...</td>\n",
       "      <td>...</td>\n",
       "      <td>...</td>\n",
       "      <td>...</td>\n",
       "      <td>...</td>\n",
       "      <td>...</td>\n",
       "      <td>...</td>\n",
       "      <td>...</td>\n",
       "      <td>...</td>\n",
       "      <td>...</td>\n",
       "      <td>...</td>\n",
       "      <td>...</td>\n",
       "      <td>...</td>\n",
       "      <td>...</td>\n",
       "      <td>...</td>\n",
       "    </tr>\n",
       "    <tr>\n",
       "      <th>22829</th>\n",
       "      <td>Richard Hamlett</td>\n",
       "      <td>50000.0</td>\n",
       "      <td>NaN</td>\n",
       "      <td>NaN</td>\n",
       "      <td>150000.0</td>\n",
       "      <td>NaN</td>\n",
       "      <td>NaN</td>\n",
       "      <td>24</td>\n",
       "      <td>00Q4u00001eb1gBEAQ</td>\n",
       "      <td>4.0</td>\n",
       "      <td>4.0</td>\n",
       "      <td>0</td>\n",
       "      <td>1101.0</td>\n",
       "      <td>1101.0</td>\n",
       "      <td>2021-04-28</td>\n",
       "      <td>Lending Tree</td>\n",
       "      <td>0</td>\n",
       "    </tr>\n",
       "    <tr>\n",
       "      <th>22830</th>\n",
       "      <td>Gregory Jones</td>\n",
       "      <td>NaN</td>\n",
       "      <td>NaN</td>\n",
       "      <td>$5,000 to $10,000</td>\n",
       "      <td>NaN</td>\n",
       "      <td>NaN</td>\n",
       "      <td>Less than $100,000</td>\n",
       "      <td>14</td>\n",
       "      <td>00Q4u00001eapmMEAQ</td>\n",
       "      <td>NaN</td>\n",
       "      <td>4.0</td>\n",
       "      <td>1</td>\n",
       "      <td>1280.0</td>\n",
       "      <td>1000.0</td>\n",
       "      <td>2021-04-26</td>\n",
       "      <td>Strategic Partners</td>\n",
       "      <td>0</td>\n",
       "    </tr>\n",
       "    <tr>\n",
       "      <th>22831</th>\n",
       "      <td>Carl Baltes</td>\n",
       "      <td>NaN</td>\n",
       "      <td>25,000.00</td>\n",
       "      <td>25,000.00</td>\n",
       "      <td>NaN</td>\n",
       "      <td>Less than $100,000</td>\n",
       "      <td>Less than $100,000</td>\n",
       "      <td>6</td>\n",
       "      <td>00Q4u00001eYNzFEAW</td>\n",
       "      <td>NaN</td>\n",
       "      <td>NaN</td>\n",
       "      <td>0</td>\n",
       "      <td>1202.0</td>\n",
       "      <td>NaN</td>\n",
       "      <td>2021-04-13</td>\n",
       "      <td>Strategic Partners</td>\n",
       "      <td>0</td>\n",
       "    </tr>\n",
       "    <tr>\n",
       "      <th>22832</th>\n",
       "      <td>emeline akuta</td>\n",
       "      <td>NaN</td>\n",
       "      <td>$100,000 or More</td>\n",
       "      <td>$100,000 or More</td>\n",
       "      <td>NaN</td>\n",
       "      <td>$100k-$200k</td>\n",
       "      <td>$100k-$200k</td>\n",
       "      <td>14</td>\n",
       "      <td>00Q4u00001e3z4PEAQ</td>\n",
       "      <td>3.0</td>\n",
       "      <td>3.0</td>\n",
       "      <td>0</td>\n",
       "      <td>1226.0</td>\n",
       "      <td>1226.0</td>\n",
       "      <td>2021-04-01</td>\n",
       "      <td>Strategic Partners</td>\n",
       "      <td>0</td>\n",
       "    </tr>\n",
       "    <tr>\n",
       "      <th>22833</th>\n",
       "      <td>DaNeen Harrison-Coats</td>\n",
       "      <td>NaN</td>\n",
       "      <td>25,000.00</td>\n",
       "      <td>25,000.00</td>\n",
       "      <td>NaN</td>\n",
       "      <td>NaN</td>\n",
       "      <td>NaN</td>\n",
       "      <td>17</td>\n",
       "      <td>00Q4u00001fPoM1EAK</td>\n",
       "      <td>4.0</td>\n",
       "      <td>4.0</td>\n",
       "      <td>0</td>\n",
       "      <td>1241.0</td>\n",
       "      <td>NaN</td>\n",
       "      <td>2021-06-14</td>\n",
       "      <td>Strategic Partners</td>\n",
       "      <td>0</td>\n",
       "    </tr>\n",
       "  </tbody>\n",
       "</table>\n",
       "<p>22834 rows × 17 columns</p>\n",
       "</div>"
      ],
      "text/plain": [
       "                   Full_Name  Requested_Amount Web_Amount to Borrow  \\\n",
       "0               David Harris               NaN   $10,000 to $25,000   \n",
       "1            Pedro Rodriguez               NaN                  NaN   \n",
       "2          Lashandra Fulcher               NaN                  NaN   \n",
       "3                 Gary Nunez               NaN                  NaN   \n",
       "4             Sonja Williams               NaN                  NaN   \n",
       "...                      ...               ...                  ...   \n",
       "22829        Richard Hamlett           50000.0                  NaN   \n",
       "22830          Gregory Jones               NaN                  NaN   \n",
       "22831            Carl Baltes               NaN            25,000.00   \n",
       "22832          emeline akuta               NaN     $100,000 or More   \n",
       "22833  DaNeen Harrison-Coats               NaN            25,000.00   \n",
       "\n",
       "         Amount to Borrow  Annual_Revenue Web_Gross Annual Sales  \\\n",
       "0      $10,000 to $25,000             NaN     Less than $100,000   \n",
       "1              150,000.00             NaN                    NaN   \n",
       "2      $10,000 to $25,000             NaN                    NaN   \n",
       "3      $25,000 to $50,000             NaN                    NaN   \n",
       "4      $10,000 to $25,000             NaN                    NaN   \n",
       "...                   ...             ...                    ...   \n",
       "22829                 NaN        150000.0                    NaN   \n",
       "22830   $5,000 to $10,000             NaN                    NaN   \n",
       "22831           25,000.00             NaN     Less than $100,000   \n",
       "22832    $100,000 or More             NaN            $100k-$200k   \n",
       "22833           25,000.00             NaN                    NaN   \n",
       "\n",
       "       Gross_Annual_Sales  Lead_Score             LeadID   Self Graded Credit  \\\n",
       "0      Less than $100,000          11  00Q4u00001eYBsYEAW                 2.0   \n",
       "1              $500k-$1mm           8  00Q4u00001cJlowEAC                 NaN   \n",
       "2                     NaN          24  00Q4u00001fOHswEAG                 NaN   \n",
       "3             $100k-$200k          24  00Q4u00001ebawUEAQ                 NaN   \n",
       "4                   $1mm+          24  00Q4u00001f1eZyEAI                 NaN   \n",
       "...                   ...         ...                 ...                 ...   \n",
       "22829                 NaN          24  00Q4u00001eb1gBEAQ                 4.0   \n",
       "22830  Less than $100,000          14  00Q4u00001eapmMEAQ                 NaN   \n",
       "22831  Less than $100,000           6  00Q4u00001eYNzFEAW                 NaN   \n",
       "22832         $100k-$200k          14  00Q4u00001e3z4PEAQ                 3.0   \n",
       "22833                 NaN          17  00Q4u00001fPoM1EAK                 4.0   \n",
       "\n",
       "       Lead_Self_Graded_Credit  Is_Submitted  Web_Ad Outlet  Ad_Outlet  \\\n",
       "0                          2.0             0          101.0      101.0   \n",
       "1                          NaN             1         1105.0     1105.0   \n",
       "2                          3.0             1         1119.0     1119.0   \n",
       "3                          3.0             1         1119.0     1119.0   \n",
       "4                          3.0             1         1119.0     1119.0   \n",
       "...                        ...           ...            ...        ...   \n",
       "22829                      4.0             0         1101.0     1101.0   \n",
       "22830                      4.0             1         1280.0     1000.0   \n",
       "22831                      NaN             0         1202.0        NaN   \n",
       "22832                      3.0             0         1226.0     1226.0   \n",
       "22833                      4.0             0         1241.0        NaN   \n",
       "\n",
       "        Web_Date     Ad_Outlet_Source  Is_Funded  \n",
       "0     2021-04-11                  NaN          0  \n",
       "1     2019-05-02  Digital - Affiliate          0  \n",
       "2     2021-06-08  Digital - Affiliate          0  \n",
       "3     2021-05-03  Digital - Affiliate          0  \n",
       "4     2021-05-09  Digital - Affiliate          0  \n",
       "...          ...                  ...        ...  \n",
       "22829 2021-04-28         Lending Tree          0  \n",
       "22830 2021-04-26   Strategic Partners          0  \n",
       "22831 2021-04-13   Strategic Partners          0  \n",
       "22832 2021-04-01   Strategic Partners          0  \n",
       "22833 2021-06-14   Strategic Partners          0  \n",
       "\n",
       "[22834 rows x 17 columns]"
      ]
     },
     "execution_count": 752,
     "metadata": {},
     "output_type": "execute_result"
    }
   ],
   "source": [
    "LeadScore_df = pd.read_csv(\"Lead-analysis/LeadScore.csv\", encoding='latin-1',parse_dates=['Web_Date'])\n",
    "LeadScore_df"
   ]
  },
  {
   "cell_type": "code",
   "execution_count": 753,
   "id": "e9337b78",
   "metadata": {},
   "outputs": [
    {
     "name": "stdout",
     "output_type": "stream",
     "text": [
      "<class 'pandas.core.frame.DataFrame'>\n",
      "RangeIndex: 22834 entries, 0 to 22833\n",
      "Data columns (total 17 columns):\n",
      " #   Column                   Non-Null Count  Dtype         \n",
      "---  ------                   --------------  -----         \n",
      " 0   Full_Name                22834 non-null  object        \n",
      " 1   Requested_Amount         9177 non-null   float64       \n",
      " 2   Web_Amount to Borrow     13433 non-null  object        \n",
      " 3   Amount to Borrow         13729 non-null  object        \n",
      " 4   Annual_Revenue           15712 non-null  float64       \n",
      " 5   Web_Gross Annual Sales   14420 non-null  object        \n",
      " 6   Gross_Annual_Sales       17037 non-null  object        \n",
      " 7   Lead_Score               22834 non-null  int64         \n",
      " 8   LeadID                   22834 non-null  object        \n",
      " 9   Self Graded Credit       21891 non-null  float64       \n",
      " 10  Lead_Self_Graded_Credit  22402 non-null  float64       \n",
      " 11  Is_Submitted             22834 non-null  int64         \n",
      " 12  Web_Ad Outlet            22514 non-null  float64       \n",
      " 13  Ad_Outlet                22485 non-null  float64       \n",
      " 14  Web_Date                 22834 non-null  datetime64[ns]\n",
      " 15  Ad_Outlet_Source         22833 non-null  object        \n",
      " 16  Is_Funded                22834 non-null  int64         \n",
      "dtypes: datetime64[ns](1), float64(6), int64(3), object(7)\n",
      "memory usage: 3.0+ MB\n"
     ]
    }
   ],
   "source": [
    "LeadScore_df.info()"
   ]
  },
  {
   "cell_type": "code",
   "execution_count": 754,
   "id": "121c5a14",
   "metadata": {},
   "outputs": [
    {
     "data": {
      "text/plain": [
       "Full_Name                      0\n",
       "Requested_Amount           13657\n",
       "Web_Amount to Borrow        9401\n",
       "Amount to Borrow            9105\n",
       "Annual_Revenue              7122\n",
       "Web_Gross Annual Sales      8414\n",
       "Gross_Annual_Sales          5797\n",
       "Lead_Score                     0\n",
       "LeadID                         0\n",
       "Self Graded Credit           943\n",
       "Lead_Self_Graded_Credit      432\n",
       "Is_Submitted                   0\n",
       "Web_Ad Outlet                320\n",
       "Ad_Outlet                    349\n",
       "Web_Date                       0\n",
       "Ad_Outlet_Source               1\n",
       "Is_Funded                      0\n",
       "dtype: int64"
      ]
     },
     "execution_count": 754,
     "metadata": {},
     "output_type": "execute_result"
    }
   ],
   "source": [
    "LeadScore_df.isnull().sum()"
   ]
  },
  {
   "cell_type": "code",
   "execution_count": 755,
   "id": "e7a81d59",
   "metadata": {},
   "outputs": [
    {
     "data": {
      "text/plain": [
       "Index(['Full_Name', 'Requested_Amount', 'Web_Amount to Borrow',\n",
       "       'Amount to Borrow', 'Annual_Revenue', 'Web_Gross Annual Sales',\n",
       "       'Gross_Annual_Sales', 'Lead_Score', 'LeadID ', 'Self Graded Credit',\n",
       "       'Lead_Self_Graded_Credit', 'Is_Submitted', 'Web_Ad Outlet', 'Ad_Outlet',\n",
       "       'Web_Date', 'Ad_Outlet_Source', 'Is_Funded'],\n",
       "      dtype='object')"
      ]
     },
     "execution_count": 755,
     "metadata": {},
     "output_type": "execute_result"
    }
   ],
   "source": [
    "LeadScore_df.columns"
   ]
  },
  {
   "cell_type": "code",
   "execution_count": 756,
   "id": "b40a281e",
   "metadata": {},
   "outputs": [],
   "source": [
    "LeadScore_df['Amount to Borrow'] = LeadScore_df['Amount to Borrow'].str.replace(',','')"
   ]
  },
  {
   "cell_type": "code",
   "execution_count": 757,
   "id": "4a9eb7b5",
   "metadata": {},
   "outputs": [],
   "source": [
    "LeadScore_df['Requested_Amount'].fillna(LeadScore_df['Amount to Borrow'], inplace = True)\n",
    "LeadScore_df['Gross_Annual_Sales'].fillna(LeadScore_df['Web_Gross Annual Sales'], inplace = True)\n",
    "LeadScore_df['Lead_Self_Graded_Credit'].fillna(LeadScore_df['Self Graded Credit'], inplace = True)\n",
    "LeadScore_df['Amount to Borrow'].fillna(LeadScore_df['Web_Amount to Borrow'], inplace = True)\n",
    "LeadScore_df['Ad_Outlet'].fillna(LeadScore_df['Web_Ad Outlet'], inplace = True)\n",
    "LeadScore_df['Annual_Revenue'].fillna(LeadScore_df['Web_Gross Annual Sales'], inplace = True)"
   ]
  },
  {
   "cell_type": "code",
   "execution_count": 758,
   "id": "cdaa4901",
   "metadata": {},
   "outputs": [],
   "source": [
    "LeadScore_df['Requested_Amount'] = LeadScore_df['Requested_Amount'].str.replace(',','')"
   ]
  },
  {
   "cell_type": "code",
   "execution_count": 759,
   "id": "bf36bde7",
   "metadata": {},
   "outputs": [
    {
     "data": {
      "text/html": [
       "<div>\n",
       "<style scoped>\n",
       "    .dataframe tbody tr th:only-of-type {\n",
       "        vertical-align: middle;\n",
       "    }\n",
       "\n",
       "    .dataframe tbody tr th {\n",
       "        vertical-align: top;\n",
       "    }\n",
       "\n",
       "    .dataframe thead th {\n",
       "        text-align: right;\n",
       "    }\n",
       "</style>\n",
       "<table border=\"1\" class=\"dataframe\">\n",
       "  <thead>\n",
       "    <tr style=\"text-align: right;\">\n",
       "      <th></th>\n",
       "      <th>Full_Name</th>\n",
       "      <th>Requested_Amount</th>\n",
       "      <th>Amount to Borrow</th>\n",
       "      <th>Annual_Revenue</th>\n",
       "      <th>Gross_Annual_Sales</th>\n",
       "      <th>Lead_Score</th>\n",
       "      <th>LeadID</th>\n",
       "      <th>Lead_Self_Graded_Credit</th>\n",
       "      <th>Is_Submitted</th>\n",
       "      <th>Ad_Outlet</th>\n",
       "      <th>Web_Date</th>\n",
       "      <th>Ad_Outlet_Source</th>\n",
       "      <th>Is_Funded</th>\n",
       "    </tr>\n",
       "  </thead>\n",
       "  <tbody>\n",
       "    <tr>\n",
       "      <th>0</th>\n",
       "      <td>David Harris</td>\n",
       "      <td>$10000 to $25000</td>\n",
       "      <td>$10000 to $25000</td>\n",
       "      <td>Less than $100,000</td>\n",
       "      <td>Less than $100,000</td>\n",
       "      <td>11</td>\n",
       "      <td>00Q4u00001eYBsYEAW</td>\n",
       "      <td>2.0</td>\n",
       "      <td>0</td>\n",
       "      <td>101.0</td>\n",
       "      <td>2021-04-11</td>\n",
       "      <td>NaN</td>\n",
       "      <td>0</td>\n",
       "    </tr>\n",
       "    <tr>\n",
       "      <th>1</th>\n",
       "      <td>Pedro Rodriguez</td>\n",
       "      <td>150000.00</td>\n",
       "      <td>150000.00</td>\n",
       "      <td>NaN</td>\n",
       "      <td>$500k-$1mm</td>\n",
       "      <td>8</td>\n",
       "      <td>00Q4u00001cJlowEAC</td>\n",
       "      <td>NaN</td>\n",
       "      <td>1</td>\n",
       "      <td>1105.0</td>\n",
       "      <td>2019-05-02</td>\n",
       "      <td>Digital - Affiliate</td>\n",
       "      <td>0</td>\n",
       "    </tr>\n",
       "    <tr>\n",
       "      <th>2</th>\n",
       "      <td>Lashandra Fulcher</td>\n",
       "      <td>$10000 to $25000</td>\n",
       "      <td>$10000 to $25000</td>\n",
       "      <td>NaN</td>\n",
       "      <td>NaN</td>\n",
       "      <td>24</td>\n",
       "      <td>00Q4u00001fOHswEAG</td>\n",
       "      <td>3.0</td>\n",
       "      <td>1</td>\n",
       "      <td>1119.0</td>\n",
       "      <td>2021-06-08</td>\n",
       "      <td>Digital - Affiliate</td>\n",
       "      <td>0</td>\n",
       "    </tr>\n",
       "    <tr>\n",
       "      <th>3</th>\n",
       "      <td>Gary Nunez</td>\n",
       "      <td>$25000 to $50000</td>\n",
       "      <td>$25000 to $50000</td>\n",
       "      <td>NaN</td>\n",
       "      <td>$100k-$200k</td>\n",
       "      <td>24</td>\n",
       "      <td>00Q4u00001ebawUEAQ</td>\n",
       "      <td>3.0</td>\n",
       "      <td>1</td>\n",
       "      <td>1119.0</td>\n",
       "      <td>2021-05-03</td>\n",
       "      <td>Digital - Affiliate</td>\n",
       "      <td>0</td>\n",
       "    </tr>\n",
       "    <tr>\n",
       "      <th>4</th>\n",
       "      <td>Sonja Williams</td>\n",
       "      <td>$10000 to $25000</td>\n",
       "      <td>$10000 to $25000</td>\n",
       "      <td>NaN</td>\n",
       "      <td>$1mm+</td>\n",
       "      <td>24</td>\n",
       "      <td>00Q4u00001f1eZyEAI</td>\n",
       "      <td>3.0</td>\n",
       "      <td>1</td>\n",
       "      <td>1119.0</td>\n",
       "      <td>2021-05-09</td>\n",
       "      <td>Digital - Affiliate</td>\n",
       "      <td>0</td>\n",
       "    </tr>\n",
       "  </tbody>\n",
       "</table>\n",
       "</div>"
      ],
      "text/plain": [
       "           Full_Name  Requested_Amount  Amount to Borrow      Annual_Revenue  \\\n",
       "0       David Harris  $10000 to $25000  $10000 to $25000  Less than $100,000   \n",
       "1    Pedro Rodriguez         150000.00         150000.00                 NaN   \n",
       "2  Lashandra Fulcher  $10000 to $25000  $10000 to $25000                 NaN   \n",
       "3         Gary Nunez  $25000 to $50000  $25000 to $50000                 NaN   \n",
       "4     Sonja Williams  $10000 to $25000  $10000 to $25000                 NaN   \n",
       "\n",
       "   Gross_Annual_Sales  Lead_Score             LeadID   \\\n",
       "0  Less than $100,000          11  00Q4u00001eYBsYEAW   \n",
       "1          $500k-$1mm           8  00Q4u00001cJlowEAC   \n",
       "2                 NaN          24  00Q4u00001fOHswEAG   \n",
       "3         $100k-$200k          24  00Q4u00001ebawUEAQ   \n",
       "4               $1mm+          24  00Q4u00001f1eZyEAI   \n",
       "\n",
       "   Lead_Self_Graded_Credit  Is_Submitted  Ad_Outlet   Web_Date  \\\n",
       "0                      2.0             0      101.0 2021-04-11   \n",
       "1                      NaN             1     1105.0 2019-05-02   \n",
       "2                      3.0             1     1119.0 2021-06-08   \n",
       "3                      3.0             1     1119.0 2021-05-03   \n",
       "4                      3.0             1     1119.0 2021-05-09   \n",
       "\n",
       "      Ad_Outlet_Source  Is_Funded  \n",
       "0                  NaN          0  \n",
       "1  Digital - Affiliate          0  \n",
       "2  Digital - Affiliate          0  \n",
       "3  Digital - Affiliate          0  \n",
       "4  Digital - Affiliate          0  "
      ]
     },
     "execution_count": 759,
     "metadata": {},
     "output_type": "execute_result"
    }
   ],
   "source": [
    "LeadScore_df = LeadScore_df.drop(['Web_Amount to Borrow', 'Web_Gross Annual Sales', 'Self Graded Credit','Web_Ad Outlet'], axis=1)\n",
    "LeadScore_df.head()"
   ]
  },
  {
   "cell_type": "code",
   "execution_count": 760,
   "id": "bac7d242",
   "metadata": {},
   "outputs": [
    {
     "data": {
      "text/html": [
       "<div>\n",
       "<style scoped>\n",
       "    .dataframe tbody tr th:only-of-type {\n",
       "        vertical-align: middle;\n",
       "    }\n",
       "\n",
       "    .dataframe tbody tr th {\n",
       "        vertical-align: top;\n",
       "    }\n",
       "\n",
       "    .dataframe thead th {\n",
       "        text-align: right;\n",
       "    }\n",
       "</style>\n",
       "<table border=\"1\" class=\"dataframe\">\n",
       "  <thead>\n",
       "    <tr style=\"text-align: right;\">\n",
       "      <th></th>\n",
       "      <th>Full_Name</th>\n",
       "      <th>Requested_Amount</th>\n",
       "      <th>Amount to Borrow</th>\n",
       "      <th>Annual_Revenue</th>\n",
       "      <th>Gross_Annual_Sales</th>\n",
       "      <th>Lead_Score</th>\n",
       "      <th>LeadID</th>\n",
       "      <th>Lead_Self_Graded_Credit</th>\n",
       "      <th>Is_Submitted</th>\n",
       "      <th>Ad_Outlet</th>\n",
       "      <th>Web_Date</th>\n",
       "      <th>Ad_Outlet_Source</th>\n",
       "      <th>Is_Funded</th>\n",
       "    </tr>\n",
       "  </thead>\n",
       "  <tbody>\n",
       "    <tr>\n",
       "      <th>38</th>\n",
       "      <td>FLOYD JORDAN</td>\n",
       "      <td>25000.00</td>\n",
       "      <td>25000.00</td>\n",
       "      <td>Less than $100,000</td>\n",
       "      <td>Less than $100,000</td>\n",
       "      <td>8</td>\n",
       "      <td>00Q4u00001eb8MWEAY</td>\n",
       "      <td>1.0</td>\n",
       "      <td>0</td>\n",
       "      <td>1105.0</td>\n",
       "      <td>2021-04-29</td>\n",
       "      <td>Digital - Affiliate</td>\n",
       "      <td>0</td>\n",
       "    </tr>\n",
       "    <tr>\n",
       "      <th>39</th>\n",
       "      <td>Adanya Cleveland</td>\n",
       "      <td>5000.00</td>\n",
       "      <td>5000.00</td>\n",
       "      <td>Less than $100,000</td>\n",
       "      <td>Less than $100,000</td>\n",
       "      <td>8</td>\n",
       "      <td>00Q4u00001eXtEuEAK</td>\n",
       "      <td>1.0</td>\n",
       "      <td>0</td>\n",
       "      <td>1118.0</td>\n",
       "      <td>2021-04-07</td>\n",
       "      <td>Digital - Affiliate</td>\n",
       "      <td>0</td>\n",
       "    </tr>\n",
       "    <tr>\n",
       "      <th>53</th>\n",
       "      <td>Darren Anderson</td>\n",
       "      <td>$100000 or More</td>\n",
       "      <td>$100000 or More</td>\n",
       "      <td>$1mm+</td>\n",
       "      <td>$1mm+</td>\n",
       "      <td>24</td>\n",
       "      <td>00Q4u00001ebO6QEAU</td>\n",
       "      <td>2.0</td>\n",
       "      <td>0</td>\n",
       "      <td>1119.0</td>\n",
       "      <td>2021-04-30</td>\n",
       "      <td>Digital - Affiliate</td>\n",
       "      <td>0</td>\n",
       "    </tr>\n",
       "    <tr>\n",
       "      <th>55</th>\n",
       "      <td>Arthur Thomas</td>\n",
       "      <td>$100000 or More</td>\n",
       "      <td>$100000 or More</td>\n",
       "      <td>$1mm+</td>\n",
       "      <td>$1mm+</td>\n",
       "      <td>24</td>\n",
       "      <td>00Q4u00001eaxWDEAY</td>\n",
       "      <td>2.0</td>\n",
       "      <td>0</td>\n",
       "      <td>1119.0</td>\n",
       "      <td>2021-04-27</td>\n",
       "      <td>Digital - Affiliate</td>\n",
       "      <td>0</td>\n",
       "    </tr>\n",
       "    <tr>\n",
       "      <th>57</th>\n",
       "      <td>Janis Roberts</td>\n",
       "      <td>$100000 or More</td>\n",
       "      <td>$100000 or More</td>\n",
       "      <td>$1mm+</td>\n",
       "      <td>$1mm+</td>\n",
       "      <td>24</td>\n",
       "      <td>00Q4u00001ebJI7EAM</td>\n",
       "      <td>2.0</td>\n",
       "      <td>0</td>\n",
       "      <td>1119.0</td>\n",
       "      <td>2021-04-29</td>\n",
       "      <td>Digital - Affiliate</td>\n",
       "      <td>0</td>\n",
       "    </tr>\n",
       "    <tr>\n",
       "      <th>...</th>\n",
       "      <td>...</td>\n",
       "      <td>...</td>\n",
       "      <td>...</td>\n",
       "      <td>...</td>\n",
       "      <td>...</td>\n",
       "      <td>...</td>\n",
       "      <td>...</td>\n",
       "      <td>...</td>\n",
       "      <td>...</td>\n",
       "      <td>...</td>\n",
       "      <td>...</td>\n",
       "      <td>...</td>\n",
       "      <td>...</td>\n",
       "    </tr>\n",
       "    <tr>\n",
       "      <th>14960</th>\n",
       "      <td>Guy Martin</td>\n",
       "      <td>$10000 to $25000</td>\n",
       "      <td>$10000 to $25000</td>\n",
       "      <td>Less than $100,000</td>\n",
       "      <td>Less than $100,000</td>\n",
       "      <td>14</td>\n",
       "      <td>00Q4u00001eY1mHEAS</td>\n",
       "      <td>3.0</td>\n",
       "      <td>0</td>\n",
       "      <td>1101.0</td>\n",
       "      <td>2021-04-08</td>\n",
       "      <td>Lending Tree</td>\n",
       "      <td>0</td>\n",
       "    </tr>\n",
       "    <tr>\n",
       "      <th>16240</th>\n",
       "      <td>Keya Sleister</td>\n",
       "      <td>$25000 to $50000</td>\n",
       "      <td>$25000 to $50000</td>\n",
       "      <td>$100k-$200k</td>\n",
       "      <td>$100k-$200k</td>\n",
       "      <td>15</td>\n",
       "      <td>00Q4u00001eYl2SEAS</td>\n",
       "      <td>3.0</td>\n",
       "      <td>0</td>\n",
       "      <td>1101.0</td>\n",
       "      <td>2021-04-14</td>\n",
       "      <td>Lending Tree</td>\n",
       "      <td>0</td>\n",
       "    </tr>\n",
       "    <tr>\n",
       "      <th>16381</th>\n",
       "      <td>John Meharg</td>\n",
       "      <td>25000.00</td>\n",
       "      <td>25000.00</td>\n",
       "      <td>Less than $100,000</td>\n",
       "      <td>Less than $100,000</td>\n",
       "      <td>17</td>\n",
       "      <td>00Q4u00001b183MEAQ</td>\n",
       "      <td>4.0</td>\n",
       "      <td>1</td>\n",
       "      <td>1101.0</td>\n",
       "      <td>2020-09-10</td>\n",
       "      <td>Lending Tree</td>\n",
       "      <td>0</td>\n",
       "    </tr>\n",
       "    <tr>\n",
       "      <th>17763</th>\n",
       "      <td>Manuel Gonzalez</td>\n",
       "      <td>$25000 to $50000</td>\n",
       "      <td>$25000 to $50000</td>\n",
       "      <td>$100k-$200k</td>\n",
       "      <td>$100k-$200k</td>\n",
       "      <td>18</td>\n",
       "      <td>00Q4u00001ebmKcEAI</td>\n",
       "      <td>4.0</td>\n",
       "      <td>0</td>\n",
       "      <td>1101.0</td>\n",
       "      <td>2021-05-04</td>\n",
       "      <td>Lending Tree</td>\n",
       "      <td>0</td>\n",
       "    </tr>\n",
       "    <tr>\n",
       "      <th>22832</th>\n",
       "      <td>emeline akuta</td>\n",
       "      <td>$100000 or More</td>\n",
       "      <td>$100000 or More</td>\n",
       "      <td>$100k-$200k</td>\n",
       "      <td>$100k-$200k</td>\n",
       "      <td>14</td>\n",
       "      <td>00Q4u00001e3z4PEAQ</td>\n",
       "      <td>3.0</td>\n",
       "      <td>0</td>\n",
       "      <td>1226.0</td>\n",
       "      <td>2021-04-01</td>\n",
       "      <td>Strategic Partners</td>\n",
       "      <td>0</td>\n",
       "    </tr>\n",
       "  </tbody>\n",
       "</table>\n",
       "<p>10885 rows × 13 columns</p>\n",
       "</div>"
      ],
      "text/plain": [
       "              Full_Name  Requested_Amount  Amount to Borrow  \\\n",
       "38         FLOYD JORDAN          25000.00          25000.00   \n",
       "39     Adanya Cleveland           5000.00           5000.00   \n",
       "53      Darren Anderson   $100000 or More   $100000 or More   \n",
       "55        Arthur Thomas   $100000 or More   $100000 or More   \n",
       "57        Janis Roberts   $100000 or More   $100000 or More   \n",
       "...                 ...               ...               ...   \n",
       "14960        Guy Martin  $10000 to $25000  $10000 to $25000   \n",
       "16240     Keya Sleister  $25000 to $50000  $25000 to $50000   \n",
       "16381       John Meharg          25000.00          25000.00   \n",
       "17763   Manuel Gonzalez  $25000 to $50000  $25000 to $50000   \n",
       "22832     emeline akuta   $100000 or More   $100000 or More   \n",
       "\n",
       "           Annual_Revenue  Gross_Annual_Sales  Lead_Score             LeadID   \\\n",
       "38     Less than $100,000  Less than $100,000           8  00Q4u00001eb8MWEAY   \n",
       "39     Less than $100,000  Less than $100,000           8  00Q4u00001eXtEuEAK   \n",
       "53                  $1mm+               $1mm+          24  00Q4u00001ebO6QEAU   \n",
       "55                  $1mm+               $1mm+          24  00Q4u00001eaxWDEAY   \n",
       "57                  $1mm+               $1mm+          24  00Q4u00001ebJI7EAM   \n",
       "...                   ...                 ...         ...                 ...   \n",
       "14960  Less than $100,000  Less than $100,000          14  00Q4u00001eY1mHEAS   \n",
       "16240         $100k-$200k         $100k-$200k          15  00Q4u00001eYl2SEAS   \n",
       "16381  Less than $100,000  Less than $100,000          17  00Q4u00001b183MEAQ   \n",
       "17763         $100k-$200k         $100k-$200k          18  00Q4u00001ebmKcEAI   \n",
       "22832         $100k-$200k         $100k-$200k          14  00Q4u00001e3z4PEAQ   \n",
       "\n",
       "       Lead_Self_Graded_Credit  Is_Submitted  Ad_Outlet   Web_Date  \\\n",
       "38                         1.0             0     1105.0 2021-04-29   \n",
       "39                         1.0             0     1118.0 2021-04-07   \n",
       "53                         2.0             0     1119.0 2021-04-30   \n",
       "55                         2.0             0     1119.0 2021-04-27   \n",
       "57                         2.0             0     1119.0 2021-04-29   \n",
       "...                        ...           ...        ...        ...   \n",
       "14960                      3.0             0     1101.0 2021-04-08   \n",
       "16240                      3.0             0     1101.0 2021-04-14   \n",
       "16381                      4.0             1     1101.0 2020-09-10   \n",
       "17763                      4.0             0     1101.0 2021-05-04   \n",
       "22832                      3.0             0     1226.0 2021-04-01   \n",
       "\n",
       "          Ad_Outlet_Source  Is_Funded  \n",
       "38     Digital - Affiliate          0  \n",
       "39     Digital - Affiliate          0  \n",
       "53     Digital - Affiliate          0  \n",
       "55     Digital - Affiliate          0  \n",
       "57     Digital - Affiliate          0  \n",
       "...                    ...        ...  \n",
       "14960         Lending Tree          0  \n",
       "16240         Lending Tree          0  \n",
       "16381         Lending Tree          0  \n",
       "17763         Lending Tree          0  \n",
       "22832   Strategic Partners          0  \n",
       "\n",
       "[10885 rows x 13 columns]"
      ]
     },
     "execution_count": 760,
     "metadata": {},
     "output_type": "execute_result"
    }
   ],
   "source": [
    "LeadScore_df = LeadScore_df.dropna()\n",
    "LeadScore_df"
   ]
  },
  {
   "cell_type": "code",
   "execution_count": 761,
   "id": "5743b038",
   "metadata": {},
   "outputs": [
    {
     "data": {
      "text/plain": [
       "Is_Submitted\n",
       "0    3.16\n",
       "1    3.15\n",
       "Name: Lead_Self_Graded_Credit, dtype: float64"
      ]
     },
     "execution_count": 761,
     "metadata": {},
     "output_type": "execute_result"
    }
   ],
   "source": [
    "LeadScore_df.groupby('Is_Submitted').mean()['Lead_Self_Graded_Credit'].round(decimals=2)"
   ]
  },
  {
   "cell_type": "code",
   "execution_count": 762,
   "id": "b0090860",
   "metadata": {},
   "outputs": [
    {
     "data": {
      "text/plain": [
       "Ad_Outlet_Source\n",
       "Digital - Affiliate     18\n",
       "Digital-Organic        155\n",
       "Digital-PPC             95\n",
       "Direct                 766\n",
       "Lending Tree             1\n",
       "Strategic Partners       0\n",
       "Name: Is_Submitted, dtype: int64"
      ]
     },
     "execution_count": 762,
     "metadata": {},
     "output_type": "execute_result"
    }
   ],
   "source": [
    "LeadScore_df.groupby('Ad_Outlet_Source').sum()['Is_Submitted'].round(decimals=2)"
   ]
  },
  {
   "cell_type": "code",
   "execution_count": 763,
   "id": "f09117ea",
   "metadata": {},
   "outputs": [
    {
     "data": {
      "text/plain": [
       "Is_Submitted\n",
       "0    14.48\n",
       "1    14.82\n",
       "Name: Lead_Score, dtype: float64"
      ]
     },
     "execution_count": 763,
     "metadata": {},
     "output_type": "execute_result"
    }
   ],
   "source": [
    "LeadScore_df.groupby('Is_Submitted').mean()['Lead_Score'].round(decimals=2)"
   ]
  },
  {
   "cell_type": "code",
   "execution_count": 764,
   "id": "059a9d31",
   "metadata": {},
   "outputs": [
    {
     "data": {
      "text/html": [
       "<div>\n",
       "<style scoped>\n",
       "    .dataframe tbody tr th:only-of-type {\n",
       "        vertical-align: middle;\n",
       "    }\n",
       "\n",
       "    .dataframe tbody tr th {\n",
       "        vertical-align: top;\n",
       "    }\n",
       "\n",
       "    .dataframe thead th {\n",
       "        text-align: right;\n",
       "    }\n",
       "</style>\n",
       "<table border=\"1\" class=\"dataframe\">\n",
       "  <thead>\n",
       "    <tr style=\"text-align: right;\">\n",
       "      <th></th>\n",
       "      <th>Full_Name</th>\n",
       "      <th>Requested_Amount</th>\n",
       "      <th>Amount to Borrow</th>\n",
       "      <th>Annual_Revenue</th>\n",
       "      <th>Gross_Annual_Sales</th>\n",
       "      <th>Lead_Score</th>\n",
       "      <th>LeadID</th>\n",
       "      <th>Lead_Self_Graded_Credit</th>\n",
       "      <th>Is_Submitted</th>\n",
       "      <th>Ad_Outlet</th>\n",
       "      <th>Web_Date</th>\n",
       "      <th>Ad_Outlet_Source</th>\n",
       "      <th>Is_Funded</th>\n",
       "    </tr>\n",
       "  </thead>\n",
       "  <tbody>\n",
       "    <tr>\n",
       "      <th>8368</th>\n",
       "      <td>BERNARD HANZER</td>\n",
       "      <td>17500.0</td>\n",
       "      <td>17500.0</td>\n",
       "      <td>0.0</td>\n",
       "      <td>35000.0</td>\n",
       "      <td>14</td>\n",
       "      <td>00Q4u00001e2rCXEAY</td>\n",
       "      <td>3.0</td>\n",
       "      <td>0</td>\n",
       "      <td>5028.0</td>\n",
       "      <td>2021-05-08</td>\n",
       "      <td>Direct</td>\n",
       "      <td>0</td>\n",
       "    </tr>\n",
       "    <tr>\n",
       "      <th>7169</th>\n",
       "      <td>AWADALLA RANOFER</td>\n",
       "      <td>37500.0</td>\n",
       "      <td>37500.0</td>\n",
       "      <td>0.0</td>\n",
       "      <td>350000.0</td>\n",
       "      <td>13</td>\n",
       "      <td>00Q4u00001eaKRGEA2</td>\n",
       "      <td>2.0</td>\n",
       "      <td>0</td>\n",
       "      <td>5061.0</td>\n",
       "      <td>2021-06-29</td>\n",
       "      <td>Direct</td>\n",
       "      <td>0</td>\n",
       "    </tr>\n",
       "    <tr>\n",
       "      <th>11968</th>\n",
       "      <td>DUNIA ALVARADO-RODRIGUEZ</td>\n",
       "      <td>17500.0</td>\n",
       "      <td>17500.0</td>\n",
       "      <td>0.0</td>\n",
       "      <td>35000.0</td>\n",
       "      <td>17</td>\n",
       "      <td>00Q4u00001eZwgdEAC</td>\n",
       "      <td>4.0</td>\n",
       "      <td>0</td>\n",
       "      <td>5081.0</td>\n",
       "      <td>2021-05-15</td>\n",
       "      <td>Direct</td>\n",
       "      <td>0</td>\n",
       "    </tr>\n",
       "    <tr>\n",
       "      <th>327</th>\n",
       "      <td>Anthony Bailey</td>\n",
       "      <td>37500.0</td>\n",
       "      <td>37500.0</td>\n",
       "      <td>750000.0</td>\n",
       "      <td>750000.0</td>\n",
       "      <td>24</td>\n",
       "      <td>00Q4u00001f3TmlEAE</td>\n",
       "      <td>3.0</td>\n",
       "      <td>0</td>\n",
       "      <td>1119.0</td>\n",
       "      <td>2021-05-17</td>\n",
       "      <td>Digital - Affiliate</td>\n",
       "      <td>0</td>\n",
       "    </tr>\n",
       "    <tr>\n",
       "      <th>6273</th>\n",
       "      <td>JASON JACKSON</td>\n",
       "      <td>7500.0</td>\n",
       "      <td>7500.0</td>\n",
       "      <td>0.0</td>\n",
       "      <td>35000.0</td>\n",
       "      <td>11</td>\n",
       "      <td>00Q4u00001eZdNbEAK</td>\n",
       "      <td>3.0</td>\n",
       "      <td>1</td>\n",
       "      <td>5071.0</td>\n",
       "      <td>2021-06-13</td>\n",
       "      <td>Direct</td>\n",
       "      <td>0</td>\n",
       "    </tr>\n",
       "  </tbody>\n",
       "</table>\n",
       "</div>"
      ],
      "text/plain": [
       "                      Full_Name Requested_Amount Amount to Borrow  \\\n",
       "8368             BERNARD HANZER          17500.0          17500.0   \n",
       "7169           AWADALLA RANOFER          37500.0          37500.0   \n",
       "11968  DUNIA ALVARADO-RODRIGUEZ          17500.0          17500.0   \n",
       "327              Anthony Bailey          37500.0          37500.0   \n",
       "6273              JASON JACKSON           7500.0           7500.0   \n",
       "\n",
       "       Annual_Revenue  Gross_Annual_Sales  Lead_Score             LeadID   \\\n",
       "8368              0.0             35000.0          14  00Q4u00001e2rCXEAY   \n",
       "7169              0.0            350000.0          13  00Q4u00001eaKRGEA2   \n",
       "11968             0.0             35000.0          17  00Q4u00001eZwgdEAC   \n",
       "327          750000.0            750000.0          24  00Q4u00001f3TmlEAE   \n",
       "6273              0.0             35000.0          11  00Q4u00001eZdNbEAK   \n",
       "\n",
       "       Lead_Self_Graded_Credit  Is_Submitted  Ad_Outlet   Web_Date  \\\n",
       "8368                       3.0             0     5028.0 2021-05-08   \n",
       "7169                       2.0             0     5061.0 2021-06-29   \n",
       "11968                      4.0             0     5081.0 2021-05-15   \n",
       "327                        3.0             0     1119.0 2021-05-17   \n",
       "6273                       3.0             1     5071.0 2021-06-13   \n",
       "\n",
       "          Ad_Outlet_Source  Is_Funded  \n",
       "8368                Direct          0  \n",
       "7169                Direct          0  \n",
       "11968               Direct          0  \n",
       "327    Digital - Affiliate          0  \n",
       "6273                Direct          0  "
      ]
     },
     "execution_count": 764,
     "metadata": {},
     "output_type": "execute_result"
    }
   ],
   "source": [
    "from sklearn.preprocessing import LabelEncoder\n",
    "Amount_dict = {'$10000 to $25000':17500.0,'$100000 or More':100000.0,'100000 or More':100000.0, '$25000 to $50000':37500.0,'$5000 to $10000':7500.0,'$50000 to $100000':75000.0,'0':0}\n",
    "\n",
    "LeadScore_df['Requested_Amount'].replace(Amount_dict, inplace=True)\n",
    "\n",
    "Sales_dict = {\"$100k-$200k\":150000.0, \"$1mm+\":1000000.0, \"$200k-$500k\":350000.0, \"$500k-$1mm\":750000.0, 'Less than $100,000':35000.0}\n",
    "             \n",
    "LeadScore_df['Gross_Annual_Sales'].replace(Sales_dict, inplace=True)\n",
    "\n",
    "Revenue_dict = {\"$100k-$200k\":150000.0, \"$1mm+\":1000000.0, \"$200k-$500k\":350000.0, \"$500k-$1mm\":750000.0, 'Less than $100,000':35000.0}\n",
    "\n",
    "LeadScore_df['Annual_Revenue'].replace(Revenue_dict, inplace=True)\n",
    "\n",
    "Borrow_dict = {'$10000 to $25000':17500.0,'$100000 or More':100000.0,'100000 or More':100000.0,'$25000 to $50000':37500.0,'$5000 to $10000':7500.0,'$50000 to $100000':75000.0,'0':0}\n",
    "\n",
    "LeadScore_df['Amount to Borrow'].replace(Borrow_dict, inplace=True)\n",
    "\n",
    "LeadScore_df.sample(5)"
   ]
  },
  {
   "cell_type": "code",
   "execution_count": 765,
   "id": "19beaf7a",
   "metadata": {},
   "outputs": [
    {
     "data": {
      "text/html": [
       "<div>\n",
       "<style scoped>\n",
       "    .dataframe tbody tr th:only-of-type {\n",
       "        vertical-align: middle;\n",
       "    }\n",
       "\n",
       "    .dataframe tbody tr th {\n",
       "        vertical-align: top;\n",
       "    }\n",
       "\n",
       "    .dataframe thead th {\n",
       "        text-align: right;\n",
       "    }\n",
       "</style>\n",
       "<table border=\"1\" class=\"dataframe\">\n",
       "  <thead>\n",
       "    <tr style=\"text-align: right;\">\n",
       "      <th></th>\n",
       "      <th>Full_Name</th>\n",
       "      <th>Requested_Amount</th>\n",
       "      <th>Amount to Borrow</th>\n",
       "      <th>Annual_Revenue</th>\n",
       "      <th>Gross_Annual_Sales</th>\n",
       "      <th>Lead_Score</th>\n",
       "      <th>LeadID</th>\n",
       "      <th>Lead_Self_Graded_Credit</th>\n",
       "      <th>Is_Submitted</th>\n",
       "      <th>Ad_Outlet</th>\n",
       "      <th>Web_Date</th>\n",
       "      <th>Ad_Outlet_Source</th>\n",
       "      <th>Is_Funded</th>\n",
       "    </tr>\n",
       "  </thead>\n",
       "  <tbody>\n",
       "    <tr>\n",
       "      <th>38</th>\n",
       "      <td>FLOYD JORDAN</td>\n",
       "      <td>25000.0</td>\n",
       "      <td>25000.0</td>\n",
       "      <td>35000.0</td>\n",
       "      <td>35000.0</td>\n",
       "      <td>8</td>\n",
       "      <td>00Q4u00001eb8MWEAY</td>\n",
       "      <td>1.0</td>\n",
       "      <td>0</td>\n",
       "      <td>1105.0</td>\n",
       "      <td>2021-04-29</td>\n",
       "      <td>Digital - Affiliate</td>\n",
       "      <td>0</td>\n",
       "    </tr>\n",
       "    <tr>\n",
       "      <th>39</th>\n",
       "      <td>Adanya Cleveland</td>\n",
       "      <td>5000.0</td>\n",
       "      <td>5000.0</td>\n",
       "      <td>35000.0</td>\n",
       "      <td>35000.0</td>\n",
       "      <td>8</td>\n",
       "      <td>00Q4u00001eXtEuEAK</td>\n",
       "      <td>1.0</td>\n",
       "      <td>0</td>\n",
       "      <td>1118.0</td>\n",
       "      <td>2021-04-07</td>\n",
       "      <td>Digital - Affiliate</td>\n",
       "      <td>0</td>\n",
       "    </tr>\n",
       "    <tr>\n",
       "      <th>53</th>\n",
       "      <td>Darren Anderson</td>\n",
       "      <td>100000.0</td>\n",
       "      <td>100000.0</td>\n",
       "      <td>1000000.0</td>\n",
       "      <td>1000000.0</td>\n",
       "      <td>24</td>\n",
       "      <td>00Q4u00001ebO6QEAU</td>\n",
       "      <td>2.0</td>\n",
       "      <td>0</td>\n",
       "      <td>1119.0</td>\n",
       "      <td>2021-04-30</td>\n",
       "      <td>Digital - Affiliate</td>\n",
       "      <td>0</td>\n",
       "    </tr>\n",
       "    <tr>\n",
       "      <th>55</th>\n",
       "      <td>Arthur Thomas</td>\n",
       "      <td>100000.0</td>\n",
       "      <td>100000.0</td>\n",
       "      <td>1000000.0</td>\n",
       "      <td>1000000.0</td>\n",
       "      <td>24</td>\n",
       "      <td>00Q4u00001eaxWDEAY</td>\n",
       "      <td>2.0</td>\n",
       "      <td>0</td>\n",
       "      <td>1119.0</td>\n",
       "      <td>2021-04-27</td>\n",
       "      <td>Digital - Affiliate</td>\n",
       "      <td>0</td>\n",
       "    </tr>\n",
       "    <tr>\n",
       "      <th>57</th>\n",
       "      <td>Janis Roberts</td>\n",
       "      <td>100000.0</td>\n",
       "      <td>100000.0</td>\n",
       "      <td>1000000.0</td>\n",
       "      <td>1000000.0</td>\n",
       "      <td>24</td>\n",
       "      <td>00Q4u00001ebJI7EAM</td>\n",
       "      <td>2.0</td>\n",
       "      <td>0</td>\n",
       "      <td>1119.0</td>\n",
       "      <td>2021-04-29</td>\n",
       "      <td>Digital - Affiliate</td>\n",
       "      <td>0</td>\n",
       "    </tr>\n",
       "  </tbody>\n",
       "</table>\n",
       "</div>"
      ],
      "text/plain": [
       "           Full_Name  Requested_Amount  Amount to Borrow  Annual_Revenue  \\\n",
       "38      FLOYD JORDAN           25000.0           25000.0         35000.0   \n",
       "39  Adanya Cleveland            5000.0            5000.0         35000.0   \n",
       "53   Darren Anderson          100000.0          100000.0       1000000.0   \n",
       "55     Arthur Thomas          100000.0          100000.0       1000000.0   \n",
       "57     Janis Roberts          100000.0          100000.0       1000000.0   \n",
       "\n",
       "    Gross_Annual_Sales  Lead_Score             LeadID   \\\n",
       "38             35000.0           8  00Q4u00001eb8MWEAY   \n",
       "39             35000.0           8  00Q4u00001eXtEuEAK   \n",
       "53           1000000.0          24  00Q4u00001ebO6QEAU   \n",
       "55           1000000.0          24  00Q4u00001eaxWDEAY   \n",
       "57           1000000.0          24  00Q4u00001ebJI7EAM   \n",
       "\n",
       "    Lead_Self_Graded_Credit  Is_Submitted  Ad_Outlet   Web_Date  \\\n",
       "38                      1.0             0     1105.0 2021-04-29   \n",
       "39                      1.0             0     1118.0 2021-04-07   \n",
       "53                      2.0             0     1119.0 2021-04-30   \n",
       "55                      2.0             0     1119.0 2021-04-27   \n",
       "57                      2.0             0     1119.0 2021-04-29   \n",
       "\n",
       "       Ad_Outlet_Source  Is_Funded  \n",
       "38  Digital - Affiliate          0  \n",
       "39  Digital - Affiliate          0  \n",
       "53  Digital - Affiliate          0  \n",
       "55  Digital - Affiliate          0  \n",
       "57  Digital - Affiliate          0  "
      ]
     },
     "execution_count": 765,
     "metadata": {},
     "output_type": "execute_result"
    }
   ],
   "source": [
    "LeadScore_df[\"Requested_Amount\"]= pd.to_numeric(LeadScore_df[\"Requested_Amount\"], downcast=\"float\")\n",
    "LeadScore_df[\"Amount to Borrow\"]= pd.to_numeric(LeadScore_df[\"Amount to Borrow\"], downcast=\"float\")\n",
    "LeadScore_df.head()                                                 "
   ]
  },
  {
   "cell_type": "code",
   "execution_count": 766,
   "id": "1bf15818",
   "metadata": {},
   "outputs": [
    {
     "data": {
      "text/plain": [
       "Is_Funded\n",
       "0    132027.35\n",
       "1    291605.84\n",
       "Name: Gross_Annual_Sales, dtype: float64"
      ]
     },
     "execution_count": 766,
     "metadata": {},
     "output_type": "execute_result"
    }
   ],
   "source": [
    "LeadScore_df.groupby('Is_Funded').mean()['Gross_Annual_Sales'].round(decimals=2)"
   ]
  },
  {
   "cell_type": "code",
   "execution_count": 767,
   "id": "77122102",
   "metadata": {},
   "outputs": [
    {
     "data": {
      "text/plain": [
       "Is_Submitted\n",
       "0    36990.359375\n",
       "1    40601.449219\n",
       "Name: Requested_Amount, dtype: float32"
      ]
     },
     "execution_count": 767,
     "metadata": {},
     "output_type": "execute_result"
    }
   ],
   "source": [
    "LeadScore_df.groupby('Is_Submitted').mean()['Requested_Amount'].round(decimals=2)"
   ]
  },
  {
   "cell_type": "code",
   "execution_count": 768,
   "id": "0ab16922",
   "metadata": {},
   "outputs": [
    {
     "data": {
      "text/plain": [
       "Is_Submitted\n",
       "0    55992.44\n",
       "1    79853.96\n",
       "Name: Annual_Revenue, dtype: float64"
      ]
     },
     "execution_count": 768,
     "metadata": {},
     "output_type": "execute_result"
    }
   ],
   "source": [
    "LeadScore_df.groupby('Is_Submitted').mean()['Annual_Revenue'].round(decimals=2)"
   ]
  },
  {
   "cell_type": "code",
   "execution_count": 769,
   "id": "60f9a6d5",
   "metadata": {},
   "outputs": [
    {
     "data": {
      "image/png": "[encoded data removed]",
      "text/plain": [
       "<Figure size 432x288 with 1 Axes>"
      ]
     },
     "metadata": {
      "needs_background": "light"
     },
     "output_type": "display_data"
    }
   ],
   "source": [
    "ax = LeadScore_df['Gross_Annual_Sales'].plot.hist(bins=15)"
   ]
  },
  {
   "cell_type": "code",
   "execution_count": 770,
   "id": "4d933cf3",
   "metadata": {},
   "outputs": [
    {
     "data": {
      "image/png": "[encoded data removed]",
      "text/plain": [
       "<Figure size 432x288 with 1 Axes>"
      ]
     },
     "metadata": {
      "needs_background": "light"
     },
     "output_type": "display_data"
    }
   ],
   "source": [
    "ax = LeadScore_df['Annual_Revenue'].plot.hist(bins=15)"
   ]
  },
  {
   "cell_type": "code",
   "execution_count": 771,
   "id": "984e84b2",
   "metadata": {},
   "outputs": [],
   "source": [
    "#fig, axs = plt.subplots(figsize = (12,6))\n",
    "#sns.countplot(x = 'Ad_Outlet_Source', hue= \"Is_Submitted\", LeadScore_df = LeadScore_df)\n",
    "#xticks(rotation = 90)"
   ]
  },
  {
   "cell_type": "code",
   "execution_count": 772,
   "id": "265ff8ee",
   "metadata": {},
   "outputs": [],
   "source": [
    "Outlet_dict = {\"Digital - Affiliate\":0, \"Digital-Organic\":1, \"Direct\":2 ,\"Digital-PPC\":3, \"Lending Tree\":4, 'Strategic Partners':5}\n",
    "             \n",
    "LeadScore_df['Ad_Outlet_Source'].replace(Outlet_dict, inplace=True)"
   ]
  },
  {
   "cell_type": "code",
   "execution_count": 773,
   "id": "f1602a70",
   "metadata": {},
   "outputs": [],
   "source": [
    "#pd.options.display.float_format = '{:,.2f}'.format"
   ]
  },
  {
   "cell_type": "code",
   "execution_count": 774,
   "id": "9263c4c8",
   "metadata": {},
   "outputs": [
    {
     "data": {
      "text/plain": [
       "Full_Name                          object\n",
       "Requested_Amount                  float32\n",
       "Amount to Borrow                  float32\n",
       "Annual_Revenue                    float64\n",
       "Gross_Annual_Sales                float64\n",
       "Lead_Score                          int64\n",
       "LeadID                             object\n",
       "Lead_Self_Graded_Credit           float64\n",
       "Is_Submitted                        int64\n",
       "Ad_Outlet                         float64\n",
       "Web_Date                   datetime64[ns]\n",
       "Ad_Outlet_Source                    int64\n",
       "Is_Funded                           int64\n",
       "dtype: object"
      ]
     },
     "execution_count": 774,
     "metadata": {},
     "output_type": "execute_result"
    }
   ],
   "source": [
    "LeadScore_df.dtypes"
   ]
  },
  {
   "cell_type": "code",
   "execution_count": 775,
   "id": "260f67db",
   "metadata": {},
   "outputs": [
    {
     "data": {
      "text/plain": [
       "array([<AxesSubplot:title={'center':'Gross_Annual_Sales'}, xlabel='Is_Submitted'>,\n",
       "       <AxesSubplot:title={'center':'Amount to Borrow'}, xlabel='Is_Submitted'>],\n",
       "      dtype=object)"
      ]
     },
     "execution_count": 775,
     "metadata": {},
     "output_type": "execute_result"
    },
    {
     "data": {
      "image/png": "[encoded data removed]",
      "text/plain": [
       "<Figure size 576x360 with 2 Axes>"
      ]
     },
     "metadata": {
      "needs_background": "light"
     },
     "output_type": "display_data"
    }
   ],
   "source": [
    "LeadScore_df.boxplot(by ='Is_Submitted', column=['Gross_Annual_Sales','Amount to Borrow'], grid=False, figsize=(8,5))"
   ]
  },
  {
   "cell_type": "code",
   "execution_count": 776,
   "id": "77777f2c",
   "metadata": {},
   "outputs": [
    {
     "data": {
      "text/html": [
       "<div>\n",
       "<style scoped>\n",
       "    .dataframe tbody tr th:only-of-type {\n",
       "        vertical-align: middle;\n",
       "    }\n",
       "\n",
       "    .dataframe tbody tr th {\n",
       "        vertical-align: top;\n",
       "    }\n",
       "\n",
       "    .dataframe thead th {\n",
       "        text-align: right;\n",
       "    }\n",
       "</style>\n",
       "<table border=\"1\" class=\"dataframe\">\n",
       "  <thead>\n",
       "    <tr style=\"text-align: right;\">\n",
       "      <th></th>\n",
       "      <th>Requested_Amount</th>\n",
       "      <th>Amount to Borrow</th>\n",
       "      <th>Annual_Revenue</th>\n",
       "      <th>Gross_Annual_Sales</th>\n",
       "      <th>Lead_Score</th>\n",
       "      <th>Lead_Self_Graded_Credit</th>\n",
       "      <th>Is_Submitted</th>\n",
       "      <th>Ad_Outlet</th>\n",
       "      <th>Ad_Outlet_Source</th>\n",
       "      <th>Is_Funded</th>\n",
       "    </tr>\n",
       "  </thead>\n",
       "  <tbody>\n",
       "    <tr>\n",
       "      <th>count</th>\n",
       "      <td>10885.000000</td>\n",
       "      <td>10885.000000</td>\n",
       "      <td>1.088500e+04</td>\n",
       "      <td>10885.000000</td>\n",
       "      <td>10885.000000</td>\n",
       "      <td>10885.00000</td>\n",
       "      <td>10885.000000</td>\n",
       "      <td>10885.000000</td>\n",
       "      <td>10885.000000</td>\n",
       "      <td>10885.000000</td>\n",
       "    </tr>\n",
       "    <tr>\n",
       "      <th>mean</th>\n",
       "      <td>37336.554688</td>\n",
       "      <td>37336.554688</td>\n",
       "      <td>5.826131e+04</td>\n",
       "      <td>134035.829123</td>\n",
       "      <td>14.507487</td>\n",
       "      <td>3.15526</td>\n",
       "      <td>0.095085</td>\n",
       "      <td>4017.868167</td>\n",
       "      <td>1.998071</td>\n",
       "      <td>0.012586</td>\n",
       "    </tr>\n",
       "    <tr>\n",
       "      <th>std</th>\n",
       "      <td>33554.761719</td>\n",
       "      <td>33554.761719</td>\n",
       "      <td>1.625495e+05</td>\n",
       "      <td>194662.434576</td>\n",
       "      <td>3.147084</td>\n",
       "      <td>0.91987</td>\n",
       "      <td>0.293346</td>\n",
       "      <td>1779.357354</td>\n",
       "      <td>0.576312</td>\n",
       "      <td>0.111485</td>\n",
       "    </tr>\n",
       "    <tr>\n",
       "      <th>min</th>\n",
       "      <td>5000.000000</td>\n",
       "      <td>5000.000000</td>\n",
       "      <td>0.000000e+00</td>\n",
       "      <td>35000.000000</td>\n",
       "      <td>5.000000</td>\n",
       "      <td>1.00000</td>\n",
       "      <td>0.000000</td>\n",
       "      <td>1000.000000</td>\n",
       "      <td>0.000000</td>\n",
       "      <td>0.000000</td>\n",
       "    </tr>\n",
       "    <tr>\n",
       "      <th>25%</th>\n",
       "      <td>17500.000000</td>\n",
       "      <td>17500.000000</td>\n",
       "      <td>0.000000e+00</td>\n",
       "      <td>35000.000000</td>\n",
       "      <td>13.000000</td>\n",
       "      <td>3.00000</td>\n",
       "      <td>0.000000</td>\n",
       "      <td>1119.000000</td>\n",
       "      <td>2.000000</td>\n",
       "      <td>0.000000</td>\n",
       "    </tr>\n",
       "    <tr>\n",
       "      <th>50%</th>\n",
       "      <td>37500.000000</td>\n",
       "      <td>37500.000000</td>\n",
       "      <td>0.000000e+00</td>\n",
       "      <td>35000.000000</td>\n",
       "      <td>14.000000</td>\n",
       "      <td>3.00000</td>\n",
       "      <td>0.000000</td>\n",
       "      <td>5061.000000</td>\n",
       "      <td>2.000000</td>\n",
       "      <td>0.000000</td>\n",
       "    </tr>\n",
       "    <tr>\n",
       "      <th>75%</th>\n",
       "      <td>37500.000000</td>\n",
       "      <td>37500.000000</td>\n",
       "      <td>3.500000e+04</td>\n",
       "      <td>150000.000000</td>\n",
       "      <td>17.000000</td>\n",
       "      <td>4.00000</td>\n",
       "      <td>0.000000</td>\n",
       "      <td>5061.000000</td>\n",
       "      <td>2.000000</td>\n",
       "      <td>0.000000</td>\n",
       "    </tr>\n",
       "    <tr>\n",
       "      <th>max</th>\n",
       "      <td>250000.000000</td>\n",
       "      <td>250000.000000</td>\n",
       "      <td>4.725000e+06</td>\n",
       "      <td>1000000.000000</td>\n",
       "      <td>24.000000</td>\n",
       "      <td>4.00000</td>\n",
       "      <td>1.000000</td>\n",
       "      <td>5192.000000</td>\n",
       "      <td>5.000000</td>\n",
       "      <td>1.000000</td>\n",
       "    </tr>\n",
       "  </tbody>\n",
       "</table>\n",
       "</div>"
      ],
      "text/plain": [
       "       Requested_Amount  Amount to Borrow  Annual_Revenue  Gross_Annual_Sales  \\\n",
       "count      10885.000000      10885.000000    1.088500e+04        10885.000000   \n",
       "mean       37336.554688      37336.554688    5.826131e+04       134035.829123   \n",
       "std        33554.761719      33554.761719    1.625495e+05       194662.434576   \n",
       "min         5000.000000       5000.000000    0.000000e+00        35000.000000   \n",
       "25%        17500.000000      17500.000000    0.000000e+00        35000.000000   \n",
       "50%        37500.000000      37500.000000    0.000000e+00        35000.000000   \n",
       "75%        37500.000000      37500.000000    3.500000e+04       150000.000000   \n",
       "max       250000.000000     250000.000000    4.725000e+06      1000000.000000   \n",
       "\n",
       "         Lead_Score  Lead_Self_Graded_Credit  Is_Submitted     Ad_Outlet  \\\n",
       "count  10885.000000              10885.00000  10885.000000  10885.000000   \n",
       "mean      14.507487                  3.15526      0.095085   4017.868167   \n",
       "std        3.147084                  0.91987      0.293346   1779.357354   \n",
       "min        5.000000                  1.00000      0.000000   1000.000000   \n",
       "25%       13.000000                  3.00000      0.000000   1119.000000   \n",
       "50%       14.000000                  3.00000      0.000000   5061.000000   \n",
       "75%       17.000000                  4.00000      0.000000   5061.000000   \n",
       "max       24.000000                  4.00000      1.000000   5192.000000   \n",
       "\n",
       "       Ad_Outlet_Source     Is_Funded  \n",
       "count      10885.000000  10885.000000  \n",
       "mean           1.998071      0.012586  \n",
       "std            0.576312      0.111485  \n",
       "min            0.000000      0.000000  \n",
       "25%            2.000000      0.000000  \n",
       "50%            2.000000      0.000000  \n",
       "75%            2.000000      0.000000  \n",
       "max            5.000000      1.000000  "
      ]
     },
     "execution_count": 776,
     "metadata": {},
     "output_type": "execute_result"
    }
   ],
   "source": [
    "LeadScore_df.describe()"
   ]
  },
  {
   "cell_type": "code",
   "execution_count": 777,
   "id": "9351e996",
   "metadata": {},
   "outputs": [
    {
     "data": {
      "image/png": "[encoded data removed]",
      "text/plain": [
       "<Figure size 576x432 with 1 Axes>"
      ]
     },
     "metadata": {
      "needs_background": "light"
     },
     "output_type": "display_data"
    }
   ],
   "source": [
    "#%matplotlib inline\n",
    "plt.figure(figsize=(8,6))\n",
    "sns.scatterplot(\"Requested_Amount\",\"Lead_Score\", hue=\"Is_Submitted\", data=LeadScore_df, s=50)\n",
    "plt.show()"
   ]
  },
  {
   "cell_type": "code",
   "execution_count": 778,
   "id": "1525ebdb",
   "metadata": {},
   "outputs": [
    {
     "data": {
      "text/plain": [
       "9.508497932935231"
      ]
     },
     "execution_count": 778,
     "metadata": {},
     "output_type": "execute_result"
    }
   ],
   "source": [
    "Submitted = (sum(LeadScore_df[\"Is_Submitted\"])/len(LeadScore_df['Is_Submitted'].index))*100\n",
    "Submitted"
   ]
  },
  {
   "cell_type": "code",
   "execution_count": 779,
   "id": "730e2cf9",
   "metadata": {},
   "outputs": [
    {
     "data": {
      "text/html": [
       "<div>\n",
       "<style scoped>\n",
       "    .dataframe tbody tr th:only-of-type {\n",
       "        vertical-align: middle;\n",
       "    }\n",
       "\n",
       "    .dataframe tbody tr th {\n",
       "        vertical-align: top;\n",
       "    }\n",
       "\n",
       "    .dataframe thead th {\n",
       "        text-align: right;\n",
       "    }\n",
       "</style>\n",
       "<table border=\"1\" class=\"dataframe\">\n",
       "  <thead>\n",
       "    <tr style=\"text-align: right;\">\n",
       "      <th></th>\n",
       "      <th>Requested_Amount</th>\n",
       "      <th>Amount to Borrow</th>\n",
       "      <th>Annual_Revenue</th>\n",
       "      <th>Gross_Annual_Sales</th>\n",
       "      <th>Lead_Score</th>\n",
       "      <th>Lead_Self_Graded_Credit</th>\n",
       "      <th>Is_Submitted</th>\n",
       "      <th>Ad_Outlet</th>\n",
       "      <th>Ad_Outlet_Source</th>\n",
       "      <th>Is_Funded</th>\n",
       "    </tr>\n",
       "  </thead>\n",
       "  <tbody>\n",
       "    <tr>\n",
       "      <th>Requested_Amount</th>\n",
       "      <td>1.000000</td>\n",
       "      <td>1.000000</td>\n",
       "      <td>0.222259</td>\n",
       "      <td>0.272665</td>\n",
       "      <td>-0.069736</td>\n",
       "      <td>-0.213117</td>\n",
       "      <td>0.031569</td>\n",
       "      <td>-0.160655</td>\n",
       "      <td>0.155773</td>\n",
       "      <td>0.040716</td>\n",
       "    </tr>\n",
       "    <tr>\n",
       "      <th>Amount to Borrow</th>\n",
       "      <td>1.000000</td>\n",
       "      <td>1.000000</td>\n",
       "      <td>0.222259</td>\n",
       "      <td>0.272665</td>\n",
       "      <td>-0.069736</td>\n",
       "      <td>-0.213117</td>\n",
       "      <td>0.031569</td>\n",
       "      <td>-0.160655</td>\n",
       "      <td>0.155773</td>\n",
       "      <td>0.040716</td>\n",
       "    </tr>\n",
       "    <tr>\n",
       "      <th>Annual_Revenue</th>\n",
       "      <td>0.222259</td>\n",
       "      <td>0.222259</td>\n",
       "      <td>1.000000</td>\n",
       "      <td>0.584387</td>\n",
       "      <td>0.177248</td>\n",
       "      <td>-0.120623</td>\n",
       "      <td>0.043062</td>\n",
       "      <td>-0.348852</td>\n",
       "      <td>-0.198623</td>\n",
       "      <td>0.036905</td>\n",
       "    </tr>\n",
       "    <tr>\n",
       "      <th>Gross_Annual_Sales</th>\n",
       "      <td>0.272665</td>\n",
       "      <td>0.272665</td>\n",
       "      <td>0.584387</td>\n",
       "      <td>1.000000</td>\n",
       "      <td>0.170457</td>\n",
       "      <td>-0.193575</td>\n",
       "      <td>0.095505</td>\n",
       "      <td>-0.059057</td>\n",
       "      <td>-0.164869</td>\n",
       "      <td>0.091392</td>\n",
       "    </tr>\n",
       "    <tr>\n",
       "      <th>Lead_Score</th>\n",
       "      <td>-0.069736</td>\n",
       "      <td>-0.069736</td>\n",
       "      <td>0.177248</td>\n",
       "      <td>0.170457</td>\n",
       "      <td>1.000000</td>\n",
       "      <td>0.758830</td>\n",
       "      <td>0.031823</td>\n",
       "      <td>-0.143131</td>\n",
       "      <td>-0.196873</td>\n",
       "      <td>0.005362</td>\n",
       "    </tr>\n",
       "    <tr>\n",
       "      <th>Lead_Self_Graded_Credit</th>\n",
       "      <td>-0.213117</td>\n",
       "      <td>-0.213117</td>\n",
       "      <td>-0.120623</td>\n",
       "      <td>-0.193575</td>\n",
       "      <td>0.758830</td>\n",
       "      <td>1.000000</td>\n",
       "      <td>-0.003301</td>\n",
       "      <td>0.028500</td>\n",
       "      <td>0.055678</td>\n",
       "      <td>-0.030704</td>\n",
       "    </tr>\n",
       "    <tr>\n",
       "      <th>Is_Submitted</th>\n",
       "      <td>0.031569</td>\n",
       "      <td>0.031569</td>\n",
       "      <td>0.043062</td>\n",
       "      <td>0.095505</td>\n",
       "      <td>0.031823</td>\n",
       "      <td>-0.003301</td>\n",
       "      <td>1.000000</td>\n",
       "      <td>0.002119</td>\n",
       "      <td>-0.050001</td>\n",
       "      <td>0.278057</td>\n",
       "    </tr>\n",
       "    <tr>\n",
       "      <th>Ad_Outlet</th>\n",
       "      <td>-0.160655</td>\n",
       "      <td>-0.160655</td>\n",
       "      <td>-0.348852</td>\n",
       "      <td>-0.059057</td>\n",
       "      <td>-0.143131</td>\n",
       "      <td>0.028500</td>\n",
       "      <td>0.002119</td>\n",
       "      <td>1.000000</td>\n",
       "      <td>0.003587</td>\n",
       "      <td>0.008935</td>\n",
       "    </tr>\n",
       "    <tr>\n",
       "      <th>Ad_Outlet_Source</th>\n",
       "      <td>0.155773</td>\n",
       "      <td>0.155773</td>\n",
       "      <td>-0.198623</td>\n",
       "      <td>-0.164869</td>\n",
       "      <td>-0.196873</td>\n",
       "      <td>0.055678</td>\n",
       "      <td>-0.050001</td>\n",
       "      <td>0.003587</td>\n",
       "      <td>1.000000</td>\n",
       "      <td>-0.013922</td>\n",
       "    </tr>\n",
       "    <tr>\n",
       "      <th>Is_Funded</th>\n",
       "      <td>0.040716</td>\n",
       "      <td>0.040716</td>\n",
       "      <td>0.036905</td>\n",
       "      <td>0.091392</td>\n",
       "      <td>0.005362</td>\n",
       "      <td>-0.030704</td>\n",
       "      <td>0.278057</td>\n",
       "      <td>0.008935</td>\n",
       "      <td>-0.013922</td>\n",
       "      <td>1.000000</td>\n",
       "    </tr>\n",
       "  </tbody>\n",
       "</table>\n",
       "</div>"
      ],
      "text/plain": [
       "                         Requested_Amount  Amount to Borrow  Annual_Revenue  \\\n",
       "Requested_Amount                 1.000000          1.000000        0.222259   \n",
       "Amount to Borrow                 1.000000          1.000000        0.222259   \n",
       "Annual_Revenue                   0.222259          0.222259        1.000000   \n",
       "Gross_Annual_Sales               0.272665          0.272665        0.584387   \n",
       "Lead_Score                      -0.069736         -0.069736        0.177248   \n",
       "Lead_Self_Graded_Credit         -0.213117         -0.213117       -0.120623   \n",
       "Is_Submitted                     0.031569          0.031569        0.043062   \n",
       "Ad_Outlet                       -0.160655         -0.160655       -0.348852   \n",
       "Ad_Outlet_Source                 0.155773          0.155773       -0.198623   \n",
       "Is_Funded                        0.040716          0.040716        0.036905   \n",
       "\n",
       "                         Gross_Annual_Sales  Lead_Score  \\\n",
       "Requested_Amount                   0.272665   -0.069736   \n",
       "Amount to Borrow                   0.272665   -0.069736   \n",
       "Annual_Revenue                     0.584387    0.177248   \n",
       "Gross_Annual_Sales                 1.000000    0.170457   \n",
       "Lead_Score                         0.170457    1.000000   \n",
       "Lead_Self_Graded_Credit           -0.193575    0.758830   \n",
       "Is_Submitted                       0.095505    0.031823   \n",
       "Ad_Outlet                         -0.059057   -0.143131   \n",
       "Ad_Outlet_Source                  -0.164869   -0.196873   \n",
       "Is_Funded                          0.091392    0.005362   \n",
       "\n",
       "                         Lead_Self_Graded_Credit  Is_Submitted  Ad_Outlet  \\\n",
       "Requested_Amount                       -0.213117      0.031569  -0.160655   \n",
       "Amount to Borrow                       -0.213117      0.031569  -0.160655   \n",
       "Annual_Revenue                         -0.120623      0.043062  -0.348852   \n",
       "Gross_Annual_Sales                     -0.193575      0.095505  -0.059057   \n",
       "Lead_Score                              0.758830      0.031823  -0.143131   \n",
       "Lead_Self_Graded_Credit                 1.000000     -0.003301   0.028500   \n",
       "Is_Submitted                           -0.003301      1.000000   0.002119   \n",
       "Ad_Outlet                               0.028500      0.002119   1.000000   \n",
       "Ad_Outlet_Source                        0.055678     -0.050001   0.003587   \n",
       "Is_Funded                              -0.030704      0.278057   0.008935   \n",
       "\n",
       "                         Ad_Outlet_Source  Is_Funded  \n",
       "Requested_Amount                 0.155773   0.040716  \n",
       "Amount to Borrow                 0.155773   0.040716  \n",
       "Annual_Revenue                  -0.198623   0.036905  \n",
       "Gross_Annual_Sales              -0.164869   0.091392  \n",
       "Lead_Score                      -0.196873   0.005362  \n",
       "Lead_Self_Graded_Credit          0.055678  -0.030704  \n",
       "Is_Submitted                    -0.050001   0.278057  \n",
       "Ad_Outlet                        0.003587   0.008935  \n",
       "Ad_Outlet_Source                 1.000000  -0.013922  \n",
       "Is_Funded                       -0.013922   1.000000  "
      ]
     },
     "execution_count": 779,
     "metadata": {},
     "output_type": "execute_result"
    }
   ],
   "source": [
    "LeadScore_df.corr()"
   ]
  },
  {
   "cell_type": "code",
   "execution_count": 780,
   "id": "2fbf1c69",
   "metadata": {},
   "outputs": [],
   "source": [
    "X = LeadScore_df[['Requested_Amount','Annual_Revenue','Amount to Borrow','Gross_Annual_Sales',\n",
    "                  'Ad_Outlet_Source','Lead_Score','Lead_Self_Graded_Credit']]\n",
    "\n",
    "y = LeadScore_df[['Is_Submitted']]"
   ]
  },
  {
   "cell_type": "code",
   "execution_count": 781,
   "id": "a544bc8e",
   "metadata": {},
   "outputs": [],
   "source": [
    "from sklearn.model_selection import train_test_split\n",
    "from sklearn.tree import DecisionTreeClassifier, export_graphviz\n",
    "from sklearn.model_selection import GridSearchCV\n",
    "from sklearn.metrics import accuracy_score\n",
    "from sklearn.preprocessing import RobustScaler\n",
    "from sklearn.neighbors import KNeighborsClassifier\n",
    "from sklearn.model_selection import cross_val_score\n",
    "\n",
    "X_train, X_test, y_train, y_test = train_test_split(X,y, test_size=0.3, random_state=0)\n",
    "\n",
    "scaler = RobustScaler()\n",
    "X_train = scaler.fit_transform(X_train)\n",
    "X_test = scaler.transform(X_test)"
   ]
  },
  {
   "cell_type": "code",
   "execution_count": 739,
   "id": "f14ec87b",
   "metadata": {},
   "outputs": [],
   "source": [
    "from sklearn.preprocessing import MinMaxScaler\n",
    "scaler = MinMaxScaler()\n",
    "X_train = scaler.fit_transform(X_train)\n",
    "X_test = scaler.transform(X_test)"
   ]
  },
  {
   "cell_type": "code",
   "execution_count": 740,
   "id": "0d38ea92",
   "metadata": {},
   "outputs": [
    {
     "data": {
      "text/html": [
       "<table class=\"simpletable\">\n",
       "<caption>Generalized Linear Model Regression Results</caption>\n",
       "<tr>\n",
       "  <th>Dep. Variable:</th>     <td>Is_Submitted</td>   <th>  No. Observations:  </th>  <td>  7619</td> \n",
       "</tr>\n",
       "<tr>\n",
       "  <th>Model:</th>                  <td>GLM</td>       <th>  Df Residuals:      </th>  <td>  7612</td> \n",
       "</tr>\n",
       "<tr>\n",
       "  <th>Model Family:</th>        <td>Binomial</td>     <th>  Df Model:          </th>  <td>     6</td> \n",
       "</tr>\n",
       "<tr>\n",
       "  <th>Link Function:</th>         <td>logit</td>      <th>  Scale:             </th> <td>  1.0000</td>\n",
       "</tr>\n",
       "<tr>\n",
       "  <th>Method:</th>                <td>IRLS</td>       <th>  Log-Likelihood:    </th> <td> -2365.2</td>\n",
       "</tr>\n",
       "<tr>\n",
       "  <th>Date:</th>            <td>Wed, 11 Aug 2021</td> <th>  Deviance:          </th> <td>  4730.5</td>\n",
       "</tr>\n",
       "<tr>\n",
       "  <th>Time:</th>                <td>13:08:52</td>     <th>  Pearson chi2:      </th> <td>7.53e+03</td>\n",
       "</tr>\n",
       "<tr>\n",
       "  <th>No. Iterations:</th>          <td>5</td>        <th>                     </th>     <td> </td>   \n",
       "</tr>\n",
       "<tr>\n",
       "  <th>Covariance Type:</th>     <td>nonrobust</td>    <th>                     </th>     <td> </td>   \n",
       "</tr>\n",
       "</table>\n",
       "<table class=\"simpletable\">\n",
       "<tr>\n",
       "    <td></td>       <th>coef</th>     <th>std err</th>      <th>z</th>      <th>P>|z|</th>  <th>[0.025</th>    <th>0.975]</th>  \n",
       "</tr>\n",
       "<tr>\n",
       "  <th>const</th> <td>   -2.1933</td> <td>    0.215</td> <td>  -10.189</td> <td> 0.000</td> <td>   -2.615</td> <td>   -1.771</td>\n",
       "</tr>\n",
       "<tr>\n",
       "  <th>x1</th>    <td>    0.3198</td> <td>    0.147</td> <td>    2.177</td> <td> 0.029</td> <td>    0.032</td> <td>    0.608</td>\n",
       "</tr>\n",
       "<tr>\n",
       "  <th>x2</th>    <td>   -3.1295</td> <td>    1.267</td> <td>   -2.471</td> <td> 0.013</td> <td>   -5.612</td> <td>   -0.647</td>\n",
       "</tr>\n",
       "<tr>\n",
       "  <th>x3</th>    <td>    0.3198</td> <td>    0.147</td> <td>    2.177</td> <td> 0.029</td> <td>    0.032</td> <td>    0.608</td>\n",
       "</tr>\n",
       "<tr>\n",
       "  <th>x4</th>    <td>    1.3890</td> <td>    0.205</td> <td>    6.778</td> <td> 0.000</td> <td>    0.987</td> <td>    1.791</td>\n",
       "</tr>\n",
       "<tr>\n",
       "  <th>x5</th>    <td>   -0.9296</td> <td>    0.311</td> <td>   -2.992</td> <td> 0.003</td> <td>   -1.539</td> <td>   -0.321</td>\n",
       "</tr>\n",
       "<tr>\n",
       "  <th>x6</th>    <td>   -0.1560</td> <td>    0.435</td> <td>   -0.359</td> <td> 0.720</td> <td>   -1.009</td> <td>    0.697</td>\n",
       "</tr>\n",
       "<tr>\n",
       "  <th>x7</th>    <td>    0.3624</td> <td>    0.238</td> <td>    1.522</td> <td> 0.128</td> <td>   -0.104</td> <td>    0.829</td>\n",
       "</tr>\n",
       "</table>"
      ],
      "text/plain": [
       "<class 'statsmodels.iolib.summary.Summary'>\n",
       "\"\"\"\n",
       "                 Generalized Linear Model Regression Results                  \n",
       "==============================================================================\n",
       "Dep. Variable:           Is_Submitted   No. Observations:                 7619\n",
       "Model:                            GLM   Df Residuals:                     7612\n",
       "Model Family:                Binomial   Df Model:                            6\n",
       "Link Function:                  logit   Scale:                          1.0000\n",
       "Method:                          IRLS   Log-Likelihood:                -2365.2\n",
       "Date:                Wed, 11 Aug 2021   Deviance:                       4730.5\n",
       "Time:                        13:08:52   Pearson chi2:                 7.53e+03\n",
       "No. Iterations:                     5                                         \n",
       "Covariance Type:            nonrobust                                         \n",
       "==============================================================================\n",
       "                 coef    std err          z      P>|z|      [0.025      0.975]\n",
       "------------------------------------------------------------------------------\n",
       "const         -2.1933      0.215    -10.189      0.000      -2.615      -1.771\n",
       "x1             0.3198      0.147      2.177      0.029       0.032       0.608\n",
       "x2            -3.1295      1.267     -2.471      0.013      -5.612      -0.647\n",
       "x3             0.3198      0.147      2.177      0.029       0.032       0.608\n",
       "x4             1.3890      0.205      6.778      0.000       0.987       1.791\n",
       "x5            -0.9296      0.311     -2.992      0.003      -1.539      -0.321\n",
       "x6            -0.1560      0.435     -0.359      0.720      -1.009       0.697\n",
       "x7             0.3624      0.238      1.522      0.128      -0.104       0.829\n",
       "==============================================================================\n",
       "\"\"\""
      ]
     },
     "execution_count": 740,
     "metadata": {},
     "output_type": "execute_result"
    }
   ],
   "source": [
    "import statsmodels.api as sm\n",
    "\n",
    "logm1 = sm.GLM(y_train, (sm.add_constant(X_train)), family = sm.families.Binomial())\n",
    "logm1.fit().summary()"
   ]
  },
  {
   "cell_type": "code",
   "execution_count": 782,
   "id": "94890c64",
   "metadata": {},
   "outputs": [
    {
     "data": {
      "text/plain": [
       "((7619, 7), (7619, 1))"
      ]
     },
     "execution_count": 782,
     "metadata": {},
     "output_type": "execute_result"
    }
   ],
   "source": [
    "X_train.shape, y_train.shape"
   ]
  },
  {
   "cell_type": "code",
   "execution_count": 783,
   "id": "3d2abf1e",
   "metadata": {},
   "outputs": [
    {
     "data": {
      "text/plain": [
       "((3266, 7), (3266, 1))"
      ]
     },
     "execution_count": 783,
     "metadata": {},
     "output_type": "execute_result"
    }
   ],
   "source": [
    "X_test.shape, y_test.shape"
   ]
  },
  {
   "cell_type": "code",
   "execution_count": 299,
   "id": "c22013b4",
   "metadata": {},
   "outputs": [],
   "source": [
    "from sklearn.feature_selection import SelectKBest\n",
    "from sklearn.feature_selection import chi2\n",
    "from sklearn.feature_selection import mutual_info_classif\n",
    "\n",
    "def select_features(X_train, y_train, X_test):\n",
    "    fs = SelectKBest(score_func=mutual_info_classif, k='all')\n",
    "    fs.fit(X_train, y_train)\n",
    "    X_train_fs = fs.transform(X_train)\n",
    "    X_test_fs = fs.transform(X_test)\n",
    "    return X_train_fs, X_test_fs, fs"
   ]
  },
  {
   "cell_type": "code",
   "execution_count": 300,
   "id": "197b1cf9",
   "metadata": {},
   "outputs": [
    {
     "name": "stdout",
     "output_type": "stream",
     "text": [
      "Feature 0: 0.004864\n",
      "Feature 1: 0.006890\n",
      "Feature 2: 0.001117\n",
      "Feature 3: 0.011767\n",
      "Feature 4: 0.006396\n",
      "Feature 5: 0.001534\n",
      "Feature 6: 0.000374\n"
     ]
    },
    {
     "data": {
      "image/png": "[encoded data removed]",
      "text/plain": [
       "<Figure size 432x288 with 1 Axes>"
      ]
     },
     "metadata": {
      "needs_background": "light"
     },
     "output_type": "display_data"
    }
   ],
   "source": [
    "X_train_fs, X_test_fs, fs = select_features(X_train, y_train, X_test)\n",
    "# what are scores for the features\n",
    "for i in range(len(fs.scores_)):\n",
    "    print('Feature %d: %f' % (i, fs.scores_[i]))\n",
    "    \n",
    "# plot the scores\n",
    "plt.bar([i for i in range(len(fs.scores_))], fs.scores_)\n",
    "plt.show()"
   ]
  },
  {
   "cell_type": "code",
   "execution_count": 743,
   "id": "b6a83721",
   "metadata": {},
   "outputs": [],
   "source": [
    "from sklearn.linear_model import LogisticRegression\n",
    "\n",
    "model = LogisticRegression(solver='liblinear')\n",
    "model.fit(X_train, y_train)\n",
    "y_pred = model.predict(X_test)"
   ]
  },
  {
   "cell_type": "code",
   "execution_count": 744,
   "id": "63f733b6",
   "metadata": {},
   "outputs": [],
   "source": [
    "from sklearn.feature_selection import RFE\n",
    "\n",
    "rfe = RFE(model, 15)             # running RFE with 7 variables as output\n",
    "rfe = rfe.fit(X_train, y_train)"
   ]
  },
  {
   "cell_type": "code",
   "execution_count": 745,
   "id": "739e0058",
   "metadata": {},
   "outputs": [
    {
     "data": {
      "text/plain": [
       "array([ True,  True,  True,  True,  True,  True,  True])"
      ]
     },
     "execution_count": 745,
     "metadata": {},
     "output_type": "execute_result"
    }
   ],
   "source": [
    "rfe.support_"
   ]
  },
  {
   "cell_type": "code",
   "execution_count": 784,
   "id": "78f78cb0",
   "metadata": {},
   "outputs": [],
   "source": [
    "X_train = pd.DataFrame(X_train, columns = X.columns)\n",
    "X_test = pd.DataFrame(X_test, columns=X.columns)"
   ]
  },
  {
   "cell_type": "code",
   "execution_count": 785,
   "id": "04e7aff0",
   "metadata": {},
   "outputs": [
    {
     "data": {
      "text/plain": [
       "[('Requested_Amount', True, 1),\n",
       " ('Annual_Revenue', True, 1),\n",
       " ('Amount to Borrow', True, 1),\n",
       " ('Gross_Annual_Sales', True, 1),\n",
       " ('Ad_Outlet_Source', True, 1),\n",
       " ('Lead_Score', True, 1),\n",
       " ('Lead_Self_Graded_Credit', True, 1)]"
      ]
     },
     "execution_count": 785,
     "metadata": {},
     "output_type": "execute_result"
    }
   ],
   "source": [
    "list(zip(X_train.columns, rfe.support_, rfe.ranking_))"
   ]
  },
  {
   "cell_type": "code",
   "execution_count": 786,
   "id": "bea6eb66",
   "metadata": {},
   "outputs": [
    {
     "data": {
      "text/plain": [
       "Index(['Requested_Amount', 'Annual_Revenue', 'Amount to Borrow',\n",
       "       'Gross_Annual_Sales', 'Ad_Outlet_Source', 'Lead_Score',\n",
       "       'Lead_Self_Graded_Credit'],\n",
       "      dtype='object')"
      ]
     },
     "execution_count": 786,
     "metadata": {},
     "output_type": "execute_result"
    }
   ],
   "source": [
    "col = X_train.columns[rfe.support_]\n",
    "col"
   ]
  },
  {
   "cell_type": "code",
   "execution_count": 788,
   "id": "88782686",
   "metadata": {},
   "outputs": [
    {
     "data": {
      "text/html": [
       "<table class=\"simpletable\">\n",
       "<caption>Generalized Linear Model Regression Results</caption>\n",
       "<tr>\n",
       "  <th>Dep. Variable:</th>     <td>Is_Submitted</td>   <th>  No. Observations:  </th>  <td>  7619</td> \n",
       "</tr>\n",
       "<tr>\n",
       "  <th>Model:</th>                  <td>GLM</td>       <th>  Df Residuals:      </th>  <td>  7612</td> \n",
       "</tr>\n",
       "<tr>\n",
       "  <th>Model Family:</th>        <td>Binomial</td>     <th>  Df Model:          </th>  <td>     6</td> \n",
       "</tr>\n",
       "<tr>\n",
       "  <th>Link Function:</th>         <td>logit</td>      <th>  Scale:             </th> <td>  1.0000</td>\n",
       "</tr>\n",
       "<tr>\n",
       "  <th>Method:</th>                <td>IRLS</td>       <th>  Log-Likelihood:    </th> <td> -2365.2</td>\n",
       "</tr>\n",
       "<tr>\n",
       "  <th>Date:</th>            <td>Wed, 11 Aug 2021</td> <th>  Deviance:          </th> <td>  4730.5</td>\n",
       "</tr>\n",
       "<tr>\n",
       "  <th>Time:</th>                <td>13:15:05</td>     <th>  Pearson chi2:      </th> <td>7.53e+03</td>\n",
       "</tr>\n",
       "<tr>\n",
       "  <th>No. Iterations:</th>          <td>5</td>        <th>                     </th>     <td> </td>   \n",
       "</tr>\n",
       "<tr>\n",
       "  <th>Covariance Type:</th>     <td>nonrobust</td>    <th>                     </th>     <td> </td>   \n",
       "</tr>\n",
       "</table>\n",
       "<table class=\"simpletable\">\n",
       "<tr>\n",
       "    <td></td>       <th>coef</th>     <th>std err</th>      <th>z</th>      <th>P>|z|</th>  <th>[0.025</th>    <th>0.975]</th>  \n",
       "</tr>\n",
       "<tr>\n",
       "  <th>const</th> <td>   -2.4056</td> <td>    0.048</td> <td>  -50.141</td> <td> 0.000</td> <td>   -2.500</td> <td>   -2.312</td>\n",
       "</tr>\n",
       "<tr>\n",
       "  <th>x1</th>    <td>    0.0261</td> <td>    0.012</td> <td>    2.177</td> <td> 0.029</td> <td>    0.003</td> <td>    0.050</td>\n",
       "</tr>\n",
       "<tr>\n",
       "  <th>x2</th>    <td>   -0.0232</td> <td>    0.009</td> <td>   -2.471</td> <td> 0.013</td> <td>   -0.042</td> <td>   -0.005</td>\n",
       "</tr>\n",
       "<tr>\n",
       "  <th>x3</th>    <td>    0.0261</td> <td>    0.012</td> <td>    2.177</td> <td> 0.029</td> <td>    0.003</td> <td>    0.050</td>\n",
       "</tr>\n",
       "<tr>\n",
       "  <th>x4</th>    <td>    0.1655</td> <td>    0.024</td> <td>    6.778</td> <td> 0.000</td> <td>    0.118</td> <td>    0.213</td>\n",
       "</tr>\n",
       "<tr>\n",
       "  <th>x5</th>    <td>   -0.2324</td> <td>    0.078</td> <td>   -2.992</td> <td> 0.003</td> <td>   -0.385</td> <td>   -0.080</td>\n",
       "</tr>\n",
       "<tr>\n",
       "  <th>x6</th>    <td>   -0.0328</td> <td>    0.092</td> <td>   -0.359</td> <td> 0.720</td> <td>   -0.212</td> <td>    0.147</td>\n",
       "</tr>\n",
       "<tr>\n",
       "  <th>x7</th>    <td>    0.1208</td> <td>    0.079</td> <td>    1.522</td> <td> 0.128</td> <td>   -0.035</td> <td>    0.276</td>\n",
       "</tr>\n",
       "</table>"
      ],
      "text/plain": [
       "<class 'statsmodels.iolib.summary.Summary'>\n",
       "\"\"\"\n",
       "                 Generalized Linear Model Regression Results                  \n",
       "==============================================================================\n",
       "Dep. Variable:           Is_Submitted   No. Observations:                 7619\n",
       "Model:                            GLM   Df Residuals:                     7612\n",
       "Model Family:                Binomial   Df Model:                            6\n",
       "Link Function:                  logit   Scale:                          1.0000\n",
       "Method:                          IRLS   Log-Likelihood:                -2365.2\n",
       "Date:                Wed, 11 Aug 2021   Deviance:                       4730.5\n",
       "Time:                        13:15:05   Pearson chi2:                 7.53e+03\n",
       "No. Iterations:                     5                                         \n",
       "Covariance Type:            nonrobust                                         \n",
       "==============================================================================\n",
       "                 coef    std err          z      P>|z|      [0.025      0.975]\n",
       "------------------------------------------------------------------------------\n",
       "const         -2.4056      0.048    -50.141      0.000      -2.500      -2.312\n",
       "x1             0.0261      0.012      2.177      0.029       0.003       0.050\n",
       "x2            -0.0232      0.009     -2.471      0.013      -0.042      -0.005\n",
       "x3             0.0261      0.012      2.177      0.029       0.003       0.050\n",
       "x4             0.1655      0.024      6.778      0.000       0.118       0.213\n",
       "x5            -0.2324      0.078     -2.992      0.003      -0.385      -0.080\n",
       "x6            -0.0328      0.092     -0.359      0.720      -0.212       0.147\n",
       "x7             0.1208      0.079      1.522      0.128      -0.035       0.276\n",
       "==============================================================================\n",
       "\"\"\""
      ]
     },
     "execution_count": 788,
     "metadata": {},
     "output_type": "execute_result"
    }
   ],
   "source": [
    "X_train_sm = sm.add_constant(X_train[col].values)\n",
    "\n",
    "X_train_sm = sm.add_constant(X_train[col].values)\n",
    "logm2 = sm.GLM(y_train,X_train_sm, family = sm.families.Binomial())\n",
    "res = logm2.fit()\n",
    "res.summary()"
   ]
  },
  {
   "cell_type": "code",
   "execution_count": 791,
   "id": "730500be",
   "metadata": {},
   "outputs": [
    {
     "data": {
      "text/plain": [
       "array([0.08614564, 0.08614564, 0.08100525, 0.08602987, 0.10413497,\n",
       "       0.08614564, 0.10328643, 0.08602987, 0.0814452 , 0.11688322])"
      ]
     },
     "execution_count": 791,
     "metadata": {},
     "output_type": "execute_result"
    }
   ],
   "source": [
    "y_train_pred = res.predict(X_train_sm)\n",
    "y_train_pred[:10]"
   ]
  },
  {
   "cell_type": "code",
   "execution_count": 793,
   "id": "b9812b2a",
   "metadata": {},
   "outputs": [
    {
     "data": {
      "text/plain": [
       "array([0.08614564, 0.08614564, 0.08100525, 0.08602987, 0.10413497,\n",
       "       0.08614564, 0.10328643, 0.08602987, 0.0814452 , 0.11688322])"
      ]
     },
     "execution_count": 793,
     "metadata": {},
     "output_type": "execute_result"
    }
   ],
   "source": [
    "y_train_pred = y_train_pred.reshape(-1)\n",
    "y_train_pred[:10]"
   ]
  },
  {
   "cell_type": "code",
   "execution_count": 794,
   "id": "9f22a3a2",
   "metadata": {},
   "outputs": [
    {
     "data": {
      "text/html": [
       "<div>\n",
       "<style scoped>\n",
       "    .dataframe tbody tr th:only-of-type {\n",
       "        vertical-align: middle;\n",
       "    }\n",
       "\n",
       "    .dataframe tbody tr th {\n",
       "        vertical-align: top;\n",
       "    }\n",
       "\n",
       "    .dataframe thead th {\n",
       "        text-align: right;\n",
       "    }\n",
       "</style>\n",
       "<table border=\"1\" class=\"dataframe\">\n",
       "  <thead>\n",
       "    <tr style=\"text-align: right;\">\n",
       "      <th></th>\n",
       "      <th>0</th>\n",
       "      <th>Prospect_ID</th>\n",
       "    </tr>\n",
       "  </thead>\n",
       "  <tbody>\n",
       "    <tr>\n",
       "      <th>0.086146</th>\n",
       "      <td>0</td>\n",
       "      <td>11415</td>\n",
       "    </tr>\n",
       "    <tr>\n",
       "      <th>0.086146</th>\n",
       "      <td>0</td>\n",
       "      <td>11804</td>\n",
       "    </tr>\n",
       "    <tr>\n",
       "      <th>0.081005</th>\n",
       "      <td>0</td>\n",
       "      <td>8832</td>\n",
       "    </tr>\n",
       "    <tr>\n",
       "      <th>0.086030</th>\n",
       "      <td>0</td>\n",
       "      <td>9157</td>\n",
       "    </tr>\n",
       "    <tr>\n",
       "      <th>0.104135</th>\n",
       "      <td>0</td>\n",
       "      <td>13830</td>\n",
       "    </tr>\n",
       "    <tr>\n",
       "      <th>...</th>\n",
       "      <td>...</td>\n",
       "      <td>...</td>\n",
       "    </tr>\n",
       "    <tr>\n",
       "      <th>0.091166</th>\n",
       "      <td>0</td>\n",
       "      <td>7437</td>\n",
       "    </tr>\n",
       "    <tr>\n",
       "      <th>0.072062</th>\n",
       "      <td>0</td>\n",
       "      <td>5727</td>\n",
       "    </tr>\n",
       "    <tr>\n",
       "      <th>0.090346</th>\n",
       "      <td>0</td>\n",
       "      <td>12726</td>\n",
       "    </tr>\n",
       "    <tr>\n",
       "      <th>0.104135</th>\n",
       "      <td>0</td>\n",
       "      <td>13749</td>\n",
       "    </tr>\n",
       "    <tr>\n",
       "      <th>0.084886</th>\n",
       "      <td>0</td>\n",
       "      <td>4947</td>\n",
       "    </tr>\n",
       "  </tbody>\n",
       "</table>\n",
       "<p>7619 rows × 2 columns</p>\n",
       "</div>"
      ],
      "text/plain": [
       "          0  Prospect_ID\n",
       "0.086146  0        11415\n",
       "0.086146  0        11804\n",
       "0.081005  0         8832\n",
       "0.086030  0         9157\n",
       "0.104135  0        13830\n",
       "...      ..          ...\n",
       "0.091166  0         7437\n",
       "0.072062  0         5727\n",
       "0.090346  0        12726\n",
       "0.104135  0        13749\n",
       "0.084886  0         4947\n",
       "\n",
       "[7619 rows x 2 columns]"
      ]
     },
     "execution_count": 794,
     "metadata": {},
     "output_type": "execute_result"
    }
   ],
   "source": [
    "# find the predicted-prob\n",
    "Submitted_prob = y_train_pred\n",
    "Submitted = y_train.values\n",
    "y_train_pred_final = pd.DataFrame(Submitted,Submitted_prob)\n",
    "                                  \n",
    "                                   \n",
    "y_train_pred_final['Prospect_ID'] = y_train.index\n",
    "\n",
    "y_train_pred_final"
   ]
  },
  {
   "cell_type": "code",
   "execution_count": 795,
   "id": "c0af48f9",
   "metadata": {},
   "outputs": [],
   "source": [
    "y_train_pred_final.reset_index(inplace=True)"
   ]
  },
  {
   "cell_type": "code",
   "execution_count": 796,
   "id": "82402845",
   "metadata": {},
   "outputs": [],
   "source": [
    "y_train_pred_final.rename(columns = {\"index\":\"Submitted_Prob\", 0:\"Submitted\"}, inplace=True)"
   ]
  },
  {
   "cell_type": "code",
   "execution_count": 797,
   "id": "82a158b6",
   "metadata": {},
   "outputs": [
    {
     "data": {
      "text/html": [
       "<div>\n",
       "<style scoped>\n",
       "    .dataframe tbody tr th:only-of-type {\n",
       "        vertical-align: middle;\n",
       "    }\n",
       "\n",
       "    .dataframe tbody tr th {\n",
       "        vertical-align: top;\n",
       "    }\n",
       "\n",
       "    .dataframe thead th {\n",
       "        text-align: right;\n",
       "    }\n",
       "</style>\n",
       "<table border=\"1\" class=\"dataframe\">\n",
       "  <thead>\n",
       "    <tr style=\"text-align: right;\">\n",
       "      <th></th>\n",
       "      <th>Submitted_Prob</th>\n",
       "      <th>Submitted</th>\n",
       "      <th>Prospect_ID</th>\n",
       "      <th>predicted</th>\n",
       "    </tr>\n",
       "  </thead>\n",
       "  <tbody>\n",
       "    <tr>\n",
       "      <th>0</th>\n",
       "      <td>0.086146</td>\n",
       "      <td>0</td>\n",
       "      <td>11415</td>\n",
       "      <td>0</td>\n",
       "    </tr>\n",
       "    <tr>\n",
       "      <th>1</th>\n",
       "      <td>0.086146</td>\n",
       "      <td>0</td>\n",
       "      <td>11804</td>\n",
       "      <td>0</td>\n",
       "    </tr>\n",
       "    <tr>\n",
       "      <th>2</th>\n",
       "      <td>0.081005</td>\n",
       "      <td>0</td>\n",
       "      <td>8832</td>\n",
       "      <td>0</td>\n",
       "    </tr>\n",
       "    <tr>\n",
       "      <th>3</th>\n",
       "      <td>0.086030</td>\n",
       "      <td>0</td>\n",
       "      <td>9157</td>\n",
       "      <td>0</td>\n",
       "    </tr>\n",
       "    <tr>\n",
       "      <th>4</th>\n",
       "      <td>0.104135</td>\n",
       "      <td>0</td>\n",
       "      <td>13830</td>\n",
       "      <td>0</td>\n",
       "    </tr>\n",
       "  </tbody>\n",
       "</table>\n",
       "</div>"
      ],
      "text/plain": [
       "   Submitted_Prob  Submitted  Prospect_ID  predicted\n",
       "0        0.086146          0        11415          0\n",
       "1        0.086146          0        11804          0\n",
       "2        0.081005          0         8832          0\n",
       "3        0.086030          0         9157          0\n",
       "4        0.104135          0        13830          0"
      ]
     },
     "execution_count": 797,
     "metadata": {},
     "output_type": "execute_result"
    }
   ],
   "source": [
    "y_train_pred_final['predicted'] = y_train_pred_final.Submitted_Prob.apply(lambda x: 1 if x > 0.155 else 0)\n",
    "\n",
    "# Let's see the head\n",
    "y_train_pred_final.head()"
   ]
  },
  {
   "cell_type": "code",
   "execution_count": 798,
   "id": "4bba4bb3",
   "metadata": {},
   "outputs": [
    {
     "data": {
      "image/png": "[encoded data removed]",
      "text/plain": [
       "<Figure size 432x288 with 1 Axes>"
      ]
     },
     "metadata": {
      "needs_background": "light"
     },
     "output_type": "display_data"
    }
   ],
   "source": [
    "ax = y_train_pred_final['Submitted_Prob'].plot.hist(bins=20)"
   ]
  },
  {
   "cell_type": "code",
   "execution_count": 799,
   "id": "7b01222f",
   "metadata": {},
   "outputs": [
    {
     "data": {
      "image/png": "[encoded data removed]",
      "text/plain": [
       "<Figure size 432x288 with 1 Axes>"
      ]
     },
     "metadata": {
      "needs_background": "light"
     },
     "output_type": "display_data"
    }
   ],
   "source": [
    "ax = y_train_pred_final['Submitted'].plot.hist(bins=20)"
   ]
  },
  {
   "cell_type": "code",
   "execution_count": 800,
   "id": "68f0ef35",
   "metadata": {},
   "outputs": [
    {
     "data": {
      "image/png": "[encoded data removed]",
      "text/plain": [
       "<Figure size 432x288 with 1 Axes>"
      ]
     },
     "metadata": {
      "needs_background": "light"
     },
     "output_type": "display_data"
    }
   ],
   "source": [
    "ax = y_train_pred_final['predicted'].plot.hist(bins=20)"
   ]
  },
  {
   "cell_type": "code",
   "execution_count": 802,
   "id": "5f7e289f",
   "metadata": {},
   "outputs": [],
   "source": [
    "y_train_pred_final.to_csv('Sub_prob.csv', index = True)"
   ]
  },
  {
   "cell_type": "code",
   "execution_count": 119,
   "id": "d2dfcf0c",
   "metadata": {},
   "outputs": [
    {
     "data": {
      "text/plain": [
       "90.60012247397428"
      ]
     },
     "execution_count": 119,
     "metadata": {},
     "output_type": "execute_result"
    }
   ],
   "source": [
    "accuracy_score(y_test,y_pred, normalize=True) * 100"
   ]
  },
  {
   "cell_type": "code",
   "execution_count": 120,
   "id": "8b9506b9",
   "metadata": {},
   "outputs": [
    {
     "name": "stdout",
     "output_type": "stream",
     "text": [
      "Training score: 0.9044494028087675\n"
     ]
    }
   ],
   "source": [
    "print(\"Training score:\", model.score(X_train, y_train))"
   ]
  },
  {
   "cell_type": "code",
   "execution_count": 527,
   "id": "0ea905a7",
   "metadata": {},
   "outputs": [],
   "source": [
    "KNN_model = KNeighborsClassifier()"
   ]
  },
  {
   "cell_type": "code",
   "execution_count": 533,
   "id": "da8141a0",
   "metadata": {},
   "outputs": [
    {
     "name": "stdout",
     "output_type": "stream",
     "text": [
      "Cross Validation Scores for Log KNN: [0.78089113 0.77905374 0.70923289 0.73036288 0.69820854]\n",
      "Mean Accuracy Score for KNN: 0.7395498392282958\n"
     ]
    }
   ],
   "source": [
    "from sklearn.model_selection import StratifiedKFold\n",
    "\n",
    "cv = StratifiedKFold(n_splits=5, random_state=0, shuffle=True)\n",
    "accuracy_KNN = cross_val_score(KNN_model, X, y, cv=cv, scoring='accuracy')\n",
    "\n",
    "print(\"Cross Validation Scores for Log KNN: {}\".format(accuracy_KNN))\n",
    "print(\"Mean Accuracy Score for KNN: {}\".format(np.mean(accuracy_KNN)))"
   ]
  },
  {
   "cell_type": "code",
   "execution_count": 534,
   "id": "a10e41c7",
   "metadata": {},
   "outputs": [
    {
     "name": "stdout",
     "output_type": "stream",
     "text": [
      "Best Parameter: {'n_neighbors': 2}\n",
      "Best Cross Vlidation Score: 0.8015617822691778\n"
     ]
    }
   ],
   "source": [
    "param_grid = {'n_neighbors': [1,2,3,4,5,6]}\n",
    "cv = StratifiedKFold(n_splits=5, random_state=0, shuffle=True)\n",
    "grid = GridSearchCV(KNN_model, param_grid, cv = cv, scoring='accuracy',\n",
    "                    return_train_score=True)\n",
    "grid.fit(X, y)\n",
    "\n",
    "print(\"Best Parameter: {}\".format(grid.best_params_))\n",
    "print(\"Best Cross Vlidation Score: {}\".format(grid.best_score_))"
   ]
  },
  {
   "cell_type": "code",
   "execution_count": 535,
   "id": "896a23a8",
   "metadata": {},
   "outputs": [
    {
     "data": {
      "text/plain": [
       "{'max_depth': 2, 'max_features': 2, 'splitter': 'best'}"
      ]
     },
     "execution_count": 535,
     "metadata": {},
     "output_type": "execute_result"
    }
   ],
   "source": [
    "parameters = {'splitter': ('best','random'),\n",
    "             'max_depth': [2,4,6],\n",
    "             'max_features':[2,4,6, None]}\n",
    "\n",
    "grid_search = GridSearchCV(DecisionTreeClassifier(), parameters, cv=5,\n",
    "                          return_train_score=True)\n",
    "grid_search.fit(X_train, y_train)\n",
    "\n",
    "grid_search.best_params_"
   ]
  },
  {
   "cell_type": "code",
   "execution_count": 536,
   "id": "32b1ffeb",
   "metadata": {},
   "outputs": [
    {
     "data": {
      "text/plain": [
       "DecisionTreeClassifier(max_depth=2, max_features=2)"
      ]
     },
     "execution_count": 536,
     "metadata": {},
     "output_type": "execute_result"
    }
   ],
   "source": [
    "model = DecisionTreeClassifier(splitter=grid_search.best_params_['splitter'],\n",
    "                                       max_depth=grid_search.best_params_['max_depth'],\n",
    "                                      max_features=grid_search.best_params_['max_features'])\n",
    "\n",
    "X_train, X_test, y_train, y_test = train_test_split(X,y, random_state=0)\n",
    "model.fit(X_train, y_train)"
   ]
  },
  {
   "cell_type": "code",
   "execution_count": 537,
   "id": "630829af",
   "metadata": {},
   "outputs": [
    {
     "name": "stdout",
     "output_type": "stream",
     "text": [
      "In-sample Accuracy: 90.4446894524072\n",
      "Out-of-sample Accuracy: 90.63188831741367\n"
     ]
    }
   ],
   "source": [
    "y_train_hat = model.predict(X_train)\n",
    "y_pred = model.predict(X_test)\n",
    "\n",
    "in_sample_acc = accuracy_score(y_train,y_train_hat, normalize=True) * 100\n",
    "\n",
    "out_of_sample_acc = accuracy_score(y_test,y_pred, normalize=True) * 100\n",
    "\n",
    "print(\"In-sample Accuracy:\", in_sample_acc)\n",
    "print(\"Out-of-sample Accuracy:\", out_of_sample_acc)"
   ]
  },
  {
   "cell_type": "code",
   "execution_count": 538,
   "id": "1fabd12d",
   "metadata": {},
   "outputs": [
    {
     "name": "stdout",
     "output_type": "stream",
     "text": [
      "Confusion Matrix\n",
      "[[2467    0]\n",
      " [ 255    0]]\n",
      "              precision    recall  f1-score   support\n",
      "\n",
      "           0       0.91      1.00      0.95      2467\n",
      "           1       0.00      0.00      0.00       255\n",
      "\n",
      "    accuracy                           0.91      2722\n",
      "   macro avg       0.45      0.50      0.48      2722\n",
      "weighted avg       0.82      0.91      0.86      2722\n",
      "\n"
     ]
    }
   ],
   "source": [
    "from sklearn.metrics import classification_report, confusion_matrix\n",
    "\n",
    "print(\"Confusion Matrix\")\n",
    "print(confusion_matrix(y_test,y_pred))\n",
    "print(classification_report(y_test,y_pred))"
   ]
  },
  {
   "cell_type": "code",
   "execution_count": 511,
   "id": "7abc7bc1",
   "metadata": {},
   "outputs": [
    {
     "data": {
      "image/png": "[encoded data removed]",
      "text/plain": [
       "<Figure size 432x288 with 1 Axes>"
      ]
     },
     "metadata": {
      "needs_background": "light"
     },
     "output_type": "display_data"
    }
   ],
   "source": [
    "from sklearn.metrics import roc_curve\n",
    "fpr, tpr, thresholds = roc_curve(y_test, model.predict_proba(X_test)[:,1])\n",
    "plt.plot(fpr, tpr, label=\"ROC Curve\")\n",
    "plt.xlabel(\"FPR\")\n",
    "plt.ylabel(\"TPR (recall)\");"
   ]
  },
  {
   "cell_type": "code",
   "execution_count": 516,
   "id": "e1af6255",
   "metadata": {},
   "outputs": [],
   "source": [
    "y_pred_prob =model.predict_proba(X_test)[:,1]\n",
    "fpr,tpr, threshold= roc_curve(y_test,y_pred_prob)"
   ]
  },
  {
   "cell_type": "code",
   "execution_count": 518,
   "id": "9065cf9c",
   "metadata": {},
   "outputs": [
    {
     "name": "stdout",
     "output_type": "stream",
     "text": [
      "AUC for logreg: 0.613\n"
     ]
    }
   ],
   "source": [
    "from sklearn.metrics import roc_auc_score\n",
    "\n",
    "logreg_auc = roc_auc_score(y_test, model.predict_proba(X_test)[:,1]) \n",
    "print(\"AUC for logreg: {:.3f}\".format(logreg_auc))"
   ]
  },
  {
   "cell_type": "code",
   "execution_count": 520,
   "id": "34727c97",
   "metadata": {},
   "outputs": [
    {
     "name": "stdout",
     "output_type": "stream",
     "text": [
      "[0.52158954 0.29607519 0.54778195 0.52778146 0.56825204]\n"
     ]
    }
   ],
   "source": [
    "from sklearn.model_selection import cross_val_score\n",
    "cv_scores = cross_val_score(model,X,y, cv=5, scoring='roc_auc')\n",
    "print(cv_scores)"
   ]
  },
  {
   "cell_type": "code",
   "execution_count": 539,
   "id": "a321b09f",
   "metadata": {},
   "outputs": [],
   "source": [
    "feature_names = X = LeadScore_df[['Requested_Amount','Annual_Revenue','Amount to Borrow','Gross_Annual_Sales',\n",
    "                  'Ad_Outlet_Source','Lead_Score','Lead_Self_Graded_Credit']]"
   ]
  },
  {
   "cell_type": "code",
   "execution_count": 540,
   "id": "f7cf3378",
   "metadata": {},
   "outputs": [
    {
     "data": {
      "text/plain": [
       "array([0.31794016, 0.46187651, 0.        , 0.        , 0.22018333,\n",
       "       0.        , 0.        ])"
      ]
     },
     "execution_count": 540,
     "metadata": {},
     "output_type": "execute_result"
    }
   ],
   "source": [
    "#print(feature_names)\n",
    "model.feature_importances_"
   ]
  },
  {
   "cell_type": "code",
   "execution_count": 541,
   "id": "9f236caa",
   "metadata": {},
   "outputs": [
    {
     "data": {
      "image/svg+xml": [
       "<?xml version=\"1.0\" encoding=\"UTF-8\" standalone=\"no\"?>\r\n",
       "<!DOCTYPE svg PUBLIC \"-//W3C//DTD SVG 1.1//EN\"\r\n",
       " \"http://www.w3.org/Graphics/SVG/1.1/DTD/svg11.dtd\">\r\n",
       "<!-- Generated by graphviz version 2.38.0 (20140413.2041)\r\n",
       " -->\r\n",
       "<!-- Title: Tree Pages: 1 -->\r\n",
       "<svg width=\"612pt\" height=\"314pt\"\r\n",
       " viewBox=\"0.00 0.00 612.00 314.00\" xmlns=\"http://www.w3.org/2000/svg\" xmlns:xlink=\"http://www.w3.org/1999/xlink\">\r\n",
       "<g id=\"graph0\" class=\"graph\" transform=\"scale(1 1) rotate(0) translate(4 310)\">\r\n",
       "<title>Tree</title>\r\n",
       "<polygon fill=\"white\" stroke=\"none\" points=\"-4,4 -4,-310 608,-310 608,4 -4,4\"/>\r\n",
       "<!-- 0 -->\r\n",
       "<g id=\"node1\" class=\"node\"><title>0</title>\r\n",
       "<path fill=\"#e88e4e\" stroke=\"black\" d=\"M401.5,-306C401.5,-306 224.5,-306 224.5,-306 218.5,-306 212.5,-300 212.5,-294 212.5,-294 212.5,-235 212.5,-235 212.5,-229 218.5,-223 224.5,-223 224.5,-223 401.5,-223 401.5,-223 407.5,-223 413.5,-229 413.5,-235 413.5,-235 413.5,-294 413.5,-294 413.5,-300 407.5,-306 401.5,-306\"/>\r\n",
       "<text text-anchor=\"start\" x=\"220.5\" y=\"-290.8\" font-family=\"Helvetica,sans-Serif\" font-size=\"14.00\">Annual_Revenue ≤ 155000.5</text>\r\n",
       "<text text-anchor=\"start\" x=\"275.5\" y=\"-275.8\" font-family=\"Helvetica,sans-Serif\" font-size=\"14.00\">gini = 0.173</text>\r\n",
       "<text text-anchor=\"start\" x=\"261.5\" y=\"-260.8\" font-family=\"Helvetica,sans-Serif\" font-size=\"14.00\">samples = 8163</text>\r\n",
       "<text text-anchor=\"start\" x=\"252\" y=\"-245.8\" font-family=\"Helvetica,sans-Serif\" font-size=\"14.00\">value = [7383, 780]</text>\r\n",
       "<text text-anchor=\"start\" x=\"284\" y=\"-230.8\" font-family=\"Helvetica,sans-Serif\" font-size=\"14.00\">class = 0</text>\r\n",
       "</g>\r\n",
       "<!-- 1 -->\r\n",
       "<g id=\"node2\" class=\"node\"><title>1</title>\r\n",
       "<path fill=\"#e88e4d\" stroke=\"black\" d=\"M303,-187C303,-187 115,-187 115,-187 109,-187 103,-181 103,-175 103,-175 103,-116 103,-116 103,-110 109,-104 115,-104 115,-104 303,-104 303,-104 309,-104 315,-110 315,-116 315,-116 315,-175 315,-175 315,-181 309,-187 303,-187\"/>\r\n",
       "<text text-anchor=\"start\" x=\"111\" y=\"-171.8\" font-family=\"Helvetica,sans-Serif\" font-size=\"14.00\">Requested_Amount ≤ 31250.0</text>\r\n",
       "<text text-anchor=\"start\" x=\"171.5\" y=\"-156.8\" font-family=\"Helvetica,sans-Serif\" font-size=\"14.00\">gini = 0.165</text>\r\n",
       "<text text-anchor=\"start\" x=\"157.5\" y=\"-141.8\" font-family=\"Helvetica,sans-Serif\" font-size=\"14.00\">samples = 7655</text>\r\n",
       "<text text-anchor=\"start\" x=\"148\" y=\"-126.8\" font-family=\"Helvetica,sans-Serif\" font-size=\"14.00\">value = [6959, 696]</text>\r\n",
       "<text text-anchor=\"start\" x=\"180\" y=\"-111.8\" font-family=\"Helvetica,sans-Serif\" font-size=\"14.00\">class = 0</text>\r\n",
       "</g>\r\n",
       "<!-- 0&#45;&gt;1 -->\r\n",
       "<g id=\"edge1\" class=\"edge\"><title>0&#45;&gt;1</title>\r\n",
       "<path fill=\"none\" stroke=\"black\" d=\"M276.918,-222.907C268.851,-213.832 260.219,-204.121 251.906,-194.769\"/>\r\n",
       "<polygon fill=\"black\" stroke=\"black\" points=\"254.278,-192.17 245.018,-187.021 249.046,-196.82 254.278,-192.17\"/>\r\n",
       "<text text-anchor=\"middle\" x=\"243.55\" y=\"-208.278\" font-family=\"Helvetica,sans-Serif\" font-size=\"14.00\">True</text>\r\n",
       "</g>\r\n",
       "<!-- 4 -->\r\n",
       "<g id=\"node5\" class=\"node\"><title>4</title>\r\n",
       "<path fill=\"#ea9a60\" stroke=\"black\" d=\"M491,-187C491,-187 345,-187 345,-187 339,-187 333,-181 333,-175 333,-175 333,-116 333,-116 333,-110 339,-104 345,-104 345,-104 491,-104 491,-104 497,-104 503,-110 503,-116 503,-116 503,-175 503,-175 503,-181 497,-187 491,-187\"/>\r\n",
       "<text text-anchor=\"start\" x=\"341\" y=\"-171.8\" font-family=\"Helvetica,sans-Serif\" font-size=\"14.00\">Ad_Outlet_Source ≤ 1.5</text>\r\n",
       "<text text-anchor=\"start\" x=\"380.5\" y=\"-156.8\" font-family=\"Helvetica,sans-Serif\" font-size=\"14.00\">gini = 0.276</text>\r\n",
       "<text text-anchor=\"start\" x=\"370.5\" y=\"-141.8\" font-family=\"Helvetica,sans-Serif\" font-size=\"14.00\">samples = 508</text>\r\n",
       "<text text-anchor=\"start\" x=\"365\" y=\"-126.8\" font-family=\"Helvetica,sans-Serif\" font-size=\"14.00\">value = [424, 84]</text>\r\n",
       "<text text-anchor=\"start\" x=\"389\" y=\"-111.8\" font-family=\"Helvetica,sans-Serif\" font-size=\"14.00\">class = 0</text>\r\n",
       "</g>\r\n",
       "<!-- 0&#45;&gt;4 -->\r\n",
       "<g id=\"edge4\" class=\"edge\"><title>0&#45;&gt;4</title>\r\n",
       "<path fill=\"none\" stroke=\"black\" d=\"M349.429,-222.907C357.655,-213.742 366.463,-203.927 374.933,-194.489\"/>\r\n",
       "<polygon fill=\"black\" stroke=\"black\" points=\"377.561,-196.801 381.635,-187.021 372.351,-192.126 377.561,-196.801\"/>\r\n",
       "<text text-anchor=\"middle\" x=\"382.985\" y=\"-208.284\" font-family=\"Helvetica,sans-Serif\" font-size=\"14.00\">False</text>\r\n",
       "</g>\r\n",
       "<!-- 2 -->\r\n",
       "<g id=\"node3\" class=\"node\"><title>2</title>\r\n",
       "<path fill=\"#e78b49\" stroke=\"black\" d=\"M126,-68C126,-68 12,-68 12,-68 6,-68 0,-62 0,-56 0,-56 0,-12 0,-12 0,-6 6,-0 12,-0 12,-0 126,-0 126,-0 132,-0 138,-6 138,-12 138,-12 138,-56 138,-56 138,-62 132,-68 126,-68\"/>\r\n",
       "<text text-anchor=\"start\" x=\"31.5\" y=\"-52.8\" font-family=\"Helvetica,sans-Serif\" font-size=\"14.00\">gini = 0.139</text>\r\n",
       "<text text-anchor=\"start\" x=\"17.5\" y=\"-37.8\" font-family=\"Helvetica,sans-Serif\" font-size=\"14.00\">samples = 3750</text>\r\n",
       "<text text-anchor=\"start\" x=\"8\" y=\"-22.8\" font-family=\"Helvetica,sans-Serif\" font-size=\"14.00\">value = [3468, 282]</text>\r\n",
       "<text text-anchor=\"start\" x=\"40\" y=\"-7.8\" font-family=\"Helvetica,sans-Serif\" font-size=\"14.00\">class = 0</text>\r\n",
       "</g>\r\n",
       "<!-- 1&#45;&gt;2 -->\r\n",
       "<g id=\"edge2\" class=\"edge\"><title>1&#45;&gt;2</title>\r\n",
       "<path fill=\"none\" stroke=\"black\" d=\"M156.869,-103.726C144.741,-94.2406 131.847,-84.1551 119.778,-74.7159\"/>\r\n",
       "<polygon fill=\"black\" stroke=\"black\" points=\"121.608,-71.7035 111.575,-68.2996 117.295,-77.2173 121.608,-71.7035\"/>\r\n",
       "</g>\r\n",
       "<!-- 3 -->\r\n",
       "<g id=\"node4\" class=\"node\"><title>3</title>\r\n",
       "<path fill=\"#e89050\" stroke=\"black\" d=\"M282,-68C282,-68 168,-68 168,-68 162,-68 156,-62 156,-56 156,-56 156,-12 156,-12 156,-6 162,-0 168,-0 168,-0 282,-0 282,-0 288,-0 294,-6 294,-12 294,-12 294,-56 294,-56 294,-62 288,-68 282,-68\"/>\r\n",
       "<text text-anchor=\"start\" x=\"191.5\" y=\"-52.8\" font-family=\"Helvetica,sans-Serif\" font-size=\"14.00\">gini = 0.19</text>\r\n",
       "<text text-anchor=\"start\" x=\"173.5\" y=\"-37.8\" font-family=\"Helvetica,sans-Serif\" font-size=\"14.00\">samples = 3905</text>\r\n",
       "<text text-anchor=\"start\" x=\"164\" y=\"-22.8\" font-family=\"Helvetica,sans-Serif\" font-size=\"14.00\">value = [3491, 414]</text>\r\n",
       "<text text-anchor=\"start\" x=\"196\" y=\"-7.8\" font-family=\"Helvetica,sans-Serif\" font-size=\"14.00\">class = 0</text>\r\n",
       "</g>\r\n",
       "<!-- 1&#45;&gt;3 -->\r\n",
       "<g id=\"edge3\" class=\"edge\"><title>1&#45;&gt;3</title>\r\n",
       "<path fill=\"none\" stroke=\"black\" d=\"M214.958,-103.726C216.171,-95.4263 217.45,-86.6671 218.675,-78.2834\"/>\r\n",
       "<polygon fill=\"black\" stroke=\"black\" points=\"222.152,-78.7006 220.134,-68.2996 215.225,-77.6885 222.152,-78.7006\"/>\r\n",
       "</g>\r\n",
       "<!-- 5 -->\r\n",
       "<g id=\"node6\" class=\"node\"><title>5</title>\r\n",
       "<path fill=\"#eda672\" stroke=\"black\" d=\"M452,-68C452,-68 354,-68 354,-68 348,-68 342,-62 342,-56 342,-56 342,-12 342,-12 342,-6 348,-0 354,-0 354,-0 452,-0 452,-0 458,-0 464,-6 464,-12 464,-12 464,-56 464,-56 464,-62 458,-68 452,-68\"/>\r\n",
       "<text text-anchor=\"start\" x=\"365.5\" y=\"-52.8\" font-family=\"Helvetica,sans-Serif\" font-size=\"14.00\">gini = 0.349</text>\r\n",
       "<text text-anchor=\"start\" x=\"355.5\" y=\"-37.8\" font-family=\"Helvetica,sans-Serif\" font-size=\"14.00\">samples = 209</text>\r\n",
       "<text text-anchor=\"start\" x=\"350\" y=\"-22.8\" font-family=\"Helvetica,sans-Serif\" font-size=\"14.00\">value = [162, 47]</text>\r\n",
       "<text text-anchor=\"start\" x=\"374\" y=\"-7.8\" font-family=\"Helvetica,sans-Serif\" font-size=\"14.00\">class = 0</text>\r\n",
       "</g>\r\n",
       "<!-- 4&#45;&gt;5 -->\r\n",
       "<g id=\"edge5\" class=\"edge\"><title>4&#45;&gt;5</title>\r\n",
       "<path fill=\"none\" stroke=\"black\" d=\"M412.415,-103.726C411.278,-95.4263 410.078,-86.6671 408.929,-78.2834\"/>\r\n",
       "<polygon fill=\"black\" stroke=\"black\" points=\"412.386,-77.732 407.562,-68.2996 405.451,-78.6821 412.386,-77.732\"/>\r\n",
       "</g>\r\n",
       "<!-- 6 -->\r\n",
       "<g id=\"node7\" class=\"node\"><title>6</title>\r\n",
       "<path fill=\"#e99355\" stroke=\"black\" d=\"M592,-68C592,-68 494,-68 494,-68 488,-68 482,-62 482,-56 482,-56 482,-12 482,-12 482,-6 488,-0 494,-0 494,-0 592,-0 592,-0 598,-0 604,-6 604,-12 604,-12 604,-56 604,-56 604,-62 598,-68 592,-68\"/>\r\n",
       "<text text-anchor=\"start\" x=\"505.5\" y=\"-52.8\" font-family=\"Helvetica,sans-Serif\" font-size=\"14.00\">gini = 0.217</text>\r\n",
       "<text text-anchor=\"start\" x=\"495.5\" y=\"-37.8\" font-family=\"Helvetica,sans-Serif\" font-size=\"14.00\">samples = 299</text>\r\n",
       "<text text-anchor=\"start\" x=\"490\" y=\"-22.8\" font-family=\"Helvetica,sans-Serif\" font-size=\"14.00\">value = [262, 37]</text>\r\n",
       "<text text-anchor=\"start\" x=\"514\" y=\"-7.8\" font-family=\"Helvetica,sans-Serif\" font-size=\"14.00\">class = 0</text>\r\n",
       "</g>\r\n",
       "<!-- 4&#45;&gt;6 -->\r\n",
       "<g id=\"edge6\" class=\"edge\"><title>4&#45;&gt;6</title>\r\n",
       "<path fill=\"none\" stroke=\"black\" d=\"M464.545,-103.726C475.27,-94.3318 486.666,-84.349 497.351,-74.9883\"/>\r\n",
       "<polygon fill=\"black\" stroke=\"black\" points=\"499.771,-77.5217 504.987,-68.2996 495.158,-72.2562 499.771,-77.5217\"/>\r\n",
       "</g>\r\n",
       "</g>\r\n",
       "</svg>\r\n"
      ],
      "text/plain": [
       "<graphviz.files.Source at 0x2a9c11b12b0>"
      ]
     },
     "execution_count": 541,
     "metadata": {},
     "output_type": "execute_result"
    },
    {
     "data": {
      "text/plain": [
       "<Figure size 1440x1080 with 0 Axes>"
      ]
     },
     "metadata": {},
     "output_type": "display_data"
    }
   ],
   "source": [
    "from sklearn import tree\n",
    "import graphviz\n",
    "fig = plt.figure(figsize=(20,15))\n",
    "\n",
    "class_names = ['0', '1']\n",
    "feature_names = X.columns\n",
    "\n",
    "dot_data = tree.export_graphviz(model, \n",
    "                  feature_names=feature_names, \n",
    "                  class_names=class_names,  \n",
    "                  filled=True, rounded=True,  \n",
    "                  special_characters=True,\n",
    "                  out_file=None)\n",
    "                           \n",
    "graph = graphviz.Source(dot_data)\n",
    "graph"
   ]
  },
  {
   "cell_type": "code",
   "execution_count": 542,
   "id": "90c3b0f0",
   "metadata": {},
   "outputs": [
    {
     "data": {
      "text/plain": [
       "'decision_tree1_graphviz.png'"
      ]
     },
     "execution_count": 542,
     "metadata": {},
     "output_type": "execute_result"
    }
   ],
   "source": [
    "graph.render(\"decision_tree1_graphviz\")\n",
    "'decision_tree1_graphviz.png'"
   ]
  },
  {
   "cell_type": "code",
   "execution_count": 543,
   "id": "2e1a4b80",
   "metadata": {},
   "outputs": [
    {
     "data": {
      "text/html": [
       "<div>\n",
       "<style scoped>\n",
       "    .dataframe tbody tr th:only-of-type {\n",
       "        vertical-align: middle;\n",
       "    }\n",
       "\n",
       "    .dataframe tbody tr th {\n",
       "        vertical-align: top;\n",
       "    }\n",
       "\n",
       "    .dataframe thead th {\n",
       "        text-align: right;\n",
       "    }\n",
       "</style>\n",
       "<table border=\"1\" class=\"dataframe\">\n",
       "  <thead>\n",
       "    <tr style=\"text-align: right;\">\n",
       "      <th></th>\n",
       "      <th>Feature_Importance</th>\n",
       "    </tr>\n",
       "  </thead>\n",
       "  <tbody>\n",
       "    <tr>\n",
       "      <th>Annual_Revenue</th>\n",
       "      <td>0.461877</td>\n",
       "    </tr>\n",
       "    <tr>\n",
       "      <th>Requested_Amount</th>\n",
       "      <td>0.317940</td>\n",
       "    </tr>\n",
       "    <tr>\n",
       "      <th>Ad_Outlet_Source</th>\n",
       "      <td>0.220183</td>\n",
       "    </tr>\n",
       "    <tr>\n",
       "      <th>Amount to Borrow</th>\n",
       "      <td>0.000000</td>\n",
       "    </tr>\n",
       "    <tr>\n",
       "      <th>Gross_Annual_Sales</th>\n",
       "      <td>0.000000</td>\n",
       "    </tr>\n",
       "  </tbody>\n",
       "</table>\n",
       "</div>"
      ],
      "text/plain": [
       "                    Feature_Importance\n",
       "Annual_Revenue                0.461877\n",
       "Requested_Amount              0.317940\n",
       "Ad_Outlet_Source              0.220183\n",
       "Amount to Borrow              0.000000\n",
       "Gross_Annual_Sales            0.000000"
      ]
     },
     "execution_count": 543,
     "metadata": {},
     "output_type": "execute_result"
    }
   ],
   "source": [
    "## Calculating feature_importance = \n",
    "model.tree_.compute_feature_importances(normalize=False)\n",
    "feat_imp_dict = dict(zip(feature_names, model.feature_importances_))\n",
    "feat_imp = pd.DataFrame.from_dict(feat_imp_dict, orient='index')\n",
    "feat_imp.rename(columns = {0:'Feature_Importance'}, inplace = True)\n",
    "feat_imp.sort_values(by=['Feature_Importance'], ascending=False).head()"
   ]
  },
  {
   "cell_type": "code",
   "execution_count": 133,
   "id": "f1d9a116",
   "metadata": {},
   "outputs": [
    {
     "name": "stdout",
     "output_type": "stream",
     "text": [
      "In-sample Accuracy: 91.17971334068358\n",
      "Out-of-sample Accuracy: 90.41146216017634\n"
     ]
    }
   ],
   "source": [
    "from sklearn.ensemble import RandomForestClassifier\n",
    "model = RandomForestClassifier(n_estimators=100, random_state=0)\n",
    "\n",
    "model.fit(X_train, y_train)\n",
    "\n",
    "y_train_hat = model.predict(X_train)\n",
    "y_pred = model.predict(X_test)\n",
    "\n",
    "in_sample_acc = accuracy_score(y_train,y_train_hat, normalize=True) * 100\n",
    "\n",
    "out_of_sample_acc = accuracy_score(y_test,y_pred, normalize=True) * 100\n",
    "print(\"In-sample Accuracy:\", in_sample_acc)\n",
    "print(\"Out-of-sample Accuracy:\", out_of_sample_acc)"
   ]
  },
  {
   "cell_type": "code",
   "execution_count": 257,
   "id": "d2853d36",
   "metadata": {},
   "outputs": [],
   "source": [
    "from sklearn.preprocessing import MinMaxScaler\n",
    "scaling = MinMaxScaler(feature_range=(0,1)).fit(X_train)\n",
    "X_train = scaling.transform(X_train)\n",
    "X_test = scaling.transform(X_test)"
   ]
  },
  {
   "cell_type": "code",
   "execution_count": 258,
   "id": "b46be2f1",
   "metadata": {},
   "outputs": [],
   "source": [
    "from sklearn import svm\n",
    "\n",
    "clf = svm.SVC(kernel='linear')\n",
    "clf.fit(X_train, y_train)\n",
    "y_pred = clf.predict(X_test)"
   ]
  },
  {
   "cell_type": "code",
   "execution_count": 259,
   "id": "6479f1f0",
   "metadata": {},
   "outputs": [
    {
     "name": "stdout",
     "output_type": "stream",
     "text": [
      "Accuracy: 0.9897134459955915\n"
     ]
    }
   ],
   "source": [
    "from sklearn import metrics\n",
    "\n",
    "print(\"Accuracy:\",metrics.accuracy_score(y_test, y_pred))"
   ]
  },
  {
   "cell_type": "code",
   "execution_count": 40,
   "id": "b2e6f974",
   "metadata": {},
   "outputs": [],
   "source": [
    "#len(CreditRisk_merge['contract_number'].unique())"
   ]
  }
 ],
 "metadata": {
  "kernelspec": {
   "display_name": "Python 3",
   "language": "python",
   "name": "python3"
  },
  "language_info": {
   "codemirror_mode": {
    "name": "ipython",
    "version": 3
   },
   "file_extension": ".py",
   "mimetype": "text/x-python",
   "name": "python",
   "nbconvert_exporter": "python",
   "pygments_lexer": "ipython3",
   "version": "3.8.8"
  }
 },
 "nbformat": 4,
 "nbformat_minor": 5
}
