{
 "cells": [
  {
   "cell_type": "code",
   "execution_count": 271,
   "id": "4ad9a5b9",
   "metadata": {},
   "outputs": [],
   "source": [
    "import pandas as pd\n",
    "import matplotlib.pyplot as plt\n",
    "import matplotlib\n",
    "import numpy as np\n",
    "import seaborn as sns\n",
    "import warnings\n",
    "from matplotlib.pyplot import xticks\n",
    "%matplotlib inline\n",
    "warnings.filterwarnings('ignore')"
   ]
  },
  {
   "cell_type": "code",
   "execution_count": 272,
   "id": "a94fb3ee",
   "metadata": {},
   "outputs": [],
   "source": [
    "#pip install xgboost"
   ]
  },
  {
   "cell_type": "code",
   "execution_count": 273,
   "id": "880882aa",
   "metadata": {
    "scrolled": true
   },
   "outputs": [],
   "source": [
    "#from numpy import loadtxt\n",
    "#from xgboost import XGBClassifier\n",
    "#from sklearn.model_selection import train_test_split\n",
    "#from sklearn.metrics import accuracy_score"
   ]
  },
  {
   "cell_type": "code",
   "execution_count": 274,
   "id": "4359b61b",
   "metadata": {},
   "outputs": [],
   "source": [
    "#CreditRisk_df.columns=CreditRisk_df.columns.str.strip()"
   ]
  },
  {
   "cell_type": "code",
   "execution_count": 275,
   "id": "55e7b44c",
   "metadata": {},
   "outputs": [
    {
     "data": {
      "text/html": [
       "<div>\n",
       "<style scoped>\n",
       "    .dataframe tbody tr th:only-of-type {\n",
       "        vertical-align: middle;\n",
       "    }\n",
       "\n",
       "    .dataframe tbody tr th {\n",
       "        vertical-align: top;\n",
       "    }\n",
       "\n",
       "    .dataframe thead th {\n",
       "        text-align: right;\n",
       "    }\n",
       "</style>\n",
       "<table border=\"1\" class=\"dataframe\">\n",
       "  <thead>\n",
       "    <tr style=\"text-align: right;\">\n",
       "      <th></th>\n",
       "      <th>City</th>\n",
       "      <th>Company</th>\n",
       "      <th>Email</th>\n",
       "      <th>FirstName</th>\n",
       "      <th>Is_Submitted</th>\n",
       "      <th>LastName</th>\n",
       "      <th>LS Amount to Borrow</th>\n",
       "      <th>LS GAS</th>\n",
       "      <th>LS Self Graded Credit</th>\n",
       "      <th>Phone</th>\n",
       "      <th>...</th>\n",
       "      <th>Mean employee age</th>\n",
       "      <th>DUNS</th>\n",
       "      <th>NAICS</th>\n",
       "      <th>NAICS sector code</th>\n",
       "      <th>Number of employees range</th>\n",
       "      <th>Company credit score</th>\n",
       "      <th>Number of socials</th>\n",
       "      <th>Region count</th>\n",
       "      <th>Confidence Score</th>\n",
       "      <th>LS State</th>\n",
       "    </tr>\n",
       "  </thead>\n",
       "  <tbody>\n",
       "    <tr>\n",
       "      <th>0</th>\n",
       "      <td>McKinney</td>\n",
       "      <td>Namaste Cafe</td>\n",
       "      <td>00mojosdad@gmail.com</td>\n",
       "      <td>Lee</td>\n",
       "      <td>0</td>\n",
       "      <td>Rone</td>\n",
       "      <td>150000</td>\n",
       "      <td>240000</td>\n",
       "      <td>3</td>\n",
       "      <td>4693217785</td>\n",
       "      <td>...</td>\n",
       "      <td>NaN</td>\n",
       "      <td>NaN</td>\n",
       "      <td>NaN</td>\n",
       "      <td>NaN</td>\n",
       "      <td>NaN</td>\n",
       "      <td>NaN</td>\n",
       "      <td>NaN</td>\n",
       "      <td>NaN</td>\n",
       "      <td>NaN</td>\n",
       "      <td>40</td>\n",
       "    </tr>\n",
       "    <tr>\n",
       "      <th>1</th>\n",
       "      <td>Gilbert</td>\n",
       "      <td>Beauty To You</td>\n",
       "      <td>0326studio@gmail.com</td>\n",
       "      <td>Pedro</td>\n",
       "      <td>0</td>\n",
       "      <td>Falcon</td>\n",
       "      <td>15000</td>\n",
       "      <td>150000</td>\n",
       "      <td>2</td>\n",
       "      <td>4803833027</td>\n",
       "      <td>...</td>\n",
       "      <td>NaN</td>\n",
       "      <td>NaN</td>\n",
       "      <td>NaN</td>\n",
       "      <td>NaN</td>\n",
       "      <td>NaN</td>\n",
       "      <td>NaN</td>\n",
       "      <td>NaN</td>\n",
       "      <td>NaN</td>\n",
       "      <td>NaN</td>\n",
       "      <td>3</td>\n",
       "    </tr>\n",
       "    <tr>\n",
       "      <th>2</th>\n",
       "      <td>NaN</td>\n",
       "      <td>Covert Ops Security M&amp;B</td>\n",
       "      <td>06waking_label@icloud.com</td>\n",
       "      <td>Marcus</td>\n",
       "      <td>0</td>\n",
       "      <td>Hardy</td>\n",
       "      <td>37500</td>\n",
       "      <td>60000</td>\n",
       "      <td>1000</td>\n",
       "      <td>410 4439828</td>\n",
       "      <td>...</td>\n",
       "      <td>NaN</td>\n",
       "      <td>653656262.0</td>\n",
       "      <td>523120.0</td>\n",
       "      <td>52.0</td>\n",
       "      <td>51-200</td>\n",
       "      <td>NaN</td>\n",
       "      <td>NaN</td>\n",
       "      <td>NaN</td>\n",
       "      <td>99.0</td>\n",
       "      <td>47</td>\n",
       "    </tr>\n",
       "    <tr>\n",
       "      <th>3</th>\n",
       "      <td>NaN</td>\n",
       "      <td>On the go towing</td>\n",
       "      <td>09grandpa@gmail.com</td>\n",
       "      <td>Luallen</td>\n",
       "      <td>0</td>\n",
       "      <td>Weaver</td>\n",
       "      <td>37500</td>\n",
       "      <td>60000</td>\n",
       "      <td>1010</td>\n",
       "      <td>229 3495406</td>\n",
       "      <td>...</td>\n",
       "      <td>NaN</td>\n",
       "      <td>NaN</td>\n",
       "      <td>NaN</td>\n",
       "      <td>NaN</td>\n",
       "      <td>NaN</td>\n",
       "      <td>NaN</td>\n",
       "      <td>NaN</td>\n",
       "      <td>NaN</td>\n",
       "      <td>NaN</td>\n",
       "      <td>47</td>\n",
       "    </tr>\n",
       "    <tr>\n",
       "      <th>4</th>\n",
       "      <td>NaN</td>\n",
       "      <td>Perfectly square remodeling</td>\n",
       "      <td>09jespinoza2@gmail.com</td>\n",
       "      <td>Jonathan</td>\n",
       "      <td>0</td>\n",
       "      <td>Espinoza</td>\n",
       "      <td>7500</td>\n",
       "      <td>150000</td>\n",
       "      <td>1000</td>\n",
       "      <td>678 9149946</td>\n",
       "      <td>...</td>\n",
       "      <td>NaN</td>\n",
       "      <td>130691534.0</td>\n",
       "      <td>541511.0</td>\n",
       "      <td>54.0</td>\n",
       "      <td>44571</td>\n",
       "      <td>48.0</td>\n",
       "      <td>NaN</td>\n",
       "      <td>NaN</td>\n",
       "      <td>100.0</td>\n",
       "      <td>47</td>\n",
       "    </tr>\n",
       "    <tr>\n",
       "      <th>...</th>\n",
       "      <td>...</td>\n",
       "      <td>...</td>\n",
       "      <td>...</td>\n",
       "      <td>...</td>\n",
       "      <td>...</td>\n",
       "      <td>...</td>\n",
       "      <td>...</td>\n",
       "      <td>...</td>\n",
       "      <td>...</td>\n",
       "      <td>...</td>\n",
       "      <td>...</td>\n",
       "      <td>...</td>\n",
       "      <td>...</td>\n",
       "      <td>...</td>\n",
       "      <td>...</td>\n",
       "      <td>...</td>\n",
       "      <td>...</td>\n",
       "      <td>...</td>\n",
       "      <td>...</td>\n",
       "      <td>...</td>\n",
       "      <td>...</td>\n",
       "    </tr>\n",
       "    <tr>\n",
       "      <th>16601</th>\n",
       "      <td>NaN</td>\n",
       "      <td>ZuMonroe's Custom Creations LLC</td>\n",
       "      <td>zumonroes@gmail.com</td>\n",
       "      <td>Shamica</td>\n",
       "      <td>0</td>\n",
       "      <td>Dickerson</td>\n",
       "      <td>7500</td>\n",
       "      <td>60000</td>\n",
       "      <td>1267</td>\n",
       "      <td>336 3358387</td>\n",
       "      <td>...</td>\n",
       "      <td>NaN</td>\n",
       "      <td>118014423.0</td>\n",
       "      <td>448120.0</td>\n",
       "      <td>44.0</td>\n",
       "      <td>44571</td>\n",
       "      <td>NaN</td>\n",
       "      <td>NaN</td>\n",
       "      <td>NaN</td>\n",
       "      <td>100.0</td>\n",
       "      <td>47</td>\n",
       "    </tr>\n",
       "    <tr>\n",
       "      <th>16602</th>\n",
       "      <td>NaN</td>\n",
       "      <td>Mazur LLC</td>\n",
       "      <td>zurawskim74@gmail.com</td>\n",
       "      <td>Mariusz</td>\n",
       "      <td>1</td>\n",
       "      <td>Zurawski</td>\n",
       "      <td>37500</td>\n",
       "      <td>750000</td>\n",
       "      <td>5051</td>\n",
       "      <td>480 4760784</td>\n",
       "      <td>...</td>\n",
       "      <td>NaN</td>\n",
       "      <td>117471218.0</td>\n",
       "      <td>561499.0</td>\n",
       "      <td>56.0</td>\n",
       "      <td>44571</td>\n",
       "      <td>NaN</td>\n",
       "      <td>NaN</td>\n",
       "      <td>NaN</td>\n",
       "      <td>100.0</td>\n",
       "      <td>47</td>\n",
       "    </tr>\n",
       "    <tr>\n",
       "      <th>16603</th>\n",
       "      <td>NaN</td>\n",
       "      <td>Zuritech Billing Solutions</td>\n",
       "      <td>zuritechsolutions@gmail.com</td>\n",
       "      <td>Michelle</td>\n",
       "      <td>0</td>\n",
       "      <td>Dodd</td>\n",
       "      <td>7500</td>\n",
       "      <td>60000</td>\n",
       "      <td>1267</td>\n",
       "      <td>405 9817133</td>\n",
       "      <td>...</td>\n",
       "      <td>NaN</td>\n",
       "      <td>15735646.0</td>\n",
       "      <td>999990.0</td>\n",
       "      <td>99.0</td>\n",
       "      <td>44571</td>\n",
       "      <td>NaN</td>\n",
       "      <td>NaN</td>\n",
       "      <td>NaN</td>\n",
       "      <td>100.0</td>\n",
       "      <td>47</td>\n",
       "    </tr>\n",
       "    <tr>\n",
       "      <th>16604</th>\n",
       "      <td>NaN</td>\n",
       "      <td>Zane Myers Agency LLC</td>\n",
       "      <td>zwmyers5@gmail.com</td>\n",
       "      <td>Zane</td>\n",
       "      <td>0</td>\n",
       "      <td>Myers</td>\n",
       "      <td>25000</td>\n",
       "      <td>300000</td>\n",
       "      <td>1280</td>\n",
       "      <td>660 7488765</td>\n",
       "      <td>...</td>\n",
       "      <td>NaN</td>\n",
       "      <td>31000176.0</td>\n",
       "      <td>999990.0</td>\n",
       "      <td>99.0</td>\n",
       "      <td>44571</td>\n",
       "      <td>NaN</td>\n",
       "      <td>NaN</td>\n",
       "      <td>NaN</td>\n",
       "      <td>100.0</td>\n",
       "      <td>47</td>\n",
       "    </tr>\n",
       "    <tr>\n",
       "      <th>16605</th>\n",
       "      <td>El Campo</td>\n",
       "      <td>ZZ Trucking LLC</td>\n",
       "      <td>zztrucking@hotmail.com</td>\n",
       "      <td>gregory</td>\n",
       "      <td>0</td>\n",
       "      <td>yackel</td>\n",
       "      <td>25000</td>\n",
       "      <td>360000</td>\n",
       "      <td>3</td>\n",
       "      <td>9793322289</td>\n",
       "      <td>...</td>\n",
       "      <td>NaN</td>\n",
       "      <td>NaN</td>\n",
       "      <td>NaN</td>\n",
       "      <td>NaN</td>\n",
       "      <td>NaN</td>\n",
       "      <td>NaN</td>\n",
       "      <td>NaN</td>\n",
       "      <td>NaN</td>\n",
       "      <td>NaN</td>\n",
       "      <td>40</td>\n",
       "    </tr>\n",
       "  </tbody>\n",
       "</table>\n",
       "<p>16606 rows × 61 columns</p>\n",
       "</div>"
      ],
      "text/plain": [
       "           City                          Company                        Email  \\\n",
       "0      McKinney                     Namaste Cafe         00mojosdad@gmail.com   \n",
       "1       Gilbert                    Beauty To You         0326studio@gmail.com   \n",
       "2           NaN          Covert Ops Security M&B    06waking_label@icloud.com   \n",
       "3           NaN                 On the go towing          09grandpa@gmail.com   \n",
       "4           NaN      Perfectly square remodeling       09jespinoza2@gmail.com   \n",
       "...         ...                              ...                          ...   \n",
       "16601       NaN  ZuMonroe's Custom Creations LLC          zumonroes@gmail.com   \n",
       "16602       NaN                        Mazur LLC        zurawskim74@gmail.com   \n",
       "16603       NaN       Zuritech Billing Solutions  zuritechsolutions@gmail.com   \n",
       "16604       NaN            Zane Myers Agency LLC           zwmyers5@gmail.com   \n",
       "16605  El Campo                  ZZ Trucking LLC       zztrucking@hotmail.com   \n",
       "\n",
       "      FirstName  Is_Submitted   LastName  LS Amount to Borrow  LS GAS  \\\n",
       "0           Lee             0       Rone               150000  240000   \n",
       "1         Pedro             0     Falcon                15000  150000   \n",
       "2        Marcus             0      Hardy                37500   60000   \n",
       "3       Luallen             0     Weaver                37500   60000   \n",
       "4      Jonathan             0   Espinoza                 7500  150000   \n",
       "...         ...           ...        ...                  ...     ...   \n",
       "16601   Shamica             0  Dickerson                 7500   60000   \n",
       "16602   Mariusz             1   Zurawski                37500  750000   \n",
       "16603  Michelle             0       Dodd                 7500   60000   \n",
       "16604      Zane             0      Myers                25000  300000   \n",
       "16605   gregory             0     yackel                25000  360000   \n",
       "\n",
       "       LS Self Graded Credit        Phone  ...  Mean employee age  \\\n",
       "0                          3   4693217785  ...                NaN   \n",
       "1                          2   4803833027  ...                NaN   \n",
       "2                       1000  410 4439828  ...                NaN   \n",
       "3                       1010  229 3495406  ...                NaN   \n",
       "4                       1000  678 9149946  ...                NaN   \n",
       "...                      ...          ...  ...                ...   \n",
       "16601                   1267  336 3358387  ...                NaN   \n",
       "16602                   5051  480 4760784  ...                NaN   \n",
       "16603                   1267  405 9817133  ...                NaN   \n",
       "16604                   1280  660 7488765  ...                NaN   \n",
       "16605                      3   9793322289  ...                NaN   \n",
       "\n",
       "              DUNS     NAICS NAICS sector code  Number of employees range  \\\n",
       "0              NaN       NaN               NaN                        NaN   \n",
       "1              NaN       NaN               NaN                        NaN   \n",
       "2      653656262.0  523120.0              52.0                     51-200   \n",
       "3              NaN       NaN               NaN                        NaN   \n",
       "4      130691534.0  541511.0              54.0                      44571   \n",
       "...            ...       ...               ...                        ...   \n",
       "16601  118014423.0  448120.0              44.0                      44571   \n",
       "16602  117471218.0  561499.0              56.0                      44571   \n",
       "16603   15735646.0  999990.0              99.0                      44571   \n",
       "16604   31000176.0  999990.0              99.0                      44571   \n",
       "16605          NaN       NaN               NaN                        NaN   \n",
       "\n",
       "      Company credit score  Number of socials Region count Confidence Score  \\\n",
       "0                      NaN                NaN          NaN              NaN   \n",
       "1                      NaN                NaN          NaN              NaN   \n",
       "2                      NaN                NaN          NaN             99.0   \n",
       "3                      NaN                NaN          NaN              NaN   \n",
       "4                     48.0                NaN          NaN            100.0   \n",
       "...                    ...                ...          ...              ...   \n",
       "16601                  NaN                NaN          NaN            100.0   \n",
       "16602                  NaN                NaN          NaN            100.0   \n",
       "16603                  NaN                NaN          NaN            100.0   \n",
       "16604                  NaN                NaN          NaN            100.0   \n",
       "16605                  NaN                NaN          NaN              NaN   \n",
       "\n",
       "       LS State  \n",
       "0            40  \n",
       "1             3  \n",
       "2            47  \n",
       "3            47  \n",
       "4            47  \n",
       "...         ...  \n",
       "16601        47  \n",
       "16602        47  \n",
       "16603        47  \n",
       "16604        47  \n",
       "16605        40  \n",
       "\n",
       "[16606 rows x 61 columns]"
      ]
     },
     "execution_count": 275,
     "metadata": {},
     "output_type": "execute_result"
    }
   ],
   "source": [
    "LeadScore_df = pd.read_csv(\"Lead-analysis\\Lead Batch Enrich 6-2.csv\", encoding='latin-1', parse_dates=['Domain expiry date','Domain creation date'])\n",
    "LeadScore_df"
   ]
  },
  {
   "cell_type": "code",
   "execution_count": 276,
   "id": "e9337b78",
   "metadata": {},
   "outputs": [
    {
     "name": "stdout",
     "output_type": "stream",
     "text": [
      "<class 'pandas.core.frame.DataFrame'>\n",
      "RangeIndex: 16606 entries, 0 to 16605\n",
      "Data columns (total 61 columns):\n",
      " #   Column                                               Non-Null Count  Dtype              \n",
      "---  ------                                               --------------  -----              \n",
      " 0   City                                                 9393 non-null   object             \n",
      " 1   Company                                              16606 non-null  object             \n",
      " 2   Email                                                16606 non-null  object             \n",
      " 3   FirstName                                            16606 non-null  object             \n",
      " 4   Is_Submitted                                         16606 non-null  int64              \n",
      " 5   LastName                                             16606 non-null  object             \n",
      " 6   LS Amount to Borrow                                  16606 non-null  int64              \n",
      " 7   LS GAS                                               16606 non-null  int64              \n",
      " 8   LS Self Graded Credit                                16606 non-null  int64              \n",
      " 9   Phone                                                16599 non-null  object             \n",
      " 10  PostalCode                                           10998 non-null  float64            \n",
      " 11  State                                                9388 non-null   object             \n",
      " 12  Street                                               6038 non-null   object             \n",
      " 13  SubmitterIP__c                                       6847 non-null   object             \n",
      " 14  Web_Ad_Outlet__c                                     16606 non-null  int64              \n",
      " 15  Web_Ad_Outlet_Source__c                              16606 non-null  object             \n",
      " 16  Website                                              0 non-null      float64            \n",
      " 17  Full Name                                            16606 non-null  object             \n",
      " 18  Home_Street_Address                                  6038 non-null   object             \n",
      " 19  Longitude                                            5980 non-null   float64            \n",
      " 20  Latitude                                             5980 non-null   float64            \n",
      " 21  Results From Wikipedia                               15979 non-null  object             \n",
      " 22  Company Website                                      7048 non-null   object             \n",
      " 23  Has Customer Service                                 14649 non-null  object             \n",
      " 24  Results From Wikipedia_1                             14649 non-null  object             \n",
      " 25  Map Exists                                           14649 non-null  object             \n",
      " 26  Results Snippets                                     14649 non-null  object             \n",
      " 27  Unclaimed Listing                                    4173 non-null   object             \n",
      " 28  Permanently Closed                                   14649 non-null  object             \n",
      " 29  Rating                                               3474 non-null   float64            \n",
      " 30  Number of Reviews                                    3507 non-null   float64            \n",
      " 31  Number of Results                                    14640 non-null  float64            \n",
      " 32  Company Website_1                                    7373 non-null   object             \n",
      " 33  Company type                                         5538 non-null   object             \n",
      " 34  Mean monthly mortgage and owner costs                9600 non-null   float64            \n",
      " 35  Rent mean                                            9600 non-null   float64            \n",
      " 36  Average number of reviews                            3005 non-null   float64            \n",
      " 37  Total number of businesses                           3006 non-null   float64            \n",
      " 38  Money spend on website technologies                  6344 non-null   float64            \n",
      " 39  Is established                                       5231 non-null   object             \n",
      " 40  Number of technologies                               6344 non-null   float64            \n",
      " 41  Company vertical                                     4765 non-null   object             \n",
      " 42  Domain expiry date                                   6988 non-null   datetime64[ns, UTC]\n",
      " 43  Domain creation date                                 7000 non-null   datetime64[ns, UTC]\n",
      " 44  $100,000 to $149,999 - non-family households income  5978 non-null   float64            \n",
      " 45  Less than $20,000 - family households                5978 non-null   float64            \n",
      " 46  Average title length                                 535 non-null    float64            \n",
      " 47  Establishment year                                   9638 non-null   float64            \n",
      " 48  Average annual income per household                  10890 non-null  float64            \n",
      " 49  QoQ employees ages 20-30                             1766 non-null   float64            \n",
      " 50  Average years employees work at company              1766 non-null   float64            \n",
      " 51  Mean employee age                                    1067 non-null   float64            \n",
      " 52  DUNS                                                 8838 non-null   float64            \n",
      " 53  NAICS                                                11312 non-null  float64            \n",
      " 54  NAICS sector code                                    11312 non-null  float64            \n",
      " 55  Number of employees range                            11329 non-null  object             \n",
      " 56  Company credit score                                 3890 non-null   float64            \n",
      " 57  Number of socials                                    3595 non-null   float64            \n",
      " 58  Region count                                         3595 non-null   float64            \n",
      " 59  Confidence Score                                     10780 non-null  float64            \n",
      " 60  LS State                                             16606 non-null  int64              \n",
      "dtypes: datetime64[ns, UTC](2), float64(28), int64(6), object(25)\n",
      "memory usage: 7.7+ MB\n"
     ]
    }
   ],
   "source": [
    "LeadScore_df.info()"
   ]
  },
  {
   "cell_type": "code",
   "execution_count": 277,
   "id": "121c5a14",
   "metadata": {},
   "outputs": [
    {
     "data": {
      "text/plain": [
       "City                     7213\n",
       "Company                     0\n",
       "Email                       0\n",
       "FirstName                   0\n",
       "Is_Submitted                0\n",
       "                        ...  \n",
       "Company credit score    12716\n",
       "Number of socials       13011\n",
       "Region count            13011\n",
       "Confidence Score         5826\n",
       "LS State                    0\n",
       "Length: 61, dtype: int64"
      ]
     },
     "execution_count": 277,
     "metadata": {},
     "output_type": "execute_result"
    }
   ],
   "source": [
    "LeadScore_df.isnull().sum()"
   ]
  },
  {
   "cell_type": "code",
   "execution_count": 278,
   "id": "5079714a",
   "metadata": {},
   "outputs": [],
   "source": [
    "LeadScore_df.rename(columns=lambda x: x.replace(' ', '_'), inplace=True)"
   ]
  },
  {
   "cell_type": "code",
   "execution_count": 279,
   "id": "1689271f",
   "metadata": {
    "scrolled": true
   },
   "outputs": [
    {
     "data": {
      "text/plain": [
       "Index(['City', 'Company', 'Email', 'FirstName', 'Is_Submitted', 'LastName',\n",
       "       'LS_Amount_to_Borrow', 'LS_GAS', 'LS_Self_Graded_Credit', 'Phone',\n",
       "       'PostalCode', 'State', 'Street', 'SubmitterIP__c', 'Web_Ad_Outlet__c',\n",
       "       'Web_Ad_Outlet_Source__c', 'Website', 'Full_Name',\n",
       "       'Home_Street_Address', 'Longitude', 'Latitude',\n",
       "       'Results_From_Wikipedia', 'Company_Website', 'Has_Customer_Service',\n",
       "       'Results_From_Wikipedia_1', 'Map_Exists', 'Results_Snippets',\n",
       "       'Unclaimed_Listing', 'Permanently_Closed', 'Rating',\n",
       "       'Number_of_Reviews', 'Number_of_Results', 'Company_Website_1',\n",
       "       'Company_type', 'Mean_monthly_mortgage_and_owner_costs', 'Rent_mean',\n",
       "       'Average_number_of_reviews', 'Total_number_of_businesses',\n",
       "       'Money_spend_on_website_technologies', 'Is_established',\n",
       "       'Number_of_technologies', 'Company_vertical', 'Domain_expiry_date',\n",
       "       'Domain_creation_date',\n",
       "       '$100,000_to_$149,999_-_non-family_households_income',\n",
       "       'Less_than_$20,000_-_family_households', 'Average_title_length',\n",
       "       'Establishment_year', 'Average_annual_income_per_household',\n",
       "       'QoQ_employees_ages_20-30', 'Average_years_employees_work_at_company',\n",
       "       'Mean_employee_age', 'DUNS', 'NAICS', 'NAICS_sector_code',\n",
       "       'Number_of_employees_range', 'Company_credit_score',\n",
       "       'Number_of_socials', 'Region_count', 'Confidence_Score', 'LS_State'],\n",
       "      dtype='object')"
      ]
     },
     "execution_count": 279,
     "metadata": {},
     "output_type": "execute_result"
    }
   ],
   "source": [
    "LeadScore_df.columns"
   ]
  },
  {
   "cell_type": "code",
   "execution_count": 280,
   "id": "41f2e4e4",
   "metadata": {},
   "outputs": [],
   "source": [
    "LeadScore_df['Difference'] = (LeadScore_df['Domain_expiry_date']- LeadScore_df['Domain_creation_date']).dt.days"
   ]
  },
  {
   "cell_type": "code",
   "execution_count": 281,
   "id": "3f57a6b5",
   "metadata": {},
   "outputs": [
    {
     "data": {
      "text/plain": [
       "Is_Submitted\n",
       "0    1644.23\n",
       "1    1648.07\n",
       "Name: Mean_monthly_mortgage_and_owner_costs, dtype: float64"
      ]
     },
     "execution_count": 281,
     "metadata": {},
     "output_type": "execute_result"
    }
   ],
   "source": [
    "LeadScore_df.groupby('Is_Submitted').mean()['Mean_monthly_mortgage_and_owner_costs'].round(decimals=2)"
   ]
  },
  {
   "cell_type": "code",
   "execution_count": 282,
   "id": "e951dfe6",
   "metadata": {},
   "outputs": [
    {
     "data": {
      "text/plain": [
       "Is_Submitted\n",
       "0    15.26\n",
       "1    15.72\n",
       "Name: Total_number_of_businesses, dtype: float64"
      ]
     },
     "execution_count": 282,
     "metadata": {},
     "output_type": "execute_result"
    }
   ],
   "source": [
    "LeadScore_df.groupby('Is_Submitted').mean()['Total_number_of_businesses'].round(decimals=2)"
   ]
  },
  {
   "cell_type": "code",
   "execution_count": 283,
   "id": "341e107e",
   "metadata": {},
   "outputs": [
    {
     "data": {
      "text/html": [
       "<div>\n",
       "<style scoped>\n",
       "    .dataframe tbody tr th:only-of-type {\n",
       "        vertical-align: middle;\n",
       "    }\n",
       "\n",
       "    .dataframe tbody tr th {\n",
       "        vertical-align: top;\n",
       "    }\n",
       "\n",
       "    .dataframe thead th {\n",
       "        text-align: right;\n",
       "    }\n",
       "</style>\n",
       "<table border=\"1\" class=\"dataframe\">\n",
       "  <thead>\n",
       "    <tr style=\"text-align: right;\">\n",
       "      <th></th>\n",
       "      <th>City</th>\n",
       "      <th>Company</th>\n",
       "      <th>Email</th>\n",
       "      <th>FirstName</th>\n",
       "      <th>Is_Submitted</th>\n",
       "      <th>LastName</th>\n",
       "      <th>LS_Amount_to_Borrow</th>\n",
       "      <th>LS_GAS</th>\n",
       "      <th>LS_Self_Graded_Credit</th>\n",
       "      <th>Phone</th>\n",
       "      <th>...</th>\n",
       "      <th>DUNS</th>\n",
       "      <th>NAICS</th>\n",
       "      <th>NAICS_sector_code</th>\n",
       "      <th>Number_of_employees_range</th>\n",
       "      <th>Company_credit_score</th>\n",
       "      <th>Number_of_socials</th>\n",
       "      <th>Region_count</th>\n",
       "      <th>Confidence_Score</th>\n",
       "      <th>LS_State</th>\n",
       "      <th>Difference</th>\n",
       "    </tr>\n",
       "  </thead>\n",
       "  <tbody>\n",
       "    <tr>\n",
       "      <th>2</th>\n",
       "      <td>NaN</td>\n",
       "      <td>Covert Ops Security M&amp;B</td>\n",
       "      <td>06waking_label@icloud.com</td>\n",
       "      <td>Marcus</td>\n",
       "      <td>0</td>\n",
       "      <td>Hardy</td>\n",
       "      <td>37500</td>\n",
       "      <td>60000</td>\n",
       "      <td>1000</td>\n",
       "      <td>410 4439828</td>\n",
       "      <td>...</td>\n",
       "      <td>653656262.0</td>\n",
       "      <td>523120.0</td>\n",
       "      <td>52.0</td>\n",
       "      <td>51-200</td>\n",
       "      <td>NaN</td>\n",
       "      <td>NaN</td>\n",
       "      <td>NaN</td>\n",
       "      <td>99.0</td>\n",
       "      <td>47</td>\n",
       "      <td>NaN</td>\n",
       "    </tr>\n",
       "    <tr>\n",
       "      <th>3</th>\n",
       "      <td>NaN</td>\n",
       "      <td>On the go towing</td>\n",
       "      <td>09grandpa@gmail.com</td>\n",
       "      <td>Luallen</td>\n",
       "      <td>0</td>\n",
       "      <td>Weaver</td>\n",
       "      <td>37500</td>\n",
       "      <td>60000</td>\n",
       "      <td>1010</td>\n",
       "      <td>229 3495406</td>\n",
       "      <td>...</td>\n",
       "      <td>NaN</td>\n",
       "      <td>NaN</td>\n",
       "      <td>NaN</td>\n",
       "      <td>NaN</td>\n",
       "      <td>NaN</td>\n",
       "      <td>NaN</td>\n",
       "      <td>NaN</td>\n",
       "      <td>NaN</td>\n",
       "      <td>47</td>\n",
       "      <td>NaN</td>\n",
       "    </tr>\n",
       "    <tr>\n",
       "      <th>4</th>\n",
       "      <td>NaN</td>\n",
       "      <td>Perfectly square remodeling</td>\n",
       "      <td>09jespinoza2@gmail.com</td>\n",
       "      <td>Jonathan</td>\n",
       "      <td>0</td>\n",
       "      <td>Espinoza</td>\n",
       "      <td>7500</td>\n",
       "      <td>150000</td>\n",
       "      <td>1000</td>\n",
       "      <td>678 9149946</td>\n",
       "      <td>...</td>\n",
       "      <td>130691534.0</td>\n",
       "      <td>541511.0</td>\n",
       "      <td>54.0</td>\n",
       "      <td>44571</td>\n",
       "      <td>48.0</td>\n",
       "      <td>NaN</td>\n",
       "      <td>NaN</td>\n",
       "      <td>100.0</td>\n",
       "      <td>47</td>\n",
       "      <td>NaN</td>\n",
       "    </tr>\n",
       "    <tr>\n",
       "      <th>7</th>\n",
       "      <td>NORTH HOLLYWOOD</td>\n",
       "      <td>10 PLUS MANAGEMENT LLC</td>\n",
       "      <td>10plusmgmt@gmail.com</td>\n",
       "      <td>THARELL</td>\n",
       "      <td>0</td>\n",
       "      <td>GAMBOA</td>\n",
       "      <td>37500</td>\n",
       "      <td>60000</td>\n",
       "      <td>5051</td>\n",
       "      <td>213 8203208</td>\n",
       "      <td>...</td>\n",
       "      <td>NaN</td>\n",
       "      <td>NaN</td>\n",
       "      <td>NaN</td>\n",
       "      <td>NaN</td>\n",
       "      <td>NaN</td>\n",
       "      <td>NaN</td>\n",
       "      <td>NaN</td>\n",
       "      <td>NaN</td>\n",
       "      <td>4</td>\n",
       "      <td>NaN</td>\n",
       "    </tr>\n",
       "    <tr>\n",
       "      <th>9</th>\n",
       "      <td>NaN</td>\n",
       "      <td>120 Industries</td>\n",
       "      <td>120ind@gmail.com</td>\n",
       "      <td>Gerald</td>\n",
       "      <td>0</td>\n",
       "      <td>Duff</td>\n",
       "      <td>37500</td>\n",
       "      <td>350000</td>\n",
       "      <td>1011</td>\n",
       "      <td>661 8776262</td>\n",
       "      <td>...</td>\n",
       "      <td>NaN</td>\n",
       "      <td>NaN</td>\n",
       "      <td>NaN</td>\n",
       "      <td>1001-5000</td>\n",
       "      <td>100.0</td>\n",
       "      <td>NaN</td>\n",
       "      <td>NaN</td>\n",
       "      <td>99.0</td>\n",
       "      <td>47</td>\n",
       "      <td>NaN</td>\n",
       "    </tr>\n",
       "    <tr>\n",
       "      <th>...</th>\n",
       "      <td>...</td>\n",
       "      <td>...</td>\n",
       "      <td>...</td>\n",
       "      <td>...</td>\n",
       "      <td>...</td>\n",
       "      <td>...</td>\n",
       "      <td>...</td>\n",
       "      <td>...</td>\n",
       "      <td>...</td>\n",
       "      <td>...</td>\n",
       "      <td>...</td>\n",
       "      <td>...</td>\n",
       "      <td>...</td>\n",
       "      <td>...</td>\n",
       "      <td>...</td>\n",
       "      <td>...</td>\n",
       "      <td>...</td>\n",
       "      <td>...</td>\n",
       "      <td>...</td>\n",
       "      <td>...</td>\n",
       "      <td>...</td>\n",
       "    </tr>\n",
       "    <tr>\n",
       "      <th>16600</th>\n",
       "      <td>NaN</td>\n",
       "      <td>Zulay Green Stone LLC</td>\n",
       "      <td>zulayurb@live.com</td>\n",
       "      <td>Luis</td>\n",
       "      <td>0</td>\n",
       "      <td>GonzÃ¡lez</td>\n",
       "      <td>20000</td>\n",
       "      <td>540000</td>\n",
       "      <td>1280</td>\n",
       "      <td>305 9620250</td>\n",
       "      <td>...</td>\n",
       "      <td>86357192.0</td>\n",
       "      <td>541990.0</td>\n",
       "      <td>54.0</td>\n",
       "      <td>18568</td>\n",
       "      <td>NaN</td>\n",
       "      <td>NaN</td>\n",
       "      <td>NaN</td>\n",
       "      <td>99.0</td>\n",
       "      <td>47</td>\n",
       "      <td>NaN</td>\n",
       "    </tr>\n",
       "    <tr>\n",
       "      <th>16601</th>\n",
       "      <td>NaN</td>\n",
       "      <td>ZuMonroe's Custom Creations LLC</td>\n",
       "      <td>zumonroes@gmail.com</td>\n",
       "      <td>Shamica</td>\n",
       "      <td>0</td>\n",
       "      <td>Dickerson</td>\n",
       "      <td>7500</td>\n",
       "      <td>60000</td>\n",
       "      <td>1267</td>\n",
       "      <td>336 3358387</td>\n",
       "      <td>...</td>\n",
       "      <td>118014423.0</td>\n",
       "      <td>448120.0</td>\n",
       "      <td>44.0</td>\n",
       "      <td>44571</td>\n",
       "      <td>NaN</td>\n",
       "      <td>NaN</td>\n",
       "      <td>NaN</td>\n",
       "      <td>100.0</td>\n",
       "      <td>47</td>\n",
       "      <td>730.0</td>\n",
       "    </tr>\n",
       "    <tr>\n",
       "      <th>16602</th>\n",
       "      <td>NaN</td>\n",
       "      <td>Mazur LLC</td>\n",
       "      <td>zurawskim74@gmail.com</td>\n",
       "      <td>Mariusz</td>\n",
       "      <td>1</td>\n",
       "      <td>Zurawski</td>\n",
       "      <td>37500</td>\n",
       "      <td>750000</td>\n",
       "      <td>5051</td>\n",
       "      <td>480 4760784</td>\n",
       "      <td>...</td>\n",
       "      <td>117471218.0</td>\n",
       "      <td>561499.0</td>\n",
       "      <td>56.0</td>\n",
       "      <td>44571</td>\n",
       "      <td>NaN</td>\n",
       "      <td>NaN</td>\n",
       "      <td>NaN</td>\n",
       "      <td>100.0</td>\n",
       "      <td>47</td>\n",
       "      <td>NaN</td>\n",
       "    </tr>\n",
       "    <tr>\n",
       "      <th>16603</th>\n",
       "      <td>NaN</td>\n",
       "      <td>Zuritech Billing Solutions</td>\n",
       "      <td>zuritechsolutions@gmail.com</td>\n",
       "      <td>Michelle</td>\n",
       "      <td>0</td>\n",
       "      <td>Dodd</td>\n",
       "      <td>7500</td>\n",
       "      <td>60000</td>\n",
       "      <td>1267</td>\n",
       "      <td>405 9817133</td>\n",
       "      <td>...</td>\n",
       "      <td>15735646.0</td>\n",
       "      <td>999990.0</td>\n",
       "      <td>99.0</td>\n",
       "      <td>44571</td>\n",
       "      <td>NaN</td>\n",
       "      <td>NaN</td>\n",
       "      <td>NaN</td>\n",
       "      <td>100.0</td>\n",
       "      <td>47</td>\n",
       "      <td>365.0</td>\n",
       "    </tr>\n",
       "    <tr>\n",
       "      <th>16604</th>\n",
       "      <td>NaN</td>\n",
       "      <td>Zane Myers Agency LLC</td>\n",
       "      <td>zwmyers5@gmail.com</td>\n",
       "      <td>Zane</td>\n",
       "      <td>0</td>\n",
       "      <td>Myers</td>\n",
       "      <td>25000</td>\n",
       "      <td>300000</td>\n",
       "      <td>1280</td>\n",
       "      <td>660 7488765</td>\n",
       "      <td>...</td>\n",
       "      <td>31000176.0</td>\n",
       "      <td>999990.0</td>\n",
       "      <td>99.0</td>\n",
       "      <td>44571</td>\n",
       "      <td>NaN</td>\n",
       "      <td>NaN</td>\n",
       "      <td>NaN</td>\n",
       "      <td>100.0</td>\n",
       "      <td>47</td>\n",
       "      <td>4748.0</td>\n",
       "    </tr>\n",
       "  </tbody>\n",
       "</table>\n",
       "<p>10807 rows × 62 columns</p>\n",
       "</div>"
      ],
      "text/plain": [
       "                  City                          Company  \\\n",
       "2                  NaN          Covert Ops Security M&B   \n",
       "3                  NaN                 On the go towing   \n",
       "4                  NaN      Perfectly square remodeling   \n",
       "7      NORTH HOLLYWOOD           10 PLUS MANAGEMENT LLC   \n",
       "9                  NaN                   120 Industries   \n",
       "...                ...                              ...   \n",
       "16600              NaN            Zulay Green Stone LLC   \n",
       "16601              NaN  ZuMonroe's Custom Creations LLC   \n",
       "16602              NaN                        Mazur LLC   \n",
       "16603              NaN       Zuritech Billing Solutions   \n",
       "16604              NaN            Zane Myers Agency LLC   \n",
       "\n",
       "                             Email FirstName  Is_Submitted   LastName  \\\n",
       "2        06waking_label@icloud.com    Marcus             0      Hardy   \n",
       "3              09grandpa@gmail.com   Luallen             0     Weaver   \n",
       "4           09jespinoza2@gmail.com  Jonathan             0   Espinoza   \n",
       "7             10plusmgmt@gmail.com   THARELL             0     GAMBOA   \n",
       "9                 120ind@gmail.com    Gerald             0       Duff   \n",
       "...                            ...       ...           ...        ...   \n",
       "16600            zulayurb@live.com      Luis             0  GonzÃ¡lez   \n",
       "16601          zumonroes@gmail.com   Shamica             0  Dickerson   \n",
       "16602        zurawskim74@gmail.com   Mariusz             1   Zurawski   \n",
       "16603  zuritechsolutions@gmail.com  Michelle             0       Dodd   \n",
       "16604           zwmyers5@gmail.com      Zane             0      Myers   \n",
       "\n",
       "       LS_Amount_to_Borrow  LS_GAS  LS_Self_Graded_Credit        Phone  ...  \\\n",
       "2                    37500   60000                   1000  410 4439828  ...   \n",
       "3                    37500   60000                   1010  229 3495406  ...   \n",
       "4                     7500  150000                   1000  678 9149946  ...   \n",
       "7                    37500   60000                   5051  213 8203208  ...   \n",
       "9                    37500  350000                   1011  661 8776262  ...   \n",
       "...                    ...     ...                    ...          ...  ...   \n",
       "16600                20000  540000                   1280  305 9620250  ...   \n",
       "16601                 7500   60000                   1267  336 3358387  ...   \n",
       "16602                37500  750000                   5051  480 4760784  ...   \n",
       "16603                 7500   60000                   1267  405 9817133  ...   \n",
       "16604                25000  300000                   1280  660 7488765  ...   \n",
       "\n",
       "              DUNS     NAICS NAICS_sector_code Number_of_employees_range  \\\n",
       "2      653656262.0  523120.0              52.0                    51-200   \n",
       "3              NaN       NaN               NaN                       NaN   \n",
       "4      130691534.0  541511.0              54.0                     44571   \n",
       "7              NaN       NaN               NaN                       NaN   \n",
       "9              NaN       NaN               NaN                 1001-5000   \n",
       "...            ...       ...               ...                       ...   \n",
       "16600   86357192.0  541990.0              54.0                     18568   \n",
       "16601  118014423.0  448120.0              44.0                     44571   \n",
       "16602  117471218.0  561499.0              56.0                     44571   \n",
       "16603   15735646.0  999990.0              99.0                     44571   \n",
       "16604   31000176.0  999990.0              99.0                     44571   \n",
       "\n",
       "       Company_credit_score Number_of_socials  Region_count Confidence_Score  \\\n",
       "2                       NaN               NaN           NaN             99.0   \n",
       "3                       NaN               NaN           NaN              NaN   \n",
       "4                      48.0               NaN           NaN            100.0   \n",
       "7                       NaN               NaN           NaN              NaN   \n",
       "9                     100.0               NaN           NaN             99.0   \n",
       "...                     ...               ...           ...              ...   \n",
       "16600                   NaN               NaN           NaN             99.0   \n",
       "16601                   NaN               NaN           NaN            100.0   \n",
       "16602                   NaN               NaN           NaN            100.0   \n",
       "16603                   NaN               NaN           NaN            100.0   \n",
       "16604                   NaN               NaN           NaN            100.0   \n",
       "\n",
       "      LS_State  Difference  \n",
       "2           47         NaN  \n",
       "3           47         NaN  \n",
       "4           47         NaN  \n",
       "7            4         NaN  \n",
       "9           47         NaN  \n",
       "...        ...         ...  \n",
       "16600       47         NaN  \n",
       "16601       47       730.0  \n",
       "16602       47         NaN  \n",
       "16603       47       365.0  \n",
       "16604       47      4748.0  \n",
       "\n",
       "[10807 rows x 62 columns]"
      ]
     },
     "execution_count": 283,
     "metadata": {},
     "output_type": "execute_result"
    }
   ],
   "source": [
    "df_mask = ( LeadScore_df.LS_Self_Graded_Credit >=1000 ) &  ( LeadScore_df.LS_Self_Graded_Credit <= 5200 )  \n",
    "\n",
    "Lead_filtered= LeadScore_df[df_mask]\n",
    "Lead_filtered"
   ]
  },
  {
   "cell_type": "code",
   "execution_count": 284,
   "id": "ca080d84",
   "metadata": {},
   "outputs": [],
   "source": [
    "LeadScore_df['LS_Self_Graded_Credit'] = np.where ((LeadScore_df['LS_Self_Graded_Credit']>= 1000) & (LeadScore_df['LS_Self_Graded_Credit']<= 5200), 0, LeadScore_df['LS_Self_Graded_Credit'] )"
   ]
  },
  {
   "cell_type": "code",
   "execution_count": 285,
   "id": "367f9fd2",
   "metadata": {},
   "outputs": [
    {
     "data": {
      "text/plain": [
       "0        3\n",
       "1        2\n",
       "2        0\n",
       "3        0\n",
       "4        0\n",
       "        ..\n",
       "16601    0\n",
       "16602    0\n",
       "16603    0\n",
       "16604    0\n",
       "16605    3\n",
       "Name: LS_Self_Graded_Credit, Length: 16606, dtype: int64"
      ]
     },
     "execution_count": 285,
     "metadata": {},
     "output_type": "execute_result"
    }
   ],
   "source": [
    "LeadScore_df['LS_Self_Graded_Credit']"
   ]
  },
  {
   "cell_type": "code",
   "execution_count": 286,
   "id": "bf3dddc5",
   "metadata": {},
   "outputs": [
    {
     "data": {
      "text/plain": [
       "Is_Submitted\n",
       "0    2.08\n",
       "1    1.92\n",
       "Name: Number_of_socials, dtype: float64"
      ]
     },
     "execution_count": 286,
     "metadata": {},
     "output_type": "execute_result"
    }
   ],
   "source": [
    "LeadScore_df.groupby('Is_Submitted').mean()['Number_of_socials'].round(decimals=2)"
   ]
  },
  {
   "cell_type": "code",
   "execution_count": 287,
   "id": "0cb988b2",
   "metadata": {},
   "outputs": [
    {
     "data": {
      "text/plain": [
       "Is_Submitted\n",
       "0    7.44\n",
       "1    7.05\n",
       "Name: Average_years_employees_work_at_company, dtype: float64"
      ]
     },
     "execution_count": 287,
     "metadata": {},
     "output_type": "execute_result"
    }
   ],
   "source": [
    "LeadScore_df.groupby('Is_Submitted').mean()['Average_years_employees_work_at_company'].round(decimals=2)"
   ]
  },
  {
   "cell_type": "code",
   "execution_count": 288,
   "id": "a7bfb0fc",
   "metadata": {},
   "outputs": [
    {
     "data": {
      "text/plain": [
       "Is_Submitted\n",
       "0    50.93\n",
       "1    49.52\n",
       "Name: Less_than_$20,000_-_family_households, dtype: float64"
      ]
     },
     "execution_count": 288,
     "metadata": {},
     "output_type": "execute_result"
    }
   ],
   "source": [
    "LeadScore_df.groupby('Is_Submitted').mean()['Less_than_$20,000_-_family_households'].round(decimals=2)"
   ]
  },
  {
   "cell_type": "code",
   "execution_count": 289,
   "id": "89d7a558",
   "metadata": {},
   "outputs": [
    {
     "data": {
      "text/plain": [
       "Is_Submitted\n",
       "0    106633.94\n",
       "1     46480.63\n",
       "Name: LS_Amount_to_Borrow, dtype: float64"
      ]
     },
     "execution_count": 289,
     "metadata": {},
     "output_type": "execute_result"
    }
   ],
   "source": [
    "LeadScore_df.groupby('Is_Submitted').mean()['LS_Amount_to_Borrow'].round(decimals=2)"
   ]
  },
  {
   "cell_type": "code",
   "execution_count": 290,
   "id": "b116aee1",
   "metadata": {},
   "outputs": [
    {
     "data": {
      "text/plain": [
       "Number_of_employees_range\n",
       "10001+         439\n",
       "1001-5000      397\n",
       "18568         1362\n",
       "201-500        283\n",
       "44571         7971\n",
       "5001-10000     175\n",
       "501-1000       202\n",
       "51-200         500\n",
       "dtype: int64"
      ]
     },
     "execution_count": 290,
     "metadata": {},
     "output_type": "execute_result"
    }
   ],
   "source": [
    "LeadScore_df.groupby('Number_of_employees_range').size()"
   ]
  },
  {
   "cell_type": "code",
   "execution_count": 291,
   "id": "09fcfeb7",
   "metadata": {},
   "outputs": [
    {
     "data": {
      "text/plain": [
       "Is_Submitted\n",
       "0    2069.16\n",
       "1    2051.08\n",
       "Name: Web_Ad_Outlet__c, dtype: float64"
      ]
     },
     "execution_count": 291,
     "metadata": {},
     "output_type": "execute_result"
    }
   ],
   "source": [
    "LeadScore_df.groupby('Is_Submitted').mean()['Web_Ad_Outlet__c'].round(decimals=2)"
   ]
  },
  {
   "cell_type": "code",
   "execution_count": 292,
   "id": "d0c3f6fb",
   "metadata": {},
   "outputs": [
    {
     "data": {
      "text/plain": [
       "Is_Submitted\n",
       "0    51.48\n",
       "1    50.83\n",
       "Name: Mean_employee_age, dtype: float64"
      ]
     },
     "execution_count": 292,
     "metadata": {},
     "output_type": "execute_result"
    }
   ],
   "source": [
    "LeadScore_df.groupby('Is_Submitted').mean()['Mean_employee_age'].round(decimals=2)"
   ]
  },
  {
   "cell_type": "code",
   "execution_count": 293,
   "id": "651fec8a",
   "metadata": {},
   "outputs": [
    {
     "data": {
      "text/plain": [
       "Is_Submitted\n",
       "0    1.389744e+08\n",
       "1    9.425868e+07\n",
       "Name: Number_of_Results, dtype: float64"
      ]
     },
     "execution_count": 293,
     "metadata": {},
     "output_type": "execute_result"
    }
   ],
   "source": [
    "LeadScore_df.groupby('Is_Submitted').mean()['Number_of_Results'].round(decimals=2)"
   ]
  },
  {
   "cell_type": "code",
   "execution_count": 294,
   "id": "b33f892e",
   "metadata": {},
   "outputs": [
    {
     "data": {
      "text/plain": [
       "NAICS_sector_code\n",
       "11.0      70\n",
       "21.0      27\n",
       "22.0      39\n",
       "23.0    1151\n",
       "31.0     176\n",
       "32.0     145\n",
       "33.0     340\n",
       "42.0     336\n",
       "44.0     693\n",
       "45.0     297\n",
       "48.0    1298\n",
       "49.0      34\n",
       "51.0     159\n",
       "52.0     279\n",
       "53.0     224\n",
       "54.0     834\n",
       "55.0      63\n",
       "56.0    1143\n",
       "61.0     134\n",
       "62.0     465\n",
       "71.0     163\n",
       "72.0     525\n",
       "81.0     865\n",
       "92.0      53\n",
       "99.0    1799\n",
       "dtype: int64"
      ]
     },
     "execution_count": 294,
     "metadata": {},
     "output_type": "execute_result"
    }
   ],
   "source": [
    "LeadScore_df.groupby('NAICS_sector_code').size()"
   ]
  },
  {
   "cell_type": "code",
   "execution_count": 295,
   "id": "4dca375e",
   "metadata": {},
   "outputs": [
    {
     "data": {
      "text/plain": [
       "Is_Submitted\n",
       "0    51.20\n",
       "1    51.29\n",
       "Name: Company_credit_score, dtype: float64"
      ]
     },
     "execution_count": 295,
     "metadata": {},
     "output_type": "execute_result"
    }
   ],
   "source": [
    "LeadScore_df.groupby('Is_Submitted').mean()['Company_credit_score'].round(decimals=2)"
   ]
  },
  {
   "cell_type": "code",
   "execution_count": 296,
   "id": "0a373e96",
   "metadata": {},
   "outputs": [
    {
     "data": {
      "text/plain": [
       "Is_Submitted\n",
       "0    27.70\n",
       "1    30.81\n",
       "Name: Average_number_of_reviews, dtype: float64"
      ]
     },
     "execution_count": 296,
     "metadata": {},
     "output_type": "execute_result"
    }
   ],
   "source": [
    "LeadScore_df.groupby('Is_Submitted').mean()['Average_number_of_reviews'].round(decimals=2)"
   ]
  },
  {
   "cell_type": "code",
   "execution_count": 297,
   "id": "91f702f3",
   "metadata": {},
   "outputs": [
    {
     "data": {
      "text/plain": [
       "Is_Submitted\n",
       "0    13.07\n",
       "1    14.51\n",
       "Name: $100,000_to_$149,999_-_non-family_households_income, dtype: float64"
      ]
     },
     "execution_count": 297,
     "metadata": {},
     "output_type": "execute_result"
    }
   ],
   "source": [
    "LeadScore_df.groupby('Is_Submitted').mean()['$100,000_to_$149,999_-_non-family_households_income'].round(decimals=2)"
   ]
  },
  {
   "cell_type": "code",
   "execution_count": 298,
   "id": "8eb86959",
   "metadata": {},
   "outputs": [
    {
     "data": {
      "text/plain": [
       "Is_Submitted\n",
       "0    742936.67\n",
       "1    303864.72\n",
       "Name: LS_GAS, dtype: float64"
      ]
     },
     "execution_count": 298,
     "metadata": {},
     "output_type": "execute_result"
    }
   ],
   "source": [
    "LeadScore_df.groupby('Is_Submitted').mean()['LS_GAS'].round(decimals=2)"
   ]
  },
  {
   "cell_type": "code",
   "execution_count": 299,
   "id": "51ac1e07",
   "metadata": {},
   "outputs": [
    {
     "data": {
      "text/plain": [
       "Is_Submitted\n",
       "0    1131.70\n",
       "1     937.28\n",
       "Name: Money_spend_on_website_technologies, dtype: float64"
      ]
     },
     "execution_count": 299,
     "metadata": {},
     "output_type": "execute_result"
    }
   ],
   "source": [
    "LeadScore_df.groupby('Is_Submitted').mean()['Money_spend_on_website_technologies'].round(decimals=2)"
   ]
  },
  {
   "cell_type": "code",
   "execution_count": 300,
   "id": "b47a6a47",
   "metadata": {},
   "outputs": [],
   "source": [
    "#LeadScore_df.groupby('State').size()"
   ]
  },
  {
   "cell_type": "code",
   "execution_count": 301,
   "id": "58e889ae",
   "metadata": {},
   "outputs": [
    {
     "data": {
      "text/plain": [
       "<AxesSubplot:xlabel='LS_Self_Graded_Credit'>"
      ]
     },
     "execution_count": 301,
     "metadata": {},
     "output_type": "execute_result"
    },
    {
     "data": {
      "image/png": "[encoded data removed]",
      "text/plain": [
       "<Figure size 432x288 with 1 Axes>"
      ]
     },
     "metadata": {
      "needs_background": "light"
     },
     "output_type": "display_data"
    }
   ],
   "source": [
    "fig, ax = plt.subplots(figsize=(6,4))\n",
    "sns.boxplot(LeadScore_df.LS_Self_Graded_Credit)"
   ]
  },
  {
   "cell_type": "code",
   "execution_count": 302,
   "id": "0db9e25d",
   "metadata": {},
   "outputs": [
    {
     "data": {
      "text/plain": [
       "<AxesSubplot:xlabel='LS_Self_Graded_Credit', ylabel='Density'>"
      ]
     },
     "execution_count": 302,
     "metadata": {},
     "output_type": "execute_result"
    },
    {
     "data": {
      "image/png": "[encoded data removed]",
      "text/plain": [
       "<Figure size 432x288 with 1 Axes>"
      ]
     },
     "metadata": {
      "needs_background": "light"
     },
     "output_type": "display_data"
    }
   ],
   "source": [
    "fig, ax = plt.subplots(figsize=(6,4))\n",
    "sns.distplot(LeadScore_df.LS_Self_Graded_Credit)"
   ]
  },
  {
   "cell_type": "code",
   "execution_count": 303,
   "id": "1cc2b4f9",
   "metadata": {},
   "outputs": [],
   "source": [
    "LeadScore_df['LS_Self_Graded_Credit'].fillna(LeadScore_df['LS_Self_Graded_Credit'].median(), inplace =True)"
   ]
  },
  {
   "cell_type": "code",
   "execution_count": 304,
   "id": "3c4c3108",
   "metadata": {},
   "outputs": [
    {
     "data": {
      "text/plain": [
       "<AxesSubplot:xlabel='Mean_monthly_mortgage_and_owner_costs'>"
      ]
     },
     "execution_count": 304,
     "metadata": {},
     "output_type": "execute_result"
    },
    {
     "data": {
      "image/png": "[encoded data removed]",
      "text/plain": [
       "<Figure size 432x288 with 1 Axes>"
      ]
     },
     "metadata": {
      "needs_background": "light"
     },
     "output_type": "display_data"
    }
   ],
   "source": [
    "fig, ax = plt.subplots(figsize=(6,4))\n",
    "sns.boxplot(LeadScore_df.Mean_monthly_mortgage_and_owner_costs)"
   ]
  },
  {
   "cell_type": "code",
   "execution_count": 305,
   "id": "a6b7b6f3",
   "metadata": {},
   "outputs": [
    {
     "data": {
      "text/plain": [
       "<AxesSubplot:xlabel='Mean_monthly_mortgage_and_owner_costs', ylabel='Density'>"
      ]
     },
     "execution_count": 305,
     "metadata": {},
     "output_type": "execute_result"
    },
    {
     "data": {
      "image/png": "[encoded data removed]",
      "text/plain": [
       "<Figure size 432x288 with 1 Axes>"
      ]
     },
     "metadata": {
      "needs_background": "light"
     },
     "output_type": "display_data"
    }
   ],
   "source": [
    "fig, ax = plt.subplots(figsize=(6,4))\n",
    "sns.distplot(LeadScore_df.Mean_monthly_mortgage_and_owner_costs)"
   ]
  },
  {
   "cell_type": "code",
   "execution_count": 306,
   "id": "547123ba",
   "metadata": {},
   "outputs": [],
   "source": [
    "LeadScore_df['Mean_monthly_mortgage_and_owner_costs'].fillna(LeadScore_df['Mean_monthly_mortgage_and_owner_costs'].mean(), inplace =True)"
   ]
  },
  {
   "cell_type": "code",
   "execution_count": 307,
   "id": "5e54f1f0",
   "metadata": {},
   "outputs": [
    {
     "data": {
      "text/plain": [
       "<AxesSubplot:xlabel='LS_GAS'>"
      ]
     },
     "execution_count": 307,
     "metadata": {},
     "output_type": "execute_result"
    },
    {
     "data": {
      "image/png": "[encoded data removed]",
      "text/plain": [
       "<Figure size 432x288 with 1 Axes>"
      ]
     },
     "metadata": {
      "needs_background": "light"
     },
     "output_type": "display_data"
    }
   ],
   "source": [
    "fig, ax = plt.subplots(figsize=(6,4))\n",
    "sns.boxplot(LeadScore_df.LS_GAS)"
   ]
  },
  {
   "cell_type": "code",
   "execution_count": 308,
   "id": "3e4c6ccb",
   "metadata": {},
   "outputs": [
    {
     "data": {
      "text/plain": [
       "<AxesSubplot:xlabel='LS_GAS', ylabel='Density'>"
      ]
     },
     "execution_count": 308,
     "metadata": {},
     "output_type": "execute_result"
    },
    {
     "data": {
      "image/png": "[encoded data removed]",
      "text/plain": [
       "<Figure size 432x288 with 1 Axes>"
      ]
     },
     "metadata": {
      "needs_background": "light"
     },
     "output_type": "display_data"
    }
   ],
   "source": [
    "fig, ax = plt.subplots(figsize=(6,4))\n",
    "sns.distplot(LeadScore_df.LS_GAS)"
   ]
  },
  {
   "cell_type": "code",
   "execution_count": 309,
   "id": "33088023",
   "metadata": {},
   "outputs": [],
   "source": [
    "LeadScore_df['LS_GAS'].fillna(LeadScore_df['LS_GAS'].median(), inplace =True)"
   ]
  },
  {
   "cell_type": "code",
   "execution_count": 310,
   "id": "e6d93a4e",
   "metadata": {},
   "outputs": [
    {
     "data": {
      "text/plain": [
       "<AxesSubplot:xlabel='Number_of_technologies'>"
      ]
     },
     "execution_count": 310,
     "metadata": {},
     "output_type": "execute_result"
    },
    {
     "data": {
      "image/png": "[encoded data removed]",
      "text/plain": [
       "<Figure size 432x288 with 1 Axes>"
      ]
     },
     "metadata": {
      "needs_background": "light"
     },
     "output_type": "display_data"
    }
   ],
   "source": [
    "fig, ax = plt.subplots(figsize=(6,4))\n",
    "sns.boxplot(LeadScore_df.Number_of_technologies)"
   ]
  },
  {
   "cell_type": "code",
   "execution_count": 311,
   "id": "701bd65d",
   "metadata": {},
   "outputs": [
    {
     "data": {
      "text/plain": [
       "<AxesSubplot:xlabel='Number_of_technologies', ylabel='Density'>"
      ]
     },
     "execution_count": 311,
     "metadata": {},
     "output_type": "execute_result"
    },
    {
     "data": {
      "image/png": "[encoded data removed]",
      "text/plain": [
       "<Figure size 432x288 with 1 Axes>"
      ]
     },
     "metadata": {
      "needs_background": "light"
     },
     "output_type": "display_data"
    }
   ],
   "source": [
    "fig, ax = plt.subplots(figsize=(6,4))\n",
    "sns.distplot(LeadScore_df.Number_of_technologies)"
   ]
  },
  {
   "cell_type": "code",
   "execution_count": 312,
   "id": "7ddf193c",
   "metadata": {},
   "outputs": [],
   "source": [
    "LeadScore_df['Number_of_technologies'].fillna(LeadScore_df['Number_of_technologies'].median(), inplace =True)"
   ]
  },
  {
   "cell_type": "code",
   "execution_count": 313,
   "id": "9749d2bb",
   "metadata": {},
   "outputs": [
    {
     "data": {
      "text/plain": [
       "<AxesSubplot:xlabel='Number_of_Reviews'>"
      ]
     },
     "execution_count": 313,
     "metadata": {},
     "output_type": "execute_result"
    },
    {
     "data": {
      "image/png": "[encoded data removed]",
      "text/plain": [
       "<Figure size 432x288 with 1 Axes>"
      ]
     },
     "metadata": {
      "needs_background": "light"
     },
     "output_type": "display_data"
    }
   ],
   "source": [
    "fig, ax = plt.subplots(figsize=(6,4))\n",
    "sns.boxplot(LeadScore_df.Number_of_Reviews)"
   ]
  },
  {
   "cell_type": "code",
   "execution_count": 314,
   "id": "ebb787ca",
   "metadata": {},
   "outputs": [],
   "source": [
    "LeadScore_df['Number_of_Reviews'].fillna(LeadScore_df['Number_of_Reviews'].median(), inplace =True)"
   ]
  },
  {
   "cell_type": "code",
   "execution_count": 315,
   "id": "7970dbc4",
   "metadata": {},
   "outputs": [
    {
     "data": {
      "text/plain": [
       "<AxesSubplot:xlabel='Average_annual_income_per_household'>"
      ]
     },
     "execution_count": 315,
     "metadata": {},
     "output_type": "execute_result"
    },
    {
     "data": {
      "image/png": "[encoded data removed]",
      "text/plain": [
       "<Figure size 432x288 with 1 Axes>"
      ]
     },
     "metadata": {
      "needs_background": "light"
     },
     "output_type": "display_data"
    }
   ],
   "source": [
    "fig, ax = plt.subplots(figsize=(6,4))\n",
    "sns.boxplot(LeadScore_df.Average_annual_income_per_household)"
   ]
  },
  {
   "cell_type": "code",
   "execution_count": 316,
   "id": "0c467745",
   "metadata": {},
   "outputs": [],
   "source": [
    "LeadScore_df['Average_annual_income_per_household'].fillna(LeadScore_df['Average_annual_income_per_household'].median(), inplace =True)"
   ]
  },
  {
   "cell_type": "code",
   "execution_count": 317,
   "id": "009cc56e",
   "metadata": {},
   "outputs": [
    {
     "data": {
      "text/plain": [
       "<AxesSubplot:xlabel='Rent_mean'>"
      ]
     },
     "execution_count": 317,
     "metadata": {},
     "output_type": "execute_result"
    },
    {
     "data": {
      "image/png": "[encoded data removed]",
      "text/plain": [
       "<Figure size 432x288 with 1 Axes>"
      ]
     },
     "metadata": {
      "needs_background": "light"
     },
     "output_type": "display_data"
    }
   ],
   "source": [
    "fig, ax = plt.subplots(figsize=(6,4))\n",
    "sns.boxplot(LeadScore_df.Rent_mean)"
   ]
  },
  {
   "cell_type": "code",
   "execution_count": 318,
   "id": "2795bd62",
   "metadata": {},
   "outputs": [],
   "source": [
    "LeadScore_df['Rent_mean'].fillna(LeadScore_df['Rent_mean'].median(), inplace =True)"
   ]
  },
  {
   "cell_type": "code",
   "execution_count": 319,
   "id": "d4add7ac",
   "metadata": {},
   "outputs": [
    {
     "data": {
      "text/plain": [
       "<AxesSubplot:xlabel='Number_of_Results'>"
      ]
     },
     "execution_count": 319,
     "metadata": {},
     "output_type": "execute_result"
    },
    {
     "data": {
      "image/png": "[encoded data removed]",
      "text/plain": [
       "<Figure size 432x288 with 1 Axes>"
      ]
     },
     "metadata": {
      "needs_background": "light"
     },
     "output_type": "display_data"
    }
   ],
   "source": [
    "fig, ax = plt.subplots(figsize=(6,4))\n",
    "sns.boxplot(LeadScore_df.Number_of_Results)"
   ]
  },
  {
   "cell_type": "code",
   "execution_count": 320,
   "id": "da3608d5",
   "metadata": {},
   "outputs": [],
   "source": [
    "LeadScore_df['Number_of_Results'].fillna(LeadScore_df['Number_of_Results'].median(), inplace =True)"
   ]
  },
  {
   "cell_type": "code",
   "execution_count": 321,
   "id": "b4633696",
   "metadata": {},
   "outputs": [
    {
     "data": {
      "text/plain": [
       "<AxesSubplot:xlabel='Average_years_employees_work_at_company'>"
      ]
     },
     "execution_count": 321,
     "metadata": {},
     "output_type": "execute_result"
    },
    {
     "data": {
      "image/png": "[encoded data removed]",
      "text/plain": [
       "<Figure size 432x288 with 1 Axes>"
      ]
     },
     "metadata": {
      "needs_background": "light"
     },
     "output_type": "display_data"
    }
   ],
   "source": [
    "fig, ax = plt.subplots(figsize=(6,4))\n",
    "sns.boxplot(LeadScore_df.Average_years_employees_work_at_company)"
   ]
  },
  {
   "cell_type": "code",
   "execution_count": 322,
   "id": "adc30812",
   "metadata": {},
   "outputs": [],
   "source": [
    "LeadScore_df['Average_years_employees_work_at_company'].fillna(LeadScore_df['Average_years_employees_work_at_company'].median(), inplace =True)"
   ]
  },
  {
   "cell_type": "code",
   "execution_count": 323,
   "id": "4cbef110",
   "metadata": {},
   "outputs": [
    {
     "data": {
      "text/plain": [
       "<AxesSubplot:xlabel='Number_of_socials'>"
      ]
     },
     "execution_count": 323,
     "metadata": {},
     "output_type": "execute_result"
    },
    {
     "data": {
      "image/png": "[encoded data removed]",
      "text/plain": [
       "<Figure size 432x288 with 1 Axes>"
      ]
     },
     "metadata": {
      "needs_background": "light"
     },
     "output_type": "display_data"
    }
   ],
   "source": [
    "fig, ax = plt.subplots(figsize=(6,4))\n",
    "sns.boxplot(LeadScore_df.Number_of_socials)"
   ]
  },
  {
   "cell_type": "code",
   "execution_count": 324,
   "id": "22094c61",
   "metadata": {},
   "outputs": [],
   "source": [
    "LeadScore_df['Number_of_socials'].fillna(LeadScore_df['Number_of_socials'].mean(), inplace =True)"
   ]
  },
  {
   "cell_type": "code",
   "execution_count": 325,
   "id": "8b4ac1d9",
   "metadata": {},
   "outputs": [
    {
     "data": {
      "text/plain": [
       "<AxesSubplot:xlabel='Mean_employee_age'>"
      ]
     },
     "execution_count": 325,
     "metadata": {},
     "output_type": "execute_result"
    },
    {
     "data": {
      "image/png": "[encoded data removed]",
      "text/plain": [
       "<Figure size 432x288 with 1 Axes>"
      ]
     },
     "metadata": {
      "needs_background": "light"
     },
     "output_type": "display_data"
    }
   ],
   "source": [
    "fig, ax = plt.subplots(figsize=(6,4))\n",
    "sns.boxplot(LeadScore_df.Mean_employee_age)"
   ]
  },
  {
   "cell_type": "code",
   "execution_count": 326,
   "id": "9a253515",
   "metadata": {},
   "outputs": [
    {
     "data": {
      "text/plain": [
       "<AxesSubplot:xlabel='Mean_employee_age', ylabel='Density'>"
      ]
     },
     "execution_count": 326,
     "metadata": {},
     "output_type": "execute_result"
    },
    {
     "data": {
      "image/png": "[encoded data removed]",
      "text/plain": [
       "<Figure size 432x288 with 1 Axes>"
      ]
     },
     "metadata": {
      "needs_background": "light"
     },
     "output_type": "display_data"
    }
   ],
   "source": [
    "fig, ax = plt.subplots(figsize=(6,4))\n",
    "sns.distplot(LeadScore_df.Mean_employee_age)"
   ]
  },
  {
   "cell_type": "code",
   "execution_count": 327,
   "id": "35a56d88",
   "metadata": {},
   "outputs": [
    {
     "data": {
      "text/plain": [
       "<AxesSubplot:xlabel='Confidence_Score', ylabel='Density'>"
      ]
     },
     "execution_count": 327,
     "metadata": {},
     "output_type": "execute_result"
    },
    {
     "data": {
      "image/png": "[encoded data removed]",
      "text/plain": [
       "<Figure size 432x288 with 1 Axes>"
      ]
     },
     "metadata": {
      "needs_background": "light"
     },
     "output_type": "display_data"
    }
   ],
   "source": [
    "fig, ax = plt.subplots(figsize=(6,4))\n",
    "sns.distplot(LeadScore_df.Confidence_Score)"
   ]
  },
  {
   "cell_type": "code",
   "execution_count": 328,
   "id": "4bf02283",
   "metadata": {},
   "outputs": [],
   "source": [
    "LeadScore_df['Confidence_Score'].fillna(LeadScore_df['Confidence_Score'].median(), inplace =True)"
   ]
  },
  {
   "cell_type": "code",
   "execution_count": 329,
   "id": "58b36f78",
   "metadata": {},
   "outputs": [],
   "source": [
    "LeadScore_df['Mean_employee_age'].fillna(LeadScore_df['Mean_employee_age'].mean(), inplace =True)"
   ]
  },
  {
   "cell_type": "code",
   "execution_count": 330,
   "id": "e784a7f1",
   "metadata": {},
   "outputs": [
    {
     "data": {
      "text/plain": [
       "<AxesSubplot:xlabel='Rating', ylabel='Density'>"
      ]
     },
     "execution_count": 330,
     "metadata": {},
     "output_type": "execute_result"
    },
    {
     "data": {
      "image/png": "[encoded data removed]",
      "text/plain": [
       "<Figure size 432x288 with 1 Axes>"
      ]
     },
     "metadata": {
      "needs_background": "light"
     },
     "output_type": "display_data"
    }
   ],
   "source": [
    "fig, ax = plt.subplots(figsize=(6,4))\n",
    "sns.distplot(LeadScore_df.Rating)"
   ]
  },
  {
   "cell_type": "code",
   "execution_count": 331,
   "id": "07d1c023",
   "metadata": {},
   "outputs": [],
   "source": [
    "LeadScore_df['Rating'].fillna(LeadScore_df['Rating'].median(), inplace =True)"
   ]
  },
  {
   "cell_type": "code",
   "execution_count": 332,
   "id": "1fa4b732",
   "metadata": {},
   "outputs": [
    {
     "data": {
      "text/plain": [
       "<AxesSubplot:xlabel='Results_From_Wikipedia', ylabel='Density'>"
      ]
     },
     "execution_count": 332,
     "metadata": {},
     "output_type": "execute_result"
    },
    {
     "data": {
      "image/png": "[encoded data removed]",
      "text/plain": [
       "<Figure size 432x288 with 1 Axes>"
      ]
     },
     "metadata": {
      "needs_background": "light"
     },
     "output_type": "display_data"
    }
   ],
   "source": [
    "fig, ax = plt.subplots(figsize=(6,4))\n",
    "sns.distplot(LeadScore_df.Results_From_Wikipedia)"
   ]
  },
  {
   "cell_type": "code",
   "execution_count": 333,
   "id": "92aaa085",
   "metadata": {},
   "outputs": [],
   "source": [
    "LeadScore_df['Results_From_Wikipedia'].fillna(LeadScore_df['Results_From_Wikipedia'].median(), inplace =True)"
   ]
  },
  {
   "cell_type": "code",
   "execution_count": 334,
   "id": "330c0cdd",
   "metadata": {},
   "outputs": [
    {
     "data": {
      "text/plain": [
       "<AxesSubplot:xlabel='Company_credit_score', ylabel='Density'>"
      ]
     },
     "execution_count": 334,
     "metadata": {},
     "output_type": "execute_result"
    },
    {
     "data": {
      "image/png": "[encoded data removed]",
      "text/plain": [
       "<Figure size 432x288 with 1 Axes>"
      ]
     },
     "metadata": {
      "needs_background": "light"
     },
     "output_type": "display_data"
    }
   ],
   "source": [
    "fig, ax = plt.subplots(figsize=(6,4))\n",
    "sns.distplot(LeadScore_df.Company_credit_score)"
   ]
  },
  {
   "cell_type": "code",
   "execution_count": 335,
   "id": "26b79c02",
   "metadata": {},
   "outputs": [],
   "source": [
    "LeadScore_df['Company_credit_score'].fillna(LeadScore_df['Company_credit_score'].mean(), inplace =True)"
   ]
  },
  {
   "cell_type": "code",
   "execution_count": 336,
   "id": "6903ec51",
   "metadata": {},
   "outputs": [],
   "source": [
    "LeadScore_df['address'] = (LeadScore_df[\"Results_Snippets\"].str.lower()\n",
    "                            .str.contains(\"address\", regex=False, na=False)\n",
    "                            .astype(int))"
   ]
  },
  {
   "cell_type": "code",
   "execution_count": 337,
   "id": "0910d3e0",
   "metadata": {},
   "outputs": [],
   "source": [
    "LeadScore_df['company'] = (LeadScore_df[\"Results_Snippets\"].str.lower()\n",
    "                            .str.contains(\"company\", regex=False, na=False)\n",
    "                            .astype(int))"
   ]
  },
  {
   "cell_type": "code",
   "execution_count": 338,
   "id": "e3a95747",
   "metadata": {},
   "outputs": [
    {
     "data": {
      "text/html": [
       "<div>\n",
       "<style scoped>\n",
       "    .dataframe tbody tr th:only-of-type {\n",
       "        vertical-align: middle;\n",
       "    }\n",
       "\n",
       "    .dataframe tbody tr th {\n",
       "        vertical-align: top;\n",
       "    }\n",
       "\n",
       "    .dataframe thead th {\n",
       "        text-align: right;\n",
       "    }\n",
       "</style>\n",
       "<table border=\"1\" class=\"dataframe\">\n",
       "  <thead>\n",
       "    <tr style=\"text-align: right;\">\n",
       "      <th></th>\n",
       "      <th>City</th>\n",
       "      <th>Company</th>\n",
       "      <th>Email</th>\n",
       "      <th>FirstName</th>\n",
       "      <th>Is_Submitted</th>\n",
       "      <th>LastName</th>\n",
       "      <th>LS_Amount_to_Borrow</th>\n",
       "      <th>LS_GAS</th>\n",
       "      <th>LS_Self_Graded_Credit</th>\n",
       "      <th>Phone</th>\n",
       "      <th>...</th>\n",
       "      <th>NAICS_sector_code</th>\n",
       "      <th>Number_of_employees_range</th>\n",
       "      <th>Company_credit_score</th>\n",
       "      <th>Number_of_socials</th>\n",
       "      <th>Region_count</th>\n",
       "      <th>Confidence_Score</th>\n",
       "      <th>LS_State</th>\n",
       "      <th>Difference</th>\n",
       "      <th>address</th>\n",
       "      <th>company</th>\n",
       "    </tr>\n",
       "  </thead>\n",
       "  <tbody>\n",
       "    <tr>\n",
       "      <th>0</th>\n",
       "      <td>McKinney</td>\n",
       "      <td>Namaste Cafe</td>\n",
       "      <td>00mojosdad@gmail.com</td>\n",
       "      <td>Lee</td>\n",
       "      <td>0</td>\n",
       "      <td>Rone</td>\n",
       "      <td>150000</td>\n",
       "      <td>240000</td>\n",
       "      <td>3</td>\n",
       "      <td>4693217785</td>\n",
       "      <td>...</td>\n",
       "      <td>NaN</td>\n",
       "      <td>NaN</td>\n",
       "      <td>51.212596</td>\n",
       "      <td>2.05007</td>\n",
       "      <td>NaN</td>\n",
       "      <td>100.0</td>\n",
       "      <td>40</td>\n",
       "      <td>730.0</td>\n",
       "      <td>0</td>\n",
       "      <td>0</td>\n",
       "    </tr>\n",
       "    <tr>\n",
       "      <th>1</th>\n",
       "      <td>Gilbert</td>\n",
       "      <td>Beauty To You</td>\n",
       "      <td>0326studio@gmail.com</td>\n",
       "      <td>Pedro</td>\n",
       "      <td>0</td>\n",
       "      <td>Falcon</td>\n",
       "      <td>15000</td>\n",
       "      <td>150000</td>\n",
       "      <td>2</td>\n",
       "      <td>4803833027</td>\n",
       "      <td>...</td>\n",
       "      <td>NaN</td>\n",
       "      <td>NaN</td>\n",
       "      <td>51.212596</td>\n",
       "      <td>2.05007</td>\n",
       "      <td>NaN</td>\n",
       "      <td>100.0</td>\n",
       "      <td>3</td>\n",
       "      <td>NaN</td>\n",
       "      <td>0</td>\n",
       "      <td>0</td>\n",
       "    </tr>\n",
       "    <tr>\n",
       "      <th>2</th>\n",
       "      <td>NaN</td>\n",
       "      <td>Covert Ops Security M&amp;B</td>\n",
       "      <td>06waking_label@icloud.com</td>\n",
       "      <td>Marcus</td>\n",
       "      <td>0</td>\n",
       "      <td>Hardy</td>\n",
       "      <td>37500</td>\n",
       "      <td>60000</td>\n",
       "      <td>0</td>\n",
       "      <td>410 4439828</td>\n",
       "      <td>...</td>\n",
       "      <td>52.0</td>\n",
       "      <td>51-200</td>\n",
       "      <td>51.212596</td>\n",
       "      <td>2.05007</td>\n",
       "      <td>NaN</td>\n",
       "      <td>99.0</td>\n",
       "      <td>47</td>\n",
       "      <td>NaN</td>\n",
       "      <td>0</td>\n",
       "      <td>0</td>\n",
       "    </tr>\n",
       "    <tr>\n",
       "      <th>3</th>\n",
       "      <td>NaN</td>\n",
       "      <td>On the go towing</td>\n",
       "      <td>09grandpa@gmail.com</td>\n",
       "      <td>Luallen</td>\n",
       "      <td>0</td>\n",
       "      <td>Weaver</td>\n",
       "      <td>37500</td>\n",
       "      <td>60000</td>\n",
       "      <td>0</td>\n",
       "      <td>229 3495406</td>\n",
       "      <td>...</td>\n",
       "      <td>NaN</td>\n",
       "      <td>NaN</td>\n",
       "      <td>51.212596</td>\n",
       "      <td>2.05007</td>\n",
       "      <td>NaN</td>\n",
       "      <td>100.0</td>\n",
       "      <td>47</td>\n",
       "      <td>NaN</td>\n",
       "      <td>0</td>\n",
       "      <td>1</td>\n",
       "    </tr>\n",
       "    <tr>\n",
       "      <th>4</th>\n",
       "      <td>NaN</td>\n",
       "      <td>Perfectly square remodeling</td>\n",
       "      <td>09jespinoza2@gmail.com</td>\n",
       "      <td>Jonathan</td>\n",
       "      <td>0</td>\n",
       "      <td>Espinoza</td>\n",
       "      <td>7500</td>\n",
       "      <td>150000</td>\n",
       "      <td>0</td>\n",
       "      <td>678 9149946</td>\n",
       "      <td>...</td>\n",
       "      <td>54.0</td>\n",
       "      <td>44571</td>\n",
       "      <td>48.000000</td>\n",
       "      <td>2.05007</td>\n",
       "      <td>NaN</td>\n",
       "      <td>100.0</td>\n",
       "      <td>47</td>\n",
       "      <td>NaN</td>\n",
       "      <td>0</td>\n",
       "      <td>1</td>\n",
       "    </tr>\n",
       "    <tr>\n",
       "      <th>...</th>\n",
       "      <td>...</td>\n",
       "      <td>...</td>\n",
       "      <td>...</td>\n",
       "      <td>...</td>\n",
       "      <td>...</td>\n",
       "      <td>...</td>\n",
       "      <td>...</td>\n",
       "      <td>...</td>\n",
       "      <td>...</td>\n",
       "      <td>...</td>\n",
       "      <td>...</td>\n",
       "      <td>...</td>\n",
       "      <td>...</td>\n",
       "      <td>...</td>\n",
       "      <td>...</td>\n",
       "      <td>...</td>\n",
       "      <td>...</td>\n",
       "      <td>...</td>\n",
       "      <td>...</td>\n",
       "      <td>...</td>\n",
       "      <td>...</td>\n",
       "    </tr>\n",
       "    <tr>\n",
       "      <th>16601</th>\n",
       "      <td>NaN</td>\n",
       "      <td>ZuMonroe's Custom Creations LLC</td>\n",
       "      <td>zumonroes@gmail.com</td>\n",
       "      <td>Shamica</td>\n",
       "      <td>0</td>\n",
       "      <td>Dickerson</td>\n",
       "      <td>7500</td>\n",
       "      <td>60000</td>\n",
       "      <td>0</td>\n",
       "      <td>336 3358387</td>\n",
       "      <td>...</td>\n",
       "      <td>44.0</td>\n",
       "      <td>44571</td>\n",
       "      <td>51.212596</td>\n",
       "      <td>2.05007</td>\n",
       "      <td>NaN</td>\n",
       "      <td>100.0</td>\n",
       "      <td>47</td>\n",
       "      <td>730.0</td>\n",
       "      <td>0</td>\n",
       "      <td>1</td>\n",
       "    </tr>\n",
       "    <tr>\n",
       "      <th>16602</th>\n",
       "      <td>NaN</td>\n",
       "      <td>Mazur LLC</td>\n",
       "      <td>zurawskim74@gmail.com</td>\n",
       "      <td>Mariusz</td>\n",
       "      <td>1</td>\n",
       "      <td>Zurawski</td>\n",
       "      <td>37500</td>\n",
       "      <td>750000</td>\n",
       "      <td>0</td>\n",
       "      <td>480 4760784</td>\n",
       "      <td>...</td>\n",
       "      <td>56.0</td>\n",
       "      <td>44571</td>\n",
       "      <td>51.212596</td>\n",
       "      <td>2.05007</td>\n",
       "      <td>NaN</td>\n",
       "      <td>100.0</td>\n",
       "      <td>47</td>\n",
       "      <td>NaN</td>\n",
       "      <td>1</td>\n",
       "      <td>1</td>\n",
       "    </tr>\n",
       "    <tr>\n",
       "      <th>16603</th>\n",
       "      <td>NaN</td>\n",
       "      <td>Zuritech Billing Solutions</td>\n",
       "      <td>zuritechsolutions@gmail.com</td>\n",
       "      <td>Michelle</td>\n",
       "      <td>0</td>\n",
       "      <td>Dodd</td>\n",
       "      <td>7500</td>\n",
       "      <td>60000</td>\n",
       "      <td>0</td>\n",
       "      <td>405 9817133</td>\n",
       "      <td>...</td>\n",
       "      <td>99.0</td>\n",
       "      <td>44571</td>\n",
       "      <td>51.212596</td>\n",
       "      <td>2.05007</td>\n",
       "      <td>NaN</td>\n",
       "      <td>100.0</td>\n",
       "      <td>47</td>\n",
       "      <td>365.0</td>\n",
       "      <td>1</td>\n",
       "      <td>1</td>\n",
       "    </tr>\n",
       "    <tr>\n",
       "      <th>16604</th>\n",
       "      <td>NaN</td>\n",
       "      <td>Zane Myers Agency LLC</td>\n",
       "      <td>zwmyers5@gmail.com</td>\n",
       "      <td>Zane</td>\n",
       "      <td>0</td>\n",
       "      <td>Myers</td>\n",
       "      <td>25000</td>\n",
       "      <td>300000</td>\n",
       "      <td>0</td>\n",
       "      <td>660 7488765</td>\n",
       "      <td>...</td>\n",
       "      <td>99.0</td>\n",
       "      <td>44571</td>\n",
       "      <td>51.212596</td>\n",
       "      <td>2.05007</td>\n",
       "      <td>NaN</td>\n",
       "      <td>100.0</td>\n",
       "      <td>47</td>\n",
       "      <td>4748.0</td>\n",
       "      <td>0</td>\n",
       "      <td>0</td>\n",
       "    </tr>\n",
       "    <tr>\n",
       "      <th>16605</th>\n",
       "      <td>El Campo</td>\n",
       "      <td>ZZ Trucking LLC</td>\n",
       "      <td>zztrucking@hotmail.com</td>\n",
       "      <td>gregory</td>\n",
       "      <td>0</td>\n",
       "      <td>yackel</td>\n",
       "      <td>25000</td>\n",
       "      <td>360000</td>\n",
       "      <td>3</td>\n",
       "      <td>9793322289</td>\n",
       "      <td>...</td>\n",
       "      <td>NaN</td>\n",
       "      <td>NaN</td>\n",
       "      <td>51.212596</td>\n",
       "      <td>2.05007</td>\n",
       "      <td>NaN</td>\n",
       "      <td>100.0</td>\n",
       "      <td>40</td>\n",
       "      <td>NaN</td>\n",
       "      <td>1</td>\n",
       "      <td>1</td>\n",
       "    </tr>\n",
       "  </tbody>\n",
       "</table>\n",
       "<p>16606 rows × 64 columns</p>\n",
       "</div>"
      ],
      "text/plain": [
       "           City                          Company                        Email  \\\n",
       "0      McKinney                     Namaste Cafe         00mojosdad@gmail.com   \n",
       "1       Gilbert                    Beauty To You         0326studio@gmail.com   \n",
       "2           NaN          Covert Ops Security M&B    06waking_label@icloud.com   \n",
       "3           NaN                 On the go towing          09grandpa@gmail.com   \n",
       "4           NaN      Perfectly square remodeling       09jespinoza2@gmail.com   \n",
       "...         ...                              ...                          ...   \n",
       "16601       NaN  ZuMonroe's Custom Creations LLC          zumonroes@gmail.com   \n",
       "16602       NaN                        Mazur LLC        zurawskim74@gmail.com   \n",
       "16603       NaN       Zuritech Billing Solutions  zuritechsolutions@gmail.com   \n",
       "16604       NaN            Zane Myers Agency LLC           zwmyers5@gmail.com   \n",
       "16605  El Campo                  ZZ Trucking LLC       zztrucking@hotmail.com   \n",
       "\n",
       "      FirstName  Is_Submitted   LastName  LS_Amount_to_Borrow  LS_GAS  \\\n",
       "0           Lee             0       Rone               150000  240000   \n",
       "1         Pedro             0     Falcon                15000  150000   \n",
       "2        Marcus             0      Hardy                37500   60000   \n",
       "3       Luallen             0     Weaver                37500   60000   \n",
       "4      Jonathan             0   Espinoza                 7500  150000   \n",
       "...         ...           ...        ...                  ...     ...   \n",
       "16601   Shamica             0  Dickerson                 7500   60000   \n",
       "16602   Mariusz             1   Zurawski                37500  750000   \n",
       "16603  Michelle             0       Dodd                 7500   60000   \n",
       "16604      Zane             0      Myers                25000  300000   \n",
       "16605   gregory             0     yackel                25000  360000   \n",
       "\n",
       "       LS_Self_Graded_Credit        Phone  ...  NAICS_sector_code  \\\n",
       "0                          3   4693217785  ...                NaN   \n",
       "1                          2   4803833027  ...                NaN   \n",
       "2                          0  410 4439828  ...               52.0   \n",
       "3                          0  229 3495406  ...                NaN   \n",
       "4                          0  678 9149946  ...               54.0   \n",
       "...                      ...          ...  ...                ...   \n",
       "16601                      0  336 3358387  ...               44.0   \n",
       "16602                      0  480 4760784  ...               56.0   \n",
       "16603                      0  405 9817133  ...               99.0   \n",
       "16604                      0  660 7488765  ...               99.0   \n",
       "16605                      3   9793322289  ...                NaN   \n",
       "\n",
       "      Number_of_employees_range Company_credit_score Number_of_socials  \\\n",
       "0                           NaN            51.212596           2.05007   \n",
       "1                           NaN            51.212596           2.05007   \n",
       "2                        51-200            51.212596           2.05007   \n",
       "3                           NaN            51.212596           2.05007   \n",
       "4                         44571            48.000000           2.05007   \n",
       "...                         ...                  ...               ...   \n",
       "16601                     44571            51.212596           2.05007   \n",
       "16602                     44571            51.212596           2.05007   \n",
       "16603                     44571            51.212596           2.05007   \n",
       "16604                     44571            51.212596           2.05007   \n",
       "16605                       NaN            51.212596           2.05007   \n",
       "\n",
       "       Region_count Confidence_Score  LS_State Difference address  company  \n",
       "0               NaN            100.0        40      730.0       0        0  \n",
       "1               NaN            100.0         3        NaN       0        0  \n",
       "2               NaN             99.0        47        NaN       0        0  \n",
       "3               NaN            100.0        47        NaN       0        1  \n",
       "4               NaN            100.0        47        NaN       0        1  \n",
       "...             ...              ...       ...        ...     ...      ...  \n",
       "16601           NaN            100.0        47      730.0       0        1  \n",
       "16602           NaN            100.0        47        NaN       1        1  \n",
       "16603           NaN            100.0        47      365.0       1        1  \n",
       "16604           NaN            100.0        47     4748.0       0        0  \n",
       "16605           NaN            100.0        40        NaN       1        1  \n",
       "\n",
       "[16606 rows x 64 columns]"
      ]
     },
     "execution_count": 338,
     "metadata": {},
     "output_type": "execute_result"
    }
   ],
   "source": [
    "LeadScore_df.Is_established = LeadScore_df.Is_established.map({False:0,True:1})\n",
    "LeadScore_df.Unclaimed_Listing = LeadScore_df.Unclaimed_Listing.map({False:0,True:1})\n",
    "LeadScore_df.Permanently_Closed = LeadScore_df.Permanently_Closed.map({False:0,True:1})\n",
    "LeadScore_df.Results_From_Wikipedia = LeadScore_df.Results_From_Wikipedia.map({False:0,True:1})\n",
    "LeadScore_df.Map_Exists = LeadScore_df.Map_Exists.map({False:0,True:1})\n",
    "LeadScore_df.Has_Customer_Service = LeadScore_df.Has_Customer_Service.map({False:0,True:1})\n",
    "\n",
    "LeadScore_df"
   ]
  },
  {
   "cell_type": "code",
   "execution_count": 339,
   "id": "423269d9",
   "metadata": {},
   "outputs": [
    {
     "data": {
      "text/html": [
       "<div>\n",
       "<style scoped>\n",
       "    .dataframe tbody tr th:only-of-type {\n",
       "        vertical-align: middle;\n",
       "    }\n",
       "\n",
       "    .dataframe tbody tr th {\n",
       "        vertical-align: top;\n",
       "    }\n",
       "\n",
       "    .dataframe thead th {\n",
       "        text-align: right;\n",
       "    }\n",
       "</style>\n",
       "<table border=\"1\" class=\"dataframe\">\n",
       "  <thead>\n",
       "    <tr style=\"text-align: right;\">\n",
       "      <th></th>\n",
       "      <th>Web_Ad_Outlet_code</th>\n",
       "      <th>Web_Ad_Outlet__c</th>\n",
       "    </tr>\n",
       "  </thead>\n",
       "  <tbody>\n",
       "    <tr>\n",
       "      <th>3037</th>\n",
       "      <td>26.0</td>\n",
       "      <td>5190</td>\n",
       "    </tr>\n",
       "    <tr>\n",
       "      <th>1275</th>\n",
       "      <td>3.0</td>\n",
       "      <td>1101</td>\n",
       "    </tr>\n",
       "    <tr>\n",
       "      <th>15484</th>\n",
       "      <td>16.0</td>\n",
       "      <td>1267</td>\n",
       "    </tr>\n",
       "    <tr>\n",
       "      <th>4891</th>\n",
       "      <td>3.0</td>\n",
       "      <td>1101</td>\n",
       "    </tr>\n",
       "    <tr>\n",
       "      <th>2282</th>\n",
       "      <td>23.0</td>\n",
       "      <td>5061</td>\n",
       "    </tr>\n",
       "  </tbody>\n",
       "</table>\n",
       "</div>"
      ],
      "text/plain": [
       "       Web_Ad_Outlet_code  Web_Ad_Outlet__c\n",
       "3037                 26.0              5190\n",
       "1275                  3.0              1101\n",
       "15484                16.0              1267\n",
       "4891                  3.0              1101\n",
       "2282                 23.0              5061"
      ]
     },
     "execution_count": 339,
     "metadata": {},
     "output_type": "execute_result"
    }
   ],
   "source": [
    "from sklearn.preprocessing import OrdinalEncoder\n",
    "\n",
    "ord_enc = OrdinalEncoder()\n",
    "LeadScore_df['Web_Ad_Outlet_code'] = ord_enc.fit_transform(LeadScore_df[['Web_Ad_Outlet__c']])\n",
    "LeadScore_df[['Web_Ad_Outlet_code',\"Web_Ad_Outlet__c\"]].sample(5)"
   ]
  },
  {
   "cell_type": "code",
   "execution_count": 340,
   "id": "98197a02",
   "metadata": {},
   "outputs": [
    {
     "data": {
      "text/html": [
       "<div>\n",
       "<style scoped>\n",
       "    .dataframe tbody tr th:only-of-type {\n",
       "        vertical-align: middle;\n",
       "    }\n",
       "\n",
       "    .dataframe tbody tr th {\n",
       "        vertical-align: top;\n",
       "    }\n",
       "\n",
       "    .dataframe thead th {\n",
       "        text-align: right;\n",
       "    }\n",
       "</style>\n",
       "<table border=\"1\" class=\"dataframe\">\n",
       "  <thead>\n",
       "    <tr style=\"text-align: right;\">\n",
       "      <th></th>\n",
       "      <th>Web_Ad_Outlet_Source__c</th>\n",
       "      <th>Web_Ad_Outlet_Source_code</th>\n",
       "    </tr>\n",
       "  </thead>\n",
       "  <tbody>\n",
       "    <tr>\n",
       "      <th>15008</th>\n",
       "      <td>Direct</td>\n",
       "      <td>3.0</td>\n",
       "    </tr>\n",
       "    <tr>\n",
       "      <th>7065</th>\n",
       "      <td>Digital-Organic</td>\n",
       "      <td>1.0</td>\n",
       "    </tr>\n",
       "    <tr>\n",
       "      <th>3535</th>\n",
       "      <td>Lending Tree</td>\n",
       "      <td>4.0</td>\n",
       "    </tr>\n",
       "    <tr>\n",
       "      <th>1485</th>\n",
       "      <td>Digital - Affiliate</td>\n",
       "      <td>0.0</td>\n",
       "    </tr>\n",
       "    <tr>\n",
       "      <th>14834</th>\n",
       "      <td>Strategic Partners</td>\n",
       "      <td>5.0</td>\n",
       "    </tr>\n",
       "  </tbody>\n",
       "</table>\n",
       "</div>"
      ],
      "text/plain": [
       "      Web_Ad_Outlet_Source__c  Web_Ad_Outlet_Source_code\n",
       "15008                  Direct                        3.0\n",
       "7065          Digital-Organic                        1.0\n",
       "3535             Lending Tree                        4.0\n",
       "1485      Digital - Affiliate                        0.0\n",
       "14834      Strategic Partners                        5.0"
      ]
     },
     "execution_count": 340,
     "metadata": {},
     "output_type": "execute_result"
    }
   ],
   "source": [
    "from sklearn.preprocessing import OrdinalEncoder\n",
    "\n",
    "ord_enc = OrdinalEncoder()\n",
    "LeadScore_df['Web_Ad_Outlet_Source_code'] = ord_enc.fit_transform(LeadScore_df[['Web_Ad_Outlet_Source__c']])\n",
    "LeadScore_df[['Web_Ad_Outlet_Source__c',\"Web_Ad_Outlet_Source_code\"]].sample(5)"
   ]
  },
  {
   "cell_type": "code",
   "execution_count": 341,
   "id": "ab64eaac",
   "metadata": {},
   "outputs": [],
   "source": [
    "#LeadScore_df =LeadScore_df.dropna(subset = ['State'], axis = 0)"
   ]
  },
  {
   "cell_type": "code",
   "execution_count": 342,
   "id": "7461ce13",
   "metadata": {},
   "outputs": [],
   "source": [
    "#from sklearn.preprocessing import OrdinalEncoder\n",
    "\n",
    "#ord_enc = OrdinalEncoder()\n",
    "#LeadScore_df['State_code'] = ord_enc.fit_transform(LeadScore_df[['State']])\n",
    "#LeadScore_df[['State_code',\"State\"]].tail(5)"
   ]
  },
  {
   "cell_type": "code",
   "execution_count": 343,
   "id": "10209267",
   "metadata": {},
   "outputs": [],
   "source": [
    "#LeadScore_df =LeadScore_df.dropna(subset = ['Company_vertical'], axis = 0)"
   ]
  },
  {
   "cell_type": "code",
   "execution_count": 344,
   "id": "7ef3eee6",
   "metadata": {},
   "outputs": [],
   "source": [
    "#from sklearn.preprocessing import OrdinalEncoder\n",
    "\n",
    "#ord_enc = OrdinalEncoder()\n",
    "#LeadScore_df['Company_vertical_code'] = ord_enc.fit_transform(LeadScore_df[['Company_vertical']])\n",
    "#LeadScore_df[['Company_vertical_code',\"Company_vertical\"]].sample(5)"
   ]
  },
  {
   "cell_type": "code",
   "execution_count": 345,
   "id": "5320eeaf",
   "metadata": {},
   "outputs": [],
   "source": [
    "#from sklearn.preprocessing import LabelEncoder\n",
    "\n",
    "#Number_of_employees_dict = {'51-200':125.0,'1001-5000':3000.0,'10001+':10001.0, '201-500':350.0, '5001-10000':7500.0,'501-1000':750.0}\n",
    "\n",
    " \n",
    "#LeadScore_df['Number_of_employees_range'].replace(Number_of_employees_dict, inplace=True)\n",
    "\n",
    "\n",
    "#LeadScore_df['Number_of_employees_range'].head()"
   ]
  },
  {
   "cell_type": "code",
   "execution_count": 346,
   "id": "eb194d30",
   "metadata": {},
   "outputs": [],
   "source": [
    "LeadScore_df['Permanently_Closed'].fillna(LeadScore_df['Permanently_Closed'].mean(), inplace =True)\n",
    "LeadScore_df['Map_Exists'].fillna(LeadScore_df['Map_Exists'].mean(), inplace =True)\n",
    "LeadScore_df['Has_Customer_Service'].fillna(LeadScore_df['Has_Customer_Service'].mean(), inplace =True)\n",
    "LeadScore_df['Is_established'].fillna(LeadScore_df['Is_established'].mean(), inplace =True)\n",
    "LeadScore_df['Unclaimed_Listing'].fillna(LeadScore_df['Unclaimed_Listing'].mean(), inplace =True)\n",
    "LeadScore_df['Difference'].fillna(LeadScore_df['Difference'].mean(), inplace =True)\n",
    "LeadScore_df['NAICS_sector_code'].fillna(LeadScore_df['NAICS_sector_code'].mean(), inplace =True)\n"
   ]
  },
  {
   "cell_type": "code",
   "execution_count": 347,
   "id": "7148a22b",
   "metadata": {},
   "outputs": [],
   "source": [
    "import re\n",
    "\n",
    "LeadScore_df['Email'] = LeadScore_df['Email'].str.lower()\n",
    "LeadScore_df['Email_stripped'] = LeadScore_df['Email'].str.replace('[^\\w]', '')\n",
    "LeadScore_df['Email_domain'] = LeadScore_df['Email'].str.split('@', expand=True)[1]\n",
    "        # Generating short domain name\n",
    "#LeadScore_df['Email_domain'] = LeadScore_df['Email'].str.lower()\n",
    "#LeadScore_df['short_domain'] = LeadScore_df['Email_domain'].str.split('.', expand=True)[1]"
   ]
  },
  {
   "cell_type": "code",
   "execution_count": 348,
   "id": "1eb8177a",
   "metadata": {},
   "outputs": [
    {
     "data": {
      "text/plain": [
       "0          gmail.com\n",
       "1          gmail.com\n",
       "2         icloud.com\n",
       "3          gmail.com\n",
       "4          gmail.com\n",
       "            ...     \n",
       "16601      gmail.com\n",
       "16602      gmail.com\n",
       "16603      gmail.com\n",
       "16604      gmail.com\n",
       "16605    hotmail.com\n",
       "Name: Email_domain, Length: 16606, dtype: object"
      ]
     },
     "execution_count": 348,
     "metadata": {},
     "output_type": "execute_result"
    }
   ],
   "source": [
    "LeadScore_df['Email_domain']"
   ]
  },
  {
   "cell_type": "code",
   "execution_count": 349,
   "id": "37ad6d50",
   "metadata": {},
   "outputs": [],
   "source": [
    "LeadScore_df =LeadScore_df.dropna(subset = ['Email_domain'], axis = 0)"
   ]
  },
  {
   "cell_type": "code",
   "execution_count": 350,
   "id": "5d89c958",
   "metadata": {},
   "outputs": [],
   "source": [
    "LeadScore_df['Email_domain'] = LeadScore_df['Email_domain'].apply(lambda x:0 if x == 'gmail.com' else 1 if x=='yahoo.com' else 2)"
   ]
  },
  {
   "cell_type": "code",
   "execution_count": 351,
   "id": "198ec8e8",
   "metadata": {},
   "outputs": [
    {
     "data": {
      "text/html": [
       "<div>\n",
       "<style scoped>\n",
       "    .dataframe tbody tr th:only-of-type {\n",
       "        vertical-align: middle;\n",
       "    }\n",
       "\n",
       "    .dataframe tbody tr th {\n",
       "        vertical-align: top;\n",
       "    }\n",
       "\n",
       "    .dataframe thead th {\n",
       "        text-align: right;\n",
       "    }\n",
       "</style>\n",
       "<table border=\"1\" class=\"dataframe\">\n",
       "  <thead>\n",
       "    <tr style=\"text-align: right;\">\n",
       "      <th></th>\n",
       "      <th>Is_Submitted</th>\n",
       "      <th>LS_Amount_to_Borrow</th>\n",
       "      <th>LS_GAS</th>\n",
       "      <th>LS_Self_Graded_Credit</th>\n",
       "      <th>Results_From_Wikipedia</th>\n",
       "      <th>Has_Customer_Service</th>\n",
       "      <th>Map_Exists</th>\n",
       "      <th>Unclaimed_Listing</th>\n",
       "      <th>Permanently_Closed</th>\n",
       "      <th>Rating</th>\n",
       "      <th>...</th>\n",
       "      <th>Company_credit_score</th>\n",
       "      <th>Number_of_socials</th>\n",
       "      <th>Confidence_Score</th>\n",
       "      <th>LS_State</th>\n",
       "      <th>Difference</th>\n",
       "      <th>address</th>\n",
       "      <th>company</th>\n",
       "      <th>Web_Ad_Outlet_code</th>\n",
       "      <th>Web_Ad_Outlet_Source_code</th>\n",
       "      <th>Email_domain</th>\n",
       "    </tr>\n",
       "  </thead>\n",
       "  <tbody>\n",
       "    <tr>\n",
       "      <th>0</th>\n",
       "      <td>0</td>\n",
       "      <td>150000</td>\n",
       "      <td>240000</td>\n",
       "      <td>3</td>\n",
       "      <td>0</td>\n",
       "      <td>0.0</td>\n",
       "      <td>0.0</td>\n",
       "      <td>1.0</td>\n",
       "      <td>0.0</td>\n",
       "      <td>4.8</td>\n",
       "      <td>...</td>\n",
       "      <td>51.212596</td>\n",
       "      <td>2.05007</td>\n",
       "      <td>100.0</td>\n",
       "      <td>40</td>\n",
       "      <td>730.000000</td>\n",
       "      <td>0</td>\n",
       "      <td>0</td>\n",
       "      <td>3.0</td>\n",
       "      <td>4.0</td>\n",
       "      <td>0</td>\n",
       "    </tr>\n",
       "    <tr>\n",
       "      <th>1</th>\n",
       "      <td>0</td>\n",
       "      <td>15000</td>\n",
       "      <td>150000</td>\n",
       "      <td>2</td>\n",
       "      <td>0</td>\n",
       "      <td>0.0</td>\n",
       "      <td>0.0</td>\n",
       "      <td>1.0</td>\n",
       "      <td>0.0</td>\n",
       "      <td>4.8</td>\n",
       "      <td>...</td>\n",
       "      <td>51.212596</td>\n",
       "      <td>2.05007</td>\n",
       "      <td>100.0</td>\n",
       "      <td>3</td>\n",
       "      <td>3658.584025</td>\n",
       "      <td>0</td>\n",
       "      <td>0</td>\n",
       "      <td>3.0</td>\n",
       "      <td>4.0</td>\n",
       "      <td>0</td>\n",
       "    </tr>\n",
       "    <tr>\n",
       "      <th>2</th>\n",
       "      <td>0</td>\n",
       "      <td>37500</td>\n",
       "      <td>60000</td>\n",
       "      <td>0</td>\n",
       "      <td>0</td>\n",
       "      <td>0.0</td>\n",
       "      <td>0.0</td>\n",
       "      <td>1.0</td>\n",
       "      <td>0.0</td>\n",
       "      <td>4.8</td>\n",
       "      <td>...</td>\n",
       "      <td>51.212596</td>\n",
       "      <td>2.05007</td>\n",
       "      <td>99.0</td>\n",
       "      <td>47</td>\n",
       "      <td>3658.584025</td>\n",
       "      <td>0</td>\n",
       "      <td>0</td>\n",
       "      <td>0.0</td>\n",
       "      <td>1.0</td>\n",
       "      <td>2</td>\n",
       "    </tr>\n",
       "    <tr>\n",
       "      <th>3</th>\n",
       "      <td>0</td>\n",
       "      <td>37500</td>\n",
       "      <td>60000</td>\n",
       "      <td>0</td>\n",
       "      <td>0</td>\n",
       "      <td>0.0</td>\n",
       "      <td>0.0</td>\n",
       "      <td>1.0</td>\n",
       "      <td>0.0</td>\n",
       "      <td>4.8</td>\n",
       "      <td>...</td>\n",
       "      <td>51.212596</td>\n",
       "      <td>2.05007</td>\n",
       "      <td>100.0</td>\n",
       "      <td>47</td>\n",
       "      <td>3658.584025</td>\n",
       "      <td>0</td>\n",
       "      <td>1</td>\n",
       "      <td>1.0</td>\n",
       "      <td>2.0</td>\n",
       "      <td>0</td>\n",
       "    </tr>\n",
       "    <tr>\n",
       "      <th>4</th>\n",
       "      <td>0</td>\n",
       "      <td>7500</td>\n",
       "      <td>150000</td>\n",
       "      <td>0</td>\n",
       "      <td>0</td>\n",
       "      <td>0.0</td>\n",
       "      <td>0.0</td>\n",
       "      <td>1.0</td>\n",
       "      <td>0.0</td>\n",
       "      <td>4.8</td>\n",
       "      <td>...</td>\n",
       "      <td>48.000000</td>\n",
       "      <td>2.05007</td>\n",
       "      <td>100.0</td>\n",
       "      <td>47</td>\n",
       "      <td>3658.584025</td>\n",
       "      <td>0</td>\n",
       "      <td>1</td>\n",
       "      <td>0.0</td>\n",
       "      <td>1.0</td>\n",
       "      <td>0</td>\n",
       "    </tr>\n",
       "    <tr>\n",
       "      <th>...</th>\n",
       "      <td>...</td>\n",
       "      <td>...</td>\n",
       "      <td>...</td>\n",
       "      <td>...</td>\n",
       "      <td>...</td>\n",
       "      <td>...</td>\n",
       "      <td>...</td>\n",
       "      <td>...</td>\n",
       "      <td>...</td>\n",
       "      <td>...</td>\n",
       "      <td>...</td>\n",
       "      <td>...</td>\n",
       "      <td>...</td>\n",
       "      <td>...</td>\n",
       "      <td>...</td>\n",
       "      <td>...</td>\n",
       "      <td>...</td>\n",
       "      <td>...</td>\n",
       "      <td>...</td>\n",
       "      <td>...</td>\n",
       "      <td>...</td>\n",
       "    </tr>\n",
       "    <tr>\n",
       "      <th>16601</th>\n",
       "      <td>0</td>\n",
       "      <td>7500</td>\n",
       "      <td>60000</td>\n",
       "      <td>0</td>\n",
       "      <td>0</td>\n",
       "      <td>0.0</td>\n",
       "      <td>1.0</td>\n",
       "      <td>1.0</td>\n",
       "      <td>0.0</td>\n",
       "      <td>4.8</td>\n",
       "      <td>...</td>\n",
       "      <td>51.212596</td>\n",
       "      <td>2.05007</td>\n",
       "      <td>100.0</td>\n",
       "      <td>47</td>\n",
       "      <td>730.000000</td>\n",
       "      <td>0</td>\n",
       "      <td>1</td>\n",
       "      <td>16.0</td>\n",
       "      <td>5.0</td>\n",
       "      <td>0</td>\n",
       "    </tr>\n",
       "    <tr>\n",
       "      <th>16602</th>\n",
       "      <td>1</td>\n",
       "      <td>37500</td>\n",
       "      <td>750000</td>\n",
       "      <td>0</td>\n",
       "      <td>0</td>\n",
       "      <td>0.0</td>\n",
       "      <td>0.0</td>\n",
       "      <td>1.0</td>\n",
       "      <td>0.0</td>\n",
       "      <td>4.8</td>\n",
       "      <td>...</td>\n",
       "      <td>51.212596</td>\n",
       "      <td>2.05007</td>\n",
       "      <td>100.0</td>\n",
       "      <td>47</td>\n",
       "      <td>3658.584025</td>\n",
       "      <td>1</td>\n",
       "      <td>1</td>\n",
       "      <td>20.0</td>\n",
       "      <td>3.0</td>\n",
       "      <td>0</td>\n",
       "    </tr>\n",
       "    <tr>\n",
       "      <th>16603</th>\n",
       "      <td>0</td>\n",
       "      <td>7500</td>\n",
       "      <td>60000</td>\n",
       "      <td>0</td>\n",
       "      <td>0</td>\n",
       "      <td>0.0</td>\n",
       "      <td>1.0</td>\n",
       "      <td>1.0</td>\n",
       "      <td>0.0</td>\n",
       "      <td>4.8</td>\n",
       "      <td>...</td>\n",
       "      <td>51.212596</td>\n",
       "      <td>2.05007</td>\n",
       "      <td>100.0</td>\n",
       "      <td>47</td>\n",
       "      <td>365.000000</td>\n",
       "      <td>1</td>\n",
       "      <td>1</td>\n",
       "      <td>16.0</td>\n",
       "      <td>5.0</td>\n",
       "      <td>0</td>\n",
       "    </tr>\n",
       "    <tr>\n",
       "      <th>16604</th>\n",
       "      <td>0</td>\n",
       "      <td>25000</td>\n",
       "      <td>300000</td>\n",
       "      <td>0</td>\n",
       "      <td>0</td>\n",
       "      <td>0.0</td>\n",
       "      <td>1.0</td>\n",
       "      <td>1.0</td>\n",
       "      <td>0.0</td>\n",
       "      <td>5.0</td>\n",
       "      <td>...</td>\n",
       "      <td>51.212596</td>\n",
       "      <td>2.05007</td>\n",
       "      <td>100.0</td>\n",
       "      <td>47</td>\n",
       "      <td>4748.000000</td>\n",
       "      <td>0</td>\n",
       "      <td>0</td>\n",
       "      <td>17.0</td>\n",
       "      <td>5.0</td>\n",
       "      <td>0</td>\n",
       "    </tr>\n",
       "    <tr>\n",
       "      <th>16605</th>\n",
       "      <td>0</td>\n",
       "      <td>25000</td>\n",
       "      <td>360000</td>\n",
       "      <td>3</td>\n",
       "      <td>0</td>\n",
       "      <td>0.0</td>\n",
       "      <td>0.0</td>\n",
       "      <td>1.0</td>\n",
       "      <td>0.0</td>\n",
       "      <td>4.8</td>\n",
       "      <td>...</td>\n",
       "      <td>51.212596</td>\n",
       "      <td>2.05007</td>\n",
       "      <td>100.0</td>\n",
       "      <td>40</td>\n",
       "      <td>3658.584025</td>\n",
       "      <td>1</td>\n",
       "      <td>1</td>\n",
       "      <td>3.0</td>\n",
       "      <td>4.0</td>\n",
       "      <td>2</td>\n",
       "    </tr>\n",
       "  </tbody>\n",
       "</table>\n",
       "<p>16606 rows × 30 columns</p>\n",
       "</div>"
      ],
      "text/plain": [
       "       Is_Submitted  LS_Amount_to_Borrow  LS_GAS  LS_Self_Graded_Credit  \\\n",
       "0                 0               150000  240000                      3   \n",
       "1                 0                15000  150000                      2   \n",
       "2                 0                37500   60000                      0   \n",
       "3                 0                37500   60000                      0   \n",
       "4                 0                 7500  150000                      0   \n",
       "...             ...                  ...     ...                    ...   \n",
       "16601             0                 7500   60000                      0   \n",
       "16602             1                37500  750000                      0   \n",
       "16603             0                 7500   60000                      0   \n",
       "16604             0                25000  300000                      0   \n",
       "16605             0                25000  360000                      3   \n",
       "\n",
       "       Results_From_Wikipedia  Has_Customer_Service  Map_Exists  \\\n",
       "0                           0                   0.0         0.0   \n",
       "1                           0                   0.0         0.0   \n",
       "2                           0                   0.0         0.0   \n",
       "3                           0                   0.0         0.0   \n",
       "4                           0                   0.0         0.0   \n",
       "...                       ...                   ...         ...   \n",
       "16601                       0                   0.0         1.0   \n",
       "16602                       0                   0.0         0.0   \n",
       "16603                       0                   0.0         1.0   \n",
       "16604                       0                   0.0         1.0   \n",
       "16605                       0                   0.0         0.0   \n",
       "\n",
       "       Unclaimed_Listing  Permanently_Closed  Rating  ...  \\\n",
       "0                    1.0                 0.0     4.8  ...   \n",
       "1                    1.0                 0.0     4.8  ...   \n",
       "2                    1.0                 0.0     4.8  ...   \n",
       "3                    1.0                 0.0     4.8  ...   \n",
       "4                    1.0                 0.0     4.8  ...   \n",
       "...                  ...                 ...     ...  ...   \n",
       "16601                1.0                 0.0     4.8  ...   \n",
       "16602                1.0                 0.0     4.8  ...   \n",
       "16603                1.0                 0.0     4.8  ...   \n",
       "16604                1.0                 0.0     5.0  ...   \n",
       "16605                1.0                 0.0     4.8  ...   \n",
       "\n",
       "       Company_credit_score  Number_of_socials  Confidence_Score  LS_State  \\\n",
       "0                 51.212596            2.05007             100.0        40   \n",
       "1                 51.212596            2.05007             100.0         3   \n",
       "2                 51.212596            2.05007              99.0        47   \n",
       "3                 51.212596            2.05007             100.0        47   \n",
       "4                 48.000000            2.05007             100.0        47   \n",
       "...                     ...                ...               ...       ...   \n",
       "16601             51.212596            2.05007             100.0        47   \n",
       "16602             51.212596            2.05007             100.0        47   \n",
       "16603             51.212596            2.05007             100.0        47   \n",
       "16604             51.212596            2.05007             100.0        47   \n",
       "16605             51.212596            2.05007             100.0        40   \n",
       "\n",
       "        Difference  address  company  Web_Ad_Outlet_code  \\\n",
       "0       730.000000        0        0                 3.0   \n",
       "1      3658.584025        0        0                 3.0   \n",
       "2      3658.584025        0        0                 0.0   \n",
       "3      3658.584025        0        1                 1.0   \n",
       "4      3658.584025        0        1                 0.0   \n",
       "...            ...      ...      ...                 ...   \n",
       "16601   730.000000        0        1                16.0   \n",
       "16602  3658.584025        1        1                20.0   \n",
       "16603   365.000000        1        1                16.0   \n",
       "16604  4748.000000        0        0                17.0   \n",
       "16605  3658.584025        1        1                 3.0   \n",
       "\n",
       "       Web_Ad_Outlet_Source_code  Email_domain  \n",
       "0                            4.0             0  \n",
       "1                            4.0             0  \n",
       "2                            1.0             2  \n",
       "3                            2.0             0  \n",
       "4                            1.0             0  \n",
       "...                          ...           ...  \n",
       "16601                        5.0             0  \n",
       "16602                        3.0             0  \n",
       "16603                        5.0             0  \n",
       "16604                        5.0             0  \n",
       "16605                        4.0             2  \n",
       "\n",
       "[16606 rows x 30 columns]"
      ]
     },
     "execution_count": 351,
     "metadata": {},
     "output_type": "execute_result"
    }
   ],
   "source": [
    "LeadScore_df = LeadScore_df.drop(['City','Company','Region_count','Email','FirstName','LastName','Phone','NAICS','PostalCode','Street', 'SubmitterIP__c','Home_Street_Address', 'Longitude', 'Latitude',\n",
    "                                  'Company_Website','Results_From_Wikipedia_1','Results_Snippets','Company_Website_1','Company_type','Domain_expiry_date','Domain_creation_date','$100,000_to_$149,999_-_non-family_households_income',\n",
    "                                  'Less_than_$20,000_-_family_households', 'Average_title_length','Establishment_year','QoQ_employees_ages_20-30','DUNS','Average_number_of_reviews','Total_number_of_businesses',\n",
    "                                  'Money_spend_on_website_technologies','Web_Ad_Outlet__c','Web_Ad_Outlet_Source__c','State','Company_vertical','Full_Name','Email_stripped','Website','Number_of_employees_range','Company_vertical'], axis=1)\n",
    "       \n",
    "LeadScore_df  "
   ]
  },
  {
   "cell_type": "code",
   "execution_count": 352,
   "id": "23a28c39",
   "metadata": {},
   "outputs": [],
   "source": [
    "#LeadScore_df.to_csv('Train6-8leads.csv', index = False)"
   ]
  },
  {
   "cell_type": "code",
   "execution_count": 353,
   "id": "77777f2c",
   "metadata": {},
   "outputs": [
    {
     "data": {
      "text/html": [
       "<div>\n",
       "<style scoped>\n",
       "    .dataframe tbody tr th:only-of-type {\n",
       "        vertical-align: middle;\n",
       "    }\n",
       "\n",
       "    .dataframe tbody tr th {\n",
       "        vertical-align: top;\n",
       "    }\n",
       "\n",
       "    .dataframe thead th {\n",
       "        text-align: right;\n",
       "    }\n",
       "</style>\n",
       "<table border=\"1\" class=\"dataframe\">\n",
       "  <thead>\n",
       "    <tr style=\"text-align: right;\">\n",
       "      <th></th>\n",
       "      <th>Is_Submitted</th>\n",
       "      <th>LS_Amount_to_Borrow</th>\n",
       "      <th>LS_GAS</th>\n",
       "      <th>LS_Self_Graded_Credit</th>\n",
       "      <th>Results_From_Wikipedia</th>\n",
       "      <th>Has_Customer_Service</th>\n",
       "      <th>Map_Exists</th>\n",
       "      <th>Unclaimed_Listing</th>\n",
       "      <th>Permanently_Closed</th>\n",
       "      <th>Rating</th>\n",
       "      <th>...</th>\n",
       "      <th>Company_credit_score</th>\n",
       "      <th>Number_of_socials</th>\n",
       "      <th>Confidence_Score</th>\n",
       "      <th>LS_State</th>\n",
       "      <th>Difference</th>\n",
       "      <th>address</th>\n",
       "      <th>company</th>\n",
       "      <th>Web_Ad_Outlet_code</th>\n",
       "      <th>Web_Ad_Outlet_Source_code</th>\n",
       "      <th>Email_domain</th>\n",
       "    </tr>\n",
       "  </thead>\n",
       "  <tbody>\n",
       "    <tr>\n",
       "      <th>count</th>\n",
       "      <td>16606.000000</td>\n",
       "      <td>1.660600e+04</td>\n",
       "      <td>1.660600e+04</td>\n",
       "      <td>16606.000000</td>\n",
       "      <td>16606.000000</td>\n",
       "      <td>16606.000000</td>\n",
       "      <td>16606.000000</td>\n",
       "      <td>16606.0</td>\n",
       "      <td>16606.000000</td>\n",
       "      <td>16606.000000</td>\n",
       "      <td>...</td>\n",
       "      <td>16606.000000</td>\n",
       "      <td>16606.000000</td>\n",
       "      <td>16606.000000</td>\n",
       "      <td>16606.000000</td>\n",
       "      <td>16606.000000</td>\n",
       "      <td>16606.000000</td>\n",
       "      <td>16606.000000</td>\n",
       "      <td>16606.000000</td>\n",
       "      <td>16606.000000</td>\n",
       "      <td>16606.000000</td>\n",
       "    </tr>\n",
       "    <tr>\n",
       "      <th>mean</th>\n",
       "      <td>0.182946</td>\n",
       "      <td>9.562914e+04</td>\n",
       "      <td>6.626102e+05</td>\n",
       "      <td>0.710707</td>\n",
       "      <td>0.020173</td>\n",
       "      <td>0.001502</td>\n",
       "      <td>0.312240</td>\n",
       "      <td>1.0</td>\n",
       "      <td>0.005052</td>\n",
       "      <td>4.740293</td>\n",
       "      <td>...</td>\n",
       "      <td>51.212596</td>\n",
       "      <td>2.050070</td>\n",
       "      <td>99.493677</td>\n",
       "      <td>31.705649</td>\n",
       "      <td>3658.584025</td>\n",
       "      <td>0.297302</td>\n",
       "      <td>0.585993</td>\n",
       "      <td>9.520414</td>\n",
       "      <td>3.174937</td>\n",
       "      <td>0.730880</td>\n",
       "    </tr>\n",
       "    <tr>\n",
       "      <th>std</th>\n",
       "      <td>0.386634</td>\n",
       "      <td>8.620737e+05</td>\n",
       "      <td>1.252162e+07</td>\n",
       "      <td>1.151416</td>\n",
       "      <td>0.140597</td>\n",
       "      <td>0.036372</td>\n",
       "      <td>0.435258</td>\n",
       "      <td>0.0</td>\n",
       "      <td>0.066588</td>\n",
       "      <td>0.359052</td>\n",
       "      <td>...</td>\n",
       "      <td>7.805106</td>\n",
       "      <td>0.882599</td>\n",
       "      <td>1.609570</td>\n",
       "      <td>16.577451</td>\n",
       "      <td>2051.794068</td>\n",
       "      <td>0.457084</td>\n",
       "      <td>0.492565</td>\n",
       "      <td>8.851543</td>\n",
       "      <td>1.469735</td>\n",
       "      <td>0.894303</td>\n",
       "    </tr>\n",
       "    <tr>\n",
       "      <th>min</th>\n",
       "      <td>0.000000</td>\n",
       "      <td>1.000000e+00</td>\n",
       "      <td>6.000000e+04</td>\n",
       "      <td>0.000000</td>\n",
       "      <td>0.000000</td>\n",
       "      <td>0.000000</td>\n",
       "      <td>0.000000</td>\n",
       "      <td>1.0</td>\n",
       "      <td>0.000000</td>\n",
       "      <td>1.000000</td>\n",
       "      <td>...</td>\n",
       "      <td>1.000000</td>\n",
       "      <td>0.000000</td>\n",
       "      <td>89.000000</td>\n",
       "      <td>0.000000</td>\n",
       "      <td>365.000000</td>\n",
       "      <td>0.000000</td>\n",
       "      <td>0.000000</td>\n",
       "      <td>0.000000</td>\n",
       "      <td>0.000000</td>\n",
       "      <td>0.000000</td>\n",
       "    </tr>\n",
       "    <tr>\n",
       "      <th>25%</th>\n",
       "      <td>0.000000</td>\n",
       "      <td>1.750000e+04</td>\n",
       "      <td>6.000000e+04</td>\n",
       "      <td>0.000000</td>\n",
       "      <td>0.000000</td>\n",
       "      <td>0.000000</td>\n",
       "      <td>0.000000</td>\n",
       "      <td>1.0</td>\n",
       "      <td>0.000000</td>\n",
       "      <td>4.800000</td>\n",
       "      <td>...</td>\n",
       "      <td>51.212596</td>\n",
       "      <td>2.050070</td>\n",
       "      <td>100.000000</td>\n",
       "      <td>14.000000</td>\n",
       "      <td>3287.000000</td>\n",
       "      <td>0.000000</td>\n",
       "      <td>0.000000</td>\n",
       "      <td>3.000000</td>\n",
       "      <td>3.000000</td>\n",
       "      <td>0.000000</td>\n",
       "    </tr>\n",
       "    <tr>\n",
       "      <th>50%</th>\n",
       "      <td>0.000000</td>\n",
       "      <td>3.750000e+04</td>\n",
       "      <td>1.500000e+05</td>\n",
       "      <td>0.000000</td>\n",
       "      <td>0.000000</td>\n",
       "      <td>0.000000</td>\n",
       "      <td>0.000000</td>\n",
       "      <td>1.0</td>\n",
       "      <td>0.000000</td>\n",
       "      <td>4.800000</td>\n",
       "      <td>...</td>\n",
       "      <td>51.212596</td>\n",
       "      <td>2.050070</td>\n",
       "      <td>100.000000</td>\n",
       "      <td>40.000000</td>\n",
       "      <td>3658.584025</td>\n",
       "      <td>0.000000</td>\n",
       "      <td>1.000000</td>\n",
       "      <td>3.000000</td>\n",
       "      <td>4.000000</td>\n",
       "      <td>0.000000</td>\n",
       "    </tr>\n",
       "    <tr>\n",
       "      <th>75%</th>\n",
       "      <td>0.000000</td>\n",
       "      <td>7.500000e+04</td>\n",
       "      <td>3.500000e+05</td>\n",
       "      <td>1.000000</td>\n",
       "      <td>0.000000</td>\n",
       "      <td>0.000000</td>\n",
       "      <td>1.000000</td>\n",
       "      <td>1.0</td>\n",
       "      <td>0.000000</td>\n",
       "      <td>4.800000</td>\n",
       "      <td>...</td>\n",
       "      <td>51.212596</td>\n",
       "      <td>2.050070</td>\n",
       "      <td>100.000000</td>\n",
       "      <td>47.000000</td>\n",
       "      <td>3658.584025</td>\n",
       "      <td>1.000000</td>\n",
       "      <td>1.000000</td>\n",
       "      <td>17.000000</td>\n",
       "      <td>4.000000</td>\n",
       "      <td>2.000000</td>\n",
       "    </tr>\n",
       "    <tr>\n",
       "      <th>max</th>\n",
       "      <td>1.000000</td>\n",
       "      <td>5.000000e+07</td>\n",
       "      <td>9.428400e+08</td>\n",
       "      <td>4.000000</td>\n",
       "      <td>1.000000</td>\n",
       "      <td>1.000000</td>\n",
       "      <td>1.000000</td>\n",
       "      <td>1.0</td>\n",
       "      <td>1.000000</td>\n",
       "      <td>5.000000</td>\n",
       "      <td>...</td>\n",
       "      <td>100.000000</td>\n",
       "      <td>11.000000</td>\n",
       "      <td>100.000000</td>\n",
       "      <td>47.000000</td>\n",
       "      <td>36563.000000</td>\n",
       "      <td>1.000000</td>\n",
       "      <td>1.000000</td>\n",
       "      <td>27.000000</td>\n",
       "      <td>5.000000</td>\n",
       "      <td>2.000000</td>\n",
       "    </tr>\n",
       "  </tbody>\n",
       "</table>\n",
       "<p>8 rows × 30 columns</p>\n",
       "</div>"
      ],
      "text/plain": [
       "       Is_Submitted  LS_Amount_to_Borrow        LS_GAS  LS_Self_Graded_Credit  \\\n",
       "count  16606.000000         1.660600e+04  1.660600e+04           16606.000000   \n",
       "mean       0.182946         9.562914e+04  6.626102e+05               0.710707   \n",
       "std        0.386634         8.620737e+05  1.252162e+07               1.151416   \n",
       "min        0.000000         1.000000e+00  6.000000e+04               0.000000   \n",
       "25%        0.000000         1.750000e+04  6.000000e+04               0.000000   \n",
       "50%        0.000000         3.750000e+04  1.500000e+05               0.000000   \n",
       "75%        0.000000         7.500000e+04  3.500000e+05               1.000000   \n",
       "max        1.000000         5.000000e+07  9.428400e+08               4.000000   \n",
       "\n",
       "       Results_From_Wikipedia  Has_Customer_Service    Map_Exists  \\\n",
       "count            16606.000000          16606.000000  16606.000000   \n",
       "mean                 0.020173              0.001502      0.312240   \n",
       "std                  0.140597              0.036372      0.435258   \n",
       "min                  0.000000              0.000000      0.000000   \n",
       "25%                  0.000000              0.000000      0.000000   \n",
       "50%                  0.000000              0.000000      0.000000   \n",
       "75%                  0.000000              0.000000      1.000000   \n",
       "max                  1.000000              1.000000      1.000000   \n",
       "\n",
       "       Unclaimed_Listing  Permanently_Closed        Rating  ...  \\\n",
       "count            16606.0        16606.000000  16606.000000  ...   \n",
       "mean                 1.0            0.005052      4.740293  ...   \n",
       "std                  0.0            0.066588      0.359052  ...   \n",
       "min                  1.0            0.000000      1.000000  ...   \n",
       "25%                  1.0            0.000000      4.800000  ...   \n",
       "50%                  1.0            0.000000      4.800000  ...   \n",
       "75%                  1.0            0.000000      4.800000  ...   \n",
       "max                  1.0            1.000000      5.000000  ...   \n",
       "\n",
       "       Company_credit_score  Number_of_socials  Confidence_Score  \\\n",
       "count          16606.000000       16606.000000      16606.000000   \n",
       "mean              51.212596           2.050070         99.493677   \n",
       "std                7.805106           0.882599          1.609570   \n",
       "min                1.000000           0.000000         89.000000   \n",
       "25%               51.212596           2.050070        100.000000   \n",
       "50%               51.212596           2.050070        100.000000   \n",
       "75%               51.212596           2.050070        100.000000   \n",
       "max              100.000000          11.000000        100.000000   \n",
       "\n",
       "           LS_State    Difference       address       company  \\\n",
       "count  16606.000000  16606.000000  16606.000000  16606.000000   \n",
       "mean      31.705649   3658.584025      0.297302      0.585993   \n",
       "std       16.577451   2051.794068      0.457084      0.492565   \n",
       "min        0.000000    365.000000      0.000000      0.000000   \n",
       "25%       14.000000   3287.000000      0.000000      0.000000   \n",
       "50%       40.000000   3658.584025      0.000000      1.000000   \n",
       "75%       47.000000   3658.584025      1.000000      1.000000   \n",
       "max       47.000000  36563.000000      1.000000      1.000000   \n",
       "\n",
       "       Web_Ad_Outlet_code  Web_Ad_Outlet_Source_code  Email_domain  \n",
       "count        16606.000000               16606.000000  16606.000000  \n",
       "mean             9.520414                   3.174937      0.730880  \n",
       "std              8.851543                   1.469735      0.894303  \n",
       "min              0.000000                   0.000000      0.000000  \n",
       "25%              3.000000                   3.000000      0.000000  \n",
       "50%              3.000000                   4.000000      0.000000  \n",
       "75%             17.000000                   4.000000      2.000000  \n",
       "max             27.000000                   5.000000      2.000000  \n",
       "\n",
       "[8 rows x 30 columns]"
      ]
     },
     "execution_count": 353,
     "metadata": {},
     "output_type": "execute_result"
    }
   ],
   "source": [
    "LeadScore_df.describe()"
   ]
  },
  {
   "cell_type": "code",
   "execution_count": 354,
   "id": "8907180f",
   "metadata": {},
   "outputs": [
    {
     "data": {
      "text/plain": [
       "18.29459231603035"
      ]
     },
     "execution_count": 354,
     "metadata": {},
     "output_type": "execute_result"
    }
   ],
   "source": [
    "Submitted = (sum(LeadScore_df[\"Is_Submitted\"])/len(LeadScore_df['Is_Submitted'].index))*100\n",
    "Submitted"
   ]
  },
  {
   "cell_type": "code",
   "execution_count": 355,
   "id": "de38f61c",
   "metadata": {},
   "outputs": [],
   "source": [
    "#df['address'] = df['Results_Snippets'].apply(lambda x: 'address' in x.lower())"
   ]
  },
  {
   "cell_type": "code",
   "execution_count": 356,
   "id": "730e2cf9",
   "metadata": {},
   "outputs": [
    {
     "data": {
      "text/html": [
       "<div>\n",
       "<style scoped>\n",
       "    .dataframe tbody tr th:only-of-type {\n",
       "        vertical-align: middle;\n",
       "    }\n",
       "\n",
       "    .dataframe tbody tr th {\n",
       "        vertical-align: top;\n",
       "    }\n",
       "\n",
       "    .dataframe thead th {\n",
       "        text-align: right;\n",
       "    }\n",
       "</style>\n",
       "<table border=\"1\" class=\"dataframe\">\n",
       "  <thead>\n",
       "    <tr style=\"text-align: right;\">\n",
       "      <th></th>\n",
       "      <th>Is_Submitted</th>\n",
       "      <th>LS_Amount_to_Borrow</th>\n",
       "      <th>LS_GAS</th>\n",
       "      <th>LS_Self_Graded_Credit</th>\n",
       "      <th>Results_From_Wikipedia</th>\n",
       "      <th>Has_Customer_Service</th>\n",
       "      <th>Map_Exists</th>\n",
       "      <th>Unclaimed_Listing</th>\n",
       "      <th>Permanently_Closed</th>\n",
       "      <th>Rating</th>\n",
       "      <th>...</th>\n",
       "      <th>Company_credit_score</th>\n",
       "      <th>Number_of_socials</th>\n",
       "      <th>Confidence_Score</th>\n",
       "      <th>LS_State</th>\n",
       "      <th>Difference</th>\n",
       "      <th>address</th>\n",
       "      <th>company</th>\n",
       "      <th>Web_Ad_Outlet_code</th>\n",
       "      <th>Web_Ad_Outlet_Source_code</th>\n",
       "      <th>Email_domain</th>\n",
       "    </tr>\n",
       "  </thead>\n",
       "  <tbody>\n",
       "    <tr>\n",
       "      <th>Is_Submitted</th>\n",
       "      <td>1.000000</td>\n",
       "      <td>-0.026978</td>\n",
       "      <td>-0.013557</td>\n",
       "      <td>-0.059405</td>\n",
       "      <td>-0.024691</td>\n",
       "      <td>-0.013198</td>\n",
       "      <td>0.021948</td>\n",
       "      <td>NaN</td>\n",
       "      <td>0.007649</td>\n",
       "      <td>-0.015621</td>\n",
       "      <td>...</td>\n",
       "      <td>0.001002</td>\n",
       "      <td>-0.014585</td>\n",
       "      <td>0.002149</td>\n",
       "      <td>0.027533</td>\n",
       "      <td>-0.034594</td>\n",
       "      <td>0.020718</td>\n",
       "      <td>0.041031</td>\n",
       "      <td>-0.034051</td>\n",
       "      <td>-0.064802</td>\n",
       "      <td>0.031104</td>\n",
       "    </tr>\n",
       "    <tr>\n",
       "      <th>LS_Amount_to_Borrow</th>\n",
       "      <td>-0.026978</td>\n",
       "      <td>1.000000</td>\n",
       "      <td>0.245492</td>\n",
       "      <td>-0.014148</td>\n",
       "      <td>0.054114</td>\n",
       "      <td>0.022327</td>\n",
       "      <td>-0.012498</td>\n",
       "      <td>NaN</td>\n",
       "      <td>-0.003049</td>\n",
       "      <td>-0.000485</td>\n",
       "      <td>...</td>\n",
       "      <td>0.015668</td>\n",
       "      <td>0.008888</td>\n",
       "      <td>0.002764</td>\n",
       "      <td>0.044242</td>\n",
       "      <td>0.041366</td>\n",
       "      <td>-0.020895</td>\n",
       "      <td>-0.021620</td>\n",
       "      <td>0.037999</td>\n",
       "      <td>0.078184</td>\n",
       "      <td>0.026368</td>\n",
       "    </tr>\n",
       "    <tr>\n",
       "      <th>LS_GAS</th>\n",
       "      <td>-0.013557</td>\n",
       "      <td>0.245492</td>\n",
       "      <td>1.000000</td>\n",
       "      <td>-0.014601</td>\n",
       "      <td>0.041976</td>\n",
       "      <td>0.001844</td>\n",
       "      <td>0.002899</td>\n",
       "      <td>NaN</td>\n",
       "      <td>-0.001974</td>\n",
       "      <td>-0.028070</td>\n",
       "      <td>...</td>\n",
       "      <td>0.020675</td>\n",
       "      <td>0.015296</td>\n",
       "      <td>0.001874</td>\n",
       "      <td>0.028020</td>\n",
       "      <td>0.030787</td>\n",
       "      <td>-0.007756</td>\n",
       "      <td>-0.016150</td>\n",
       "      <td>0.022702</td>\n",
       "      <td>0.039949</td>\n",
       "      <td>0.015024</td>\n",
       "    </tr>\n",
       "    <tr>\n",
       "      <th>LS_Self_Graded_Credit</th>\n",
       "      <td>-0.059405</td>\n",
       "      <td>-0.014148</td>\n",
       "      <td>-0.014601</td>\n",
       "      <td>1.000000</td>\n",
       "      <td>-0.040953</td>\n",
       "      <td>-0.020344</td>\n",
       "      <td>0.069901</td>\n",
       "      <td>NaN</td>\n",
       "      <td>0.015250</td>\n",
       "      <td>-0.005074</td>\n",
       "      <td>...</td>\n",
       "      <td>-0.048308</td>\n",
       "      <td>-0.006501</td>\n",
       "      <td>0.075344</td>\n",
       "      <td>-0.380418</td>\n",
       "      <td>-0.006524</td>\n",
       "      <td>0.026003</td>\n",
       "      <td>-0.054355</td>\n",
       "      <td>-0.454716</td>\n",
       "      <td>0.346523</td>\n",
       "      <td>-0.018999</td>\n",
       "    </tr>\n",
       "    <tr>\n",
       "      <th>Results_From_Wikipedia</th>\n",
       "      <td>-0.024691</td>\n",
       "      <td>0.054114</td>\n",
       "      <td>0.041976</td>\n",
       "      <td>-0.040953</td>\n",
       "      <td>1.000000</td>\n",
       "      <td>0.182765</td>\n",
       "      <td>-0.069789</td>\n",
       "      <td>NaN</td>\n",
       "      <td>-0.010398</td>\n",
       "      <td>0.018732</td>\n",
       "      <td>...</td>\n",
       "      <td>0.029743</td>\n",
       "      <td>0.095916</td>\n",
       "      <td>-0.017133</td>\n",
       "      <td>0.081226</td>\n",
       "      <td>0.127157</td>\n",
       "      <td>-0.055848</td>\n",
       "      <td>-0.069836</td>\n",
       "      <td>-0.006210</td>\n",
       "      <td>0.008276</td>\n",
       "      <td>-0.009026</td>\n",
       "    </tr>\n",
       "    <tr>\n",
       "      <th>Has_Customer_Service</th>\n",
       "      <td>-0.013198</td>\n",
       "      <td>0.022327</td>\n",
       "      <td>0.001844</td>\n",
       "      <td>-0.020344</td>\n",
       "      <td>0.182765</td>\n",
       "      <td>1.000000</td>\n",
       "      <td>-0.026131</td>\n",
       "      <td>NaN</td>\n",
       "      <td>-0.002763</td>\n",
       "      <td>0.006867</td>\n",
       "      <td>...</td>\n",
       "      <td>0.017076</td>\n",
       "      <td>0.106741</td>\n",
       "      <td>0.001797</td>\n",
       "      <td>0.023696</td>\n",
       "      <td>0.100981</td>\n",
       "      <td>-0.023236</td>\n",
       "      <td>-0.025595</td>\n",
       "      <td>0.019410</td>\n",
       "      <td>0.026217</td>\n",
       "      <td>-0.005922</td>\n",
       "    </tr>\n",
       "    <tr>\n",
       "      <th>Map_Exists</th>\n",
       "      <td>0.021948</td>\n",
       "      <td>-0.012498</td>\n",
       "      <td>0.002899</td>\n",
       "      <td>0.069901</td>\n",
       "      <td>-0.069789</td>\n",
       "      <td>-0.026131</td>\n",
       "      <td>1.000000</td>\n",
       "      <td>NaN</td>\n",
       "      <td>0.105751</td>\n",
       "      <td>-0.262776</td>\n",
       "      <td>...</td>\n",
       "      <td>0.008397</td>\n",
       "      <td>-0.072595</td>\n",
       "      <td>0.007422</td>\n",
       "      <td>-0.041099</td>\n",
       "      <td>-0.152024</td>\n",
       "      <td>-0.024679</td>\n",
       "      <td>-0.086912</td>\n",
       "      <td>-0.002356</td>\n",
       "      <td>0.070197</td>\n",
       "      <td>0.066865</td>\n",
       "    </tr>\n",
       "    <tr>\n",
       "      <th>Unclaimed_Listing</th>\n",
       "      <td>NaN</td>\n",
       "      <td>NaN</td>\n",
       "      <td>NaN</td>\n",
       "      <td>NaN</td>\n",
       "      <td>NaN</td>\n",
       "      <td>NaN</td>\n",
       "      <td>NaN</td>\n",
       "      <td>NaN</td>\n",
       "      <td>NaN</td>\n",
       "      <td>NaN</td>\n",
       "      <td>...</td>\n",
       "      <td>NaN</td>\n",
       "      <td>NaN</td>\n",
       "      <td>NaN</td>\n",
       "      <td>NaN</td>\n",
       "      <td>NaN</td>\n",
       "      <td>NaN</td>\n",
       "      <td>NaN</td>\n",
       "      <td>NaN</td>\n",
       "      <td>NaN</td>\n",
       "      <td>NaN</td>\n",
       "    </tr>\n",
       "    <tr>\n",
       "      <th>Permanently_Closed</th>\n",
       "      <td>0.007649</td>\n",
       "      <td>-0.003049</td>\n",
       "      <td>-0.001974</td>\n",
       "      <td>0.015250</td>\n",
       "      <td>-0.010398</td>\n",
       "      <td>-0.002763</td>\n",
       "      <td>0.105751</td>\n",
       "      <td>NaN</td>\n",
       "      <td>1.000000</td>\n",
       "      <td>-0.048593</td>\n",
       "      <td>...</td>\n",
       "      <td>0.007675</td>\n",
       "      <td>0.003534</td>\n",
       "      <td>0.014336</td>\n",
       "      <td>-0.011372</td>\n",
       "      <td>-0.001780</td>\n",
       "      <td>0.010013</td>\n",
       "      <td>-0.007632</td>\n",
       "      <td>-0.015193</td>\n",
       "      <td>0.001121</td>\n",
       "      <td>-0.009593</td>\n",
       "    </tr>\n",
       "    <tr>\n",
       "      <th>Rating</th>\n",
       "      <td>-0.015621</td>\n",
       "      <td>-0.000485</td>\n",
       "      <td>-0.028070</td>\n",
       "      <td>-0.005074</td>\n",
       "      <td>0.018732</td>\n",
       "      <td>0.006867</td>\n",
       "      <td>-0.262776</td>\n",
       "      <td>NaN</td>\n",
       "      <td>-0.048593</td>\n",
       "      <td>1.000000</td>\n",
       "      <td>...</td>\n",
       "      <td>-0.002760</td>\n",
       "      <td>0.018080</td>\n",
       "      <td>0.016932</td>\n",
       "      <td>-0.015422</td>\n",
       "      <td>-0.018174</td>\n",
       "      <td>-0.024668</td>\n",
       "      <td>0.008926</td>\n",
       "      <td>0.019947</td>\n",
       "      <td>-0.014819</td>\n",
       "      <td>-0.010153</td>\n",
       "    </tr>\n",
       "    <tr>\n",
       "      <th>Number_of_Reviews</th>\n",
       "      <td>-0.009685</td>\n",
       "      <td>0.007022</td>\n",
       "      <td>-0.000168</td>\n",
       "      <td>0.003823</td>\n",
       "      <td>-0.000880</td>\n",
       "      <td>-0.004380</td>\n",
       "      <td>0.167605</td>\n",
       "      <td>NaN</td>\n",
       "      <td>0.013575</td>\n",
       "      <td>-0.074256</td>\n",
       "      <td>...</td>\n",
       "      <td>0.015436</td>\n",
       "      <td>-0.002491</td>\n",
       "      <td>-0.012621</td>\n",
       "      <td>0.020334</td>\n",
       "      <td>0.017633</td>\n",
       "      <td>-0.000732</td>\n",
       "      <td>-0.052537</td>\n",
       "      <td>-0.004385</td>\n",
       "      <td>0.034827</td>\n",
       "      <td>-0.011375</td>\n",
       "    </tr>\n",
       "    <tr>\n",
       "      <th>Number_of_Results</th>\n",
       "      <td>-0.016907</td>\n",
       "      <td>0.048825</td>\n",
       "      <td>0.003318</td>\n",
       "      <td>-0.049882</td>\n",
       "      <td>0.128887</td>\n",
       "      <td>0.009965</td>\n",
       "      <td>-0.041426</td>\n",
       "      <td>NaN</td>\n",
       "      <td>-0.008664</td>\n",
       "      <td>-0.006697</td>\n",
       "      <td>...</td>\n",
       "      <td>0.043966</td>\n",
       "      <td>0.059907</td>\n",
       "      <td>-0.032719</td>\n",
       "      <td>0.072922</td>\n",
       "      <td>0.084244</td>\n",
       "      <td>-0.053294</td>\n",
       "      <td>-0.051454</td>\n",
       "      <td>0.000244</td>\n",
       "      <td>-0.000642</td>\n",
       "      <td>0.007834</td>\n",
       "    </tr>\n",
       "    <tr>\n",
       "      <th>Mean_monthly_mortgage_and_owner_costs</th>\n",
       "      <td>0.001839</td>\n",
       "      <td>0.035696</td>\n",
       "      <td>0.011172</td>\n",
       "      <td>0.087630</td>\n",
       "      <td>0.021808</td>\n",
       "      <td>0.002443</td>\n",
       "      <td>0.003578</td>\n",
       "      <td>NaN</td>\n",
       "      <td>0.002012</td>\n",
       "      <td>0.005464</td>\n",
       "      <td>...</td>\n",
       "      <td>0.043937</td>\n",
       "      <td>-0.004358</td>\n",
       "      <td>-0.008589</td>\n",
       "      <td>0.037675</td>\n",
       "      <td>0.007835</td>\n",
       "      <td>-0.035378</td>\n",
       "      <td>-0.030002</td>\n",
       "      <td>-0.069020</td>\n",
       "      <td>0.060140</td>\n",
       "      <td>0.070516</td>\n",
       "    </tr>\n",
       "    <tr>\n",
       "      <th>Rent_mean</th>\n",
       "      <td>0.003644</td>\n",
       "      <td>0.025082</td>\n",
       "      <td>-0.000162</td>\n",
       "      <td>0.106222</td>\n",
       "      <td>0.006370</td>\n",
       "      <td>0.006051</td>\n",
       "      <td>-0.006091</td>\n",
       "      <td>NaN</td>\n",
       "      <td>-0.008979</td>\n",
       "      <td>0.013248</td>\n",
       "      <td>...</td>\n",
       "      <td>0.024328</td>\n",
       "      <td>0.000425</td>\n",
       "      <td>0.009678</td>\n",
       "      <td>-0.069261</td>\n",
       "      <td>0.004595</td>\n",
       "      <td>-0.024678</td>\n",
       "      <td>-0.017038</td>\n",
       "      <td>-0.018634</td>\n",
       "      <td>0.100798</td>\n",
       "      <td>0.056444</td>\n",
       "    </tr>\n",
       "    <tr>\n",
       "      <th>Is_established</th>\n",
       "      <td>-0.015033</td>\n",
       "      <td>0.013806</td>\n",
       "      <td>0.008079</td>\n",
       "      <td>0.015149</td>\n",
       "      <td>0.029777</td>\n",
       "      <td>0.029338</td>\n",
       "      <td>-0.088183</td>\n",
       "      <td>NaN</td>\n",
       "      <td>-0.013870</td>\n",
       "      <td>-0.005148</td>\n",
       "      <td>...</td>\n",
       "      <td>0.022085</td>\n",
       "      <td>-0.006839</td>\n",
       "      <td>0.001767</td>\n",
       "      <td>0.009490</td>\n",
       "      <td>0.242196</td>\n",
       "      <td>-0.043735</td>\n",
       "      <td>-0.023448</td>\n",
       "      <td>-0.014521</td>\n",
       "      <td>0.009764</td>\n",
       "      <td>0.033359</td>\n",
       "    </tr>\n",
       "    <tr>\n",
       "      <th>Number_of_technologies</th>\n",
       "      <td>-0.003948</td>\n",
       "      <td>0.023830</td>\n",
       "      <td>0.008528</td>\n",
       "      <td>-0.021273</td>\n",
       "      <td>0.127599</td>\n",
       "      <td>0.108110</td>\n",
       "      <td>-0.074318</td>\n",
       "      <td>NaN</td>\n",
       "      <td>0.000502</td>\n",
       "      <td>0.004694</td>\n",
       "      <td>...</td>\n",
       "      <td>0.025046</td>\n",
       "      <td>0.453833</td>\n",
       "      <td>-0.001035</td>\n",
       "      <td>0.035201</td>\n",
       "      <td>0.467918</td>\n",
       "      <td>-0.051610</td>\n",
       "      <td>-0.023853</td>\n",
       "      <td>-0.008102</td>\n",
       "      <td>-0.003491</td>\n",
       "      <td>-0.006201</td>\n",
       "    </tr>\n",
       "    <tr>\n",
       "      <th>Average_annual_income_per_household</th>\n",
       "      <td>-0.009969</td>\n",
       "      <td>0.032750</td>\n",
       "      <td>0.008129</td>\n",
       "      <td>0.147867</td>\n",
       "      <td>0.007789</td>\n",
       "      <td>0.006697</td>\n",
       "      <td>0.024663</td>\n",
       "      <td>NaN</td>\n",
       "      <td>0.008721</td>\n",
       "      <td>0.011173</td>\n",
       "      <td>...</td>\n",
       "      <td>0.022647</td>\n",
       "      <td>0.001119</td>\n",
       "      <td>0.008144</td>\n",
       "      <td>-0.005986</td>\n",
       "      <td>0.007641</td>\n",
       "      <td>-0.028456</td>\n",
       "      <td>-0.036165</td>\n",
       "      <td>-0.033586</td>\n",
       "      <td>0.140537</td>\n",
       "      <td>0.080909</td>\n",
       "    </tr>\n",
       "    <tr>\n",
       "      <th>Average_years_employees_work_at_company</th>\n",
       "      <td>-0.011426</td>\n",
       "      <td>-0.011875</td>\n",
       "      <td>0.000294</td>\n",
       "      <td>-0.004113</td>\n",
       "      <td>0.003912</td>\n",
       "      <td>0.006056</td>\n",
       "      <td>-0.000599</td>\n",
       "      <td>NaN</td>\n",
       "      <td>-0.004549</td>\n",
       "      <td>-0.025008</td>\n",
       "      <td>...</td>\n",
       "      <td>0.014580</td>\n",
       "      <td>0.031324</td>\n",
       "      <td>0.008382</td>\n",
       "      <td>0.006207</td>\n",
       "      <td>0.187191</td>\n",
       "      <td>-0.010338</td>\n",
       "      <td>0.009793</td>\n",
       "      <td>0.000065</td>\n",
       "      <td>0.001313</td>\n",
       "      <td>-0.017144</td>\n",
       "    </tr>\n",
       "    <tr>\n",
       "      <th>Mean_employee_age</th>\n",
       "      <td>-0.006753</td>\n",
       "      <td>-0.004309</td>\n",
       "      <td>0.001473</td>\n",
       "      <td>0.002480</td>\n",
       "      <td>-0.004413</td>\n",
       "      <td>0.002773</td>\n",
       "      <td>-0.007753</td>\n",
       "      <td>NaN</td>\n",
       "      <td>0.006045</td>\n",
       "      <td>-0.004089</td>\n",
       "      <td>...</td>\n",
       "      <td>0.046374</td>\n",
       "      <td>0.002112</td>\n",
       "      <td>-0.022977</td>\n",
       "      <td>-0.003694</td>\n",
       "      <td>-0.005155</td>\n",
       "      <td>0.010027</td>\n",
       "      <td>0.005914</td>\n",
       "      <td>-0.002716</td>\n",
       "      <td>0.001365</td>\n",
       "      <td>-0.014350</td>\n",
       "    </tr>\n",
       "    <tr>\n",
       "      <th>NAICS_sector_code</th>\n",
       "      <td>0.016337</td>\n",
       "      <td>-0.017626</td>\n",
       "      <td>-0.004476</td>\n",
       "      <td>0.027483</td>\n",
       "      <td>-0.009496</td>\n",
       "      <td>0.001158</td>\n",
       "      <td>-0.017443</td>\n",
       "      <td>NaN</td>\n",
       "      <td>0.011373</td>\n",
       "      <td>0.018175</td>\n",
       "      <td>...</td>\n",
       "      <td>0.022148</td>\n",
       "      <td>0.009102</td>\n",
       "      <td>0.049467</td>\n",
       "      <td>-0.054454</td>\n",
       "      <td>-0.051569</td>\n",
       "      <td>0.016371</td>\n",
       "      <td>-0.045651</td>\n",
       "      <td>0.002175</td>\n",
       "      <td>0.009723</td>\n",
       "      <td>-0.022752</td>\n",
       "    </tr>\n",
       "    <tr>\n",
       "      <th>Company_credit_score</th>\n",
       "      <td>0.001002</td>\n",
       "      <td>0.015668</td>\n",
       "      <td>0.020675</td>\n",
       "      <td>-0.048308</td>\n",
       "      <td>0.029743</td>\n",
       "      <td>0.017076</td>\n",
       "      <td>0.008397</td>\n",
       "      <td>NaN</td>\n",
       "      <td>0.007675</td>\n",
       "      <td>-0.002760</td>\n",
       "      <td>...</td>\n",
       "      <td>1.000000</td>\n",
       "      <td>-0.004596</td>\n",
       "      <td>-0.114849</td>\n",
       "      <td>0.159956</td>\n",
       "      <td>0.044508</td>\n",
       "      <td>-0.054383</td>\n",
       "      <td>-0.035101</td>\n",
       "      <td>-0.082431</td>\n",
       "      <td>-0.045293</td>\n",
       "      <td>0.042880</td>\n",
       "    </tr>\n",
       "    <tr>\n",
       "      <th>Number_of_socials</th>\n",
       "      <td>-0.014585</td>\n",
       "      <td>0.008888</td>\n",
       "      <td>0.015296</td>\n",
       "      <td>-0.006501</td>\n",
       "      <td>0.095916</td>\n",
       "      <td>0.106741</td>\n",
       "      <td>-0.072595</td>\n",
       "      <td>NaN</td>\n",
       "      <td>0.003534</td>\n",
       "      <td>0.018080</td>\n",
       "      <td>...</td>\n",
       "      <td>-0.004596</td>\n",
       "      <td>1.000000</td>\n",
       "      <td>-0.001266</td>\n",
       "      <td>-0.004049</td>\n",
       "      <td>0.310797</td>\n",
       "      <td>-0.013159</td>\n",
       "      <td>-0.009696</td>\n",
       "      <td>0.014975</td>\n",
       "      <td>0.011807</td>\n",
       "      <td>-0.029215</td>\n",
       "    </tr>\n",
       "    <tr>\n",
       "      <th>Confidence_Score</th>\n",
       "      <td>0.002149</td>\n",
       "      <td>0.002764</td>\n",
       "      <td>0.001874</td>\n",
       "      <td>0.075344</td>\n",
       "      <td>-0.017133</td>\n",
       "      <td>0.001797</td>\n",
       "      <td>0.007422</td>\n",
       "      <td>NaN</td>\n",
       "      <td>0.014336</td>\n",
       "      <td>0.016932</td>\n",
       "      <td>...</td>\n",
       "      <td>-0.114849</td>\n",
       "      <td>-0.001266</td>\n",
       "      <td>1.000000</td>\n",
       "      <td>-0.110575</td>\n",
       "      <td>-0.001708</td>\n",
       "      <td>0.020605</td>\n",
       "      <td>0.017701</td>\n",
       "      <td>0.030534</td>\n",
       "      <td>0.058421</td>\n",
       "      <td>-0.007772</td>\n",
       "    </tr>\n",
       "    <tr>\n",
       "      <th>LS_State</th>\n",
       "      <td>0.027533</td>\n",
       "      <td>0.044242</td>\n",
       "      <td>0.028020</td>\n",
       "      <td>-0.380418</td>\n",
       "      <td>0.081226</td>\n",
       "      <td>0.023696</td>\n",
       "      <td>-0.041099</td>\n",
       "      <td>NaN</td>\n",
       "      <td>-0.011372</td>\n",
       "      <td>-0.015422</td>\n",
       "      <td>...</td>\n",
       "      <td>0.159956</td>\n",
       "      <td>-0.004049</td>\n",
       "      <td>-0.110575</td>\n",
       "      <td>1.000000</td>\n",
       "      <td>0.017791</td>\n",
       "      <td>-0.076496</td>\n",
       "      <td>-0.005529</td>\n",
       "      <td>-0.074570</td>\n",
       "      <td>-0.205044</td>\n",
       "      <td>0.064993</td>\n",
       "    </tr>\n",
       "    <tr>\n",
       "      <th>Difference</th>\n",
       "      <td>-0.034594</td>\n",
       "      <td>0.041366</td>\n",
       "      <td>0.030787</td>\n",
       "      <td>-0.006524</td>\n",
       "      <td>0.127157</td>\n",
       "      <td>0.100981</td>\n",
       "      <td>-0.152024</td>\n",
       "      <td>NaN</td>\n",
       "      <td>-0.001780</td>\n",
       "      <td>-0.018174</td>\n",
       "      <td>...</td>\n",
       "      <td>0.044508</td>\n",
       "      <td>0.310797</td>\n",
       "      <td>-0.001708</td>\n",
       "      <td>0.017791</td>\n",
       "      <td>1.000000</td>\n",
       "      <td>-0.039703</td>\n",
       "      <td>-0.005788</td>\n",
       "      <td>-0.000377</td>\n",
       "      <td>0.012701</td>\n",
       "      <td>-0.042983</td>\n",
       "    </tr>\n",
       "    <tr>\n",
       "      <th>address</th>\n",
       "      <td>0.020718</td>\n",
       "      <td>-0.020895</td>\n",
       "      <td>-0.007756</td>\n",
       "      <td>0.026003</td>\n",
       "      <td>-0.055848</td>\n",
       "      <td>-0.023236</td>\n",
       "      <td>-0.024679</td>\n",
       "      <td>NaN</td>\n",
       "      <td>0.010013</td>\n",
       "      <td>-0.024668</td>\n",
       "      <td>...</td>\n",
       "      <td>-0.054383</td>\n",
       "      <td>-0.013159</td>\n",
       "      <td>0.020605</td>\n",
       "      <td>-0.076496</td>\n",
       "      <td>-0.039703</td>\n",
       "      <td>1.000000</td>\n",
       "      <td>0.283790</td>\n",
       "      <td>0.011338</td>\n",
       "      <td>-0.000777</td>\n",
       "      <td>-0.025245</td>\n",
       "    </tr>\n",
       "    <tr>\n",
       "      <th>company</th>\n",
       "      <td>0.041031</td>\n",
       "      <td>-0.021620</td>\n",
       "      <td>-0.016150</td>\n",
       "      <td>-0.054355</td>\n",
       "      <td>-0.069836</td>\n",
       "      <td>-0.025595</td>\n",
       "      <td>-0.086912</td>\n",
       "      <td>NaN</td>\n",
       "      <td>-0.007632</td>\n",
       "      <td>0.008926</td>\n",
       "      <td>...</td>\n",
       "      <td>-0.035101</td>\n",
       "      <td>-0.009696</td>\n",
       "      <td>0.017701</td>\n",
       "      <td>-0.005529</td>\n",
       "      <td>-0.005788</td>\n",
       "      <td>0.283790</td>\n",
       "      <td>1.000000</td>\n",
       "      <td>0.030704</td>\n",
       "      <td>-0.043034</td>\n",
       "      <td>-0.004949</td>\n",
       "    </tr>\n",
       "    <tr>\n",
       "      <th>Web_Ad_Outlet_code</th>\n",
       "      <td>-0.034051</td>\n",
       "      <td>0.037999</td>\n",
       "      <td>0.022702</td>\n",
       "      <td>-0.454716</td>\n",
       "      <td>-0.006210</td>\n",
       "      <td>0.019410</td>\n",
       "      <td>-0.002356</td>\n",
       "      <td>NaN</td>\n",
       "      <td>-0.015193</td>\n",
       "      <td>0.019947</td>\n",
       "      <td>...</td>\n",
       "      <td>-0.082431</td>\n",
       "      <td>0.014975</td>\n",
       "      <td>0.030534</td>\n",
       "      <td>-0.074570</td>\n",
       "      <td>-0.000377</td>\n",
       "      <td>0.011338</td>\n",
       "      <td>0.030704</td>\n",
       "      <td>1.000000</td>\n",
       "      <td>0.276515</td>\n",
       "      <td>0.017062</td>\n",
       "    </tr>\n",
       "    <tr>\n",
       "      <th>Web_Ad_Outlet_Source_code</th>\n",
       "      <td>-0.064802</td>\n",
       "      <td>0.078184</td>\n",
       "      <td>0.039949</td>\n",
       "      <td>0.346523</td>\n",
       "      <td>0.008276</td>\n",
       "      <td>0.026217</td>\n",
       "      <td>0.070197</td>\n",
       "      <td>NaN</td>\n",
       "      <td>0.001121</td>\n",
       "      <td>-0.014819</td>\n",
       "      <td>...</td>\n",
       "      <td>-0.045293</td>\n",
       "      <td>0.011807</td>\n",
       "      <td>0.058421</td>\n",
       "      <td>-0.205044</td>\n",
       "      <td>0.012701</td>\n",
       "      <td>-0.000777</td>\n",
       "      <td>-0.043034</td>\n",
       "      <td>0.276515</td>\n",
       "      <td>1.000000</td>\n",
       "      <td>0.016714</td>\n",
       "    </tr>\n",
       "    <tr>\n",
       "      <th>Email_domain</th>\n",
       "      <td>0.031104</td>\n",
       "      <td>0.026368</td>\n",
       "      <td>0.015024</td>\n",
       "      <td>-0.018999</td>\n",
       "      <td>-0.009026</td>\n",
       "      <td>-0.005922</td>\n",
       "      <td>0.066865</td>\n",
       "      <td>NaN</td>\n",
       "      <td>-0.009593</td>\n",
       "      <td>-0.010153</td>\n",
       "      <td>...</td>\n",
       "      <td>0.042880</td>\n",
       "      <td>-0.029215</td>\n",
       "      <td>-0.007772</td>\n",
       "      <td>0.064993</td>\n",
       "      <td>-0.042983</td>\n",
       "      <td>-0.025245</td>\n",
       "      <td>-0.004949</td>\n",
       "      <td>0.017062</td>\n",
       "      <td>0.016714</td>\n",
       "      <td>1.000000</td>\n",
       "    </tr>\n",
       "  </tbody>\n",
       "</table>\n",
       "<p>30 rows × 30 columns</p>\n",
       "</div>"
      ],
      "text/plain": [
       "                                         Is_Submitted  LS_Amount_to_Borrow  \\\n",
       "Is_Submitted                                 1.000000            -0.026978   \n",
       "LS_Amount_to_Borrow                         -0.026978             1.000000   \n",
       "LS_GAS                                      -0.013557             0.245492   \n",
       "LS_Self_Graded_Credit                       -0.059405            -0.014148   \n",
       "Results_From_Wikipedia                      -0.024691             0.054114   \n",
       "Has_Customer_Service                        -0.013198             0.022327   \n",
       "Map_Exists                                   0.021948            -0.012498   \n",
       "Unclaimed_Listing                                 NaN                  NaN   \n",
       "Permanently_Closed                           0.007649            -0.003049   \n",
       "Rating                                      -0.015621            -0.000485   \n",
       "Number_of_Reviews                           -0.009685             0.007022   \n",
       "Number_of_Results                           -0.016907             0.048825   \n",
       "Mean_monthly_mortgage_and_owner_costs        0.001839             0.035696   \n",
       "Rent_mean                                    0.003644             0.025082   \n",
       "Is_established                              -0.015033             0.013806   \n",
       "Number_of_technologies                      -0.003948             0.023830   \n",
       "Average_annual_income_per_household         -0.009969             0.032750   \n",
       "Average_years_employees_work_at_company     -0.011426            -0.011875   \n",
       "Mean_employee_age                           -0.006753            -0.004309   \n",
       "NAICS_sector_code                            0.016337            -0.017626   \n",
       "Company_credit_score                         0.001002             0.015668   \n",
       "Number_of_socials                           -0.014585             0.008888   \n",
       "Confidence_Score                             0.002149             0.002764   \n",
       "LS_State                                     0.027533             0.044242   \n",
       "Difference                                  -0.034594             0.041366   \n",
       "address                                      0.020718            -0.020895   \n",
       "company                                      0.041031            -0.021620   \n",
       "Web_Ad_Outlet_code                          -0.034051             0.037999   \n",
       "Web_Ad_Outlet_Source_code                   -0.064802             0.078184   \n",
       "Email_domain                                 0.031104             0.026368   \n",
       "\n",
       "                                           LS_GAS  LS_Self_Graded_Credit  \\\n",
       "Is_Submitted                            -0.013557              -0.059405   \n",
       "LS_Amount_to_Borrow                      0.245492              -0.014148   \n",
       "LS_GAS                                   1.000000              -0.014601   \n",
       "LS_Self_Graded_Credit                   -0.014601               1.000000   \n",
       "Results_From_Wikipedia                   0.041976              -0.040953   \n",
       "Has_Customer_Service                     0.001844              -0.020344   \n",
       "Map_Exists                               0.002899               0.069901   \n",
       "Unclaimed_Listing                             NaN                    NaN   \n",
       "Permanently_Closed                      -0.001974               0.015250   \n",
       "Rating                                  -0.028070              -0.005074   \n",
       "Number_of_Reviews                       -0.000168               0.003823   \n",
       "Number_of_Results                        0.003318              -0.049882   \n",
       "Mean_monthly_mortgage_and_owner_costs    0.011172               0.087630   \n",
       "Rent_mean                               -0.000162               0.106222   \n",
       "Is_established                           0.008079               0.015149   \n",
       "Number_of_technologies                   0.008528              -0.021273   \n",
       "Average_annual_income_per_household      0.008129               0.147867   \n",
       "Average_years_employees_work_at_company  0.000294              -0.004113   \n",
       "Mean_employee_age                        0.001473               0.002480   \n",
       "NAICS_sector_code                       -0.004476               0.027483   \n",
       "Company_credit_score                     0.020675              -0.048308   \n",
       "Number_of_socials                        0.015296              -0.006501   \n",
       "Confidence_Score                         0.001874               0.075344   \n",
       "LS_State                                 0.028020              -0.380418   \n",
       "Difference                               0.030787              -0.006524   \n",
       "address                                 -0.007756               0.026003   \n",
       "company                                 -0.016150              -0.054355   \n",
       "Web_Ad_Outlet_code                       0.022702              -0.454716   \n",
       "Web_Ad_Outlet_Source_code                0.039949               0.346523   \n",
       "Email_domain                             0.015024              -0.018999   \n",
       "\n",
       "                                         Results_From_Wikipedia  \\\n",
       "Is_Submitted                                          -0.024691   \n",
       "LS_Amount_to_Borrow                                    0.054114   \n",
       "LS_GAS                                                 0.041976   \n",
       "LS_Self_Graded_Credit                                 -0.040953   \n",
       "Results_From_Wikipedia                                 1.000000   \n",
       "Has_Customer_Service                                   0.182765   \n",
       "Map_Exists                                            -0.069789   \n",
       "Unclaimed_Listing                                           NaN   \n",
       "Permanently_Closed                                    -0.010398   \n",
       "Rating                                                 0.018732   \n",
       "Number_of_Reviews                                     -0.000880   \n",
       "Number_of_Results                                      0.128887   \n",
       "Mean_monthly_mortgage_and_owner_costs                  0.021808   \n",
       "Rent_mean                                              0.006370   \n",
       "Is_established                                         0.029777   \n",
       "Number_of_technologies                                 0.127599   \n",
       "Average_annual_income_per_household                    0.007789   \n",
       "Average_years_employees_work_at_company                0.003912   \n",
       "Mean_employee_age                                     -0.004413   \n",
       "NAICS_sector_code                                     -0.009496   \n",
       "Company_credit_score                                   0.029743   \n",
       "Number_of_socials                                      0.095916   \n",
       "Confidence_Score                                      -0.017133   \n",
       "LS_State                                               0.081226   \n",
       "Difference                                             0.127157   \n",
       "address                                               -0.055848   \n",
       "company                                               -0.069836   \n",
       "Web_Ad_Outlet_code                                    -0.006210   \n",
       "Web_Ad_Outlet_Source_code                              0.008276   \n",
       "Email_domain                                          -0.009026   \n",
       "\n",
       "                                         Has_Customer_Service  Map_Exists  \\\n",
       "Is_Submitted                                        -0.013198    0.021948   \n",
       "LS_Amount_to_Borrow                                  0.022327   -0.012498   \n",
       "LS_GAS                                               0.001844    0.002899   \n",
       "LS_Self_Graded_Credit                               -0.020344    0.069901   \n",
       "Results_From_Wikipedia                               0.182765   -0.069789   \n",
       "Has_Customer_Service                                 1.000000   -0.026131   \n",
       "Map_Exists                                          -0.026131    1.000000   \n",
       "Unclaimed_Listing                                         NaN         NaN   \n",
       "Permanently_Closed                                  -0.002763    0.105751   \n",
       "Rating                                               0.006867   -0.262776   \n",
       "Number_of_Reviews                                   -0.004380    0.167605   \n",
       "Number_of_Results                                    0.009965   -0.041426   \n",
       "Mean_monthly_mortgage_and_owner_costs                0.002443    0.003578   \n",
       "Rent_mean                                            0.006051   -0.006091   \n",
       "Is_established                                       0.029338   -0.088183   \n",
       "Number_of_technologies                               0.108110   -0.074318   \n",
       "Average_annual_income_per_household                  0.006697    0.024663   \n",
       "Average_years_employees_work_at_company              0.006056   -0.000599   \n",
       "Mean_employee_age                                    0.002773   -0.007753   \n",
       "NAICS_sector_code                                    0.001158   -0.017443   \n",
       "Company_credit_score                                 0.017076    0.008397   \n",
       "Number_of_socials                                    0.106741   -0.072595   \n",
       "Confidence_Score                                     0.001797    0.007422   \n",
       "LS_State                                             0.023696   -0.041099   \n",
       "Difference                                           0.100981   -0.152024   \n",
       "address                                             -0.023236   -0.024679   \n",
       "company                                             -0.025595   -0.086912   \n",
       "Web_Ad_Outlet_code                                   0.019410   -0.002356   \n",
       "Web_Ad_Outlet_Source_code                            0.026217    0.070197   \n",
       "Email_domain                                        -0.005922    0.066865   \n",
       "\n",
       "                                         Unclaimed_Listing  \\\n",
       "Is_Submitted                                           NaN   \n",
       "LS_Amount_to_Borrow                                    NaN   \n",
       "LS_GAS                                                 NaN   \n",
       "LS_Self_Graded_Credit                                  NaN   \n",
       "Results_From_Wikipedia                                 NaN   \n",
       "Has_Customer_Service                                   NaN   \n",
       "Map_Exists                                             NaN   \n",
       "Unclaimed_Listing                                      NaN   \n",
       "Permanently_Closed                                     NaN   \n",
       "Rating                                                 NaN   \n",
       "Number_of_Reviews                                      NaN   \n",
       "Number_of_Results                                      NaN   \n",
       "Mean_monthly_mortgage_and_owner_costs                  NaN   \n",
       "Rent_mean                                              NaN   \n",
       "Is_established                                         NaN   \n",
       "Number_of_technologies                                 NaN   \n",
       "Average_annual_income_per_household                    NaN   \n",
       "Average_years_employees_work_at_company                NaN   \n",
       "Mean_employee_age                                      NaN   \n",
       "NAICS_sector_code                                      NaN   \n",
       "Company_credit_score                                   NaN   \n",
       "Number_of_socials                                      NaN   \n",
       "Confidence_Score                                       NaN   \n",
       "LS_State                                               NaN   \n",
       "Difference                                             NaN   \n",
       "address                                                NaN   \n",
       "company                                                NaN   \n",
       "Web_Ad_Outlet_code                                     NaN   \n",
       "Web_Ad_Outlet_Source_code                              NaN   \n",
       "Email_domain                                           NaN   \n",
       "\n",
       "                                         Permanently_Closed    Rating  ...  \\\n",
       "Is_Submitted                                       0.007649 -0.015621  ...   \n",
       "LS_Amount_to_Borrow                               -0.003049 -0.000485  ...   \n",
       "LS_GAS                                            -0.001974 -0.028070  ...   \n",
       "LS_Self_Graded_Credit                              0.015250 -0.005074  ...   \n",
       "Results_From_Wikipedia                            -0.010398  0.018732  ...   \n",
       "Has_Customer_Service                              -0.002763  0.006867  ...   \n",
       "Map_Exists                                         0.105751 -0.262776  ...   \n",
       "Unclaimed_Listing                                       NaN       NaN  ...   \n",
       "Permanently_Closed                                 1.000000 -0.048593  ...   \n",
       "Rating                                            -0.048593  1.000000  ...   \n",
       "Number_of_Reviews                                  0.013575 -0.074256  ...   \n",
       "Number_of_Results                                 -0.008664 -0.006697  ...   \n",
       "Mean_monthly_mortgage_and_owner_costs              0.002012  0.005464  ...   \n",
       "Rent_mean                                         -0.008979  0.013248  ...   \n",
       "Is_established                                    -0.013870 -0.005148  ...   \n",
       "Number_of_technologies                             0.000502  0.004694  ...   \n",
       "Average_annual_income_per_household                0.008721  0.011173  ...   \n",
       "Average_years_employees_work_at_company           -0.004549 -0.025008  ...   \n",
       "Mean_employee_age                                  0.006045 -0.004089  ...   \n",
       "NAICS_sector_code                                  0.011373  0.018175  ...   \n",
       "Company_credit_score                               0.007675 -0.002760  ...   \n",
       "Number_of_socials                                  0.003534  0.018080  ...   \n",
       "Confidence_Score                                   0.014336  0.016932  ...   \n",
       "LS_State                                          -0.011372 -0.015422  ...   \n",
       "Difference                                        -0.001780 -0.018174  ...   \n",
       "address                                            0.010013 -0.024668  ...   \n",
       "company                                           -0.007632  0.008926  ...   \n",
       "Web_Ad_Outlet_code                                -0.015193  0.019947  ...   \n",
       "Web_Ad_Outlet_Source_code                          0.001121 -0.014819  ...   \n",
       "Email_domain                                      -0.009593 -0.010153  ...   \n",
       "\n",
       "                                         Company_credit_score  \\\n",
       "Is_Submitted                                         0.001002   \n",
       "LS_Amount_to_Borrow                                  0.015668   \n",
       "LS_GAS                                               0.020675   \n",
       "LS_Self_Graded_Credit                               -0.048308   \n",
       "Results_From_Wikipedia                               0.029743   \n",
       "Has_Customer_Service                                 0.017076   \n",
       "Map_Exists                                           0.008397   \n",
       "Unclaimed_Listing                                         NaN   \n",
       "Permanently_Closed                                   0.007675   \n",
       "Rating                                              -0.002760   \n",
       "Number_of_Reviews                                    0.015436   \n",
       "Number_of_Results                                    0.043966   \n",
       "Mean_monthly_mortgage_and_owner_costs                0.043937   \n",
       "Rent_mean                                            0.024328   \n",
       "Is_established                                       0.022085   \n",
       "Number_of_technologies                               0.025046   \n",
       "Average_annual_income_per_household                  0.022647   \n",
       "Average_years_employees_work_at_company              0.014580   \n",
       "Mean_employee_age                                    0.046374   \n",
       "NAICS_sector_code                                    0.022148   \n",
       "Company_credit_score                                 1.000000   \n",
       "Number_of_socials                                   -0.004596   \n",
       "Confidence_Score                                    -0.114849   \n",
       "LS_State                                             0.159956   \n",
       "Difference                                           0.044508   \n",
       "address                                             -0.054383   \n",
       "company                                             -0.035101   \n",
       "Web_Ad_Outlet_code                                  -0.082431   \n",
       "Web_Ad_Outlet_Source_code                           -0.045293   \n",
       "Email_domain                                         0.042880   \n",
       "\n",
       "                                         Number_of_socials  Confidence_Score  \\\n",
       "Is_Submitted                                     -0.014585          0.002149   \n",
       "LS_Amount_to_Borrow                               0.008888          0.002764   \n",
       "LS_GAS                                            0.015296          0.001874   \n",
       "LS_Self_Graded_Credit                            -0.006501          0.075344   \n",
       "Results_From_Wikipedia                            0.095916         -0.017133   \n",
       "Has_Customer_Service                              0.106741          0.001797   \n",
       "Map_Exists                                       -0.072595          0.007422   \n",
       "Unclaimed_Listing                                      NaN               NaN   \n",
       "Permanently_Closed                                0.003534          0.014336   \n",
       "Rating                                            0.018080          0.016932   \n",
       "Number_of_Reviews                                -0.002491         -0.012621   \n",
       "Number_of_Results                                 0.059907         -0.032719   \n",
       "Mean_monthly_mortgage_and_owner_costs            -0.004358         -0.008589   \n",
       "Rent_mean                                         0.000425          0.009678   \n",
       "Is_established                                   -0.006839          0.001767   \n",
       "Number_of_technologies                            0.453833         -0.001035   \n",
       "Average_annual_income_per_household               0.001119          0.008144   \n",
       "Average_years_employees_work_at_company           0.031324          0.008382   \n",
       "Mean_employee_age                                 0.002112         -0.022977   \n",
       "NAICS_sector_code                                 0.009102          0.049467   \n",
       "Company_credit_score                             -0.004596         -0.114849   \n",
       "Number_of_socials                                 1.000000         -0.001266   \n",
       "Confidence_Score                                 -0.001266          1.000000   \n",
       "LS_State                                         -0.004049         -0.110575   \n",
       "Difference                                        0.310797         -0.001708   \n",
       "address                                          -0.013159          0.020605   \n",
       "company                                          -0.009696          0.017701   \n",
       "Web_Ad_Outlet_code                                0.014975          0.030534   \n",
       "Web_Ad_Outlet_Source_code                         0.011807          0.058421   \n",
       "Email_domain                                     -0.029215         -0.007772   \n",
       "\n",
       "                                         LS_State  Difference   address  \\\n",
       "Is_Submitted                             0.027533   -0.034594  0.020718   \n",
       "LS_Amount_to_Borrow                      0.044242    0.041366 -0.020895   \n",
       "LS_GAS                                   0.028020    0.030787 -0.007756   \n",
       "LS_Self_Graded_Credit                   -0.380418   -0.006524  0.026003   \n",
       "Results_From_Wikipedia                   0.081226    0.127157 -0.055848   \n",
       "Has_Customer_Service                     0.023696    0.100981 -0.023236   \n",
       "Map_Exists                              -0.041099   -0.152024 -0.024679   \n",
       "Unclaimed_Listing                             NaN         NaN       NaN   \n",
       "Permanently_Closed                      -0.011372   -0.001780  0.010013   \n",
       "Rating                                  -0.015422   -0.018174 -0.024668   \n",
       "Number_of_Reviews                        0.020334    0.017633 -0.000732   \n",
       "Number_of_Results                        0.072922    0.084244 -0.053294   \n",
       "Mean_monthly_mortgage_and_owner_costs    0.037675    0.007835 -0.035378   \n",
       "Rent_mean                               -0.069261    0.004595 -0.024678   \n",
       "Is_established                           0.009490    0.242196 -0.043735   \n",
       "Number_of_technologies                   0.035201    0.467918 -0.051610   \n",
       "Average_annual_income_per_household     -0.005986    0.007641 -0.028456   \n",
       "Average_years_employees_work_at_company  0.006207    0.187191 -0.010338   \n",
       "Mean_employee_age                       -0.003694   -0.005155  0.010027   \n",
       "NAICS_sector_code                       -0.054454   -0.051569  0.016371   \n",
       "Company_credit_score                     0.159956    0.044508 -0.054383   \n",
       "Number_of_socials                       -0.004049    0.310797 -0.013159   \n",
       "Confidence_Score                        -0.110575   -0.001708  0.020605   \n",
       "LS_State                                 1.000000    0.017791 -0.076496   \n",
       "Difference                               0.017791    1.000000 -0.039703   \n",
       "address                                 -0.076496   -0.039703  1.000000   \n",
       "company                                 -0.005529   -0.005788  0.283790   \n",
       "Web_Ad_Outlet_code                      -0.074570   -0.000377  0.011338   \n",
       "Web_Ad_Outlet_Source_code               -0.205044    0.012701 -0.000777   \n",
       "Email_domain                             0.064993   -0.042983 -0.025245   \n",
       "\n",
       "                                          company  Web_Ad_Outlet_code  \\\n",
       "Is_Submitted                             0.041031           -0.034051   \n",
       "LS_Amount_to_Borrow                     -0.021620            0.037999   \n",
       "LS_GAS                                  -0.016150            0.022702   \n",
       "LS_Self_Graded_Credit                   -0.054355           -0.454716   \n",
       "Results_From_Wikipedia                  -0.069836           -0.006210   \n",
       "Has_Customer_Service                    -0.025595            0.019410   \n",
       "Map_Exists                              -0.086912           -0.002356   \n",
       "Unclaimed_Listing                             NaN                 NaN   \n",
       "Permanently_Closed                      -0.007632           -0.015193   \n",
       "Rating                                   0.008926            0.019947   \n",
       "Number_of_Reviews                       -0.052537           -0.004385   \n",
       "Number_of_Results                       -0.051454            0.000244   \n",
       "Mean_monthly_mortgage_and_owner_costs   -0.030002           -0.069020   \n",
       "Rent_mean                               -0.017038           -0.018634   \n",
       "Is_established                          -0.023448           -0.014521   \n",
       "Number_of_technologies                  -0.023853           -0.008102   \n",
       "Average_annual_income_per_household     -0.036165           -0.033586   \n",
       "Average_years_employees_work_at_company  0.009793            0.000065   \n",
       "Mean_employee_age                        0.005914           -0.002716   \n",
       "NAICS_sector_code                       -0.045651            0.002175   \n",
       "Company_credit_score                    -0.035101           -0.082431   \n",
       "Number_of_socials                       -0.009696            0.014975   \n",
       "Confidence_Score                         0.017701            0.030534   \n",
       "LS_State                                -0.005529           -0.074570   \n",
       "Difference                              -0.005788           -0.000377   \n",
       "address                                  0.283790            0.011338   \n",
       "company                                  1.000000            0.030704   \n",
       "Web_Ad_Outlet_code                       0.030704            1.000000   \n",
       "Web_Ad_Outlet_Source_code               -0.043034            0.276515   \n",
       "Email_domain                            -0.004949            0.017062   \n",
       "\n",
       "                                         Web_Ad_Outlet_Source_code  \\\n",
       "Is_Submitted                                             -0.064802   \n",
       "LS_Amount_to_Borrow                                       0.078184   \n",
       "LS_GAS                                                    0.039949   \n",
       "LS_Self_Graded_Credit                                     0.346523   \n",
       "Results_From_Wikipedia                                    0.008276   \n",
       "Has_Customer_Service                                      0.026217   \n",
       "Map_Exists                                                0.070197   \n",
       "Unclaimed_Listing                                              NaN   \n",
       "Permanently_Closed                                        0.001121   \n",
       "Rating                                                   -0.014819   \n",
       "Number_of_Reviews                                         0.034827   \n",
       "Number_of_Results                                        -0.000642   \n",
       "Mean_monthly_mortgage_and_owner_costs                     0.060140   \n",
       "Rent_mean                                                 0.100798   \n",
       "Is_established                                            0.009764   \n",
       "Number_of_technologies                                   -0.003491   \n",
       "Average_annual_income_per_household                       0.140537   \n",
       "Average_years_employees_work_at_company                   0.001313   \n",
       "Mean_employee_age                                         0.001365   \n",
       "NAICS_sector_code                                         0.009723   \n",
       "Company_credit_score                                     -0.045293   \n",
       "Number_of_socials                                         0.011807   \n",
       "Confidence_Score                                          0.058421   \n",
       "LS_State                                                 -0.205044   \n",
       "Difference                                                0.012701   \n",
       "address                                                  -0.000777   \n",
       "company                                                  -0.043034   \n",
       "Web_Ad_Outlet_code                                        0.276515   \n",
       "Web_Ad_Outlet_Source_code                                 1.000000   \n",
       "Email_domain                                              0.016714   \n",
       "\n",
       "                                         Email_domain  \n",
       "Is_Submitted                                 0.031104  \n",
       "LS_Amount_to_Borrow                          0.026368  \n",
       "LS_GAS                                       0.015024  \n",
       "LS_Self_Graded_Credit                       -0.018999  \n",
       "Results_From_Wikipedia                      -0.009026  \n",
       "Has_Customer_Service                        -0.005922  \n",
       "Map_Exists                                   0.066865  \n",
       "Unclaimed_Listing                                 NaN  \n",
       "Permanently_Closed                          -0.009593  \n",
       "Rating                                      -0.010153  \n",
       "Number_of_Reviews                           -0.011375  \n",
       "Number_of_Results                            0.007834  \n",
       "Mean_monthly_mortgage_and_owner_costs        0.070516  \n",
       "Rent_mean                                    0.056444  \n",
       "Is_established                               0.033359  \n",
       "Number_of_technologies                      -0.006201  \n",
       "Average_annual_income_per_household          0.080909  \n",
       "Average_years_employees_work_at_company     -0.017144  \n",
       "Mean_employee_age                           -0.014350  \n",
       "NAICS_sector_code                           -0.022752  \n",
       "Company_credit_score                         0.042880  \n",
       "Number_of_socials                           -0.029215  \n",
       "Confidence_Score                            -0.007772  \n",
       "LS_State                                     0.064993  \n",
       "Difference                                  -0.042983  \n",
       "address                                     -0.025245  \n",
       "company                                     -0.004949  \n",
       "Web_Ad_Outlet_code                           0.017062  \n",
       "Web_Ad_Outlet_Source_code                    0.016714  \n",
       "Email_domain                                 1.000000  \n",
       "\n",
       "[30 rows x 30 columns]"
      ]
     },
     "execution_count": 356,
     "metadata": {},
     "output_type": "execute_result"
    }
   ],
   "source": [
    "LeadScore_df.corr()"
   ]
  },
  {
   "cell_type": "code",
   "execution_count": 357,
   "id": "4e1fb77f",
   "metadata": {},
   "outputs": [
    {
     "data": {
      "text/plain": [
       "Is_Submitted                               0\n",
       "LS_Amount_to_Borrow                        0\n",
       "LS_GAS                                     0\n",
       "LS_Self_Graded_Credit                      0\n",
       "Results_From_Wikipedia                     0\n",
       "Has_Customer_Service                       0\n",
       "Map_Exists                                 0\n",
       "Unclaimed_Listing                          0\n",
       "Permanently_Closed                         0\n",
       "Rating                                     0\n",
       "Number_of_Reviews                          0\n",
       "Number_of_Results                          0\n",
       "Mean_monthly_mortgage_and_owner_costs      0\n",
       "Rent_mean                                  0\n",
       "Is_established                             0\n",
       "Number_of_technologies                     0\n",
       "Average_annual_income_per_household        0\n",
       "Average_years_employees_work_at_company    0\n",
       "Mean_employee_age                          0\n",
       "NAICS_sector_code                          0\n",
       "Company_credit_score                       0\n",
       "Number_of_socials                          0\n",
       "Confidence_Score                           0\n",
       "LS_State                                   0\n",
       "Difference                                 0\n",
       "address                                    0\n",
       "company                                    0\n",
       "Web_Ad_Outlet_code                         0\n",
       "Web_Ad_Outlet_Source_code                  0\n",
       "Email_domain                               0\n",
       "dtype: int64"
      ]
     },
     "execution_count": 357,
     "metadata": {},
     "output_type": "execute_result"
    }
   ],
   "source": [
    "LeadScore_df.isnull().sum()"
   ]
  },
  {
   "cell_type": "code",
   "execution_count": 358,
   "id": "2fbf1c69",
   "metadata": {},
   "outputs": [],
   "source": [
    "X = LeadScore_df.drop('Is_Submitted', axis =1)\n",
    "\n",
    "y = LeadScore_df[['Is_Submitted']]"
   ]
  },
  {
   "cell_type": "code",
   "execution_count": 359,
   "id": "a544bc8e",
   "metadata": {},
   "outputs": [],
   "source": [
    "from sklearn.model_selection import train_test_split\n",
    "from sklearn.tree import DecisionTreeClassifier, export_graphviz\n",
    "from sklearn.model_selection import GridSearchCV\n",
    "from sklearn.metrics import accuracy_score\n",
    "from sklearn.preprocessing import RobustScaler\n",
    "from sklearn.neighbors import KNeighborsClassifier\n",
    "from sklearn.model_selection import cross_val_score\n",
    "\n",
    "X_train, X_test, y_train, y_test = train_test_split(X,y, test_size=0.3, random_state=0)\n"
   ]
  },
  {
   "cell_type": "code",
   "execution_count": 360,
   "id": "4ffd5f1f",
   "metadata": {},
   "outputs": [],
   "source": [
    "#X_train.to_csv('Train4-11LN.csv', index = False)"
   ]
  },
  {
   "cell_type": "code",
   "execution_count": 361,
   "id": "a3e5f805",
   "metadata": {},
   "outputs": [],
   "source": [
    "scaler = RobustScaler()\n",
    "X_train = scaler.fit_transform(X_train)\n",
    "X_test = scaler.transform(X_test)"
   ]
  },
  {
   "cell_type": "code",
   "execution_count": 362,
   "id": "f14ec87b",
   "metadata": {},
   "outputs": [],
   "source": [
    "from sklearn.preprocessing import MinMaxScaler\n",
    "scaler = MinMaxScaler()\n",
    "X_train = scaler.fit_transform(X_train)\n",
    "X_test = scaler.transform(X_test)"
   ]
  },
  {
   "cell_type": "code",
   "execution_count": 363,
   "id": "8a0e5d44",
   "metadata": {},
   "outputs": [],
   "source": [
    "from sklearn.ensemble import RandomForestClassifier\n"
   ]
  },
  {
   "cell_type": "code",
   "execution_count": 364,
   "id": "bf9c6733",
   "metadata": {},
   "outputs": [],
   "source": [
    "import imblearn"
   ]
  },
  {
   "cell_type": "code",
   "execution_count": 365,
   "id": "65ff27fe",
   "metadata": {},
   "outputs": [
    {
     "name": "stdout",
     "output_type": "stream",
     "text": [
      "Original dataset shape Counter({'Is_Submitted': 1})\n",
      "Resample dataset shape Counter({'Is_Submitted': 1})\n"
     ]
    }
   ],
   "source": [
    "# import library\n",
    "from imblearn.over_sampling import RandomOverSampler\n",
    "from collections import Counter\n",
    "ros = RandomOverSampler(random_state=42)\n",
    "# fit predictor and target \n",
    "\n",
    "variablex_ros, y_ros = ros.fit_resample(X, y)\n",
    "\n",
    "\n",
    "print('Original dataset shape', Counter(y))\n",
    "print('Resample dataset shape', Counter(y_ros))"
   ]
  },
  {
   "cell_type": "code",
   "execution_count": 366,
   "id": "1e6cf46e",
   "metadata": {},
   "outputs": [
    {
     "name": "stdout",
     "output_type": "stream",
     "text": [
      "Counter({'Is_Submitted': 1})\n"
     ]
    }
   ],
   "source": [
    "from imblearn.over_sampling import SMOTE\n",
    "oversample = SMOTE()\n",
    "X, y = oversample.fit_resample(X, y)\n",
    "\n",
    "counter = Counter(y)\n",
    "print(counter)"
   ]
  },
  {
   "cell_type": "code",
   "execution_count": 367,
   "id": "effff0fa",
   "metadata": {
    "scrolled": true
   },
   "outputs": [
    {
     "data": {
      "text/html": [
       "<table class=\"simpletable\">\n",
       "<caption>Generalized Linear Model Regression Results</caption>\n",
       "<tr>\n",
       "  <th>Dep. Variable:</th>     <td>Is_Submitted</td>   <th>  No. Observations:  </th>  <td> 11624</td> \n",
       "</tr>\n",
       "<tr>\n",
       "  <th>Model:</th>                  <td>GLM</td>       <th>  Df Residuals:      </th>  <td> 11595</td> \n",
       "</tr>\n",
       "<tr>\n",
       "  <th>Model Family:</th>        <td>Binomial</td>     <th>  Df Model:          </th>  <td>    28</td> \n",
       "</tr>\n",
       "<tr>\n",
       "  <th>Link Function:</th>         <td>logit</td>      <th>  Scale:             </th> <td>  1.0000</td>\n",
       "</tr>\n",
       "<tr>\n",
       "  <th>Method:</th>                <td>IRLS</td>       <th>  Log-Likelihood:    </th> <td> -5347.0</td>\n",
       "</tr>\n",
       "<tr>\n",
       "  <th>Date:</th>            <td>Thu, 09 Jun 2022</td> <th>  Deviance:          </th> <td>  10694.</td>\n",
       "</tr>\n",
       "<tr>\n",
       "  <th>Time:</th>                <td>10:45:17</td>     <th>  Pearson chi2:      </th> <td>1.15e+04</td>\n",
       "</tr>\n",
       "<tr>\n",
       "  <th>No. Iterations:</th>          <td>9</td>        <th>                     </th>     <td> </td>   \n",
       "</tr>\n",
       "<tr>\n",
       "  <th>Covariance Type:</th>     <td>nonrobust</td>    <th>                     </th>     <td> </td>   \n",
       "</tr>\n",
       "</table>\n",
       "<table class=\"simpletable\">\n",
       "<tr>\n",
       "    <td></td>       <th>coef</th>     <th>std err</th>      <th>z</th>      <th>P>|z|</th>  <th>[0.025</th>    <th>0.975]</th>  \n",
       "</tr>\n",
       "<tr>\n",
       "  <th>const</th> <td>   -0.6992</td> <td>    0.452</td> <td>   -1.548</td> <td> 0.122</td> <td>   -1.585</td> <td>    0.186</td>\n",
       "</tr>\n",
       "<tr>\n",
       "  <th>x1</th>    <td> -135.8495</td> <td>   21.273</td> <td>   -6.386</td> <td> 0.000</td> <td> -177.543</td> <td>  -94.156</td>\n",
       "</tr>\n",
       "<tr>\n",
       "  <th>x2</th>    <td>  -56.6622</td> <td>   37.053</td> <td>   -1.529</td> <td> 0.126</td> <td> -129.285</td> <td>   15.960</td>\n",
       "</tr>\n",
       "<tr>\n",
       "  <th>x3</th>    <td>   -0.9101</td> <td>    0.143</td> <td>   -6.369</td> <td> 0.000</td> <td>   -1.190</td> <td>   -0.630</td>\n",
       "</tr>\n",
       "<tr>\n",
       "  <th>x4</th>    <td>   -0.3392</td> <td>    0.216</td> <td>   -1.568</td> <td> 0.117</td> <td>   -0.763</td> <td>    0.085</td>\n",
       "</tr>\n",
       "<tr>\n",
       "  <th>x5</th>    <td>   -3.4594</td> <td>    5.486</td> <td>   -0.631</td> <td> 0.528</td> <td>  -14.212</td> <td>    7.293</td>\n",
       "</tr>\n",
       "<tr>\n",
       "  <th>x6</th>    <td>    0.1551</td> <td>    0.060</td> <td>    2.593</td> <td> 0.010</td> <td>    0.038</td> <td>    0.272</td>\n",
       "</tr>\n",
       "<tr>\n",
       "  <th>x7</th>    <td> 4.251e-13</td> <td> 8.28e-13</td> <td>    0.514</td> <td> 0.607</td> <td> -1.2e-12</td> <td> 2.05e-12</td>\n",
       "</tr>\n",
       "<tr>\n",
       "  <th>x8</th>    <td>    0.2222</td> <td>    0.336</td> <td>    0.661</td> <td> 0.508</td> <td>   -0.436</td> <td>    0.881</td>\n",
       "</tr>\n",
       "<tr>\n",
       "  <th>x9</th>    <td>   -0.3383</td> <td>    0.255</td> <td>   -1.329</td> <td> 0.184</td> <td>   -0.837</td> <td>    0.161</td>\n",
       "</tr>\n",
       "<tr>\n",
       "  <th>x10</th>   <td>   -3.3327</td> <td>    2.015</td> <td>   -1.654</td> <td> 0.098</td> <td>   -7.283</td> <td>    0.617</td>\n",
       "</tr>\n",
       "<tr>\n",
       "  <th>x11</th>   <td>   -1.1320</td> <td>    0.923</td> <td>   -1.227</td> <td> 0.220</td> <td>   -2.940</td> <td>    0.676</td>\n",
       "</tr>\n",
       "<tr>\n",
       "  <th>x12</th>   <td>   -0.0282</td> <td>    0.363</td> <td>   -0.078</td> <td> 0.938</td> <td>   -0.740</td> <td>    0.683</td>\n",
       "</tr>\n",
       "<tr>\n",
       "  <th>x13</th>   <td>    0.5001</td> <td>    0.482</td> <td>    1.038</td> <td> 0.299</td> <td>   -0.444</td> <td>    1.445</td>\n",
       "</tr>\n",
       "<tr>\n",
       "  <th>x14</th>   <td>   -0.1174</td> <td>    0.110</td> <td>   -1.068</td> <td> 0.285</td> <td>   -0.333</td> <td>    0.098</td>\n",
       "</tr>\n",
       "<tr>\n",
       "  <th>x15</th>   <td>    0.6633</td> <td>    0.469</td> <td>    1.415</td> <td> 0.157</td> <td>   -0.256</td> <td>    1.582</td>\n",
       "</tr>\n",
       "<tr>\n",
       "  <th>x16</th>   <td>    0.3126</td> <td>    0.540</td> <td>    0.579</td> <td> 0.562</td> <td>   -0.745</td> <td>    1.370</td>\n",
       "</tr>\n",
       "<tr>\n",
       "  <th>x17</th>   <td>   -1.3430</td> <td>    0.797</td> <td>   -1.686</td> <td> 0.092</td> <td>   -2.904</td> <td>    0.218</td>\n",
       "</tr>\n",
       "<tr>\n",
       "  <th>x18</th>   <td>   -0.5329</td> <td>    0.635</td> <td>   -0.839</td> <td> 0.402</td> <td>   -1.778</td> <td>    0.712</td>\n",
       "</tr>\n",
       "<tr>\n",
       "  <th>x19</th>   <td>    0.2010</td> <td>    0.110</td> <td>    1.824</td> <td> 0.068</td> <td>   -0.015</td> <td>    0.417</td>\n",
       "</tr>\n",
       "<tr>\n",
       "  <th>x20</th>   <td>   -0.2270</td> <td>    0.327</td> <td>   -0.694</td> <td> 0.488</td> <td>   -0.868</td> <td>    0.414</td>\n",
       "</tr>\n",
       "<tr>\n",
       "  <th>x21</th>   <td>   -0.3670</td> <td>    0.362</td> <td>   -1.014</td> <td> 0.311</td> <td>   -1.076</td> <td>    0.342</td>\n",
       "</tr>\n",
       "<tr>\n",
       "  <th>x22</th>   <td>    0.0868</td> <td>    0.169</td> <td>    0.514</td> <td> 0.608</td> <td>   -0.244</td> <td>    0.418</td>\n",
       "</tr>\n",
       "<tr>\n",
       "  <th>x23</th>   <td>    0.0126</td> <td>    0.082</td> <td>    0.153</td> <td> 0.878</td> <td>   -0.149</td> <td>    0.174</td>\n",
       "</tr>\n",
       "<tr>\n",
       "  <th>x24</th>   <td>   -0.3310</td> <td>    0.521</td> <td>   -0.635</td> <td> 0.525</td> <td>   -1.352</td> <td>    0.690</td>\n",
       "</tr>\n",
       "<tr>\n",
       "  <th>x25</th>   <td>    0.0217</td> <td>    0.055</td> <td>    0.393</td> <td> 0.694</td> <td>   -0.086</td> <td>    0.130</td>\n",
       "</tr>\n",
       "<tr>\n",
       "  <th>x26</th>   <td>    0.1849</td> <td>    0.053</td> <td>    3.511</td> <td> 0.000</td> <td>    0.082</td> <td>    0.288</td>\n",
       "</tr>\n",
       "<tr>\n",
       "  <th>x27</th>   <td>   -0.5222</td> <td>    0.103</td> <td>   -5.046</td> <td> 0.000</td> <td>   -0.725</td> <td>   -0.319</td>\n",
       "</tr>\n",
       "<tr>\n",
       "  <th>x28</th>   <td>    0.0947</td> <td>    0.105</td> <td>    0.898</td> <td> 0.369</td> <td>   -0.112</td> <td>    0.301</td>\n",
       "</tr>\n",
       "<tr>\n",
       "  <th>x29</th>   <td>    0.1570</td> <td>    0.055</td> <td>    2.856</td> <td> 0.004</td> <td>    0.049</td> <td>    0.265</td>\n",
       "</tr>\n",
       "</table>"
      ],
      "text/plain": [
       "<class 'statsmodels.iolib.summary.Summary'>\n",
       "\"\"\"\n",
       "                 Generalized Linear Model Regression Results                  \n",
       "==============================================================================\n",
       "Dep. Variable:           Is_Submitted   No. Observations:                11624\n",
       "Model:                            GLM   Df Residuals:                    11595\n",
       "Model Family:                Binomial   Df Model:                           28\n",
       "Link Function:                  logit   Scale:                          1.0000\n",
       "Method:                          IRLS   Log-Likelihood:                -5347.0\n",
       "Date:                Thu, 09 Jun 2022   Deviance:                       10694.\n",
       "Time:                        10:45:17   Pearson chi2:                 1.15e+04\n",
       "No. Iterations:                     9                                         \n",
       "Covariance Type:            nonrobust                                         \n",
       "==============================================================================\n",
       "                 coef    std err          z      P>|z|      [0.025      0.975]\n",
       "------------------------------------------------------------------------------\n",
       "const         -0.6992      0.452     -1.548      0.122      -1.585       0.186\n",
       "x1          -135.8495     21.273     -6.386      0.000    -177.543     -94.156\n",
       "x2           -56.6622     37.053     -1.529      0.126    -129.285      15.960\n",
       "x3            -0.9101      0.143     -6.369      0.000      -1.190      -0.630\n",
       "x4            -0.3392      0.216     -1.568      0.117      -0.763       0.085\n",
       "x5            -3.4594      5.486     -0.631      0.528     -14.212       7.293\n",
       "x6             0.1551      0.060      2.593      0.010       0.038       0.272\n",
       "x7          4.251e-13   8.28e-13      0.514      0.607    -1.2e-12    2.05e-12\n",
       "x8             0.2222      0.336      0.661      0.508      -0.436       0.881\n",
       "x9            -0.3383      0.255     -1.329      0.184      -0.837       0.161\n",
       "x10           -3.3327      2.015     -1.654      0.098      -7.283       0.617\n",
       "x11           -1.1320      0.923     -1.227      0.220      -2.940       0.676\n",
       "x12           -0.0282      0.363     -0.078      0.938      -0.740       0.683\n",
       "x13            0.5001      0.482      1.038      0.299      -0.444       1.445\n",
       "x14           -0.1174      0.110     -1.068      0.285      -0.333       0.098\n",
       "x15            0.6633      0.469      1.415      0.157      -0.256       1.582\n",
       "x16            0.3126      0.540      0.579      0.562      -0.745       1.370\n",
       "x17           -1.3430      0.797     -1.686      0.092      -2.904       0.218\n",
       "x18           -0.5329      0.635     -0.839      0.402      -1.778       0.712\n",
       "x19            0.2010      0.110      1.824      0.068      -0.015       0.417\n",
       "x20           -0.2270      0.327     -0.694      0.488      -0.868       0.414\n",
       "x21           -0.3670      0.362     -1.014      0.311      -1.076       0.342\n",
       "x22            0.0868      0.169      0.514      0.608      -0.244       0.418\n",
       "x23            0.0126      0.082      0.153      0.878      -0.149       0.174\n",
       "x24           -0.3310      0.521     -0.635      0.525      -1.352       0.690\n",
       "x25            0.0217      0.055      0.393      0.694      -0.086       0.130\n",
       "x26            0.1849      0.053      3.511      0.000       0.082       0.288\n",
       "x27           -0.5222      0.103     -5.046      0.000      -0.725      -0.319\n",
       "x28            0.0947      0.105      0.898      0.369      -0.112       0.301\n",
       "x29            0.1570      0.055      2.856      0.004       0.049       0.265\n",
       "==============================================================================\n",
       "\"\"\""
      ]
     },
     "execution_count": 367,
     "metadata": {},
     "output_type": "execute_result"
    }
   ],
   "source": [
    "import statsmodels.api as sm\n",
    "\n",
    "logm1 = sm.GLM(y_train, (sm.add_constant(X_train)), family = sm.families.Binomial())\n",
    "logm1.fit().summary()"
   ]
  },
  {
   "cell_type": "code",
   "execution_count": 368,
   "id": "94890c64",
   "metadata": {},
   "outputs": [
    {
     "data": {
      "text/plain": [
       "((11624, 29), (11624, 1))"
      ]
     },
     "execution_count": 368,
     "metadata": {},
     "output_type": "execute_result"
    }
   ],
   "source": [
    "X_train.shape, y_train.shape"
   ]
  },
  {
   "cell_type": "code",
   "execution_count": 369,
   "id": "3d2abf1e",
   "metadata": {},
   "outputs": [
    {
     "data": {
      "text/plain": [
       "((4982, 29), (4982, 1))"
      ]
     },
     "execution_count": 369,
     "metadata": {},
     "output_type": "execute_result"
    }
   ],
   "source": [
    "X_test.shape, y_test.shape"
   ]
  },
  {
   "cell_type": "code",
   "execution_count": 370,
   "id": "c22013b4",
   "metadata": {},
   "outputs": [],
   "source": [
    "from sklearn.feature_selection import SelectKBest\n",
    "from sklearn.feature_selection import chi2\n",
    "from sklearn.feature_selection import mutual_info_classif\n",
    "\n",
    "def select_features(X_train, y_train, X_test):\n",
    "    fs = SelectKBest(score_func=mutual_info_classif, k='all')\n",
    "    fs.fit(X_train, y_train)\n",
    "    X_train_fs = fs.transform(X_train)\n",
    "    X_test_fs = fs.transform(X_test)\n",
    "    return X_train_fs, X_test_fs, fs"
   ]
  },
  {
   "cell_type": "code",
   "execution_count": 371,
   "id": "a3ed9a97",
   "metadata": {},
   "outputs": [
    {
     "name": "stdout",
     "output_type": "stream",
     "text": [
      "Feature 0: 0.008312\n",
      "Feature 1: 0.002672\n",
      "Feature 2: 0.002935\n",
      "Feature 3: 0.000891\n",
      "Feature 4: 0.000000\n",
      "Feature 5: 0.000000\n",
      "Feature 6: 0.000000\n",
      "Feature 7: 0.000000\n",
      "Feature 8: 0.005805\n",
      "Feature 9: 0.000000\n",
      "Feature 10: 0.000000\n",
      "Feature 11: 0.001700\n",
      "Feature 12: 0.000495\n",
      "Feature 13: 0.000000\n",
      "Feature 14: 0.000000\n",
      "Feature 15: 0.000000\n",
      "Feature 16: 0.001284\n",
      "Feature 17: 0.000000\n",
      "Feature 18: 0.000000\n",
      "Feature 19: 0.005936\n",
      "Feature 20: 0.000000\n",
      "Feature 21: 0.000000\n",
      "Feature 22: 0.000000\n",
      "Feature 23: 0.003835\n",
      "Feature 24: 0.002979\n",
      "Feature 25: 0.006295\n",
      "Feature 26: 0.006650\n",
      "Feature 27: 0.004894\n",
      "Feature 28: 0.001827\n"
     ]
    },
    {
     "data": {
      "image/png": "[encoded data removed]",
      "text/plain": [
       "<Figure size 432x288 with 1 Axes>"
      ]
     },
     "metadata": {
      "needs_background": "light"
     },
     "output_type": "display_data"
    }
   ],
   "source": [
    "X_train_fs, X_test_fs, fs = select_features(X_train, y_train, X_test)\n",
    "# what are scores for the features\n",
    "for i in range(len(fs.scores_)):\n",
    "    print('Feature %d: %f' % (i, fs.scores_[i]))\n",
    "    \n",
    "# plot the scores\n",
    "plt.bar([i for i in range(len(fs.scores_))], fs.scores_)\n",
    "plt.show()"
   ]
  },
  {
   "cell_type": "code",
   "execution_count": 372,
   "id": "282e7ee3",
   "metadata": {},
   "outputs": [],
   "source": [
    "from sklearn.linear_model import LogisticRegression\n",
    "\n",
    "model = LogisticRegression(solver='liblinear')\n",
    "model.fit(X_train, y_train)\n",
    "y_pred = model.predict(X_test)"
   ]
  },
  {
   "cell_type": "code",
   "execution_count": 373,
   "id": "7c0ce155",
   "metadata": {},
   "outputs": [],
   "source": [
    "from sklearn.feature_selection import RFE\n",
    "\n",
    "rfe = RFE(model,25)             # running RFE with 7 variables as output\n",
    "rfe = rfe.fit(X_train, y_train)"
   ]
  },
  {
   "cell_type": "code",
   "execution_count": 374,
   "id": "5066d78d",
   "metadata": {},
   "outputs": [
    {
     "data": {
      "text/plain": [
       "array([ True,  True,  True,  True,  True,  True, False,  True,  True,\n",
       "        True,  True, False,  True,  True,  True, False,  True,  True,\n",
       "        True,  True,  True,  True,  True,  True, False,  True,  True,\n",
       "        True,  True])"
      ]
     },
     "execution_count": 374,
     "metadata": {},
     "output_type": "execute_result"
    }
   ],
   "source": [
    "rfe.support_"
   ]
  },
  {
   "cell_type": "code",
   "execution_count": 375,
   "id": "65e8561c",
   "metadata": {},
   "outputs": [],
   "source": [
    "X_train = pd.DataFrame(X_train, columns = X.columns)\n",
    "X_test = pd.DataFrame(X_test, columns=X.columns)"
   ]
  },
  {
   "cell_type": "code",
   "execution_count": 376,
   "id": "3122ed28",
   "metadata": {},
   "outputs": [
    {
     "data": {
      "text/plain": [
       "[('LS_Amount_to_Borrow', True, 1),\n",
       " ('LS_GAS', True, 1),\n",
       " ('LS_Self_Graded_Credit', True, 1),\n",
       " ('Results_From_Wikipedia', True, 1),\n",
       " ('Has_Customer_Service', True, 1),\n",
       " ('Map_Exists', True, 1),\n",
       " ('Unclaimed_Listing', False, 5),\n",
       " ('Permanently_Closed', True, 1),\n",
       " ('Rating', True, 1),\n",
       " ('Number_of_Reviews', True, 1),\n",
       " ('Number_of_Results', True, 1),\n",
       " ('Mean_monthly_mortgage_and_owner_costs', False, 3),\n",
       " ('Rent_mean', True, 1),\n",
       " ('Is_established', True, 1),\n",
       " ('Number_of_technologies', True, 1),\n",
       " ('Average_annual_income_per_household', False, 2),\n",
       " ('Average_years_employees_work_at_company', True, 1),\n",
       " ('Mean_employee_age', True, 1),\n",
       " ('NAICS_sector_code', True, 1),\n",
       " ('Company_credit_score', True, 1),\n",
       " ('Number_of_socials', True, 1),\n",
       " ('Confidence_Score', True, 1),\n",
       " ('LS_State', True, 1),\n",
       " ('Difference', True, 1),\n",
       " ('address', False, 4),\n",
       " ('company', True, 1),\n",
       " ('Web_Ad_Outlet_code', True, 1),\n",
       " ('Web_Ad_Outlet_Source_code', True, 1),\n",
       " ('Email_domain', True, 1)]"
      ]
     },
     "execution_count": 376,
     "metadata": {},
     "output_type": "execute_result"
    }
   ],
   "source": [
    "list(zip(X_train.columns, rfe.support_, rfe.ranking_))"
   ]
  },
  {
   "cell_type": "code",
   "execution_count": 377,
   "id": "1b5fa4e6",
   "metadata": {},
   "outputs": [
    {
     "data": {
      "text/plain": [
       "Index(['LS_Amount_to_Borrow', 'LS_GAS', 'LS_Self_Graded_Credit',\n",
       "       'Results_From_Wikipedia', 'Has_Customer_Service', 'Map_Exists',\n",
       "       'Permanently_Closed', 'Rating', 'Number_of_Reviews',\n",
       "       'Number_of_Results', 'Rent_mean', 'Is_established',\n",
       "       'Number_of_technologies', 'Average_years_employees_work_at_company',\n",
       "       'Mean_employee_age', 'NAICS_sector_code', 'Company_credit_score',\n",
       "       'Number_of_socials', 'Confidence_Score', 'LS_State', 'Difference',\n",
       "       'company', 'Web_Ad_Outlet_code', 'Web_Ad_Outlet_Source_code',\n",
       "       'Email_domain'],\n",
       "      dtype='object')"
      ]
     },
     "execution_count": 377,
     "metadata": {},
     "output_type": "execute_result"
    }
   ],
   "source": [
    "col = X_train.columns[rfe.support_]\n",
    "col"
   ]
  },
  {
   "cell_type": "code",
   "execution_count": 378,
   "id": "4543f962",
   "metadata": {},
   "outputs": [
    {
     "data": {
      "text/html": [
       "<table class=\"simpletable\">\n",
       "<caption>Generalized Linear Model Regression Results</caption>\n",
       "<tr>\n",
       "  <th>Dep. Variable:</th>     <td>Is_Submitted</td>   <th>  No. Observations:  </th>  <td> 11624</td> \n",
       "</tr>\n",
       "<tr>\n",
       "  <th>Model:</th>                  <td>GLM</td>       <th>  Df Residuals:      </th>  <td> 11598</td> \n",
       "</tr>\n",
       "<tr>\n",
       "  <th>Model Family:</th>        <td>Binomial</td>     <th>  Df Model:          </th>  <td>    25</td> \n",
       "</tr>\n",
       "<tr>\n",
       "  <th>Link Function:</th>         <td>logit</td>      <th>  Scale:             </th> <td>  1.0000</td>\n",
       "</tr>\n",
       "<tr>\n",
       "  <th>Method:</th>                <td>IRLS</td>       <th>  Log-Likelihood:    </th> <td> -5347.3</td>\n",
       "</tr>\n",
       "<tr>\n",
       "  <th>Date:</th>            <td>Thu, 09 Jun 2022</td> <th>  Deviance:          </th> <td>  10695.</td>\n",
       "</tr>\n",
       "<tr>\n",
       "  <th>Time:</th>                <td>10:45:21</td>     <th>  Pearson chi2:      </th> <td>1.15e+04</td>\n",
       "</tr>\n",
       "<tr>\n",
       "  <th>No. Iterations:</th>          <td>9</td>        <th>                     </th>     <td> </td>   \n",
       "</tr>\n",
       "<tr>\n",
       "  <th>Covariance Type:</th>     <td>nonrobust</td>    <th>                     </th>     <td> </td>   \n",
       "</tr>\n",
       "</table>\n",
       "<table class=\"simpletable\">\n",
       "<tr>\n",
       "    <td></td>       <th>coef</th>     <th>std err</th>      <th>z</th>      <th>P>|z|</th>  <th>[0.025</th>    <th>0.975]</th>  \n",
       "</tr>\n",
       "<tr>\n",
       "  <th>const</th> <td>   -0.6873</td> <td>    0.451</td> <td>   -1.525</td> <td> 0.127</td> <td>   -1.571</td> <td>    0.196</td>\n",
       "</tr>\n",
       "<tr>\n",
       "  <th>x1</th>    <td> -135.5008</td> <td>   21.257</td> <td>   -6.374</td> <td> 0.000</td> <td> -177.163</td> <td>  -93.838</td>\n",
       "</tr>\n",
       "<tr>\n",
       "  <th>x2</th>    <td>  -56.2702</td> <td>   36.969</td> <td>   -1.522</td> <td> 0.128</td> <td> -128.728</td> <td>   16.187</td>\n",
       "</tr>\n",
       "<tr>\n",
       "  <th>x3</th>    <td>   -0.9003</td> <td>    0.142</td> <td>   -6.337</td> <td> 0.000</td> <td>   -1.179</td> <td>   -0.622</td>\n",
       "</tr>\n",
       "<tr>\n",
       "  <th>x4</th>    <td>   -0.3421</td> <td>    0.216</td> <td>   -1.582</td> <td> 0.114</td> <td>   -0.766</td> <td>    0.082</td>\n",
       "</tr>\n",
       "<tr>\n",
       "  <th>x5</th>    <td>   -3.4795</td> <td>    5.545</td> <td>   -0.627</td> <td> 0.530</td> <td>  -14.348</td> <td>    7.389</td>\n",
       "</tr>\n",
       "<tr>\n",
       "  <th>x6</th>    <td>    0.1555</td> <td>    0.060</td> <td>    2.603</td> <td> 0.009</td> <td>    0.038</td> <td>    0.273</td>\n",
       "</tr>\n",
       "<tr>\n",
       "  <th>x7</th>    <td>    0.2266</td> <td>    0.336</td> <td>    0.674</td> <td> 0.500</td> <td>   -0.432</td> <td>    0.885</td>\n",
       "</tr>\n",
       "<tr>\n",
       "  <th>x8</th>    <td>   -0.3377</td> <td>    0.254</td> <td>   -1.328</td> <td> 0.184</td> <td>   -0.836</td> <td>    0.161</td>\n",
       "</tr>\n",
       "<tr>\n",
       "  <th>x9</th>    <td>   -3.3010</td> <td>    2.012</td> <td>   -1.640</td> <td> 0.101</td> <td>   -7.245</td> <td>    0.643</td>\n",
       "</tr>\n",
       "<tr>\n",
       "  <th>x10</th>   <td>   -1.1420</td> <td>    0.923</td> <td>   -1.237</td> <td> 0.216</td> <td>   -2.951</td> <td>    0.667</td>\n",
       "</tr>\n",
       "<tr>\n",
       "  <th>x11</th>   <td>    0.6332</td> <td>    0.289</td> <td>    2.194</td> <td> 0.028</td> <td>    0.067</td> <td>    1.199</td>\n",
       "</tr>\n",
       "<tr>\n",
       "  <th>x12</th>   <td>   -0.1175</td> <td>    0.110</td> <td>   -1.070</td> <td> 0.285</td> <td>   -0.333</td> <td>    0.098</td>\n",
       "</tr>\n",
       "<tr>\n",
       "  <th>x13</th>   <td>    0.6613</td> <td>    0.469</td> <td>    1.411</td> <td> 0.158</td> <td>   -0.257</td> <td>    1.580</td>\n",
       "</tr>\n",
       "<tr>\n",
       "  <th>x14</th>   <td>   -1.3451</td> <td>    0.796</td> <td>   -1.690</td> <td> 0.091</td> <td>   -2.905</td> <td>    0.215</td>\n",
       "</tr>\n",
       "<tr>\n",
       "  <th>x15</th>   <td>   -0.5305</td> <td>    0.635</td> <td>   -0.836</td> <td> 0.403</td> <td>   -1.775</td> <td>    0.714</td>\n",
       "</tr>\n",
       "<tr>\n",
       "  <th>x16</th>   <td>    0.2021</td> <td>    0.110</td> <td>    1.835</td> <td> 0.067</td> <td>   -0.014</td> <td>    0.418</td>\n",
       "</tr>\n",
       "<tr>\n",
       "  <th>x17</th>   <td>   -0.2325</td> <td>    0.327</td> <td>   -0.711</td> <td> 0.477</td> <td>   -0.873</td> <td>    0.408</td>\n",
       "</tr>\n",
       "<tr>\n",
       "  <th>x18</th>   <td>   -0.3664</td> <td>    0.362</td> <td>   -1.013</td> <td> 0.311</td> <td>   -1.075</td> <td>    0.343</td>\n",
       "</tr>\n",
       "<tr>\n",
       "  <th>x19</th>   <td>    0.0878</td> <td>    0.169</td> <td>    0.519</td> <td> 0.604</td> <td>   -0.244</td> <td>    0.419</td>\n",
       "</tr>\n",
       "<tr>\n",
       "  <th>x20</th>   <td>    0.0152</td> <td>    0.081</td> <td>    0.187</td> <td> 0.852</td> <td>   -0.144</td> <td>    0.175</td>\n",
       "</tr>\n",
       "<tr>\n",
       "  <th>x21</th>   <td>   -0.3353</td> <td>    0.521</td> <td>   -0.644</td> <td> 0.520</td> <td>   -1.356</td> <td>    0.686</td>\n",
       "</tr>\n",
       "<tr>\n",
       "  <th>x22</th>   <td>    0.1896</td> <td>    0.051</td> <td>    3.731</td> <td> 0.000</td> <td>    0.090</td> <td>    0.289</td>\n",
       "</tr>\n",
       "<tr>\n",
       "  <th>x23</th>   <td>   -0.5198</td> <td>    0.103</td> <td>   -5.031</td> <td> 0.000</td> <td>   -0.722</td> <td>   -0.317</td>\n",
       "</tr>\n",
       "<tr>\n",
       "  <th>x24</th>   <td>    0.0963</td> <td>    0.105</td> <td>    0.915</td> <td> 0.360</td> <td>   -0.110</td> <td>    0.303</td>\n",
       "</tr>\n",
       "<tr>\n",
       "  <th>x25</th>   <td>    0.1583</td> <td>    0.055</td> <td>    2.882</td> <td> 0.004</td> <td>    0.051</td> <td>    0.266</td>\n",
       "</tr>\n",
       "</table>"
      ],
      "text/plain": [
       "<class 'statsmodels.iolib.summary.Summary'>\n",
       "\"\"\"\n",
       "                 Generalized Linear Model Regression Results                  \n",
       "==============================================================================\n",
       "Dep. Variable:           Is_Submitted   No. Observations:                11624\n",
       "Model:                            GLM   Df Residuals:                    11598\n",
       "Model Family:                Binomial   Df Model:                           25\n",
       "Link Function:                  logit   Scale:                          1.0000\n",
       "Method:                          IRLS   Log-Likelihood:                -5347.3\n",
       "Date:                Thu, 09 Jun 2022   Deviance:                       10695.\n",
       "Time:                        10:45:21   Pearson chi2:                 1.15e+04\n",
       "No. Iterations:                     9                                         \n",
       "Covariance Type:            nonrobust                                         \n",
       "==============================================================================\n",
       "                 coef    std err          z      P>|z|      [0.025      0.975]\n",
       "------------------------------------------------------------------------------\n",
       "const         -0.6873      0.451     -1.525      0.127      -1.571       0.196\n",
       "x1          -135.5008     21.257     -6.374      0.000    -177.163     -93.838\n",
       "x2           -56.2702     36.969     -1.522      0.128    -128.728      16.187\n",
       "x3            -0.9003      0.142     -6.337      0.000      -1.179      -0.622\n",
       "x4            -0.3421      0.216     -1.582      0.114      -0.766       0.082\n",
       "x5            -3.4795      5.545     -0.627      0.530     -14.348       7.389\n",
       "x6             0.1555      0.060      2.603      0.009       0.038       0.273\n",
       "x7             0.2266      0.336      0.674      0.500      -0.432       0.885\n",
       "x8            -0.3377      0.254     -1.328      0.184      -0.836       0.161\n",
       "x9            -3.3010      2.012     -1.640      0.101      -7.245       0.643\n",
       "x10           -1.1420      0.923     -1.237      0.216      -2.951       0.667\n",
       "x11            0.6332      0.289      2.194      0.028       0.067       1.199\n",
       "x12           -0.1175      0.110     -1.070      0.285      -0.333       0.098\n",
       "x13            0.6613      0.469      1.411      0.158      -0.257       1.580\n",
       "x14           -1.3451      0.796     -1.690      0.091      -2.905       0.215\n",
       "x15           -0.5305      0.635     -0.836      0.403      -1.775       0.714\n",
       "x16            0.2021      0.110      1.835      0.067      -0.014       0.418\n",
       "x17           -0.2325      0.327     -0.711      0.477      -0.873       0.408\n",
       "x18           -0.3664      0.362     -1.013      0.311      -1.075       0.343\n",
       "x19            0.0878      0.169      0.519      0.604      -0.244       0.419\n",
       "x20            0.0152      0.081      0.187      0.852      -0.144       0.175\n",
       "x21           -0.3353      0.521     -0.644      0.520      -1.356       0.686\n",
       "x22            0.1896      0.051      3.731      0.000       0.090       0.289\n",
       "x23           -0.5198      0.103     -5.031      0.000      -0.722      -0.317\n",
       "x24            0.0963      0.105      0.915      0.360      -0.110       0.303\n",
       "x25            0.1583      0.055      2.882      0.004       0.051       0.266\n",
       "==============================================================================\n",
       "\"\"\""
      ]
     },
     "execution_count": 378,
     "metadata": {},
     "output_type": "execute_result"
    }
   ],
   "source": [
    "X_train_sm = sm.add_constant(X_train[col].values)\n",
    "\n",
    "X_train_sm = sm.add_constant(X_train[col].values)\n",
    "logm2 = sm.GLM(y_train,X_train_sm, family = sm.families.Binomial())\n",
    "res = logm2.fit()\n",
    "res.summary()"
   ]
  },
  {
   "cell_type": "code",
   "execution_count": 379,
   "id": "cbf8b81c",
   "metadata": {},
   "outputs": [
    {
     "data": {
      "text/plain": [
       "array([0.17394812, 0.17596627, 0.18197222, 0.21975749, 0.09652601,\n",
       "       0.13330247, 0.1737546 , 0.11558253, 0.14611097, 0.26047361])"
      ]
     },
     "execution_count": 379,
     "metadata": {},
     "output_type": "execute_result"
    }
   ],
   "source": [
    "y_train_pred = res.predict(X_train_sm)\n",
    "y_train_pred[:10]"
   ]
  },
  {
   "cell_type": "code",
   "execution_count": 380,
   "id": "600eb52b",
   "metadata": {},
   "outputs": [
    {
     "data": {
      "text/plain": [
       "array([0.17394812, 0.17596627, 0.18197222, 0.21975749, 0.09652601,\n",
       "       0.13330247, 0.1737546 , 0.11558253, 0.14611097, 0.26047361])"
      ]
     },
     "execution_count": 380,
     "metadata": {},
     "output_type": "execute_result"
    }
   ],
   "source": [
    "y_train_pred = y_train_pred.reshape(-1)\n",
    "y_train_pred[:10]"
   ]
  },
  {
   "cell_type": "code",
   "execution_count": 381,
   "id": "451b0c94",
   "metadata": {},
   "outputs": [
    {
     "data": {
      "text/html": [
       "<div>\n",
       "<style scoped>\n",
       "    .dataframe tbody tr th:only-of-type {\n",
       "        vertical-align: middle;\n",
       "    }\n",
       "\n",
       "    .dataframe tbody tr th {\n",
       "        vertical-align: top;\n",
       "    }\n",
       "\n",
       "    .dataframe thead th {\n",
       "        text-align: right;\n",
       "    }\n",
       "</style>\n",
       "<table border=\"1\" class=\"dataframe\">\n",
       "  <thead>\n",
       "    <tr style=\"text-align: right;\">\n",
       "      <th></th>\n",
       "      <th>0</th>\n",
       "      <th>Prospect_ID</th>\n",
       "    </tr>\n",
       "  </thead>\n",
       "  <tbody>\n",
       "    <tr>\n",
       "      <th>0.173948</th>\n",
       "      <td>1</td>\n",
       "      <td>8379</td>\n",
       "    </tr>\n",
       "    <tr>\n",
       "      <th>0.175966</th>\n",
       "      <td>0</td>\n",
       "      <td>15809</td>\n",
       "    </tr>\n",
       "    <tr>\n",
       "      <th>0.181972</th>\n",
       "      <td>1</td>\n",
       "      <td>5276</td>\n",
       "    </tr>\n",
       "    <tr>\n",
       "      <th>0.219757</th>\n",
       "      <td>0</td>\n",
       "      <td>473</td>\n",
       "    </tr>\n",
       "    <tr>\n",
       "      <th>0.096526</th>\n",
       "      <td>0</td>\n",
       "      <td>2314</td>\n",
       "    </tr>\n",
       "    <tr>\n",
       "      <th>...</th>\n",
       "      <td>...</td>\n",
       "      <td>...</td>\n",
       "    </tr>\n",
       "    <tr>\n",
       "      <th>0.167923</th>\n",
       "      <td>0</td>\n",
       "      <td>9225</td>\n",
       "    </tr>\n",
       "    <tr>\n",
       "      <th>0.131595</th>\n",
       "      <td>0</td>\n",
       "      <td>13123</td>\n",
       "    </tr>\n",
       "    <tr>\n",
       "      <th>0.259852</th>\n",
       "      <td>0</td>\n",
       "      <td>9845</td>\n",
       "    </tr>\n",
       "    <tr>\n",
       "      <th>0.223495</th>\n",
       "      <td>0</td>\n",
       "      <td>10799</td>\n",
       "    </tr>\n",
       "    <tr>\n",
       "      <th>0.005515</th>\n",
       "      <td>0</td>\n",
       "      <td>2732</td>\n",
       "    </tr>\n",
       "  </tbody>\n",
       "</table>\n",
       "<p>11624 rows × 2 columns</p>\n",
       "</div>"
      ],
      "text/plain": [
       "          0  Prospect_ID\n",
       "0.173948  1         8379\n",
       "0.175966  0        15809\n",
       "0.181972  1         5276\n",
       "0.219757  0          473\n",
       "0.096526  0         2314\n",
       "...      ..          ...\n",
       "0.167923  0         9225\n",
       "0.131595  0        13123\n",
       "0.259852  0         9845\n",
       "0.223495  0        10799\n",
       "0.005515  0         2732\n",
       "\n",
       "[11624 rows x 2 columns]"
      ]
     },
     "execution_count": 381,
     "metadata": {},
     "output_type": "execute_result"
    }
   ],
   "source": [
    "Submitted_prob = y_train_pred\n",
    "Submitted = y_train.values\n",
    "y_train_pred_final = pd.DataFrame(Submitted,Submitted_prob)\n",
    "                                  \n",
    "                                   \n",
    "y_train_pred_final['Prospect_ID'] = y_train.index\n",
    "\n",
    "y_train_pred_final"
   ]
  },
  {
   "cell_type": "code",
   "execution_count": 382,
   "id": "a33bce7b",
   "metadata": {},
   "outputs": [],
   "source": [
    "y_train_pred_final.reset_index(inplace=True)"
   ]
  },
  {
   "cell_type": "code",
   "execution_count": 383,
   "id": "b2ce3742",
   "metadata": {},
   "outputs": [],
   "source": [
    "y_train_pred_final.rename(columns = {\"index\":\"Submitted_Prob\", 0:\"Submitted\"}, inplace=True)"
   ]
  },
  {
   "cell_type": "code",
   "execution_count": 384,
   "id": "bb397ec5",
   "metadata": {},
   "outputs": [
    {
     "data": {
      "text/html": [
       "<div>\n",
       "<style scoped>\n",
       "    .dataframe tbody tr th:only-of-type {\n",
       "        vertical-align: middle;\n",
       "    }\n",
       "\n",
       "    .dataframe tbody tr th {\n",
       "        vertical-align: top;\n",
       "    }\n",
       "\n",
       "    .dataframe thead th {\n",
       "        text-align: right;\n",
       "    }\n",
       "</style>\n",
       "<table border=\"1\" class=\"dataframe\">\n",
       "  <thead>\n",
       "    <tr style=\"text-align: right;\">\n",
       "      <th></th>\n",
       "      <th>Submitted_Prob</th>\n",
       "      <th>Submitted</th>\n",
       "      <th>Prospect_ID</th>\n",
       "      <th>0.0</th>\n",
       "      <th>0.1</th>\n",
       "      <th>0.2</th>\n",
       "      <th>0.3</th>\n",
       "      <th>0.4</th>\n",
       "      <th>0.5</th>\n",
       "      <th>0.6</th>\n",
       "      <th>0.7</th>\n",
       "      <th>0.8</th>\n",
       "      <th>0.9</th>\n",
       "    </tr>\n",
       "  </thead>\n",
       "  <tbody>\n",
       "    <tr>\n",
       "      <th>0</th>\n",
       "      <td>0.173948</td>\n",
       "      <td>1</td>\n",
       "      <td>8379</td>\n",
       "      <td>0</td>\n",
       "      <td>0</td>\n",
       "      <td>0</td>\n",
       "      <td>0</td>\n",
       "      <td>0</td>\n",
       "      <td>0</td>\n",
       "      <td>0</td>\n",
       "      <td>0</td>\n",
       "      <td>0</td>\n",
       "      <td>0</td>\n",
       "    </tr>\n",
       "    <tr>\n",
       "      <th>1</th>\n",
       "      <td>0.175966</td>\n",
       "      <td>0</td>\n",
       "      <td>15809</td>\n",
       "      <td>0</td>\n",
       "      <td>0</td>\n",
       "      <td>0</td>\n",
       "      <td>0</td>\n",
       "      <td>0</td>\n",
       "      <td>0</td>\n",
       "      <td>0</td>\n",
       "      <td>0</td>\n",
       "      <td>0</td>\n",
       "      <td>0</td>\n",
       "    </tr>\n",
       "    <tr>\n",
       "      <th>2</th>\n",
       "      <td>0.181972</td>\n",
       "      <td>1</td>\n",
       "      <td>5276</td>\n",
       "      <td>0</td>\n",
       "      <td>0</td>\n",
       "      <td>0</td>\n",
       "      <td>0</td>\n",
       "      <td>0</td>\n",
       "      <td>0</td>\n",
       "      <td>0</td>\n",
       "      <td>0</td>\n",
       "      <td>0</td>\n",
       "      <td>0</td>\n",
       "    </tr>\n",
       "    <tr>\n",
       "      <th>3</th>\n",
       "      <td>0.219757</td>\n",
       "      <td>0</td>\n",
       "      <td>473</td>\n",
       "      <td>0</td>\n",
       "      <td>0</td>\n",
       "      <td>0</td>\n",
       "      <td>0</td>\n",
       "      <td>0</td>\n",
       "      <td>0</td>\n",
       "      <td>0</td>\n",
       "      <td>0</td>\n",
       "      <td>0</td>\n",
       "      <td>0</td>\n",
       "    </tr>\n",
       "    <tr>\n",
       "      <th>4</th>\n",
       "      <td>0.096526</td>\n",
       "      <td>0</td>\n",
       "      <td>2314</td>\n",
       "      <td>0</td>\n",
       "      <td>0</td>\n",
       "      <td>0</td>\n",
       "      <td>0</td>\n",
       "      <td>0</td>\n",
       "      <td>0</td>\n",
       "      <td>0</td>\n",
       "      <td>0</td>\n",
       "      <td>0</td>\n",
       "      <td>0</td>\n",
       "    </tr>\n",
       "  </tbody>\n",
       "</table>\n",
       "</div>"
      ],
      "text/plain": [
       "   Submitted_Prob  Submitted  Prospect_ID  0.0  0.1  0.2  0.3  0.4  0.5  0.6  \\\n",
       "0        0.173948          1         8379    0    0    0    0    0    0    0   \n",
       "1        0.175966          0        15809    0    0    0    0    0    0    0   \n",
       "2        0.181972          1         5276    0    0    0    0    0    0    0   \n",
       "3        0.219757          0          473    0    0    0    0    0    0    0   \n",
       "4        0.096526          0         2314    0    0    0    0    0    0    0   \n",
       "\n",
       "   0.7  0.8  0.9  \n",
       "0    0    0    0  \n",
       "1    0    0    0  \n",
       "2    0    0    0  \n",
       "3    0    0    0  \n",
       "4    0    0    0  "
      ]
     },
     "execution_count": 384,
     "metadata": {},
     "output_type": "execute_result"
    }
   ],
   "source": [
    "numbers = [float(x)/10 for x in range(10)]\n",
    "for i in numbers:\n",
    "    y_train_pred_final[i]= y_train_pred_final.Submitted_Prob.map(lambda x: 1 if x > 0.3 else 0)\n",
    "y_train_pred_final.head()"
   ]
  },
  {
   "cell_type": "code",
   "execution_count": 385,
   "id": "e1373cb0",
   "metadata": {},
   "outputs": [
    {
     "data": {
      "text/html": [
       "<div>\n",
       "<style scoped>\n",
       "    .dataframe tbody tr th:only-of-type {\n",
       "        vertical-align: middle;\n",
       "    }\n",
       "\n",
       "    .dataframe tbody tr th {\n",
       "        vertical-align: top;\n",
       "    }\n",
       "\n",
       "    .dataframe thead th {\n",
       "        text-align: right;\n",
       "    }\n",
       "</style>\n",
       "<table border=\"1\" class=\"dataframe\">\n",
       "  <thead>\n",
       "    <tr style=\"text-align: right;\">\n",
       "      <th></th>\n",
       "      <th>Submitted_Prob</th>\n",
       "      <th>Submitted</th>\n",
       "      <th>Prospect_ID</th>\n",
       "      <th>0.0</th>\n",
       "      <th>0.1</th>\n",
       "      <th>0.2</th>\n",
       "      <th>0.3</th>\n",
       "      <th>0.4</th>\n",
       "      <th>0.5</th>\n",
       "      <th>0.6</th>\n",
       "      <th>0.7</th>\n",
       "      <th>0.8</th>\n",
       "      <th>0.9</th>\n",
       "      <th>predicted</th>\n",
       "    </tr>\n",
       "  </thead>\n",
       "  <tbody>\n",
       "    <tr>\n",
       "      <th>0</th>\n",
       "      <td>0.173948</td>\n",
       "      <td>1</td>\n",
       "      <td>8379</td>\n",
       "      <td>0</td>\n",
       "      <td>0</td>\n",
       "      <td>0</td>\n",
       "      <td>0</td>\n",
       "      <td>0</td>\n",
       "      <td>0</td>\n",
       "      <td>0</td>\n",
       "      <td>0</td>\n",
       "      <td>0</td>\n",
       "      <td>0</td>\n",
       "      <td>0</td>\n",
       "    </tr>\n",
       "    <tr>\n",
       "      <th>1</th>\n",
       "      <td>0.175966</td>\n",
       "      <td>0</td>\n",
       "      <td>15809</td>\n",
       "      <td>0</td>\n",
       "      <td>0</td>\n",
       "      <td>0</td>\n",
       "      <td>0</td>\n",
       "      <td>0</td>\n",
       "      <td>0</td>\n",
       "      <td>0</td>\n",
       "      <td>0</td>\n",
       "      <td>0</td>\n",
       "      <td>0</td>\n",
       "      <td>0</td>\n",
       "    </tr>\n",
       "    <tr>\n",
       "      <th>2</th>\n",
       "      <td>0.181972</td>\n",
       "      <td>1</td>\n",
       "      <td>5276</td>\n",
       "      <td>0</td>\n",
       "      <td>0</td>\n",
       "      <td>0</td>\n",
       "      <td>0</td>\n",
       "      <td>0</td>\n",
       "      <td>0</td>\n",
       "      <td>0</td>\n",
       "      <td>0</td>\n",
       "      <td>0</td>\n",
       "      <td>0</td>\n",
       "      <td>0</td>\n",
       "    </tr>\n",
       "    <tr>\n",
       "      <th>3</th>\n",
       "      <td>0.219757</td>\n",
       "      <td>0</td>\n",
       "      <td>473</td>\n",
       "      <td>0</td>\n",
       "      <td>0</td>\n",
       "      <td>0</td>\n",
       "      <td>0</td>\n",
       "      <td>0</td>\n",
       "      <td>0</td>\n",
       "      <td>0</td>\n",
       "      <td>0</td>\n",
       "      <td>0</td>\n",
       "      <td>0</td>\n",
       "      <td>0</td>\n",
       "    </tr>\n",
       "    <tr>\n",
       "      <th>4</th>\n",
       "      <td>0.096526</td>\n",
       "      <td>0</td>\n",
       "      <td>2314</td>\n",
       "      <td>0</td>\n",
       "      <td>0</td>\n",
       "      <td>0</td>\n",
       "      <td>0</td>\n",
       "      <td>0</td>\n",
       "      <td>0</td>\n",
       "      <td>0</td>\n",
       "      <td>0</td>\n",
       "      <td>0</td>\n",
       "      <td>0</td>\n",
       "      <td>0</td>\n",
       "    </tr>\n",
       "  </tbody>\n",
       "</table>\n",
       "</div>"
      ],
      "text/plain": [
       "   Submitted_Prob  Submitted  Prospect_ID  0.0  0.1  0.2  0.3  0.4  0.5  0.6  \\\n",
       "0        0.173948          1         8379    0    0    0    0    0    0    0   \n",
       "1        0.175966          0        15809    0    0    0    0    0    0    0   \n",
       "2        0.181972          1         5276    0    0    0    0    0    0    0   \n",
       "3        0.219757          0          473    0    0    0    0    0    0    0   \n",
       "4        0.096526          0         2314    0    0    0    0    0    0    0   \n",
       "\n",
       "   0.7  0.8  0.9  predicted  \n",
       "0    0    0    0          0  \n",
       "1    0    0    0          0  \n",
       "2    0    0    0          0  \n",
       "3    0    0    0          0  \n",
       "4    0    0    0          0  "
      ]
     },
     "execution_count": 385,
     "metadata": {},
     "output_type": "execute_result"
    }
   ],
   "source": [
    "y_train_pred_final['predicted'] = y_train_pred_final.Submitted_Prob.apply(lambda x: 1 if x > 0.3 else 0)\n",
    "\n",
    "# Let's see the head\n",
    "y_train_pred_final.head()"
   ]
  },
  {
   "cell_type": "code",
   "execution_count": 386,
   "id": "17db92f1",
   "metadata": {},
   "outputs": [],
   "source": [
    "# Check for the VIF values of the feature variables. \n",
    "from statsmodels.stats.outliers_influence import variance_inflation_factor"
   ]
  },
  {
   "cell_type": "code",
   "execution_count": 387,
   "id": "6c195bc7",
   "metadata": {},
   "outputs": [
    {
     "data": {
      "text/html": [
       "<div>\n",
       "<style scoped>\n",
       "    .dataframe tbody tr th:only-of-type {\n",
       "        vertical-align: middle;\n",
       "    }\n",
       "\n",
       "    .dataframe tbody tr th {\n",
       "        vertical-align: top;\n",
       "    }\n",
       "\n",
       "    .dataframe thead th {\n",
       "        text-align: right;\n",
       "    }\n",
       "</style>\n",
       "<table border=\"1\" class=\"dataframe\">\n",
       "  <thead>\n",
       "    <tr style=\"text-align: right;\">\n",
       "      <th></th>\n",
       "      <th>Features</th>\n",
       "      <th>VIF</th>\n",
       "    </tr>\n",
       "  </thead>\n",
       "  <tbody>\n",
       "    <tr>\n",
       "      <th>7</th>\n",
       "      <td>Rating</td>\n",
       "      <td>77.04</td>\n",
       "    </tr>\n",
       "    <tr>\n",
       "      <th>14</th>\n",
       "      <td>Mean_employee_age</td>\n",
       "      <td>74.89</td>\n",
       "    </tr>\n",
       "    <tr>\n",
       "      <th>16</th>\n",
       "      <td>Company_credit_score</td>\n",
       "      <td>41.44</td>\n",
       "    </tr>\n",
       "    <tr>\n",
       "      <th>18</th>\n",
       "      <td>Confidence_Score</td>\n",
       "      <td>37.56</td>\n",
       "    </tr>\n",
       "    <tr>\n",
       "      <th>13</th>\n",
       "      <td>Average_years_employees_work_at_company</td>\n",
       "      <td>15.00</td>\n",
       "    </tr>\n",
       "    <tr>\n",
       "      <th>11</th>\n",
       "      <td>Is_established</td>\n",
       "      <td>14.57</td>\n",
       "    </tr>\n",
       "    <tr>\n",
       "      <th>23</th>\n",
       "      <td>Web_Ad_Outlet_Source_code</td>\n",
       "      <td>9.03</td>\n",
       "    </tr>\n",
       "    <tr>\n",
       "      <th>17</th>\n",
       "      <td>Number_of_socials</td>\n",
       "      <td>8.32</td>\n",
       "    </tr>\n",
       "    <tr>\n",
       "      <th>10</th>\n",
       "      <td>Rent_mean</td>\n",
       "      <td>7.85</td>\n",
       "    </tr>\n",
       "    <tr>\n",
       "      <th>15</th>\n",
       "      <td>NAICS_sector_code</td>\n",
       "      <td>6.99</td>\n",
       "    </tr>\n",
       "    <tr>\n",
       "      <th>19</th>\n",
       "      <td>LS_State</td>\n",
       "      <td>6.15</td>\n",
       "    </tr>\n",
       "    <tr>\n",
       "      <th>20</th>\n",
       "      <td>Difference</td>\n",
       "      <td>5.10</td>\n",
       "    </tr>\n",
       "    <tr>\n",
       "      <th>22</th>\n",
       "      <td>Web_Ad_Outlet_code</td>\n",
       "      <td>4.18</td>\n",
       "    </tr>\n",
       "    <tr>\n",
       "      <th>12</th>\n",
       "      <td>Number_of_technologies</td>\n",
       "      <td>4.04</td>\n",
       "    </tr>\n",
       "    <tr>\n",
       "      <th>2</th>\n",
       "      <td>LS_Self_Graded_Credit</td>\n",
       "      <td>3.14</td>\n",
       "    </tr>\n",
       "    <tr>\n",
       "      <th>21</th>\n",
       "      <td>company</td>\n",
       "      <td>2.45</td>\n",
       "    </tr>\n",
       "    <tr>\n",
       "      <th>24</th>\n",
       "      <td>Email_domain</td>\n",
       "      <td>1.71</td>\n",
       "    </tr>\n",
       "    <tr>\n",
       "      <th>5</th>\n",
       "      <td>Map_Exists</td>\n",
       "      <td>1.71</td>\n",
       "    </tr>\n",
       "    <tr>\n",
       "      <th>0</th>\n",
       "      <td>LS_Amount_to_Borrow</td>\n",
       "      <td>1.12</td>\n",
       "    </tr>\n",
       "    <tr>\n",
       "      <th>1</th>\n",
       "      <td>LS_GAS</td>\n",
       "      <td>1.09</td>\n",
       "    </tr>\n",
       "    <tr>\n",
       "      <th>8</th>\n",
       "      <td>Number_of_Reviews</td>\n",
       "      <td>1.08</td>\n",
       "    </tr>\n",
       "    <tr>\n",
       "      <th>3</th>\n",
       "      <td>Results_From_Wikipedia</td>\n",
       "      <td>1.08</td>\n",
       "    </tr>\n",
       "    <tr>\n",
       "      <th>9</th>\n",
       "      <td>Number_of_Results</td>\n",
       "      <td>1.06</td>\n",
       "    </tr>\n",
       "    <tr>\n",
       "      <th>6</th>\n",
       "      <td>Permanently_Closed</td>\n",
       "      <td>1.02</td>\n",
       "    </tr>\n",
       "    <tr>\n",
       "      <th>4</th>\n",
       "      <td>Has_Customer_Service</td>\n",
       "      <td>1.02</td>\n",
       "    </tr>\n",
       "  </tbody>\n",
       "</table>\n",
       "</div>"
      ],
      "text/plain": [
       "                                   Features    VIF\n",
       "7                                    Rating  77.04\n",
       "14                        Mean_employee_age  74.89\n",
       "16                     Company_credit_score  41.44\n",
       "18                         Confidence_Score  37.56\n",
       "13  Average_years_employees_work_at_company  15.00\n",
       "11                           Is_established  14.57\n",
       "23                Web_Ad_Outlet_Source_code   9.03\n",
       "17                        Number_of_socials   8.32\n",
       "10                                Rent_mean   7.85\n",
       "15                        NAICS_sector_code   6.99\n",
       "19                                 LS_State   6.15\n",
       "20                               Difference   5.10\n",
       "22                       Web_Ad_Outlet_code   4.18\n",
       "12                   Number_of_technologies   4.04\n",
       "2                     LS_Self_Graded_Credit   3.14\n",
       "21                                  company   2.45\n",
       "24                             Email_domain   1.71\n",
       "5                                Map_Exists   1.71\n",
       "0                       LS_Amount_to_Borrow   1.12\n",
       "1                                    LS_GAS   1.09\n",
       "8                         Number_of_Reviews   1.08\n",
       "3                    Results_From_Wikipedia   1.08\n",
       "9                         Number_of_Results   1.06\n",
       "6                        Permanently_Closed   1.02\n",
       "4                      Has_Customer_Service   1.02"
      ]
     },
     "execution_count": 387,
     "metadata": {},
     "output_type": "execute_result"
    }
   ],
   "source": [
    "# Create a dataframe that will contain the names of all the feature variables and their respective VIFs\n",
    "vif = pd.DataFrame()\n",
    "vif['Features'] = X_train[col].columns\n",
    "vif['VIF'] = [variance_inflation_factor(X_train[col].values, i) for i in range(X_train[col].shape[1])]\n",
    "vif['VIF'] = round(vif['VIF'], 2)\n",
    "vif = vif.sort_values(by = \"VIF\", ascending = False)\n",
    "vif"
   ]
  },
  {
   "cell_type": "code",
   "execution_count": 388,
   "id": "522dd1f3",
   "metadata": {},
   "outputs": [
    {
     "data": {
      "image/png": "[encoded data removed]",
      "text/plain": [
       "<Figure size 432x288 with 1 Axes>"
      ]
     },
     "metadata": {
      "needs_background": "light"
     },
     "output_type": "display_data"
    }
   ],
   "source": [
    "ax = y_train_pred_final['Submitted_Prob'].plot.hist(bins=30)"
   ]
  },
  {
   "cell_type": "code",
   "execution_count": 389,
   "id": "53b4c9b8",
   "metadata": {},
   "outputs": [
    {
     "data": {
      "image/png": "[encoded data removed]",
      "text/plain": [
       "<Figure size 432x288 with 1 Axes>"
      ]
     },
     "metadata": {
      "needs_background": "light"
     },
     "output_type": "display_data"
    }
   ],
   "source": [
    "ax = y_train_pred_final['Submitted'].plot.hist(bins=20)"
   ]
  },
  {
   "cell_type": "code",
   "execution_count": 390,
   "id": "1befddeb",
   "metadata": {},
   "outputs": [
    {
     "data": {
      "image/png": "[encoded data removed]",
      "text/plain": [
       "<Figure size 432x288 with 1 Axes>"
      ]
     },
     "metadata": {
      "needs_background": "light"
     },
     "output_type": "display_data"
    }
   ],
   "source": [
    "ax = y_train_pred_final['predicted'].plot.hist(bins=20)"
   ]
  },
  {
   "cell_type": "code",
   "execution_count": 391,
   "id": "0b495608",
   "metadata": {},
   "outputs": [],
   "source": [
    "#y_train_pred_final.to_csv('Sub_probmm4-11.csv', index = True)"
   ]
  },
  {
   "cell_type": "code",
   "execution_count": 392,
   "id": "11e27853",
   "metadata": {},
   "outputs": [
    {
     "name": "stdout",
     "output_type": "stream",
     "text": [
      "Mean ROC AUC: 0.796\n"
     ]
    }
   ],
   "source": [
    "from sklearn.model_selection import RepeatedStratifiedKFold\n",
    "from sklearn.tree import DecisionTreeClassifier\n",
    "from imblearn.pipeline import Pipeline\n",
    "from numpy import mean\n",
    "\n",
    "# define pipeline\n",
    "steps = [('over', SMOTE()), ('model', DecisionTreeClassifier())]\n",
    "pipeline = Pipeline(steps=steps)\n",
    "# evaluate pipeline\n",
    "cv = RepeatedStratifiedKFold(n_splits=5, n_repeats=3, random_state=1)\n",
    "scores = cross_val_score(pipeline, X, y, scoring='roc_auc', cv=cv, n_jobs=-1)\n",
    "print('Mean ROC AUC: %.3f' % mean(scores))"
   ]
  },
  {
   "cell_type": "code",
   "execution_count": 393,
   "id": "ee7e60e1",
   "metadata": {},
   "outputs": [],
   "source": [
    "#  Logistic regression\n",
    "from sklearn.linear_model import LogisticRegression\n",
    "\n",
    "\n",
    "model = LogisticRegression(solver='liblinear')\n",
    "model.fit(X_train, y_train)\n",
    "y_pred = model.predict(X_test)"
   ]
  },
  {
   "cell_type": "code",
   "execution_count": 394,
   "id": "9dd35d43",
   "metadata": {},
   "outputs": [
    {
     "name": "stdout",
     "output_type": "stream",
     "text": [
      "Cross Validation Scores for Log Reg: [0.5357406  0.52404643 0.53233831 0.52496775 0.52754745]\n",
      "Mean Accuracy Score for Log Reg: 0.528928109798995\n",
      "\n"
     ]
    }
   ],
   "source": [
    "accuracy_logreg = cross_val_score(model, X, y, cv=5, scoring='accuracy')\n",
    "print(\"Cross Validation Scores for Log Reg: {}\".format(accuracy_logreg))\n",
    "print(\"Mean Accuracy Score for Log Reg: {}\".format(np.mean(accuracy_logreg)))\n",
    "print()"
   ]
  },
  {
   "cell_type": "code",
   "execution_count": 395,
   "id": "d2dfcf0c",
   "metadata": {},
   "outputs": [
    {
     "data": {
      "text/plain": [
       "80.97149739060619"
      ]
     },
     "execution_count": 395,
     "metadata": {},
     "output_type": "execute_result"
    }
   ],
   "source": [
    "accuracy_score(y_test,y_pred, normalize=True) * 100"
   ]
  },
  {
   "cell_type": "code",
   "execution_count": 396,
   "id": "8b9506b9",
   "metadata": {},
   "outputs": [
    {
     "name": "stdout",
     "output_type": "stream",
     "text": [
      "Training score: 0.8201995870612526\n"
     ]
    }
   ],
   "source": [
    "print(\"Training score:\", model.score(X_train, y_train))"
   ]
  },
  {
   "cell_type": "code",
   "execution_count": 397,
   "id": "9ce5a4dc",
   "metadata": {},
   "outputs": [],
   "source": [
    "from sklearn.model_selection import cross_validate\n",
    "\n",
    "scoring = {'acc': 'accuracy',\n",
    "           'prec': 'precision',\n",
    "           'rec': 'recall',\n",
    "           'f1':'f1'}\n",
    "\n",
    "scores = cross_validate(model,  X, y, scoring=scoring, cv=5, \n",
    "                        return_train_score=False)"
   ]
  },
  {
   "cell_type": "code",
   "execution_count": 398,
   "id": "5bd1fc55",
   "metadata": {},
   "outputs": [
    {
     "data": {
      "text/plain": [
       "{'fit_time': array([0.2760253 , 0.30603361, 0.27602625, 0.31302834, 0.33703637]),\n",
       " 'score_time': array([0.01500511, 0.01200151, 0.01600933, 0.01299906, 0.01500177]),\n",
       " 'test_acc': array([0.5357406 , 0.52404643, 0.53233831, 0.52496775, 0.52754745]),\n",
       " 'test_prec': array([0.52776188, 0.51821749, 0.52461322, 0.5190583 , 0.52030319]),\n",
       " 'test_rec': array([0.67943994, 0.68153336, 0.68743089, 0.68238762, 0.70817981]),\n",
       " 'test_f1': array([0.59407216, 0.58875975, 0.59508615, 0.58962114, 0.59987516])}"
      ]
     },
     "execution_count": 398,
     "metadata": {},
     "output_type": "execute_result"
    }
   ],
   "source": [
    "scores"
   ]
  },
  {
   "cell_type": "code",
   "execution_count": 399,
   "id": "0ea905a7",
   "metadata": {},
   "outputs": [],
   "source": [
    "KNN_model = KNeighborsClassifier()"
   ]
  },
  {
   "cell_type": "code",
   "execution_count": 400,
   "id": "da8141a0",
   "metadata": {},
   "outputs": [
    {
     "name": "stdout",
     "output_type": "stream",
     "text": [
      "Cross Validation Scores for Log KNN: [0.70394252 0.7037037  0.70057122 0.69872858 0.70407223]\n",
      "Mean Accuracy Score for KNN: 0.7022036505428316\n"
     ]
    }
   ],
   "source": [
    "from sklearn.model_selection import StratifiedKFold\n",
    "\n",
    "cv = StratifiedKFold(n_splits=5, random_state=0, shuffle=True)\n",
    "accuracy_KNN = cross_val_score(KNN_model, X, y, cv=cv, scoring='accuracy')\n",
    "\n",
    "print(\"Cross Validation Scores for Log KNN: {}\".format(accuracy_KNN))\n",
    "print(\"Mean Accuracy Score for KNN: {}\".format(np.mean(accuracy_KNN)))"
   ]
  },
  {
   "cell_type": "code",
   "execution_count": 401,
   "id": "a10e41c7",
   "metadata": {},
   "outputs": [
    {
     "name": "stdout",
     "output_type": "stream",
     "text": [
      "Best Parameter: {'n_neighbors': 1}\n",
      "Best Cross Vlidation Score: 0.7611293881312615\n"
     ]
    }
   ],
   "source": [
    "param_grid = {'n_neighbors': [1,2,3,4,5,6]}\n",
    "cv = StratifiedKFold(n_splits=5, random_state=0, shuffle=True)\n",
    "grid = GridSearchCV(KNN_model, param_grid, cv = cv, scoring='accuracy',\n",
    "                    return_train_score=True)\n",
    "grid.fit(X, y)\n",
    "\n",
    "print(\"Best Parameter: {}\".format(grid.best_params_))\n",
    "print(\"Best Cross Vlidation Score: {}\".format(grid.best_score_))"
   ]
  },
  {
   "cell_type": "code",
   "execution_count": 406,
   "id": "896a23a8",
   "metadata": {},
   "outputs": [
    {
     "data": {
      "text/plain": [
       "{'criterion': 'gini', 'max_depth': 6, 'max_features': None, 'splitter': 'best'}"
      ]
     },
     "execution_count": 406,
     "metadata": {},
     "output_type": "execute_result"
    }
   ],
   "source": [
    "parameters = {'splitter': ('best','random'),\n",
    "             'max_depth': [2,4,6],\n",
    "             'max_features':[2,4,6, None],\n",
    "             'criterion': ['gini', 'entropy']}\n",
    "\n",
    "grid_search = GridSearchCV(DecisionTreeClassifier(), parameters, cv=5,\n",
    "                          return_train_score=True)\n",
    "grid_search.fit(X_train, y_train)\n",
    "\n",
    "grid_search.best_params_"
   ]
  },
  {
   "cell_type": "code",
   "execution_count": 407,
   "id": "32b1ffeb",
   "metadata": {},
   "outputs": [
    {
     "data": {
      "text/plain": [
       "DecisionTreeClassifier(max_depth=6)"
      ]
     },
     "execution_count": 407,
     "metadata": {},
     "output_type": "execute_result"
    }
   ],
   "source": [
    "model = DecisionTreeClassifier(splitter=grid_search.best_params_['splitter'],\n",
    "                                       max_depth=grid_search.best_params_['max_depth'],\n",
    "                                      max_features=grid_search.best_params_['max_features'],\n",
    "                                       criterion= grid_search.best_params_['criterion'])\n",
    "\n",
    "X_train, X_test, y_train, y_test = train_test_split(X,y, random_state=0)\n",
    "model.fit(X_train, y_train)"
   ]
  },
  {
   "cell_type": "code",
   "execution_count": 408,
   "id": "630829af",
   "metadata": {},
   "outputs": [
    {
     "name": "stdout",
     "output_type": "stream",
     "text": [
      "In-sample Accuracy: 75.28498427672956\n",
      "Out-of-sample Accuracy: 74.48408018867924\n"
     ]
    }
   ],
   "source": [
    "y_train_hat = model.predict(X_train)\n",
    "y_pred = model.predict(X_test)\n",
    "\n",
    "in_sample_acc = accuracy_score(y_train,y_train_hat, normalize=True) * 100\n",
    "\n",
    "out_of_sample_acc = accuracy_score(y_test,y_pred, normalize=True) * 100\n",
    "\n",
    "print(\"In-sample Accuracy:\", in_sample_acc)\n",
    "print(\"Out-of-sample Accuracy:\", out_of_sample_acc)"
   ]
  },
  {
   "cell_type": "code",
   "execution_count": 409,
   "id": "1fabd12d",
   "metadata": {},
   "outputs": [
    {
     "name": "stdout",
     "output_type": "stream",
     "text": [
      "Confusion Matrix\n",
      "[[2871  540]\n",
      " [1191 2182]]\n",
      "              precision    recall  f1-score   support\n",
      "\n",
      "           0       0.71      0.84      0.77      3411\n",
      "           1       0.80      0.65      0.72      3373\n",
      "\n",
      "    accuracy                           0.74      6784\n",
      "   macro avg       0.75      0.74      0.74      6784\n",
      "weighted avg       0.75      0.74      0.74      6784\n",
      "\n"
     ]
    }
   ],
   "source": [
    "from sklearn.metrics import classification_report, confusion_matrix\n",
    "\n",
    "print(\"Confusion Matrix\")\n",
    "print(confusion_matrix(y_test,y_pred))\n",
    "print(classification_report(y_test,y_pred))"
   ]
  },
  {
   "cell_type": "code",
   "execution_count": 410,
   "id": "10c71a67",
   "metadata": {},
   "outputs": [
    {
     "data": {
      "image/png": "[encoded data removed]",
      "text/plain": [
       "<Figure size 432x288 with 1 Axes>"
      ]
     },
     "metadata": {
      "needs_background": "light"
     },
     "output_type": "display_data"
    }
   ],
   "source": [
    "from sklearn.metrics import roc_curve\n",
    "fpr, tpr, thresholds = roc_curve(y_test, model.predict_proba(X_test)[:,1])\n",
    "plt.plot(fpr, tpr, label=\"ROC Curve\")\n",
    "plt.xlabel(\"FPR\")\n",
    "plt.ylabel(\"TPR (recall)\");"
   ]
  },
  {
   "cell_type": "code",
   "execution_count": 411,
   "id": "d42ed8b6",
   "metadata": {},
   "outputs": [],
   "source": [
    "y_pred_prob =model.predict_proba(X_test)[:,1]\n",
    "fpr,tpr, threshold= roc_curve(y_test,y_pred_prob)"
   ]
  },
  {
   "cell_type": "code",
   "execution_count": 412,
   "id": "bc0c000c",
   "metadata": {},
   "outputs": [
    {
     "name": "stdout",
     "output_type": "stream",
     "text": [
      "AUC for logreg: 0.821\n"
     ]
    }
   ],
   "source": [
    "from sklearn.metrics import roc_auc_score\n",
    "\n",
    "logreg_auc = roc_auc_score(y_test, model.predict_proba(X_test)[:,1]) \n",
    "print(\"AUC for logreg: {:.3f}\".format(logreg_auc))"
   ]
  },
  {
   "cell_type": "code",
   "execution_count": 466,
   "id": "f464f2d9",
   "metadata": {},
   "outputs": [],
   "source": [
    "#from sklearn.model_selection import cross_val_score\n",
    "#cv_scores = cross_val_score(model,X,y, cv=5, scoring='roc_auc')\n",
    "#print(cv_scores)"
   ]
  },
  {
   "cell_type": "code",
   "execution_count": 413,
   "id": "4b5d941d",
   "metadata": {},
   "outputs": [],
   "source": [
    "feature_names = X = LeadScore_df.drop('Is_Submitted', axis =1)"
   ]
  },
  {
   "cell_type": "code",
   "execution_count": 414,
   "id": "f7cf3378",
   "metadata": {},
   "outputs": [
    {
     "data": {
      "text/plain": [
       "array([6.75652743e-03, 2.02024198e-02, 4.66508131e-02, 0.00000000e+00,\n",
       "       0.00000000e+00, 1.10183023e-01, 0.00000000e+00, 0.00000000e+00,\n",
       "       0.00000000e+00, 1.81931995e-04, 1.19100009e-02, 0.00000000e+00,\n",
       "       1.66460251e-03, 0.00000000e+00, 0.00000000e+00, 0.00000000e+00,\n",
       "       5.23790565e-04, 0.00000000e+00, 2.84140812e-04, 4.66487890e-04,\n",
       "       0.00000000e+00, 0.00000000e+00, 1.33787880e-01, 0.00000000e+00,\n",
       "       0.00000000e+00, 0.00000000e+00, 1.29141173e-01, 5.38247208e-01,\n",
       "       0.00000000e+00])"
      ]
     },
     "execution_count": 414,
     "metadata": {},
     "output_type": "execute_result"
    }
   ],
   "source": [
    "#print(feature_names)\n",
    "model.feature_importances_"
   ]
  },
  {
   "cell_type": "code",
   "execution_count": 415,
   "id": "9f236caa",
   "metadata": {},
   "outputs": [
    {
     "data": {
      "text/plain": [
       "<Figure size 1440x1080 with 0 Axes>"
      ]
     },
     "metadata": {},
     "output_type": "display_data"
    }
   ],
   "source": [
    "from sklearn import tree\n",
    "import graphviz\n",
    "fig = plt.figure(figsize=(20,15))\n",
    "\n",
    "class_names = ['0', '1']\n",
    "feature_names = X.columns\n",
    "\n",
    "dot_data = tree.export_graphviz(model, \n",
    "                  feature_names=feature_names, \n",
    "                  class_names=class_names,  \n",
    "                  filled=True, rounded=True,  \n",
    "                  special_characters=True,\n",
    "                  out_file=None)\n",
    "                           \n",
    "graph = graphviz.Source(dot_data)\n"
   ]
  },
  {
   "cell_type": "code",
   "execution_count": 108,
   "id": "90c3b0f0",
   "metadata": {},
   "outputs": [],
   "source": [
    "#graph.render(\"decision_treeLeadN_graphviz\")\n",
    "#'decision_treeLeadN_graphviz.png'"
   ]
  },
  {
   "cell_type": "code",
   "execution_count": 417,
   "id": "2e1a4b80",
   "metadata": {},
   "outputs": [
    {
     "data": {
      "text/html": [
       "<div>\n",
       "<style scoped>\n",
       "    .dataframe tbody tr th:only-of-type {\n",
       "        vertical-align: middle;\n",
       "    }\n",
       "\n",
       "    .dataframe tbody tr th {\n",
       "        vertical-align: top;\n",
       "    }\n",
       "\n",
       "    .dataframe thead th {\n",
       "        text-align: right;\n",
       "    }\n",
       "</style>\n",
       "<table border=\"1\" class=\"dataframe\">\n",
       "  <thead>\n",
       "    <tr style=\"text-align: right;\">\n",
       "      <th></th>\n",
       "      <th>Feature_Importance</th>\n",
       "    </tr>\n",
       "  </thead>\n",
       "  <tbody>\n",
       "    <tr>\n",
       "      <th>Web_Ad_Outlet_Source_code</th>\n",
       "      <td>0.538247</td>\n",
       "    </tr>\n",
       "    <tr>\n",
       "      <th>LS_State</th>\n",
       "      <td>0.133788</td>\n",
       "    </tr>\n",
       "    <tr>\n",
       "      <th>Web_Ad_Outlet_code</th>\n",
       "      <td>0.129141</td>\n",
       "    </tr>\n",
       "    <tr>\n",
       "      <th>Map_Exists</th>\n",
       "      <td>0.110183</td>\n",
       "    </tr>\n",
       "    <tr>\n",
       "      <th>LS_Self_Graded_Credit</th>\n",
       "      <td>0.046651</td>\n",
       "    </tr>\n",
       "  </tbody>\n",
       "</table>\n",
       "</div>"
      ],
      "text/plain": [
       "                           Feature_Importance\n",
       "Web_Ad_Outlet_Source_code            0.538247\n",
       "LS_State                             0.133788\n",
       "Web_Ad_Outlet_code                   0.129141\n",
       "Map_Exists                           0.110183\n",
       "LS_Self_Graded_Credit                0.046651"
      ]
     },
     "execution_count": 417,
     "metadata": {},
     "output_type": "execute_result"
    }
   ],
   "source": [
    "## Calculating feature_importance = \n",
    "model.tree_.compute_feature_importances(normalize=False)\n",
    "feat_imp_dict = dict(zip(feature_names, model.feature_importances_))\n",
    "feat_imp = pd.DataFrame.from_dict(feat_imp_dict, orient='index')\n",
    "feat_imp.rename(columns = {0:'Feature_Importance'}, inplace = True)\n",
    "feat_imp.sort_values(by=['Feature_Importance'], ascending=False).head()"
   ]
  },
  {
   "cell_type": "code",
   "execution_count": 155,
   "id": "f1d9a116",
   "metadata": {},
   "outputs": [
    {
     "name": "stdout",
     "output_type": "stream",
     "text": [
      "In-sample Accuracy: 92.76729559748428\n",
      "Out-of-sample Accuracy: 80.10291595197255\n"
     ]
    }
   ],
   "source": [
    "from sklearn.ensemble import RandomForestClassifier\n",
    "model = RandomForestClassifier(n_estimators=100, random_state=0)\n",
    "\n",
    "model.fit(X_train, y_train)\n",
    "\n",
    "y_train_hat = model.predict(X_train)\n",
    "y_pred = model.predict(X_test)\n",
    "\n",
    "in_sample_acc = accuracy_score(y_train,y_train_hat, normalize=True) * 100\n",
    "\n",
    "out_of_sample_acc = accuracy_score(y_test,y_pred, normalize=True) * 100\n",
    "print(\"In-sample Accuracy:\", in_sample_acc)\n",
    "print(\"Out-of-sample Accuracy:\", out_of_sample_acc)"
   ]
  },
  {
   "cell_type": "code",
   "execution_count": 124,
   "id": "d2853d36",
   "metadata": {},
   "outputs": [],
   "source": [
    "from sklearn.preprocessing import MinMaxScaler\n",
    "scaling = MinMaxScaler(feature_range=(0,1)).fit(X_train)\n",
    "X_train = scaling.transform(X_train)\n",
    "X_test = scaling.transform(X_test)"
   ]
  },
  {
   "cell_type": "code",
   "execution_count": 148,
   "id": "b46be2f1",
   "metadata": {},
   "outputs": [],
   "source": [
    "from sklearn import svm\n",
    "\n",
    "clf = svm.SVC(kernel='linear')\n",
    "clf.fit(X_train, y_train)\n",
    "y_pred = clf.predict(X_test)"
   ]
  },
  {
   "cell_type": "code",
   "execution_count": 149,
   "id": "6479f1f0",
   "metadata": {},
   "outputs": [
    {
     "name": "stdout",
     "output_type": "stream",
     "text": [
      "Accuracy: 0.5817929358673957\n"
     ]
    }
   ],
   "source": [
    "from sklearn import metrics\n",
    "\n",
    "print(\"Accuracy:\",metrics.accuracy_score(y_test, y_pred))"
   ]
  },
  {
   "cell_type": "code",
   "execution_count": null,
   "id": "3578a220",
   "metadata": {},
   "outputs": [],
   "source": []
  },
  {
   "cell_type": "code",
   "execution_count": null,
   "id": "b2e6f974",
   "metadata": {},
   "outputs": [],
   "source": [
    "#len(CreditRisk_merge['contract_number'].unique())"
   ]
  }
 ],
 "metadata": {
  "kernelspec": {
   "display_name": "Python 3",
   "language": "python",
   "name": "python3"
  },
  "language_info": {
   "codemirror_mode": {
    "name": "ipython",
    "version": 3
   },
   "file_extension": ".py",
   "mimetype": "text/x-python",
   "name": "python",
   "nbconvert_exporter": "python",
   "pygments_lexer": "ipython3",
   "version": "3.8.8"
  }
 },
 "nbformat": 4,
 "nbformat_minor": 5
}
