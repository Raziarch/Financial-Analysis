{
 "cells": [
  {
   "cell_type": "code",
   "execution_count": 1989,
   "metadata": {},
   "outputs": [],
   "source": [
    "import pandas as pd\n",
    "import matplotlib.pyplot as plt\n",
    "import matplotlib\n",
    "import numpy as np\n",
    "import seaborn as sns\n",
    "import warnings\n",
    "from matplotlib.pyplot import xticks\n",
    "%matplotlib inline\n",
    "warnings.filterwarnings('ignore')"
   ]
  },
  {
   "cell_type": "code",
   "execution_count": 1990,
   "metadata": {},
   "outputs": [],
   "source": [
    "#pip install xgboost"
   ]
  },
  {
   "cell_type": "code",
   "execution_count": 1991,
   "metadata": {
    "scrolled": true
   },
   "outputs": [],
   "source": [
    "#from numpy import loadtxt\n",
    "#from xgboost import XGBClassifier\n",
    "#from sklearn.model_selection import train_test_split\n",
    "#from sklearn.metrics import accuracy_score"
   ]
  },
  {
   "cell_type": "code",
   "execution_count": 1992,
   "metadata": {},
   "outputs": [],
   "source": [
    "#CreditRisk_df.columns=CreditRisk_df.columns.str.strip()"
   ]
  },
  {
   "cell_type": "code",
   "execution_count": 1993,
   "metadata": {},
   "outputs": [
    {
     "data": {
      "text/html": [
       "<div>\n",
       "<style scoped>\n",
       "    .dataframe tbody tr th:only-of-type {\n",
       "        vertical-align: middle;\n",
       "    }\n",
       "\n",
       "    .dataframe tbody tr th {\n",
       "        vertical-align: top;\n",
       "    }\n",
       "\n",
       "    .dataframe thead th {\n",
       "        text-align: right;\n",
       "    }\n",
       "</style>\n",
       "<table border=\"1\" class=\"dataframe\">\n",
       "  <thead>\n",
       "    <tr style=\"text-align: right;\">\n",
       "      <th></th>\n",
       "      <th>Check LLC in Name</th>\n",
       "      <th>Email Domain</th>\n",
       "      <th>Is_Submitted</th>\n",
       "      <th>LS Amount to Borrow</th>\n",
       "      <th>LS GAS</th>\n",
       "      <th>LS GAS Grouped</th>\n",
       "      <th>LS Months in Business</th>\n",
       "      <th>LS Self Graded Credit</th>\n",
       "      <th>LS_State</th>\n",
       "      <th>Web_Ad_Outlet__c</th>\n",
       "      <th>Web_Ad_Outlet_Source__c</th>\n",
       "    </tr>\n",
       "  </thead>\n",
       "  <tbody>\n",
       "    <tr>\n",
       "      <th>0</th>\n",
       "      <td>1</td>\n",
       "      <td>@DIFMEBEAUTYBAR.COM</td>\n",
       "      <td>1</td>\n",
       "      <td>10000</td>\n",
       "      <td>250000</td>\n",
       "      <td>$200k-$500k</td>\n",
       "      <td>13.0</td>\n",
       "      <td>4</td>\n",
       "      <td>TX</td>\n",
       "      <td>1101</td>\n",
       "      <td>Lending Tree</td>\n",
       "    </tr>\n",
       "    <tr>\n",
       "      <th>1</th>\n",
       "      <td>1</td>\n",
       "      <td>@GMAIL.COM</td>\n",
       "      <td>0</td>\n",
       "      <td>12500</td>\n",
       "      <td>506000</td>\n",
       "      <td>$500k-$1mm</td>\n",
       "      <td>13.0</td>\n",
       "      <td>3</td>\n",
       "      <td>TX</td>\n",
       "      <td>1101</td>\n",
       "      <td>Lending Tree</td>\n",
       "    </tr>\n",
       "    <tr>\n",
       "      <th>2</th>\n",
       "      <td>1</td>\n",
       "      <td>@GMAIL.COM</td>\n",
       "      <td>1</td>\n",
       "      <td>65000</td>\n",
       "      <td>100000</td>\n",
       "      <td>$100k-$200k</td>\n",
       "      <td>13.0</td>\n",
       "      <td>4</td>\n",
       "      <td>LA</td>\n",
       "      <td>1101</td>\n",
       "      <td>Lending Tree</td>\n",
       "    </tr>\n",
       "    <tr>\n",
       "      <th>3</th>\n",
       "      <td>1</td>\n",
       "      <td>@GMAIL.COM</td>\n",
       "      <td>1</td>\n",
       "      <td>10000</td>\n",
       "      <td>100000</td>\n",
       "      <td>$100k-$200k</td>\n",
       "      <td>12.0</td>\n",
       "      <td>4</td>\n",
       "      <td>AL</td>\n",
       "      <td>1101</td>\n",
       "      <td>Lending Tree</td>\n",
       "    </tr>\n",
       "    <tr>\n",
       "      <th>4</th>\n",
       "      <td>0</td>\n",
       "      <td>@GMAIL.COM</td>\n",
       "      <td>0</td>\n",
       "      <td>10000</td>\n",
       "      <td>100000</td>\n",
       "      <td>$100k-$200k</td>\n",
       "      <td>13.0</td>\n",
       "      <td>4</td>\n",
       "      <td>LA</td>\n",
       "      <td>1101</td>\n",
       "      <td>Lending Tree</td>\n",
       "    </tr>\n",
       "    <tr>\n",
       "      <th>...</th>\n",
       "      <td>...</td>\n",
       "      <td>...</td>\n",
       "      <td>...</td>\n",
       "      <td>...</td>\n",
       "      <td>...</td>\n",
       "      <td>...</td>\n",
       "      <td>...</td>\n",
       "      <td>...</td>\n",
       "      <td>...</td>\n",
       "      <td>...</td>\n",
       "      <td>...</td>\n",
       "    </tr>\n",
       "    <tr>\n",
       "      <th>17195</th>\n",
       "      <td>0</td>\n",
       "      <td>@ICLOUD.COM</td>\n",
       "      <td>0</td>\n",
       "      <td>20000</td>\n",
       "      <td>405000</td>\n",
       "      <td>$200k-$500k</td>\n",
       "      <td>171.0</td>\n",
       "      <td>4</td>\n",
       "      <td>GA</td>\n",
       "      <td>1101</td>\n",
       "      <td>Lending Tree</td>\n",
       "    </tr>\n",
       "    <tr>\n",
       "      <th>17196</th>\n",
       "      <td>1</td>\n",
       "      <td>@MONOGRAMJUNKIE.COM</td>\n",
       "      <td>0</td>\n",
       "      <td>10000</td>\n",
       "      <td>400000</td>\n",
       "      <td>$200k-$500k</td>\n",
       "      <td>178.0</td>\n",
       "      <td>4</td>\n",
       "      <td>LA</td>\n",
       "      <td>1101</td>\n",
       "      <td>Lending Tree</td>\n",
       "    </tr>\n",
       "    <tr>\n",
       "      <th>17197</th>\n",
       "      <td>1</td>\n",
       "      <td>@GOVERNMENTCONTRACTSLLC.COM</td>\n",
       "      <td>0</td>\n",
       "      <td>15000</td>\n",
       "      <td>150000</td>\n",
       "      <td>$100k-$200k</td>\n",
       "      <td>209.0</td>\n",
       "      <td>2</td>\n",
       "      <td>OH</td>\n",
       "      <td>1101</td>\n",
       "      <td>Lending Tree</td>\n",
       "    </tr>\n",
       "    <tr>\n",
       "      <th>17198</th>\n",
       "      <td>0</td>\n",
       "      <td>@AOL.COM</td>\n",
       "      <td>0</td>\n",
       "      <td>50000</td>\n",
       "      <td>125000</td>\n",
       "      <td>$100k-$200k</td>\n",
       "      <td>217.0</td>\n",
       "      <td>3</td>\n",
       "      <td>NC</td>\n",
       "      <td>1101</td>\n",
       "      <td>Lending Tree</td>\n",
       "    </tr>\n",
       "    <tr>\n",
       "      <th>17199</th>\n",
       "      <td>1</td>\n",
       "      <td>@SQUEEM.COM</td>\n",
       "      <td>0</td>\n",
       "      <td>200000</td>\n",
       "      <td>1000000</td>\n",
       "      <td>$1mm+</td>\n",
       "      <td>250.0</td>\n",
       "      <td>2</td>\n",
       "      <td>FL</td>\n",
       "      <td>1101</td>\n",
       "      <td>Lending Tree</td>\n",
       "    </tr>\n",
       "  </tbody>\n",
       "</table>\n",
       "<p>17200 rows × 11 columns</p>\n",
       "</div>"
      ],
      "text/plain": [
       "       Check LLC in Name                 Email Domain  Is_Submitted  \\\n",
       "0                      1          @DIFMEBEAUTYBAR.COM             1   \n",
       "1                      1                   @GMAIL.COM             0   \n",
       "2                      1                   @GMAIL.COM             1   \n",
       "3                      1                   @GMAIL.COM             1   \n",
       "4                      0                   @GMAIL.COM             0   \n",
       "...                  ...                          ...           ...   \n",
       "17195                  0                  @ICLOUD.COM             0   \n",
       "17196                  1          @MONOGRAMJUNKIE.COM             0   \n",
       "17197                  1  @GOVERNMENTCONTRACTSLLC.COM             0   \n",
       "17198                  0                     @AOL.COM             0   \n",
       "17199                  1                  @SQUEEM.COM             0   \n",
       "\n",
       "       LS Amount to Borrow   LS GAS LS GAS Grouped  LS Months in Business  \\\n",
       "0                    10000   250000    $200k-$500k                   13.0   \n",
       "1                    12500   506000     $500k-$1mm                   13.0   \n",
       "2                    65000   100000    $100k-$200k                   13.0   \n",
       "3                    10000   100000    $100k-$200k                   12.0   \n",
       "4                    10000   100000    $100k-$200k                   13.0   \n",
       "...                    ...      ...            ...                    ...   \n",
       "17195                20000   405000    $200k-$500k                  171.0   \n",
       "17196                10000   400000    $200k-$500k                  178.0   \n",
       "17197                15000   150000    $100k-$200k                  209.0   \n",
       "17198                50000   125000    $100k-$200k                  217.0   \n",
       "17199               200000  1000000          $1mm+                  250.0   \n",
       "\n",
       "       LS Self Graded Credit LS_State  Web_Ad_Outlet__c  \\\n",
       "0                          4       TX              1101   \n",
       "1                          3       TX              1101   \n",
       "2                          4       LA              1101   \n",
       "3                          4       AL              1101   \n",
       "4                          4       LA              1101   \n",
       "...                      ...      ...               ...   \n",
       "17195                      4       GA              1101   \n",
       "17196                      4       LA              1101   \n",
       "17197                      2       OH              1101   \n",
       "17198                      3       NC              1101   \n",
       "17199                      2       FL              1101   \n",
       "\n",
       "      Web_Ad_Outlet_Source__c  \n",
       "0                Lending Tree  \n",
       "1                Lending Tree  \n",
       "2                Lending Tree  \n",
       "3                Lending Tree  \n",
       "4                Lending Tree  \n",
       "...                       ...  \n",
       "17195            Lending Tree  \n",
       "17196            Lending Tree  \n",
       "17197            Lending Tree  \n",
       "17198            Lending Tree  \n",
       "17199            Lending Tree  \n",
       "\n",
       "[17200 rows x 11 columns]"
      ]
     },
     "execution_count": 1993,
     "metadata": {},
     "output_type": "execute_result"
    }
   ],
   "source": [
    "LeadScore_df = pd.read_csv(\"Lead-analysis/2022_02_02_v3-5-16.csv\", encoding='UTF-8')\n",
    "LeadScore_df"
   ]
  },
  {
   "cell_type": "code",
   "execution_count": 1994,
   "metadata": {},
   "outputs": [
    {
     "name": "stdout",
     "output_type": "stream",
     "text": [
      "<class 'pandas.core.frame.DataFrame'>\n",
      "RangeIndex: 17200 entries, 0 to 17199\n",
      "Data columns (total 11 columns):\n",
      " #   Column                   Non-Null Count  Dtype  \n",
      "---  ------                   --------------  -----  \n",
      " 0   Check LLC in Name        17200 non-null  int64  \n",
      " 1   Email Domain             17200 non-null  object \n",
      " 2   Is_Submitted             17200 non-null  int64  \n",
      " 3   LS Amount to Borrow      17200 non-null  int64  \n",
      " 4   LS GAS                   17200 non-null  int64  \n",
      " 5   LS GAS Grouped           17200 non-null  object \n",
      " 6   LS Months in Business    15574 non-null  float64\n",
      " 7   LS Self Graded Credit    17200 non-null  int64  \n",
      " 8   LS_State                 17200 non-null  object \n",
      " 9   Web_Ad_Outlet__c         17200 non-null  int64  \n",
      " 10  Web_Ad_Outlet_Source__c  17200 non-null  object \n",
      "dtypes: float64(1), int64(6), object(4)\n",
      "memory usage: 1.4+ MB\n"
     ]
    }
   ],
   "source": [
    "LeadScore_df.info()"
   ]
  },
  {
   "cell_type": "code",
   "execution_count": 1995,
   "metadata": {},
   "outputs": [
    {
     "data": {
      "text/plain": [
       "Check LLC in Name             0\n",
       "Email Domain                  0\n",
       "Is_Submitted                  0\n",
       "LS Amount to Borrow           0\n",
       "LS GAS                        0\n",
       "LS GAS Grouped                0\n",
       "LS Months in Business      1626\n",
       "LS Self Graded Credit         0\n",
       "LS_State                      0\n",
       "Web_Ad_Outlet__c              0\n",
       "Web_Ad_Outlet_Source__c       0\n",
       "dtype: int64"
      ]
     },
     "execution_count": 1995,
     "metadata": {},
     "output_type": "execute_result"
    }
   ],
   "source": [
    "LeadScore_df.isnull().sum()"
   ]
  },
  {
   "cell_type": "code",
   "execution_count": 1996,
   "metadata": {},
   "outputs": [],
   "source": [
    "LeadScore_df.rename(columns=lambda x: x.replace(' ', '_'), inplace=True)"
   ]
  },
  {
   "cell_type": "code",
   "execution_count": 1997,
   "metadata": {},
   "outputs": [
    {
     "data": {
      "text/plain": [
       "14545    CA\n",
       "977      LA\n",
       "9762     HI\n",
       "11939    MO\n",
       "16859    OH\n",
       "1571     HI\n",
       "1563     HI\n",
       "336      GA\n",
       "11368    CO\n",
       "10990    HI\n",
       "Name: LS_State, dtype: object"
      ]
     },
     "execution_count": 1997,
     "metadata": {},
     "output_type": "execute_result"
    }
   ],
   "source": [
    "LeadScore_df['LS_State']= LeadScore_df['LS_State'].replace(['47'], 'HI')\n",
    "LeadScore_df['LS_State'].sample(10)"
   ]
  },
  {
   "cell_type": "code",
   "execution_count": 1998,
   "metadata": {},
   "outputs": [],
   "source": [
    "#LeadScore_df.rename(columns=lambda x:x.strip())"
   ]
  },
  {
   "cell_type": "code",
   "execution_count": 1999,
   "metadata": {},
   "outputs": [],
   "source": [
    "#LeadScore_df.columns = LeadScore_df.str.replace(r'_x$','')"
   ]
  },
  {
   "cell_type": "code",
   "execution_count": 2000,
   "metadata": {},
   "outputs": [],
   "source": [
    "#LeadScore_df.rename(columns=lambda x: x.replace('_x$',''), inplace=True)"
   ]
  },
  {
   "cell_type": "code",
   "execution_count": 2001,
   "metadata": {},
   "outputs": [
    {
     "data": {
      "text/plain": [
       "Index(['Check_LLC_in_Name', 'Email_Domain', 'Is_Submitted',\n",
       "       'LS_Amount_to_Borrow', 'LS_GAS', 'LS_GAS_Grouped',\n",
       "       'LS_Months_in_Business', 'LS_Self_Graded_Credit', 'LS_State',\n",
       "       'Web_Ad_Outlet__c', 'Web_Ad_Outlet_Source__c'],\n",
       "      dtype='object')"
      ]
     },
     "execution_count": 2001,
     "metadata": {},
     "output_type": "execute_result"
    }
   ],
   "source": [
    "LeadScore_df.columns"
   ]
  },
  {
   "cell_type": "code",
   "execution_count": 2002,
   "metadata": {},
   "outputs": [
    {
     "data": {
      "text/plain": [
       "Is_Submitted\n",
       "0    14084\n",
       "1     3116\n",
       "dtype: int64"
      ]
     },
     "execution_count": 2002,
     "metadata": {},
     "output_type": "execute_result"
    }
   ],
   "source": [
    "LeadScore_df.groupby('Is_Submitted').size()"
   ]
  },
  {
   "cell_type": "code",
   "execution_count": 2003,
   "metadata": {},
   "outputs": [
    {
     "data": {
      "text/plain": [
       "LS_Amount_to_Borrow\n",
       "1           0\n",
       "2           1\n",
       "10          0\n",
       "50          0\n",
       "100         0\n",
       "           ..\n",
       "18000000    0\n",
       "30000000    0\n",
       "45000000    0\n",
       "50000000    0\n",
       "70000000    0\n",
       "Name: Is_Submitted, Length: 267, dtype: int64"
      ]
     },
     "execution_count": 2003,
     "metadata": {},
     "output_type": "execute_result"
    }
   ],
   "source": [
    "LeadScore_df.groupby('LS_Amount_to_Borrow').sum()['Is_Submitted'].round(decimals=2)"
   ]
  },
  {
   "cell_type": "code",
   "execution_count": 2004,
   "metadata": {},
   "outputs": [
    {
     "data": {
      "text/plain": [
       "LS_GAS\n",
       "60000        670\n",
       "100000        97\n",
       "100008         1\n",
       "100101         1\n",
       "100208         0\n",
       "            ... \n",
       "480039864      0\n",
       "600000000      0\n",
       "653081076      0\n",
       "720000000      0\n",
       "942840000      0\n",
       "Name: Is_Submitted, Length: 882, dtype: int64"
      ]
     },
     "execution_count": 2004,
     "metadata": {},
     "output_type": "execute_result"
    }
   ],
   "source": [
    "LeadScore_df.groupby('LS_GAS').sum()['Is_Submitted'].round(decimals=2)"
   ]
  },
  {
   "cell_type": "code",
   "execution_count": 2005,
   "metadata": {},
   "outputs": [],
   "source": [
    "#LeadScore_df['Requested_Amount'] = LeadScore_df['Requested_Amount'].str.replace(',','')"
   ]
  },
  {
   "cell_type": "code",
   "execution_count": 2006,
   "metadata": {},
   "outputs": [],
   "source": [
    "#LeadScore_df.to_csv('Lead_Data.csv', index = False)"
   ]
  },
  {
   "cell_type": "code",
   "execution_count": 2007,
   "metadata": {},
   "outputs": [
    {
     "data": {
      "text/plain": [
       "Is_Submitted\n",
       "0    3.02\n",
       "1    3.14\n",
       "Name: LS_Self_Graded_Credit, dtype: float64"
      ]
     },
     "execution_count": 2007,
     "metadata": {},
     "output_type": "execute_result"
    }
   ],
   "source": [
    "LeadScore_df.groupby('Is_Submitted').mean()['LS_Self_Graded_Credit'].round(decimals=2)"
   ]
  },
  {
   "cell_type": "code",
   "execution_count": 2008,
   "metadata": {},
   "outputs": [
    {
     "data": {
      "text/plain": [
       "Web_Ad_Outlet_Source__c\n",
       "Digital - Affiliate     239\n",
       "Digital-Organic         539\n",
       "Digital-PPC             173\n",
       "Direct                  727\n",
       "Lending Tree           1006\n",
       "Strategic Partners      432\n",
       "Name: Is_Submitted, dtype: int64"
      ]
     },
     "execution_count": 2008,
     "metadata": {},
     "output_type": "execute_result"
    }
   ],
   "source": [
    "LeadScore_df.groupby('Web_Ad_Outlet_Source__c').sum()['Is_Submitted'].round(decimals=2)"
   ]
  },
  {
   "cell_type": "code",
   "execution_count": 2009,
   "metadata": {},
   "outputs": [
    {
     "data": {
      "text/html": [
       "<div>\n",
       "<style scoped>\n",
       "    .dataframe tbody tr th:only-of-type {\n",
       "        vertical-align: middle;\n",
       "    }\n",
       "\n",
       "    .dataframe tbody tr th {\n",
       "        vertical-align: top;\n",
       "    }\n",
       "\n",
       "    .dataframe thead th {\n",
       "        text-align: right;\n",
       "    }\n",
       "</style>\n",
       "<table border=\"1\" class=\"dataframe\">\n",
       "  <thead>\n",
       "    <tr style=\"text-align: right;\">\n",
       "      <th></th>\n",
       "      <th>Check_LLC_in_Name</th>\n",
       "      <th>Email_Domain</th>\n",
       "      <th>Is_Submitted</th>\n",
       "      <th>LS_Amount_to_Borrow</th>\n",
       "      <th>LS_GAS</th>\n",
       "      <th>LS_GAS_Grouped</th>\n",
       "      <th>LS_Months_in_Business</th>\n",
       "      <th>LS_Self_Graded_Credit</th>\n",
       "      <th>LS_State</th>\n",
       "      <th>Web_Ad_Outlet__c</th>\n",
       "      <th>Web_Ad_Outlet_Source__c</th>\n",
       "    </tr>\n",
       "  </thead>\n",
       "  <tbody>\n",
       "    <tr>\n",
       "      <th>459</th>\n",
       "      <td>0</td>\n",
       "      <td>@GMAIL.COM</td>\n",
       "      <td>0</td>\n",
       "      <td>7500</td>\n",
       "      <td>60000</td>\n",
       "      <td>Less than $100,000</td>\n",
       "      <td>12.0</td>\n",
       "      <td>4</td>\n",
       "      <td>HI</td>\n",
       "      <td>1267</td>\n",
       "      <td>Strategic Partners</td>\n",
       "    </tr>\n",
       "    <tr>\n",
       "      <th>11271</th>\n",
       "      <td>0</td>\n",
       "      <td>@YAHOO.COM</td>\n",
       "      <td>0</td>\n",
       "      <td>20000</td>\n",
       "      <td>300000</td>\n",
       "      <td>$200k-$500k</td>\n",
       "      <td>17.0</td>\n",
       "      <td>3</td>\n",
       "      <td>AL</td>\n",
       "      <td>1101</td>\n",
       "      <td>Lending Tree</td>\n",
       "    </tr>\n",
       "    <tr>\n",
       "      <th>9541</th>\n",
       "      <td>0</td>\n",
       "      <td>@GMAIL.COM</td>\n",
       "      <td>0</td>\n",
       "      <td>7500</td>\n",
       "      <td>60000</td>\n",
       "      <td>Less than $100,000</td>\n",
       "      <td>36.0</td>\n",
       "      <td>4</td>\n",
       "      <td>HI</td>\n",
       "      <td>1010</td>\n",
       "      <td>Digital-PPC</td>\n",
       "    </tr>\n",
       "    <tr>\n",
       "      <th>9879</th>\n",
       "      <td>1</td>\n",
       "      <td>@GMAIL.COM</td>\n",
       "      <td>0</td>\n",
       "      <td>7500</td>\n",
       "      <td>60000</td>\n",
       "      <td>Less than $100,000</td>\n",
       "      <td>24.0</td>\n",
       "      <td>4</td>\n",
       "      <td>HI</td>\n",
       "      <td>1267</td>\n",
       "      <td>Strategic Partners</td>\n",
       "    </tr>\n",
       "    <tr>\n",
       "      <th>15911</th>\n",
       "      <td>1</td>\n",
       "      <td>@GMAIL.COM</td>\n",
       "      <td>0</td>\n",
       "      <td>50000</td>\n",
       "      <td>116000</td>\n",
       "      <td>$100k-$200k</td>\n",
       "      <td>18.0</td>\n",
       "      <td>3</td>\n",
       "      <td>OH</td>\n",
       "      <td>1101</td>\n",
       "      <td>Lending Tree</td>\n",
       "    </tr>\n",
       "    <tr>\n",
       "      <th>15829</th>\n",
       "      <td>1</td>\n",
       "      <td>@GMAIL.COM</td>\n",
       "      <td>0</td>\n",
       "      <td>25000</td>\n",
       "      <td>160000</td>\n",
       "      <td>$100k-$200k</td>\n",
       "      <td>15.0</td>\n",
       "      <td>4</td>\n",
       "      <td>NC</td>\n",
       "      <td>1101</td>\n",
       "      <td>Lending Tree</td>\n",
       "    </tr>\n",
       "    <tr>\n",
       "      <th>9964</th>\n",
       "      <td>1</td>\n",
       "      <td>@GMAIL.COM</td>\n",
       "      <td>0</td>\n",
       "      <td>37500</td>\n",
       "      <td>60000</td>\n",
       "      <td>Less than $100,000</td>\n",
       "      <td>36.0</td>\n",
       "      <td>4</td>\n",
       "      <td>HI</td>\n",
       "      <td>1000</td>\n",
       "      <td>Digital-Organic</td>\n",
       "    </tr>\n",
       "    <tr>\n",
       "      <th>1397</th>\n",
       "      <td>1</td>\n",
       "      <td>@GMAIL.COM</td>\n",
       "      <td>0</td>\n",
       "      <td>17500</td>\n",
       "      <td>60000</td>\n",
       "      <td>Less than $100,000</td>\n",
       "      <td>24.0</td>\n",
       "      <td>3</td>\n",
       "      <td>HI</td>\n",
       "      <td>1011</td>\n",
       "      <td>Digital-PPC</td>\n",
       "    </tr>\n",
       "    <tr>\n",
       "      <th>13470</th>\n",
       "      <td>1</td>\n",
       "      <td>@GMAIL.COM</td>\n",
       "      <td>0</td>\n",
       "      <td>15000</td>\n",
       "      <td>107000</td>\n",
       "      <td>$100k-$200k</td>\n",
       "      <td>156.0</td>\n",
       "      <td>1</td>\n",
       "      <td>GA</td>\n",
       "      <td>1101</td>\n",
       "      <td>Lending Tree</td>\n",
       "    </tr>\n",
       "    <tr>\n",
       "      <th>9019</th>\n",
       "      <td>1</td>\n",
       "      <td>@GMAIL.COM</td>\n",
       "      <td>0</td>\n",
       "      <td>50000</td>\n",
       "      <td>894024</td>\n",
       "      <td>$500k-$1mm</td>\n",
       "      <td>NaN</td>\n",
       "      <td>4</td>\n",
       "      <td>HI</td>\n",
       "      <td>1280</td>\n",
       "      <td>Strategic Partners</td>\n",
       "    </tr>\n",
       "  </tbody>\n",
       "</table>\n",
       "</div>"
      ],
      "text/plain": [
       "       Check_LLC_in_Name Email_Domain  Is_Submitted  LS_Amount_to_Borrow  \\\n",
       "459                    0   @GMAIL.COM             0                 7500   \n",
       "11271                  0   @YAHOO.COM             0                20000   \n",
       "9541                   0   @GMAIL.COM             0                 7500   \n",
       "9879                   1   @GMAIL.COM             0                 7500   \n",
       "15911                  1   @GMAIL.COM             0                50000   \n",
       "15829                  1   @GMAIL.COM             0                25000   \n",
       "9964                   1   @GMAIL.COM             0                37500   \n",
       "1397                   1   @GMAIL.COM             0                17500   \n",
       "13470                  1   @GMAIL.COM             0                15000   \n",
       "9019                   1   @GMAIL.COM             0                50000   \n",
       "\n",
       "       LS_GAS      LS_GAS_Grouped  LS_Months_in_Business  \\\n",
       "459     60000  Less than $100,000                   12.0   \n",
       "11271  300000         $200k-$500k                   17.0   \n",
       "9541    60000  Less than $100,000                   36.0   \n",
       "9879    60000  Less than $100,000                   24.0   \n",
       "15911  116000         $100k-$200k                   18.0   \n",
       "15829  160000         $100k-$200k                   15.0   \n",
       "9964    60000  Less than $100,000                   36.0   \n",
       "1397    60000  Less than $100,000                   24.0   \n",
       "13470  107000         $100k-$200k                  156.0   \n",
       "9019   894024          $500k-$1mm                    NaN   \n",
       "\n",
       "       LS_Self_Graded_Credit LS_State  Web_Ad_Outlet__c  \\\n",
       "459                        4       HI              1267   \n",
       "11271                      3       AL              1101   \n",
       "9541                       4       HI              1010   \n",
       "9879                       4       HI              1267   \n",
       "15911                      3       OH              1101   \n",
       "15829                      4       NC              1101   \n",
       "9964                       4       HI              1000   \n",
       "1397                       3       HI              1011   \n",
       "13470                      1       GA              1101   \n",
       "9019                       4       HI              1280   \n",
       "\n",
       "      Web_Ad_Outlet_Source__c  \n",
       "459        Strategic Partners  \n",
       "11271            Lending Tree  \n",
       "9541              Digital-PPC  \n",
       "9879       Strategic Partners  \n",
       "15911            Lending Tree  \n",
       "15829            Lending Tree  \n",
       "9964          Digital-Organic  \n",
       "1397              Digital-PPC  \n",
       "13470            Lending Tree  \n",
       "9019       Strategic Partners  "
      ]
     },
     "execution_count": 2009,
     "metadata": {},
     "output_type": "execute_result"
    }
   ],
   "source": [
    "LeadScore_mask = (LeadScore_df.Email_Domain == \"@GMAIL.COM\") | (LeadScore_df.Email_Domain == '@YAHOO.COM')\n",
    "\n",
    "Lead_filtered= LeadScore_df[LeadScore_mask]\n",
    "Lead_filtered.sample(10)"
   ]
  },
  {
   "cell_type": "code",
   "execution_count": 2010,
   "metadata": {},
   "outputs": [],
   "source": [
    "LeadScore_df['Email_Domain'] = LeadScore_df['Email_Domain'].apply(lambda x:0 if x == '@GMAIL.COM' else 1 if x=='@YAHOO.COM' else 2)"
   ]
  },
  {
   "cell_type": "code",
   "execution_count": 2011,
   "metadata": {},
   "outputs": [],
   "source": [
    "#LeadScore_df['Email_Domain']=LeadScore_df['Email_Domain'].map(lambda x:x == 0 if (x != '@GMAIL.COM') | (x !='@YAHOO.COM') else x)"
   ]
  },
  {
   "cell_type": "code",
   "execution_count": 2012,
   "metadata": {},
   "outputs": [],
   "source": [
    "LeadScore_df =LeadScore_df.dropna(subset = ['LS_Months_in_Business'], axis = 0)"
   ]
  },
  {
   "cell_type": "code",
   "execution_count": 2013,
   "metadata": {},
   "outputs": [],
   "source": [
    "#LeadScore_df =LeadScore_df.dropna(subset = ['State'], axis = 0)"
   ]
  },
  {
   "cell_type": "code",
   "execution_count": 2014,
   "metadata": {},
   "outputs": [
    {
     "data": {
      "text/html": [
       "<div>\n",
       "<style scoped>\n",
       "    .dataframe tbody tr th:only-of-type {\n",
       "        vertical-align: middle;\n",
       "    }\n",
       "\n",
       "    .dataframe tbody tr th {\n",
       "        vertical-align: top;\n",
       "    }\n",
       "\n",
       "    .dataframe thead th {\n",
       "        text-align: right;\n",
       "    }\n",
       "</style>\n",
       "<table border=\"1\" class=\"dataframe\">\n",
       "  <thead>\n",
       "    <tr style=\"text-align: right;\">\n",
       "      <th></th>\n",
       "      <th>Web_Ad_Outlet_code</th>\n",
       "      <th>Web_Ad_Outlet__c</th>\n",
       "    </tr>\n",
       "  </thead>\n",
       "  <tbody>\n",
       "    <tr>\n",
       "      <th>5167</th>\n",
       "      <td>23.0</td>\n",
       "      <td>5071</td>\n",
       "    </tr>\n",
       "    <tr>\n",
       "      <th>1171</th>\n",
       "      <td>16.0</td>\n",
       "      <td>1267</td>\n",
       "    </tr>\n",
       "    <tr>\n",
       "      <th>6192</th>\n",
       "      <td>0.0</td>\n",
       "      <td>1000</td>\n",
       "    </tr>\n",
       "    <tr>\n",
       "      <th>11406</th>\n",
       "      <td>3.0</td>\n",
       "      <td>1101</td>\n",
       "    </tr>\n",
       "    <tr>\n",
       "      <th>3152</th>\n",
       "      <td>18.0</td>\n",
       "      <td>5028</td>\n",
       "    </tr>\n",
       "    <tr>\n",
       "      <th>14220</th>\n",
       "      <td>3.0</td>\n",
       "      <td>1101</td>\n",
       "    </tr>\n",
       "    <tr>\n",
       "      <th>11275</th>\n",
       "      <td>3.0</td>\n",
       "      <td>1101</td>\n",
       "    </tr>\n",
       "    <tr>\n",
       "      <th>9647</th>\n",
       "      <td>0.0</td>\n",
       "      <td>1000</td>\n",
       "    </tr>\n",
       "    <tr>\n",
       "      <th>12601</th>\n",
       "      <td>3.0</td>\n",
       "      <td>1101</td>\n",
       "    </tr>\n",
       "    <tr>\n",
       "      <th>3645</th>\n",
       "      <td>2.0</td>\n",
       "      <td>1011</td>\n",
       "    </tr>\n",
       "  </tbody>\n",
       "</table>\n",
       "</div>"
      ],
      "text/plain": [
       "       Web_Ad_Outlet_code  Web_Ad_Outlet__c\n",
       "5167                 23.0              5071\n",
       "1171                 16.0              1267\n",
       "6192                  0.0              1000\n",
       "11406                 3.0              1101\n",
       "3152                 18.0              5028\n",
       "14220                 3.0              1101\n",
       "11275                 3.0              1101\n",
       "9647                  0.0              1000\n",
       "12601                 3.0              1101\n",
       "3645                  2.0              1011"
      ]
     },
     "execution_count": 2014,
     "metadata": {},
     "output_type": "execute_result"
    }
   ],
   "source": [
    "from sklearn.preprocessing import OrdinalEncoder\n",
    "\n",
    "ord_enc = OrdinalEncoder()\n",
    "LeadScore_df['Web_Ad_Outlet_code'] = ord_enc.fit_transform(LeadScore_df[['Web_Ad_Outlet__c']])\n",
    "LeadScore_df[['Web_Ad_Outlet_code',\"Web_Ad_Outlet__c\"]].sample(10)"
   ]
  },
  {
   "cell_type": "code",
   "execution_count": 2015,
   "metadata": {},
   "outputs": [
    {
     "data": {
      "text/html": [
       "<div>\n",
       "<style scoped>\n",
       "    .dataframe tbody tr th:only-of-type {\n",
       "        vertical-align: middle;\n",
       "    }\n",
       "\n",
       "    .dataframe tbody tr th {\n",
       "        vertical-align: top;\n",
       "    }\n",
       "\n",
       "    .dataframe thead th {\n",
       "        text-align: right;\n",
       "    }\n",
       "</style>\n",
       "<table border=\"1\" class=\"dataframe\">\n",
       "  <thead>\n",
       "    <tr style=\"text-align: right;\">\n",
       "      <th></th>\n",
       "      <th>Web_Ad_Outlet_Source__c</th>\n",
       "      <th>Web_Ad_Outlet_Source_code</th>\n",
       "    </tr>\n",
       "  </thead>\n",
       "  <tbody>\n",
       "    <tr>\n",
       "      <th>13937</th>\n",
       "      <td>Lending Tree</td>\n",
       "      <td>4.0</td>\n",
       "    </tr>\n",
       "    <tr>\n",
       "      <th>7690</th>\n",
       "      <td>Direct</td>\n",
       "      <td>3.0</td>\n",
       "    </tr>\n",
       "    <tr>\n",
       "      <th>11573</th>\n",
       "      <td>Lending Tree</td>\n",
       "      <td>4.0</td>\n",
       "    </tr>\n",
       "    <tr>\n",
       "      <th>5624</th>\n",
       "      <td>Direct</td>\n",
       "      <td>3.0</td>\n",
       "    </tr>\n",
       "    <tr>\n",
       "      <th>6854</th>\n",
       "      <td>Digital - Affiliate</td>\n",
       "      <td>0.0</td>\n",
       "    </tr>\n",
       "    <tr>\n",
       "      <th>6767</th>\n",
       "      <td>Digital-Organic</td>\n",
       "      <td>1.0</td>\n",
       "    </tr>\n",
       "    <tr>\n",
       "      <th>14946</th>\n",
       "      <td>Lending Tree</td>\n",
       "      <td>4.0</td>\n",
       "    </tr>\n",
       "    <tr>\n",
       "      <th>6642</th>\n",
       "      <td>Digital-Organic</td>\n",
       "      <td>1.0</td>\n",
       "    </tr>\n",
       "    <tr>\n",
       "      <th>4142</th>\n",
       "      <td>Digital-Organic</td>\n",
       "      <td>1.0</td>\n",
       "    </tr>\n",
       "    <tr>\n",
       "      <th>4903</th>\n",
       "      <td>Direct</td>\n",
       "      <td>3.0</td>\n",
       "    </tr>\n",
       "  </tbody>\n",
       "</table>\n",
       "</div>"
      ],
      "text/plain": [
       "      Web_Ad_Outlet_Source__c  Web_Ad_Outlet_Source_code\n",
       "13937            Lending Tree                        4.0\n",
       "7690                   Direct                        3.0\n",
       "11573            Lending Tree                        4.0\n",
       "5624                   Direct                        3.0\n",
       "6854      Digital - Affiliate                        0.0\n",
       "6767          Digital-Organic                        1.0\n",
       "14946            Lending Tree                        4.0\n",
       "6642          Digital-Organic                        1.0\n",
       "4142          Digital-Organic                        1.0\n",
       "4903                   Direct                        3.0"
      ]
     },
     "execution_count": 2015,
     "metadata": {},
     "output_type": "execute_result"
    }
   ],
   "source": [
    "from sklearn.preprocessing import OrdinalEncoder\n",
    "\n",
    "ord_enc = OrdinalEncoder()\n",
    "LeadScore_df['Web_Ad_Outlet_Source_code'] = ord_enc.fit_transform(LeadScore_df[['Web_Ad_Outlet_Source__c']])\n",
    "LeadScore_df[['Web_Ad_Outlet_Source__c',\"Web_Ad_Outlet_Source_code\"]].sample(10)"
   ]
  },
  {
   "cell_type": "code",
   "execution_count": 2016,
   "metadata": {},
   "outputs": [
    {
     "data": {
      "text/html": [
       "<div>\n",
       "<style scoped>\n",
       "    .dataframe tbody tr th:only-of-type {\n",
       "        vertical-align: middle;\n",
       "    }\n",
       "\n",
       "    .dataframe tbody tr th {\n",
       "        vertical-align: top;\n",
       "    }\n",
       "\n",
       "    .dataframe thead th {\n",
       "        text-align: right;\n",
       "    }\n",
       "</style>\n",
       "<table border=\"1\" class=\"dataframe\">\n",
       "  <thead>\n",
       "    <tr style=\"text-align: right;\">\n",
       "      <th></th>\n",
       "      <th>LS_State_code</th>\n",
       "      <th>LS_State</th>\n",
       "    </tr>\n",
       "  </thead>\n",
       "  <tbody>\n",
       "    <tr>\n",
       "      <th>17190</th>\n",
       "      <td>44.0</td>\n",
       "      <td>VA</td>\n",
       "    </tr>\n",
       "    <tr>\n",
       "      <th>17191</th>\n",
       "      <td>37.0</td>\n",
       "      <td>PA</td>\n",
       "    </tr>\n",
       "    <tr>\n",
       "      <th>17192</th>\n",
       "      <td>27.0</td>\n",
       "      <td>NC</td>\n",
       "    </tr>\n",
       "    <tr>\n",
       "      <th>17193</th>\n",
       "      <td>33.0</td>\n",
       "      <td>NY</td>\n",
       "    </tr>\n",
       "    <tr>\n",
       "      <th>17194</th>\n",
       "      <td>10.0</td>\n",
       "      <td>GA</td>\n",
       "    </tr>\n",
       "    <tr>\n",
       "      <th>17195</th>\n",
       "      <td>10.0</td>\n",
       "      <td>GA</td>\n",
       "    </tr>\n",
       "    <tr>\n",
       "      <th>17196</th>\n",
       "      <td>18.0</td>\n",
       "      <td>LA</td>\n",
       "    </tr>\n",
       "    <tr>\n",
       "      <th>17197</th>\n",
       "      <td>34.0</td>\n",
       "      <td>OH</td>\n",
       "    </tr>\n",
       "    <tr>\n",
       "      <th>17198</th>\n",
       "      <td>27.0</td>\n",
       "      <td>NC</td>\n",
       "    </tr>\n",
       "    <tr>\n",
       "      <th>17199</th>\n",
       "      <td>9.0</td>\n",
       "      <td>FL</td>\n",
       "    </tr>\n",
       "  </tbody>\n",
       "</table>\n",
       "</div>"
      ],
      "text/plain": [
       "       LS_State_code LS_State\n",
       "17190           44.0       VA\n",
       "17191           37.0       PA\n",
       "17192           27.0       NC\n",
       "17193           33.0       NY\n",
       "17194           10.0       GA\n",
       "17195           10.0       GA\n",
       "17196           18.0       LA\n",
       "17197           34.0       OH\n",
       "17198           27.0       NC\n",
       "17199            9.0       FL"
      ]
     },
     "execution_count": 2016,
     "metadata": {},
     "output_type": "execute_result"
    }
   ],
   "source": [
    "from sklearn.preprocessing import OrdinalEncoder\n",
    "\n",
    "ord_enc = OrdinalEncoder()\n",
    "LeadScore_df['LS_State_code'] = ord_enc.fit_transform(LeadScore_df[['LS_State']])\n",
    "LeadScore_df[['LS_State_code',\"LS_State\"]].tail(10)"
   ]
  },
  {
   "cell_type": "code",
   "execution_count": 2017,
   "metadata": {},
   "outputs": [],
   "source": [
    "#dummy1 = pd.get_dummies(LeadScore_df['Web_Ad_Outlet_Source__c'], drop_first=True)\n",
    "#dummy1.head()"
   ]
  },
  {
   "cell_type": "code",
   "execution_count": 2018,
   "metadata": {},
   "outputs": [],
   "source": [
    "# Adding the results to the master dataframe\n",
    "#LeadScore_df = pd.concat([LeadScore_df, dummy1], axis=1)\n",
    "#LeadScore_df.head()"
   ]
  },
  {
   "cell_type": "code",
   "execution_count": 2019,
   "metadata": {},
   "outputs": [],
   "source": [
    "#from sklearn.preprocessing import OneHotEncoder\n",
    "\n",
    "#Web_Outlet_Source = OneHotEncoder()\n",
    "#Web_results = Web_Outlet_Source.fit_transform(LeadScore_df[[\"Web_Ad_Outlet_Source__c\"]])\n",
    "#pd.DataFrame(Web_results.toarray(), columns=Web_Outlet_Source.categories_).head()                                       "
   ]
  },
  {
   "cell_type": "code",
   "execution_count": 2020,
   "metadata": {},
   "outputs": [],
   "source": [
    "#LeadScore_df =  LeadScore_df.join(pd.DataFrame(Web_results.toarray(), columns=Web_Outlet_Source.categories_))"
   ]
  },
  {
   "cell_type": "code",
   "execution_count": 2021,
   "metadata": {},
   "outputs": [
    {
     "data": {
      "text/plain": [
       "Check_LLC_in_Name              int64\n",
       "Email_Domain                   int64\n",
       "Is_Submitted                   int64\n",
       "LS_Amount_to_Borrow            int64\n",
       "LS_GAS                         int64\n",
       "LS_GAS_Grouped                object\n",
       "LS_Months_in_Business        float64\n",
       "LS_Self_Graded_Credit          int64\n",
       "LS_State                      object\n",
       "Web_Ad_Outlet__c               int64\n",
       "Web_Ad_Outlet_Source__c       object\n",
       "Web_Ad_Outlet_code           float64\n",
       "Web_Ad_Outlet_Source_code    float64\n",
       "LS_State_code                float64\n",
       "dtype: object"
      ]
     },
     "execution_count": 2021,
     "metadata": {},
     "output_type": "execute_result"
    }
   ],
   "source": [
    "LeadScore_df.dtypes"
   ]
  },
  {
   "cell_type": "code",
   "execution_count": 2022,
   "metadata": {},
   "outputs": [
    {
     "data": {
      "text/html": [
       "<div>\n",
       "<style scoped>\n",
       "    .dataframe tbody tr th:only-of-type {\n",
       "        vertical-align: middle;\n",
       "    }\n",
       "\n",
       "    .dataframe tbody tr th {\n",
       "        vertical-align: top;\n",
       "    }\n",
       "\n",
       "    .dataframe thead th {\n",
       "        text-align: right;\n",
       "    }\n",
       "</style>\n",
       "<table border=\"1\" class=\"dataframe\">\n",
       "  <thead>\n",
       "    <tr style=\"text-align: right;\">\n",
       "      <th></th>\n",
       "      <th>Check_LLC_in_Name</th>\n",
       "      <th>Email_Domain</th>\n",
       "      <th>Is_Submitted</th>\n",
       "      <th>LS_Amount_to_Borrow</th>\n",
       "      <th>LS_GAS</th>\n",
       "      <th>LS_Months_in_Business</th>\n",
       "      <th>LS_Self_Graded_Credit</th>\n",
       "      <th>Web_Ad_Outlet_code</th>\n",
       "      <th>Web_Ad_Outlet_Source_code</th>\n",
       "      <th>LS_State_code</th>\n",
       "    </tr>\n",
       "  </thead>\n",
       "  <tbody>\n",
       "    <tr>\n",
       "      <th>5834</th>\n",
       "      <td>1</td>\n",
       "      <td>2</td>\n",
       "      <td>0</td>\n",
       "      <td>37500</td>\n",
       "      <td>150000</td>\n",
       "      <td>36.0</td>\n",
       "      <td>3</td>\n",
       "      <td>0.0</td>\n",
       "      <td>1.0</td>\n",
       "      <td>11.0</td>\n",
       "    </tr>\n",
       "    <tr>\n",
       "      <th>6537</th>\n",
       "      <td>1</td>\n",
       "      <td>0</td>\n",
       "      <td>0</td>\n",
       "      <td>37500</td>\n",
       "      <td>60000</td>\n",
       "      <td>24.0</td>\n",
       "      <td>4</td>\n",
       "      <td>17.0</td>\n",
       "      <td>3.0</td>\n",
       "      <td>9.0</td>\n",
       "    </tr>\n",
       "    <tr>\n",
       "      <th>16569</th>\n",
       "      <td>1</td>\n",
       "      <td>2</td>\n",
       "      <td>0</td>\n",
       "      <td>100000</td>\n",
       "      <td>220000</td>\n",
       "      <td>48.0</td>\n",
       "      <td>4</td>\n",
       "      <td>3.0</td>\n",
       "      <td>4.0</td>\n",
       "      <td>42.0</td>\n",
       "    </tr>\n",
       "    <tr>\n",
       "      <th>15240</th>\n",
       "      <td>1</td>\n",
       "      <td>2</td>\n",
       "      <td>0</td>\n",
       "      <td>250000</td>\n",
       "      <td>350000</td>\n",
       "      <td>19.0</td>\n",
       "      <td>2</td>\n",
       "      <td>3.0</td>\n",
       "      <td>4.0</td>\n",
       "      <td>1.0</td>\n",
       "    </tr>\n",
       "    <tr>\n",
       "      <th>13305</th>\n",
       "      <td>1</td>\n",
       "      <td>0</td>\n",
       "      <td>0</td>\n",
       "      <td>20000</td>\n",
       "      <td>210000</td>\n",
       "      <td>28.0</td>\n",
       "      <td>4</td>\n",
       "      <td>3.0</td>\n",
       "      <td>4.0</td>\n",
       "      <td>46.0</td>\n",
       "    </tr>\n",
       "    <tr>\n",
       "      <th>14129</th>\n",
       "      <td>1</td>\n",
       "      <td>0</td>\n",
       "      <td>0</td>\n",
       "      <td>50000</td>\n",
       "      <td>120000</td>\n",
       "      <td>22.0</td>\n",
       "      <td>4</td>\n",
       "      <td>3.0</td>\n",
       "      <td>4.0</td>\n",
       "      <td>9.0</td>\n",
       "    </tr>\n",
       "    <tr>\n",
       "      <th>12911</th>\n",
       "      <td>1</td>\n",
       "      <td>0</td>\n",
       "      <td>0</td>\n",
       "      <td>10000</td>\n",
       "      <td>188000</td>\n",
       "      <td>75.0</td>\n",
       "      <td>4</td>\n",
       "      <td>3.0</td>\n",
       "      <td>4.0</td>\n",
       "      <td>23.0</td>\n",
       "    </tr>\n",
       "    <tr>\n",
       "      <th>13684</th>\n",
       "      <td>0</td>\n",
       "      <td>0</td>\n",
       "      <td>0</td>\n",
       "      <td>50000</td>\n",
       "      <td>200000</td>\n",
       "      <td>109.0</td>\n",
       "      <td>3</td>\n",
       "      <td>3.0</td>\n",
       "      <td>4.0</td>\n",
       "      <td>37.0</td>\n",
       "    </tr>\n",
       "    <tr>\n",
       "      <th>11826</th>\n",
       "      <td>1</td>\n",
       "      <td>2</td>\n",
       "      <td>0</td>\n",
       "      <td>25000</td>\n",
       "      <td>175000</td>\n",
       "      <td>162.0</td>\n",
       "      <td>2</td>\n",
       "      <td>3.0</td>\n",
       "      <td>4.0</td>\n",
       "      <td>9.0</td>\n",
       "    </tr>\n",
       "    <tr>\n",
       "      <th>8205</th>\n",
       "      <td>1</td>\n",
       "      <td>2</td>\n",
       "      <td>1</td>\n",
       "      <td>75000</td>\n",
       "      <td>150000</td>\n",
       "      <td>24.0</td>\n",
       "      <td>1</td>\n",
       "      <td>2.0</td>\n",
       "      <td>2.0</td>\n",
       "      <td>11.0</td>\n",
       "    </tr>\n",
       "  </tbody>\n",
       "</table>\n",
       "</div>"
      ],
      "text/plain": [
       "       Check_LLC_in_Name  Email_Domain  Is_Submitted  LS_Amount_to_Borrow  \\\n",
       "5834                   1             2             0                37500   \n",
       "6537                   1             0             0                37500   \n",
       "16569                  1             2             0               100000   \n",
       "15240                  1             2             0               250000   \n",
       "13305                  1             0             0                20000   \n",
       "14129                  1             0             0                50000   \n",
       "12911                  1             0             0                10000   \n",
       "13684                  0             0             0                50000   \n",
       "11826                  1             2             0                25000   \n",
       "8205                   1             2             1                75000   \n",
       "\n",
       "       LS_GAS  LS_Months_in_Business  LS_Self_Graded_Credit  \\\n",
       "5834   150000                   36.0                      3   \n",
       "6537    60000                   24.0                      4   \n",
       "16569  220000                   48.0                      4   \n",
       "15240  350000                   19.0                      2   \n",
       "13305  210000                   28.0                      4   \n",
       "14129  120000                   22.0                      4   \n",
       "12911  188000                   75.0                      4   \n",
       "13684  200000                  109.0                      3   \n",
       "11826  175000                  162.0                      2   \n",
       "8205   150000                   24.0                      1   \n",
       "\n",
       "       Web_Ad_Outlet_code  Web_Ad_Outlet_Source_code  LS_State_code  \n",
       "5834                  0.0                        1.0           11.0  \n",
       "6537                 17.0                        3.0            9.0  \n",
       "16569                 3.0                        4.0           42.0  \n",
       "15240                 3.0                        4.0            1.0  \n",
       "13305                 3.0                        4.0           46.0  \n",
       "14129                 3.0                        4.0            9.0  \n",
       "12911                 3.0                        4.0           23.0  \n",
       "13684                 3.0                        4.0           37.0  \n",
       "11826                 3.0                        4.0            9.0  \n",
       "8205                  2.0                        2.0           11.0  "
      ]
     },
     "execution_count": 2022,
     "metadata": {},
     "output_type": "execute_result"
    }
   ],
   "source": [
    "LeadScore_df = LeadScore_df.drop(['Web_Ad_Outlet__c', 'LS_GAS_Grouped','LS_State','Web_Ad_Outlet_Source__c'], axis=1)\n",
    "LeadScore_df.sample(10)"
   ]
  },
  {
   "cell_type": "code",
   "execution_count": 2023,
   "metadata": {},
   "outputs": [],
   "source": [
    "#pd.options.display.float_format = '{:,.2f}'.format"
   ]
  },
  {
   "cell_type": "code",
   "execution_count": 2024,
   "metadata": {},
   "outputs": [
    {
     "data": {
      "text/html": [
       "<div>\n",
       "<style scoped>\n",
       "    .dataframe tbody tr th:only-of-type {\n",
       "        vertical-align: middle;\n",
       "    }\n",
       "\n",
       "    .dataframe tbody tr th {\n",
       "        vertical-align: top;\n",
       "    }\n",
       "\n",
       "    .dataframe thead th {\n",
       "        text-align: right;\n",
       "    }\n",
       "</style>\n",
       "<table border=\"1\" class=\"dataframe\">\n",
       "  <thead>\n",
       "    <tr style=\"text-align: right;\">\n",
       "      <th></th>\n",
       "      <th>Check_LLC_in_Name</th>\n",
       "      <th>Email_Domain</th>\n",
       "      <th>Is_Submitted</th>\n",
       "      <th>LS_Amount_to_Borrow</th>\n",
       "      <th>LS_GAS</th>\n",
       "      <th>LS_Months_in_Business</th>\n",
       "      <th>LS_Self_Graded_Credit</th>\n",
       "      <th>Web_Ad_Outlet_code</th>\n",
       "      <th>Web_Ad_Outlet_Source_code</th>\n",
       "      <th>LS_State_code</th>\n",
       "    </tr>\n",
       "  </thead>\n",
       "  <tbody>\n",
       "    <tr>\n",
       "      <th>count</th>\n",
       "      <td>15574.000000</td>\n",
       "      <td>15574.000000</td>\n",
       "      <td>15574.000000</td>\n",
       "      <td>15574.000000</td>\n",
       "      <td>1.557400e+04</td>\n",
       "      <td>15574.000000</td>\n",
       "      <td>15574.000000</td>\n",
       "      <td>15574.000000</td>\n",
       "      <td>15574.000000</td>\n",
       "      <td>15574.000000</td>\n",
       "    </tr>\n",
       "    <tr>\n",
       "      <th>mean</th>\n",
       "      <td>0.556569</td>\n",
       "      <td>0.712534</td>\n",
       "      <td>0.190767</td>\n",
       "      <td>47807.092269</td>\n",
       "      <td>2.705511e+05</td>\n",
       "      <td>44.227816</td>\n",
       "      <td>3.059137</td>\n",
       "      <td>8.288943</td>\n",
       "      <td>2.961988</td>\n",
       "      <td>17.928471</td>\n",
       "    </tr>\n",
       "    <tr>\n",
       "      <th>std</th>\n",
       "      <td>0.496806</td>\n",
       "      <td>0.886626</td>\n",
       "      <td>0.392918</td>\n",
       "      <td>50418.363511</td>\n",
       "      <td>1.322106e+06</td>\n",
       "      <td>60.215780</td>\n",
       "      <td>0.992379</td>\n",
       "      <td>8.518415</td>\n",
       "      <td>1.419279</td>\n",
       "      <td>12.468473</td>\n",
       "    </tr>\n",
       "    <tr>\n",
       "      <th>min</th>\n",
       "      <td>0.000000</td>\n",
       "      <td>0.000000</td>\n",
       "      <td>0.000000</td>\n",
       "      <td>5000.000000</td>\n",
       "      <td>6.000000e+04</td>\n",
       "      <td>6.000000</td>\n",
       "      <td>1.000000</td>\n",
       "      <td>0.000000</td>\n",
       "      <td>0.000000</td>\n",
       "      <td>0.000000</td>\n",
       "    </tr>\n",
       "    <tr>\n",
       "      <th>25%</th>\n",
       "      <td>0.000000</td>\n",
       "      <td>0.000000</td>\n",
       "      <td>0.000000</td>\n",
       "      <td>17500.000000</td>\n",
       "      <td>6.000000e+04</td>\n",
       "      <td>24.000000</td>\n",
       "      <td>2.000000</td>\n",
       "      <td>3.000000</td>\n",
       "      <td>2.000000</td>\n",
       "      <td>11.000000</td>\n",
       "    </tr>\n",
       "    <tr>\n",
       "      <th>50%</th>\n",
       "      <td>1.000000</td>\n",
       "      <td>0.000000</td>\n",
       "      <td>0.000000</td>\n",
       "      <td>37500.000000</td>\n",
       "      <td>1.500000e+05</td>\n",
       "      <td>26.000000</td>\n",
       "      <td>3.000000</td>\n",
       "      <td>3.000000</td>\n",
       "      <td>3.000000</td>\n",
       "      <td>11.000000</td>\n",
       "    </tr>\n",
       "    <tr>\n",
       "      <th>75%</th>\n",
       "      <td>1.000000</td>\n",
       "      <td>2.000000</td>\n",
       "      <td>0.000000</td>\n",
       "      <td>60000.000000</td>\n",
       "      <td>2.500000e+05</td>\n",
       "      <td>36.000000</td>\n",
       "      <td>4.000000</td>\n",
       "      <td>17.000000</td>\n",
       "      <td>4.000000</td>\n",
       "      <td>27.000000</td>\n",
       "    </tr>\n",
       "    <tr>\n",
       "      <th>max</th>\n",
       "      <td>1.000000</td>\n",
       "      <td>2.000000</td>\n",
       "      <td>1.000000</td>\n",
       "      <td>350000.000000</td>\n",
       "      <td>1.000000e+08</td>\n",
       "      <td>997.000000</td>\n",
       "      <td>4.000000</td>\n",
       "      <td>26.000000</td>\n",
       "      <td>5.000000</td>\n",
       "      <td>48.000000</td>\n",
       "    </tr>\n",
       "  </tbody>\n",
       "</table>\n",
       "</div>"
      ],
      "text/plain": [
       "       Check_LLC_in_Name  Email_Domain  Is_Submitted  LS_Amount_to_Borrow  \\\n",
       "count       15574.000000  15574.000000  15574.000000         15574.000000   \n",
       "mean            0.556569      0.712534      0.190767         47807.092269   \n",
       "std             0.496806      0.886626      0.392918         50418.363511   \n",
       "min             0.000000      0.000000      0.000000          5000.000000   \n",
       "25%             0.000000      0.000000      0.000000         17500.000000   \n",
       "50%             1.000000      0.000000      0.000000         37500.000000   \n",
       "75%             1.000000      2.000000      0.000000         60000.000000   \n",
       "max             1.000000      2.000000      1.000000        350000.000000   \n",
       "\n",
       "             LS_GAS  LS_Months_in_Business  LS_Self_Graded_Credit  \\\n",
       "count  1.557400e+04           15574.000000           15574.000000   \n",
       "mean   2.705511e+05              44.227816               3.059137   \n",
       "std    1.322106e+06              60.215780               0.992379   \n",
       "min    6.000000e+04               6.000000               1.000000   \n",
       "25%    6.000000e+04              24.000000               2.000000   \n",
       "50%    1.500000e+05              26.000000               3.000000   \n",
       "75%    2.500000e+05              36.000000               4.000000   \n",
       "max    1.000000e+08             997.000000               4.000000   \n",
       "\n",
       "       Web_Ad_Outlet_code  Web_Ad_Outlet_Source_code  LS_State_code  \n",
       "count        15574.000000               15574.000000   15574.000000  \n",
       "mean             8.288943                   2.961988      17.928471  \n",
       "std              8.518415                   1.419279      12.468473  \n",
       "min              0.000000                   0.000000       0.000000  \n",
       "25%              3.000000                   2.000000      11.000000  \n",
       "50%              3.000000                   3.000000      11.000000  \n",
       "75%             17.000000                   4.000000      27.000000  \n",
       "max             26.000000                   5.000000      48.000000  "
      ]
     },
     "execution_count": 2024,
     "metadata": {},
     "output_type": "execute_result"
    }
   ],
   "source": [
    "LeadScore_df.describe()"
   ]
  },
  {
   "cell_type": "code",
   "execution_count": 2025,
   "metadata": {},
   "outputs": [],
   "source": [
    "#X = LeadScore_df"
   ]
  },
  {
   "cell_type": "code",
   "execution_count": 2026,
   "metadata": {},
   "outputs": [],
   "source": [
    "#from sklearn.preprocessing import scale\n",
    "#X_scaled = scale(X)\n",
    "#np.mean(X),np.std(X)\n",
    "#np.mean(X_scaled),np.std(X_scaled)"
   ]
  },
  {
   "cell_type": "code",
   "execution_count": 2027,
   "metadata": {},
   "outputs": [],
   "source": [
    "LeadScore_df.to_csv('Train5-23leads.csv', index = False)"
   ]
  },
  {
   "cell_type": "code",
   "execution_count": 2028,
   "metadata": {},
   "outputs": [
    {
     "data": {
      "text/plain": [
       "19.076666238602797"
      ]
     },
     "execution_count": 2028,
     "metadata": {},
     "output_type": "execute_result"
    }
   ],
   "source": [
    "Submitted = (sum(LeadScore_df[\"Is_Submitted\"])/len(LeadScore_df['Is_Submitted'].index))*100\n",
    "Submitted"
   ]
  },
  {
   "cell_type": "code",
   "execution_count": 2029,
   "metadata": {},
   "outputs": [
    {
     "data": {
      "text/html": [
       "<div>\n",
       "<style scoped>\n",
       "    .dataframe tbody tr th:only-of-type {\n",
       "        vertical-align: middle;\n",
       "    }\n",
       "\n",
       "    .dataframe tbody tr th {\n",
       "        vertical-align: top;\n",
       "    }\n",
       "\n",
       "    .dataframe thead th {\n",
       "        text-align: right;\n",
       "    }\n",
       "</style>\n",
       "<table border=\"1\" class=\"dataframe\">\n",
       "  <thead>\n",
       "    <tr style=\"text-align: right;\">\n",
       "      <th></th>\n",
       "      <th>Check_LLC_in_Name</th>\n",
       "      <th>Email_Domain</th>\n",
       "      <th>LS_Amount_to_Borrow</th>\n",
       "      <th>LS_GAS</th>\n",
       "      <th>LS_Months_in_Business</th>\n",
       "      <th>LS_Self_Graded_Credit</th>\n",
       "      <th>Web_Ad_Outlet_code</th>\n",
       "      <th>Web_Ad_Outlet_Source_code</th>\n",
       "      <th>LS_State_code</th>\n",
       "    </tr>\n",
       "    <tr>\n",
       "      <th>Is_Submitted</th>\n",
       "      <th></th>\n",
       "      <th></th>\n",
       "      <th></th>\n",
       "      <th></th>\n",
       "      <th></th>\n",
       "      <th></th>\n",
       "      <th></th>\n",
       "      <th></th>\n",
       "      <th></th>\n",
       "    </tr>\n",
       "  </thead>\n",
       "  <tbody>\n",
       "    <tr>\n",
       "      <th>0</th>\n",
       "      <td>0.523050</td>\n",
       "      <td>0.696421</td>\n",
       "      <td>48983.377053</td>\n",
       "      <td>273299.467032</td>\n",
       "      <td>45.825518</td>\n",
       "      <td>3.039990</td>\n",
       "      <td>8.339760</td>\n",
       "      <td>2.983813</td>\n",
       "      <td>18.133778</td>\n",
       "    </tr>\n",
       "    <tr>\n",
       "      <th>1</th>\n",
       "      <td>0.698755</td>\n",
       "      <td>0.780882</td>\n",
       "      <td>42817.285089</td>\n",
       "      <td>258892.272972</td>\n",
       "      <td>37.450353</td>\n",
       "      <td>3.140357</td>\n",
       "      <td>8.073376</td>\n",
       "      <td>2.869404</td>\n",
       "      <td>17.057556</td>\n",
       "    </tr>\n",
       "  </tbody>\n",
       "</table>\n",
       "</div>"
      ],
      "text/plain": [
       "              Check_LLC_in_Name  Email_Domain  LS_Amount_to_Borrow  \\\n",
       "Is_Submitted                                                         \n",
       "0                      0.523050      0.696421         48983.377053   \n",
       "1                      0.698755      0.780882         42817.285089   \n",
       "\n",
       "                     LS_GAS  LS_Months_in_Business  LS_Self_Graded_Credit  \\\n",
       "Is_Submitted                                                                \n",
       "0             273299.467032              45.825518               3.039990   \n",
       "1             258892.272972              37.450353               3.140357   \n",
       "\n",
       "              Web_Ad_Outlet_code  Web_Ad_Outlet_Source_code  LS_State_code  \n",
       "Is_Submitted                                                                \n",
       "0                       8.339760                   2.983813      18.133778  \n",
       "1                       8.073376                   2.869404      17.057556  "
      ]
     },
     "execution_count": 2029,
     "metadata": {},
     "output_type": "execute_result"
    }
   ],
   "source": [
    "Lead_cluster_data = LeadScore_df.groupby(['Is_Submitted']).mean()\n",
    "Lead_cluster_data"
   ]
  },
  {
   "cell_type": "code",
   "execution_count": 2030,
   "metadata": {},
   "outputs": [
    {
     "data": {
      "text/html": [
       "<div>\n",
       "<style scoped>\n",
       "    .dataframe tbody tr th:only-of-type {\n",
       "        vertical-align: middle;\n",
       "    }\n",
       "\n",
       "    .dataframe tbody tr th {\n",
       "        vertical-align: top;\n",
       "    }\n",
       "\n",
       "    .dataframe thead th {\n",
       "        text-align: right;\n",
       "    }\n",
       "</style>\n",
       "<table border=\"1\" class=\"dataframe\">\n",
       "  <thead>\n",
       "    <tr style=\"text-align: right;\">\n",
       "      <th></th>\n",
       "      <th>Check_LLC_in_Name</th>\n",
       "      <th>Email_Domain</th>\n",
       "      <th>Is_Submitted</th>\n",
       "      <th>LS_Amount_to_Borrow</th>\n",
       "      <th>LS_GAS</th>\n",
       "      <th>LS_Months_in_Business</th>\n",
       "      <th>LS_Self_Graded_Credit</th>\n",
       "      <th>Web_Ad_Outlet_code</th>\n",
       "      <th>Web_Ad_Outlet_Source_code</th>\n",
       "      <th>LS_State_code</th>\n",
       "    </tr>\n",
       "  </thead>\n",
       "  <tbody>\n",
       "    <tr>\n",
       "      <th>Check_LLC_in_Name</th>\n",
       "      <td>1.000000</td>\n",
       "      <td>-0.015780</td>\n",
       "      <td>0.138963</td>\n",
       "      <td>-0.061943</td>\n",
       "      <td>-0.025771</td>\n",
       "      <td>-0.132395</td>\n",
       "      <td>0.047462</td>\n",
       "      <td>0.122714</td>\n",
       "      <td>-0.038751</td>\n",
       "      <td>-0.000922</td>\n",
       "    </tr>\n",
       "    <tr>\n",
       "      <th>Email_Domain</th>\n",
       "      <td>-0.015780</td>\n",
       "      <td>1.000000</td>\n",
       "      <td>0.037430</td>\n",
       "      <td>0.039453</td>\n",
       "      <td>0.024387</td>\n",
       "      <td>0.044993</td>\n",
       "      <td>-0.072853</td>\n",
       "      <td>-0.010725</td>\n",
       "      <td>-0.024503</td>\n",
       "      <td>-0.021278</td>\n",
       "    </tr>\n",
       "    <tr>\n",
       "      <th>Is_Submitted</th>\n",
       "      <td>0.138963</td>\n",
       "      <td>0.037430</td>\n",
       "      <td>1.000000</td>\n",
       "      <td>-0.048053</td>\n",
       "      <td>-0.004282</td>\n",
       "      <td>-0.054649</td>\n",
       "      <td>0.039739</td>\n",
       "      <td>-0.012287</td>\n",
       "      <td>-0.031673</td>\n",
       "      <td>-0.033915</td>\n",
       "    </tr>\n",
       "    <tr>\n",
       "      <th>LS_Amount_to_Borrow</th>\n",
       "      <td>-0.061943</td>\n",
       "      <td>0.039453</td>\n",
       "      <td>-0.048053</td>\n",
       "      <td>1.000000</td>\n",
       "      <td>0.105333</td>\n",
       "      <td>0.225349</td>\n",
       "      <td>-0.234847</td>\n",
       "      <td>-0.152559</td>\n",
       "      <td>0.190893</td>\n",
       "      <td>0.084889</td>\n",
       "    </tr>\n",
       "    <tr>\n",
       "      <th>LS_GAS</th>\n",
       "      <td>-0.025771</td>\n",
       "      <td>0.024387</td>\n",
       "      <td>-0.004282</td>\n",
       "      <td>0.105333</td>\n",
       "      <td>1.000000</td>\n",
       "      <td>0.096881</td>\n",
       "      <td>-0.022595</td>\n",
       "      <td>-0.036056</td>\n",
       "      <td>0.014460</td>\n",
       "      <td>0.023076</td>\n",
       "    </tr>\n",
       "    <tr>\n",
       "      <th>LS_Months_in_Business</th>\n",
       "      <td>-0.132395</td>\n",
       "      <td>0.044993</td>\n",
       "      <td>-0.054649</td>\n",
       "      <td>0.225349</td>\n",
       "      <td>0.096881</td>\n",
       "      <td>1.000000</td>\n",
       "      <td>-0.097140</td>\n",
       "      <td>-0.200533</td>\n",
       "      <td>0.212468</td>\n",
       "      <td>0.108391</td>\n",
       "    </tr>\n",
       "    <tr>\n",
       "      <th>LS_Self_Graded_Credit</th>\n",
       "      <td>0.047462</td>\n",
       "      <td>-0.072853</td>\n",
       "      <td>0.039739</td>\n",
       "      <td>-0.234847</td>\n",
       "      <td>-0.022595</td>\n",
       "      <td>-0.097140</td>\n",
       "      <td>1.000000</td>\n",
       "      <td>-0.012504</td>\n",
       "      <td>-0.115619</td>\n",
       "      <td>-0.015938</td>\n",
       "    </tr>\n",
       "    <tr>\n",
       "      <th>Web_Ad_Outlet_code</th>\n",
       "      <td>0.122714</td>\n",
       "      <td>-0.010725</td>\n",
       "      <td>-0.012287</td>\n",
       "      <td>-0.152559</td>\n",
       "      <td>-0.036056</td>\n",
       "      <td>-0.200533</td>\n",
       "      <td>-0.012504</td>\n",
       "      <td>1.000000</td>\n",
       "      <td>0.205112</td>\n",
       "      <td>0.086102</td>\n",
       "    </tr>\n",
       "    <tr>\n",
       "      <th>Web_Ad_Outlet_Source_code</th>\n",
       "      <td>-0.038751</td>\n",
       "      <td>-0.024503</td>\n",
       "      <td>-0.031673</td>\n",
       "      <td>0.190893</td>\n",
       "      <td>0.014460</td>\n",
       "      <td>0.212468</td>\n",
       "      <td>-0.115619</td>\n",
       "      <td>0.205112</td>\n",
       "      <td>1.000000</td>\n",
       "      <td>0.265370</td>\n",
       "    </tr>\n",
       "    <tr>\n",
       "      <th>LS_State_code</th>\n",
       "      <td>-0.000922</td>\n",
       "      <td>-0.021278</td>\n",
       "      <td>-0.033915</td>\n",
       "      <td>0.084889</td>\n",
       "      <td>0.023076</td>\n",
       "      <td>0.108391</td>\n",
       "      <td>-0.015938</td>\n",
       "      <td>0.086102</td>\n",
       "      <td>0.265370</td>\n",
       "      <td>1.000000</td>\n",
       "    </tr>\n",
       "  </tbody>\n",
       "</table>\n",
       "</div>"
      ],
      "text/plain": [
       "                           Check_LLC_in_Name  Email_Domain  Is_Submitted  \\\n",
       "Check_LLC_in_Name                   1.000000     -0.015780      0.138963   \n",
       "Email_Domain                       -0.015780      1.000000      0.037430   \n",
       "Is_Submitted                        0.138963      0.037430      1.000000   \n",
       "LS_Amount_to_Borrow                -0.061943      0.039453     -0.048053   \n",
       "LS_GAS                             -0.025771      0.024387     -0.004282   \n",
       "LS_Months_in_Business              -0.132395      0.044993     -0.054649   \n",
       "LS_Self_Graded_Credit               0.047462     -0.072853      0.039739   \n",
       "Web_Ad_Outlet_code                  0.122714     -0.010725     -0.012287   \n",
       "Web_Ad_Outlet_Source_code          -0.038751     -0.024503     -0.031673   \n",
       "LS_State_code                      -0.000922     -0.021278     -0.033915   \n",
       "\n",
       "                           LS_Amount_to_Borrow    LS_GAS  \\\n",
       "Check_LLC_in_Name                    -0.061943 -0.025771   \n",
       "Email_Domain                          0.039453  0.024387   \n",
       "Is_Submitted                         -0.048053 -0.004282   \n",
       "LS_Amount_to_Borrow                   1.000000  0.105333   \n",
       "LS_GAS                                0.105333  1.000000   \n",
       "LS_Months_in_Business                 0.225349  0.096881   \n",
       "LS_Self_Graded_Credit                -0.234847 -0.022595   \n",
       "Web_Ad_Outlet_code                   -0.152559 -0.036056   \n",
       "Web_Ad_Outlet_Source_code             0.190893  0.014460   \n",
       "LS_State_code                         0.084889  0.023076   \n",
       "\n",
       "                           LS_Months_in_Business  LS_Self_Graded_Credit  \\\n",
       "Check_LLC_in_Name                      -0.132395               0.047462   \n",
       "Email_Domain                            0.044993              -0.072853   \n",
       "Is_Submitted                           -0.054649               0.039739   \n",
       "LS_Amount_to_Borrow                     0.225349              -0.234847   \n",
       "LS_GAS                                  0.096881              -0.022595   \n",
       "LS_Months_in_Business                   1.000000              -0.097140   \n",
       "LS_Self_Graded_Credit                  -0.097140               1.000000   \n",
       "Web_Ad_Outlet_code                     -0.200533              -0.012504   \n",
       "Web_Ad_Outlet_Source_code               0.212468              -0.115619   \n",
       "LS_State_code                           0.108391              -0.015938   \n",
       "\n",
       "                           Web_Ad_Outlet_code  Web_Ad_Outlet_Source_code  \\\n",
       "Check_LLC_in_Name                    0.122714                  -0.038751   \n",
       "Email_Domain                        -0.010725                  -0.024503   \n",
       "Is_Submitted                        -0.012287                  -0.031673   \n",
       "LS_Amount_to_Borrow                 -0.152559                   0.190893   \n",
       "LS_GAS                              -0.036056                   0.014460   \n",
       "LS_Months_in_Business               -0.200533                   0.212468   \n",
       "LS_Self_Graded_Credit               -0.012504                  -0.115619   \n",
       "Web_Ad_Outlet_code                   1.000000                   0.205112   \n",
       "Web_Ad_Outlet_Source_code            0.205112                   1.000000   \n",
       "LS_State_code                        0.086102                   0.265370   \n",
       "\n",
       "                           LS_State_code  \n",
       "Check_LLC_in_Name              -0.000922  \n",
       "Email_Domain                   -0.021278  \n",
       "Is_Submitted                   -0.033915  \n",
       "LS_Amount_to_Borrow             0.084889  \n",
       "LS_GAS                          0.023076  \n",
       "LS_Months_in_Business           0.108391  \n",
       "LS_Self_Graded_Credit          -0.015938  \n",
       "Web_Ad_Outlet_code              0.086102  \n",
       "Web_Ad_Outlet_Source_code       0.265370  \n",
       "LS_State_code                   1.000000  "
      ]
     },
     "execution_count": 2030,
     "metadata": {},
     "output_type": "execute_result"
    }
   ],
   "source": [
    "LeadScore_df.corr()"
   ]
  },
  {
   "cell_type": "code",
   "execution_count": 2031,
   "metadata": {},
   "outputs": [],
   "source": [
    "#.to_csv('Train4-11LN.csv', index = False)"
   ]
  },
  {
   "cell_type": "code",
   "execution_count": 2032,
   "metadata": {},
   "outputs": [],
   "source": [
    "X = LeadScore_df.drop('Is_Submitted', axis =1)\n",
    "\n",
    "y = LeadScore_df[['Is_Submitted']]"
   ]
  },
  {
   "cell_type": "code",
   "execution_count": 2033,
   "metadata": {},
   "outputs": [
    {
     "data": {
      "text/plain": [
       "Check_LLC_in_Name            0\n",
       "Email_Domain                 0\n",
       "LS_Amount_to_Borrow          0\n",
       "LS_GAS                       0\n",
       "LS_Months_in_Business        0\n",
       "LS_Self_Graded_Credit        0\n",
       "Web_Ad_Outlet_code           0\n",
       "Web_Ad_Outlet_Source_code    0\n",
       "LS_State_code                0\n",
       "dtype: int64"
      ]
     },
     "execution_count": 2033,
     "metadata": {},
     "output_type": "execute_result"
    }
   ],
   "source": [
    "X.isnull().sum()"
   ]
  },
  {
   "cell_type": "code",
   "execution_count": 2034,
   "metadata": {},
   "outputs": [
    {
     "data": {
      "text/plain": [
       "Check_LLC_in_Name              int64\n",
       "Email_Domain                   int64\n",
       "LS_Amount_to_Borrow            int64\n",
       "LS_GAS                         int64\n",
       "LS_Months_in_Business        float64\n",
       "LS_Self_Graded_Credit          int64\n",
       "Web_Ad_Outlet_code           float64\n",
       "Web_Ad_Outlet_Source_code    float64\n",
       "LS_State_code                float64\n",
       "dtype: object"
      ]
     },
     "execution_count": 2034,
     "metadata": {},
     "output_type": "execute_result"
    }
   ],
   "source": [
    "X.dtypes"
   ]
  },
  {
   "cell_type": "code",
   "execution_count": 2035,
   "metadata": {},
   "outputs": [],
   "source": [
    "from sklearn.model_selection import train_test_split\n",
    "from sklearn.tree import DecisionTreeClassifier, export_graphviz\n",
    "from sklearn.model_selection import GridSearchCV\n",
    "from sklearn.metrics import accuracy_score\n",
    "from sklearn.preprocessing import RobustScaler\n",
    "from sklearn.neighbors import KNeighborsClassifier\n",
    "from sklearn.model_selection import cross_val_score\n",
    "\n",
    "X_train, X_test, y_train, y_test = train_test_split(X,y, test_size=0.3, random_state=0)\n"
   ]
  },
  {
   "cell_type": "code",
   "execution_count": 2036,
   "metadata": {},
   "outputs": [],
   "source": [
    "#X_train.to_csv('Train4-11LN.csv', index = False)"
   ]
  },
  {
   "cell_type": "code",
   "execution_count": 2037,
   "metadata": {},
   "outputs": [],
   "source": [
    "scaler = RobustScaler()\n",
    "X_train = scaler.fit_transform(X_train)\n",
    "X_test = scaler.transform(X_test)"
   ]
  },
  {
   "cell_type": "code",
   "execution_count": 2038,
   "metadata": {},
   "outputs": [],
   "source": [
    "from sklearn.preprocessing import MinMaxScaler\n",
    "scaler = MinMaxScaler()\n",
    "X_train = scaler.fit_transform(X_train)\n",
    "X_test = scaler.transform(X_test)"
   ]
  },
  {
   "cell_type": "code",
   "execution_count": 2039,
   "metadata": {},
   "outputs": [],
   "source": [
    "#from sklearn.ensemble import RandomForestClassifier\n",
    "#from sklearn.model_selection import learning_curve\n",
    "\n",
    "#train_sizes, train_scores, test_scores = learning_curve(RandomForestClassifier(),X,y, cv=10, scoring='accuracy', n_jobs=-1, train_sizes=np.linspace(0.01,1,50), verbose=1)\n"
   ]
  },
  {
   "cell_type": "code",
   "execution_count": 2040,
   "metadata": {},
   "outputs": [],
   "source": [
    "#train_mean = np.mean(train_scores, axis =1)\n",
    "#train_mean"
   ]
  },
  {
   "cell_type": "code",
   "execution_count": 2041,
   "metadata": {},
   "outputs": [],
   "source": [
    "#train_std = np.std(train_scores, axis=1)\n",
    "#train_std"
   ]
  },
  {
   "cell_type": "code",
   "execution_count": 2042,
   "metadata": {},
   "outputs": [],
   "source": [
    "#test_mean = np.mean(test_scores, axis =1)\n",
    "#test_mean"
   ]
  },
  {
   "cell_type": "code",
   "execution_count": 2043,
   "metadata": {},
   "outputs": [],
   "source": [
    "#test_std = np.std(test_scores, axis=1)\n",
    "#test_std"
   ]
  },
  {
   "cell_type": "code",
   "execution_count": 2044,
   "metadata": {},
   "outputs": [],
   "source": [
    "#plt.plot(train_sizes, train_mean, label= 'Training Score')\n",
    "#plt.plot(train_sizes, test_mean, label= 'Cross-Validation Score')\n",
    "\n",
    "#plt.fill_between(train_sizes, train_mean-train_std, train_mean+train_std, color='#DDDDDD')\n",
    "#plt.fill_between(train_sizes, test_mean-test_std, test_mean+test_std, color='#DDDDDD')\n",
    "\n",
    "#plt.title('Learning Curve')\n",
    "#plt.xlabel('Training Size')\n",
    "#plt.ylabel('Accuracy Score')\n",
    "#plt.legend(loc = 'best')"
   ]
  },
  {
   "cell_type": "code",
   "execution_count": 2045,
   "metadata": {},
   "outputs": [],
   "source": [
    "import imblearn"
   ]
  },
  {
   "cell_type": "code",
   "execution_count": 2046,
   "metadata": {},
   "outputs": [
    {
     "name": "stdout",
     "output_type": "stream",
     "text": [
      "Original dataset shape Counter({'Is_Submitted': 1})\n",
      "Resample dataset shape Counter({'Is_Submitted': 1})\n"
     ]
    }
   ],
   "source": [
    "# import library\n",
    "from imblearn.over_sampling import RandomOverSampler\n",
    "from collections import Counter\n",
    "ros = RandomOverSampler(random_state=42)\n",
    "# fit predictor and target \n",
    "\n",
    "variablex_ros, y_ros = ros.fit_resample(X, y)\n",
    "\n",
    "\n",
    "print('Original dataset shape', Counter(y))\n",
    "print('Resample dataset shape', Counter(y_ros))"
   ]
  },
  {
   "cell_type": "code",
   "execution_count": 2047,
   "metadata": {},
   "outputs": [
    {
     "name": "stdout",
     "output_type": "stream",
     "text": [
      "Counter({'Is_Submitted': 1})\n"
     ]
    }
   ],
   "source": [
    "from imblearn.over_sampling import SMOTE\n",
    "oversample = SMOTE()\n",
    "X, y = oversample.fit_resample(X, y)\n",
    "\n",
    "counter = Counter(y)\n",
    "print(counter)"
   ]
  },
  {
   "cell_type": "code",
   "execution_count": 2048,
   "metadata": {
    "scrolled": true
   },
   "outputs": [
    {
     "data": {
      "text/html": [
       "<table class=\"simpletable\">\n",
       "<caption>Generalized Linear Model Regression Results</caption>\n",
       "<tr>\n",
       "  <th>Dep. Variable:</th>     <td>Is_Submitted</td>   <th>  No. Observations:  </th>  <td> 10901</td> \n",
       "</tr>\n",
       "<tr>\n",
       "  <th>Model:</th>                  <td>GLM</td>       <th>  Df Residuals:      </th>  <td> 10891</td> \n",
       "</tr>\n",
       "<tr>\n",
       "  <th>Model Family:</th>        <td>Binomial</td>     <th>  Df Model:          </th>  <td>     9</td> \n",
       "</tr>\n",
       "<tr>\n",
       "  <th>Link Function:</th>         <td>logit</td>      <th>  Scale:             </th> <td>  1.0000</td>\n",
       "</tr>\n",
       "<tr>\n",
       "  <th>Method:</th>                <td>IRLS</td>       <th>  Log-Likelihood:    </th> <td> -5183.4</td>\n",
       "</tr>\n",
       "<tr>\n",
       "  <th>Date:</th>            <td>Tue, 24 May 2022</td> <th>  Deviance:          </th> <td>  10367.</td>\n",
       "</tr>\n",
       "<tr>\n",
       "  <th>Time:</th>                <td>14:13:58</td>     <th>  Pearson chi2:      </th> <td>1.09e+04</td>\n",
       "</tr>\n",
       "<tr>\n",
       "  <th>No. Iterations:</th>          <td>5</td>        <th>                     </th>     <td> </td>   \n",
       "</tr>\n",
       "<tr>\n",
       "  <th>Covariance Type:</th>     <td>nonrobust</td>    <th>                     </th>     <td> </td>   \n",
       "</tr>\n",
       "</table>\n",
       "<table class=\"simpletable\">\n",
       "<tr>\n",
       "    <td></td>       <th>coef</th>     <th>std err</th>      <th>z</th>      <th>P>|z|</th>  <th>[0.025</th>    <th>0.975]</th>  \n",
       "</tr>\n",
       "<tr>\n",
       "  <th>const</th> <td>   -1.8865</td> <td>    0.100</td> <td>  -18.864</td> <td> 0.000</td> <td>   -2.083</td> <td>   -1.691</td>\n",
       "</tr>\n",
       "<tr>\n",
       "  <th>x1</th>    <td>    0.7580</td> <td>    0.053</td> <td>   14.318</td> <td> 0.000</td> <td>    0.654</td> <td>    0.862</td>\n",
       "</tr>\n",
       "<tr>\n",
       "  <th>x2</th>    <td>    0.2345</td> <td>    0.055</td> <td>    4.260</td> <td> 0.000</td> <td>    0.127</td> <td>    0.342</td>\n",
       "</tr>\n",
       "<tr>\n",
       "  <th>x3</th>    <td>   -0.4876</td> <td>    0.197</td> <td>   -2.475</td> <td> 0.013</td> <td>   -0.874</td> <td>   -0.101</td>\n",
       "</tr>\n",
       "<tr>\n",
       "  <th>x4</th>    <td>    0.1606</td> <td>    1.703</td> <td>    0.094</td> <td> 0.925</td> <td>   -3.177</td> <td>    3.499</td>\n",
       "</tr>\n",
       "<tr>\n",
       "  <th>x5</th>    <td>   -1.8606</td> <td>    0.575</td> <td>   -3.237</td> <td> 0.001</td> <td>   -2.987</td> <td>   -0.734</td>\n",
       "</tr>\n",
       "<tr>\n",
       "  <th>x6</th>    <td>    0.2648</td> <td>    0.079</td> <td>    3.347</td> <td> 0.001</td> <td>    0.110</td> <td>    0.420</td>\n",
       "</tr>\n",
       "<tr>\n",
       "  <th>x7</th>    <td>   -0.2998</td> <td>    0.081</td> <td>   -3.681</td> <td> 0.000</td> <td>   -0.459</td> <td>   -0.140</td>\n",
       "</tr>\n",
       "<tr>\n",
       "  <th>x8</th>    <td>    0.0798</td> <td>    0.094</td> <td>    0.852</td> <td> 0.394</td> <td>   -0.104</td> <td>    0.264</td>\n",
       "</tr>\n",
       "<tr>\n",
       "  <th>x9</th>    <td>   -0.3061</td> <td>    0.102</td> <td>   -2.992</td> <td> 0.003</td> <td>   -0.507</td> <td>   -0.106</td>\n",
       "</tr>\n",
       "</table>"
      ],
      "text/plain": [
       "<class 'statsmodels.iolib.summary.Summary'>\n",
       "\"\"\"\n",
       "                 Generalized Linear Model Regression Results                  \n",
       "==============================================================================\n",
       "Dep. Variable:           Is_Submitted   No. Observations:                10901\n",
       "Model:                            GLM   Df Residuals:                    10891\n",
       "Model Family:                Binomial   Df Model:                            9\n",
       "Link Function:                  logit   Scale:                          1.0000\n",
       "Method:                          IRLS   Log-Likelihood:                -5183.4\n",
       "Date:                Tue, 24 May 2022   Deviance:                       10367.\n",
       "Time:                        14:13:58   Pearson chi2:                 1.09e+04\n",
       "No. Iterations:                     5                                         \n",
       "Covariance Type:            nonrobust                                         \n",
       "==============================================================================\n",
       "                 coef    std err          z      P>|z|      [0.025      0.975]\n",
       "------------------------------------------------------------------------------\n",
       "const         -1.8865      0.100    -18.864      0.000      -2.083      -1.691\n",
       "x1             0.7580      0.053     14.318      0.000       0.654       0.862\n",
       "x2             0.2345      0.055      4.260      0.000       0.127       0.342\n",
       "x3            -0.4876      0.197     -2.475      0.013      -0.874      -0.101\n",
       "x4             0.1606      1.703      0.094      0.925      -3.177       3.499\n",
       "x5            -1.8606      0.575     -3.237      0.001      -2.987      -0.734\n",
       "x6             0.2648      0.079      3.347      0.001       0.110       0.420\n",
       "x7            -0.2998      0.081     -3.681      0.000      -0.459      -0.140\n",
       "x8             0.0798      0.094      0.852      0.394      -0.104       0.264\n",
       "x9            -0.3061      0.102     -2.992      0.003      -0.507      -0.106\n",
       "==============================================================================\n",
       "\"\"\""
      ]
     },
     "execution_count": 2048,
     "metadata": {},
     "output_type": "execute_result"
    }
   ],
   "source": [
    "import statsmodels.api as sm\n",
    "\n",
    "logm1 = sm.GLM(y_train, (sm.add_constant(X_train)), family = sm.families.Binomial())\n",
    "logm1.fit().summary()"
   ]
  },
  {
   "cell_type": "code",
   "execution_count": 2049,
   "metadata": {},
   "outputs": [
    {
     "data": {
      "text/plain": [
       "((10901, 9), (10901, 1))"
      ]
     },
     "execution_count": 2049,
     "metadata": {},
     "output_type": "execute_result"
    }
   ],
   "source": [
    "X_train.shape, y_train.shape"
   ]
  },
  {
   "cell_type": "code",
   "execution_count": 2050,
   "metadata": {},
   "outputs": [
    {
     "data": {
      "text/plain": [
       "((4673, 9), (4673, 1))"
      ]
     },
     "execution_count": 2050,
     "metadata": {},
     "output_type": "execute_result"
    }
   ],
   "source": [
    "X_test.shape, y_test.shape"
   ]
  },
  {
   "cell_type": "code",
   "execution_count": 2051,
   "metadata": {},
   "outputs": [],
   "source": [
    "from sklearn.feature_selection import SelectKBest\n",
    "from sklearn.feature_selection import chi2\n",
    "from sklearn.feature_selection import mutual_info_classif\n",
    "\n",
    "def select_features(X_train, y_train, X_test):\n",
    "    fs = SelectKBest(score_func=mutual_info_classif, k='all')\n",
    "    fs.fit(X_train, y_train)\n",
    "    X_train_fs = fs.transform(X_train)\n",
    "    X_test_fs = fs.transform(X_test)\n",
    "    return X_train_fs, X_test_fs, fs"
   ]
  },
  {
   "cell_type": "code",
   "execution_count": 2052,
   "metadata": {},
   "outputs": [
    {
     "name": "stdout",
     "output_type": "stream",
     "text": [
      "Feature 0: 0.010083\n",
      "Feature 1: 0.005599\n",
      "Feature 2: 0.000011\n",
      "Feature 3: 0.008714\n",
      "Feature 4: 0.000000\n",
      "Feature 5: 0.002796\n",
      "Feature 6: 0.003672\n",
      "Feature 7: 0.004409\n",
      "Feature 8: 0.007432\n"
     ]
    },
    {
     "data": {
      "image/png": "[encoded data removed]",
      "text/plain": [
       "<Figure size 432x288 with 1 Axes>"
      ]
     },
     "metadata": {
      "needs_background": "light"
     },
     "output_type": "display_data"
    }
   ],
   "source": [
    "X_train_fs, X_test_fs, fs = select_features(X_train, y_train, X_test)\n",
    "# what are scores for the features\n",
    "for i in range(len(fs.scores_)):\n",
    "    print('Feature %d: %f' % (i, fs.scores_[i]))\n",
    "    \n",
    "# plot the scores\n",
    "plt.bar([i for i in range(len(fs.scores_))], fs.scores_)\n",
    "plt.show()"
   ]
  },
  {
   "cell_type": "code",
   "execution_count": 2053,
   "metadata": {},
   "outputs": [],
   "source": [
    "from sklearn.linear_model import LogisticRegression\n",
    "\n",
    "model = LogisticRegression(solver='liblinear')\n",
    "model.fit(X_train, y_train)\n",
    "y_pred = model.predict(X_test)"
   ]
  },
  {
   "cell_type": "code",
   "execution_count": 2054,
   "metadata": {},
   "outputs": [],
   "source": [
    "from sklearn.feature_selection import RFE\n",
    "\n",
    "rfe = RFE(model, 8)             # running RFE with 7 variables as output\n",
    "rfe = rfe.fit(X_train, y_train)"
   ]
  },
  {
   "cell_type": "code",
   "execution_count": 2055,
   "metadata": {},
   "outputs": [
    {
     "data": {
      "text/plain": [
       "array([ True,  True,  True, False,  True,  True,  True,  True,  True])"
      ]
     },
     "execution_count": 2055,
     "metadata": {},
     "output_type": "execute_result"
    }
   ],
   "source": [
    "rfe.support_"
   ]
  },
  {
   "cell_type": "code",
   "execution_count": 2056,
   "metadata": {},
   "outputs": [],
   "source": [
    "X_train = pd.DataFrame(X_train, columns = X.columns)\n",
    "X_test = pd.DataFrame(X_test, columns=X.columns)"
   ]
  },
  {
   "cell_type": "code",
   "execution_count": 2057,
   "metadata": {},
   "outputs": [
    {
     "data": {
      "text/plain": [
       "[('Check_LLC_in_Name', True, 1),\n",
       " ('Email_Domain', True, 1),\n",
       " ('LS_Amount_to_Borrow', True, 1),\n",
       " ('LS_GAS', False, 2),\n",
       " ('LS_Months_in_Business', True, 1),\n",
       " ('LS_Self_Graded_Credit', True, 1),\n",
       " ('Web_Ad_Outlet_code', True, 1),\n",
       " ('Web_Ad_Outlet_Source_code', True, 1),\n",
       " ('LS_State_code', True, 1)]"
      ]
     },
     "execution_count": 2057,
     "metadata": {},
     "output_type": "execute_result"
    }
   ],
   "source": [
    "list(zip(X_train.columns, rfe.support_, rfe.ranking_))"
   ]
  },
  {
   "cell_type": "code",
   "execution_count": 2058,
   "metadata": {},
   "outputs": [
    {
     "data": {
      "text/plain": [
       "Index(['Check_LLC_in_Name', 'Email_Domain', 'LS_Amount_to_Borrow',\n",
       "       'LS_Months_in_Business', 'LS_Self_Graded_Credit', 'Web_Ad_Outlet_code',\n",
       "       'Web_Ad_Outlet_Source_code', 'LS_State_code'],\n",
       "      dtype='object')"
      ]
     },
     "execution_count": 2058,
     "metadata": {},
     "output_type": "execute_result"
    }
   ],
   "source": [
    "col = X_train.columns[rfe.support_]\n",
    "col"
   ]
  },
  {
   "cell_type": "code",
   "execution_count": 2059,
   "metadata": {},
   "outputs": [
    {
     "data": {
      "text/html": [
       "<table class=\"simpletable\">\n",
       "<caption>Generalized Linear Model Regression Results</caption>\n",
       "<tr>\n",
       "  <th>Dep. Variable:</th>     <td>Is_Submitted</td>   <th>  No. Observations:  </th>  <td> 10901</td> \n",
       "</tr>\n",
       "<tr>\n",
       "  <th>Model:</th>                  <td>GLM</td>       <th>  Df Residuals:      </th>  <td> 10892</td> \n",
       "</tr>\n",
       "<tr>\n",
       "  <th>Model Family:</th>        <td>Binomial</td>     <th>  Df Model:          </th>  <td>     8</td> \n",
       "</tr>\n",
       "<tr>\n",
       "  <th>Link Function:</th>         <td>logit</td>      <th>  Scale:             </th> <td>  1.0000</td>\n",
       "</tr>\n",
       "<tr>\n",
       "  <th>Method:</th>                <td>IRLS</td>       <th>  Log-Likelihood:    </th> <td> -5183.4</td>\n",
       "</tr>\n",
       "<tr>\n",
       "  <th>Date:</th>            <td>Tue, 24 May 2022</td> <th>  Deviance:          </th> <td>  10367.</td>\n",
       "</tr>\n",
       "<tr>\n",
       "  <th>Time:</th>                <td>14:13:59</td>     <th>  Pearson chi2:      </th> <td>1.09e+04</td>\n",
       "</tr>\n",
       "<tr>\n",
       "  <th>No. Iterations:</th>          <td>5</td>        <th>                     </th>     <td> </td>   \n",
       "</tr>\n",
       "<tr>\n",
       "  <th>Covariance Type:</th>     <td>nonrobust</td>    <th>                     </th>     <td> </td>   \n",
       "</tr>\n",
       "</table>\n",
       "<table class=\"simpletable\">\n",
       "<tr>\n",
       "    <td></td>       <th>coef</th>     <th>std err</th>      <th>z</th>      <th>P>|z|</th>  <th>[0.025</th>    <th>0.975]</th>  \n",
       "</tr>\n",
       "<tr>\n",
       "  <th>const</th> <td>   -1.8865</td> <td>    0.100</td> <td>  -18.863</td> <td> 0.000</td> <td>   -2.082</td> <td>   -1.690</td>\n",
       "</tr>\n",
       "<tr>\n",
       "  <th>x1</th>    <td>    0.7579</td> <td>    0.053</td> <td>   14.318</td> <td> 0.000</td> <td>    0.654</td> <td>    0.862</td>\n",
       "</tr>\n",
       "<tr>\n",
       "  <th>x2</th>    <td>    0.2346</td> <td>    0.055</td> <td>    4.261</td> <td> 0.000</td> <td>    0.127</td> <td>    0.342</td>\n",
       "</tr>\n",
       "<tr>\n",
       "  <th>x3</th>    <td>   -0.4861</td> <td>    0.196</td> <td>   -2.475</td> <td> 0.013</td> <td>   -0.871</td> <td>   -0.101</td>\n",
       "</tr>\n",
       "<tr>\n",
       "  <th>x4</th>    <td>   -1.8588</td> <td>    0.574</td> <td>   -3.236</td> <td> 0.001</td> <td>   -2.985</td> <td>   -0.733</td>\n",
       "</tr>\n",
       "<tr>\n",
       "  <th>x5</th>    <td>    0.2649</td> <td>    0.079</td> <td>    3.348</td> <td> 0.001</td> <td>    0.110</td> <td>    0.420</td>\n",
       "</tr>\n",
       "<tr>\n",
       "  <th>x6</th>    <td>   -0.2998</td> <td>    0.081</td> <td>   -3.682</td> <td> 0.000</td> <td>   -0.459</td> <td>   -0.140</td>\n",
       "</tr>\n",
       "<tr>\n",
       "  <th>x7</th>    <td>    0.0797</td> <td>    0.094</td> <td>    0.850</td> <td> 0.395</td> <td>   -0.104</td> <td>    0.263</td>\n",
       "</tr>\n",
       "<tr>\n",
       "  <th>x8</th>    <td>   -0.3059</td> <td>    0.102</td> <td>   -2.991</td> <td> 0.003</td> <td>   -0.506</td> <td>   -0.105</td>\n",
       "</tr>\n",
       "</table>"
      ],
      "text/plain": [
       "<class 'statsmodels.iolib.summary.Summary'>\n",
       "\"\"\"\n",
       "                 Generalized Linear Model Regression Results                  \n",
       "==============================================================================\n",
       "Dep. Variable:           Is_Submitted   No. Observations:                10901\n",
       "Model:                            GLM   Df Residuals:                    10892\n",
       "Model Family:                Binomial   Df Model:                            8\n",
       "Link Function:                  logit   Scale:                          1.0000\n",
       "Method:                          IRLS   Log-Likelihood:                -5183.4\n",
       "Date:                Tue, 24 May 2022   Deviance:                       10367.\n",
       "Time:                        14:13:59   Pearson chi2:                 1.09e+04\n",
       "No. Iterations:                     5                                         \n",
       "Covariance Type:            nonrobust                                         \n",
       "==============================================================================\n",
       "                 coef    std err          z      P>|z|      [0.025      0.975]\n",
       "------------------------------------------------------------------------------\n",
       "const         -1.8865      0.100    -18.863      0.000      -2.082      -1.690\n",
       "x1             0.7579      0.053     14.318      0.000       0.654       0.862\n",
       "x2             0.2346      0.055      4.261      0.000       0.127       0.342\n",
       "x3            -0.4861      0.196     -2.475      0.013      -0.871      -0.101\n",
       "x4            -1.8588      0.574     -3.236      0.001      -2.985      -0.733\n",
       "x5             0.2649      0.079      3.348      0.001       0.110       0.420\n",
       "x6            -0.2998      0.081     -3.682      0.000      -0.459      -0.140\n",
       "x7             0.0797      0.094      0.850      0.395      -0.104       0.263\n",
       "x8            -0.3059      0.102     -2.991      0.003      -0.506      -0.105\n",
       "==============================================================================\n",
       "\"\"\""
      ]
     },
     "execution_count": 2059,
     "metadata": {},
     "output_type": "execute_result"
    }
   ],
   "source": [
    "X_train_sm = sm.add_constant(X_train[col].values)\n",
    "\n",
    "X_train_sm = sm.add_constant(X_train[col].values)\n",
    "logm2 = sm.GLM(y_train,X_train_sm, family = sm.families.Binomial())\n",
    "res = logm2.fit()\n",
    "res.summary()"
   ]
  },
  {
   "cell_type": "code",
   "execution_count": 2060,
   "metadata": {},
   "outputs": [
    {
     "data": {
      "text/plain": [
       "array([0.22697702, 0.25873797, 0.22536775, 0.26090663, 0.25597451,\n",
       "       0.13812475, 0.19470695, 0.0968357 , 0.11156098, 0.21674394])"
      ]
     },
     "execution_count": 2060,
     "metadata": {},
     "output_type": "execute_result"
    }
   ],
   "source": [
    "y_train_pred = res.predict(X_train_sm)\n",
    "y_train_pred[:10]"
   ]
  },
  {
   "cell_type": "code",
   "execution_count": 2061,
   "metadata": {},
   "outputs": [
    {
     "data": {
      "text/plain": [
       "array([0.22697702, 0.25873797, 0.22536775, 0.26090663, 0.25597451,\n",
       "       0.13812475, 0.19470695, 0.0968357 , 0.11156098, 0.21674394])"
      ]
     },
     "execution_count": 2061,
     "metadata": {},
     "output_type": "execute_result"
    }
   ],
   "source": [
    "y_train_pred = y_train_pred.reshape(-1)\n",
    "y_train_pred[:10]"
   ]
  },
  {
   "cell_type": "code",
   "execution_count": 2062,
   "metadata": {},
   "outputs": [
    {
     "data": {
      "text/html": [
       "<div>\n",
       "<style scoped>\n",
       "    .dataframe tbody tr th:only-of-type {\n",
       "        vertical-align: middle;\n",
       "    }\n",
       "\n",
       "    .dataframe tbody tr th {\n",
       "        vertical-align: top;\n",
       "    }\n",
       "\n",
       "    .dataframe thead th {\n",
       "        text-align: right;\n",
       "    }\n",
       "</style>\n",
       "<table border=\"1\" class=\"dataframe\">\n",
       "  <thead>\n",
       "    <tr style=\"text-align: right;\">\n",
       "      <th></th>\n",
       "      <th>0</th>\n",
       "      <th>Prospect_ID</th>\n",
       "    </tr>\n",
       "  </thead>\n",
       "  <tbody>\n",
       "    <tr>\n",
       "      <th>0.226977</th>\n",
       "      <td>0</td>\n",
       "      <td>8099</td>\n",
       "    </tr>\n",
       "    <tr>\n",
       "      <th>0.258738</th>\n",
       "      <td>0</td>\n",
       "      <td>2018</td>\n",
       "    </tr>\n",
       "    <tr>\n",
       "      <th>0.225368</th>\n",
       "      <td>0</td>\n",
       "      <td>7048</td>\n",
       "    </tr>\n",
       "    <tr>\n",
       "      <th>0.260907</th>\n",
       "      <td>0</td>\n",
       "      <td>7816</td>\n",
       "    </tr>\n",
       "    <tr>\n",
       "      <th>0.255975</th>\n",
       "      <td>0</td>\n",
       "      <td>13872</td>\n",
       "    </tr>\n",
       "    <tr>\n",
       "      <th>...</th>\n",
       "      <td>...</td>\n",
       "      <td>...</td>\n",
       "    </tr>\n",
       "    <tr>\n",
       "      <th>0.133825</th>\n",
       "      <td>0</td>\n",
       "      <td>14749</td>\n",
       "    </tr>\n",
       "    <tr>\n",
       "      <th>0.178356</th>\n",
       "      <td>0</td>\n",
       "      <td>3799</td>\n",
       "    </tr>\n",
       "    <tr>\n",
       "      <th>0.251527</th>\n",
       "      <td>1</td>\n",
       "      <td>11471</td>\n",
       "    </tr>\n",
       "    <tr>\n",
       "      <th>0.118478</th>\n",
       "      <td>0</td>\n",
       "      <td>12425</td>\n",
       "    </tr>\n",
       "    <tr>\n",
       "      <th>0.205999</th>\n",
       "      <td>0</td>\n",
       "      <td>3155</td>\n",
       "    </tr>\n",
       "  </tbody>\n",
       "</table>\n",
       "<p>10901 rows × 2 columns</p>\n",
       "</div>"
      ],
      "text/plain": [
       "          0  Prospect_ID\n",
       "0.226977  0         8099\n",
       "0.258738  0         2018\n",
       "0.225368  0         7048\n",
       "0.260907  0         7816\n",
       "0.255975  0        13872\n",
       "...      ..          ...\n",
       "0.133825  0        14749\n",
       "0.178356  0         3799\n",
       "0.251527  1        11471\n",
       "0.118478  0        12425\n",
       "0.205999  0         3155\n",
       "\n",
       "[10901 rows x 2 columns]"
      ]
     },
     "execution_count": 2062,
     "metadata": {},
     "output_type": "execute_result"
    }
   ],
   "source": [
    "Submitted_prob = y_train_pred\n",
    "Submitted = y_train.values\n",
    "y_train_pred_final = pd.DataFrame(Submitted,Submitted_prob)\n",
    "                                  \n",
    "                                   \n",
    "y_train_pred_final['Prospect_ID'] = y_train.index\n",
    "\n",
    "y_train_pred_final"
   ]
  },
  {
   "cell_type": "code",
   "execution_count": 2063,
   "metadata": {},
   "outputs": [],
   "source": [
    "y_train_pred_final.reset_index(inplace=True)"
   ]
  },
  {
   "cell_type": "code",
   "execution_count": 2064,
   "metadata": {},
   "outputs": [],
   "source": [
    "y_train_pred_final.rename(columns = {\"index\":\"Submitted_Prob\", 0:\"Submitted\"}, inplace=True)"
   ]
  },
  {
   "cell_type": "code",
   "execution_count": 2065,
   "metadata": {},
   "outputs": [
    {
     "data": {
      "text/html": [
       "<div>\n",
       "<style scoped>\n",
       "    .dataframe tbody tr th:only-of-type {\n",
       "        vertical-align: middle;\n",
       "    }\n",
       "\n",
       "    .dataframe tbody tr th {\n",
       "        vertical-align: top;\n",
       "    }\n",
       "\n",
       "    .dataframe thead th {\n",
       "        text-align: right;\n",
       "    }\n",
       "</style>\n",
       "<table border=\"1\" class=\"dataframe\">\n",
       "  <thead>\n",
       "    <tr style=\"text-align: right;\">\n",
       "      <th></th>\n",
       "      <th>Submitted_Prob</th>\n",
       "      <th>Submitted</th>\n",
       "      <th>Prospect_ID</th>\n",
       "      <th>0.0</th>\n",
       "      <th>0.1</th>\n",
       "      <th>0.2</th>\n",
       "      <th>0.3</th>\n",
       "      <th>0.4</th>\n",
       "      <th>0.5</th>\n",
       "      <th>0.6</th>\n",
       "      <th>0.7</th>\n",
       "      <th>0.8</th>\n",
       "      <th>0.9</th>\n",
       "    </tr>\n",
       "  </thead>\n",
       "  <tbody>\n",
       "    <tr>\n",
       "      <th>0</th>\n",
       "      <td>0.226977</td>\n",
       "      <td>0</td>\n",
       "      <td>8099</td>\n",
       "      <td>0</td>\n",
       "      <td>0</td>\n",
       "      <td>0</td>\n",
       "      <td>0</td>\n",
       "      <td>0</td>\n",
       "      <td>0</td>\n",
       "      <td>0</td>\n",
       "      <td>0</td>\n",
       "      <td>0</td>\n",
       "      <td>0</td>\n",
       "    </tr>\n",
       "    <tr>\n",
       "      <th>1</th>\n",
       "      <td>0.258738</td>\n",
       "      <td>0</td>\n",
       "      <td>2018</td>\n",
       "      <td>1</td>\n",
       "      <td>1</td>\n",
       "      <td>1</td>\n",
       "      <td>1</td>\n",
       "      <td>1</td>\n",
       "      <td>1</td>\n",
       "      <td>1</td>\n",
       "      <td>1</td>\n",
       "      <td>1</td>\n",
       "      <td>1</td>\n",
       "    </tr>\n",
       "    <tr>\n",
       "      <th>2</th>\n",
       "      <td>0.225368</td>\n",
       "      <td>0</td>\n",
       "      <td>7048</td>\n",
       "      <td>0</td>\n",
       "      <td>0</td>\n",
       "      <td>0</td>\n",
       "      <td>0</td>\n",
       "      <td>0</td>\n",
       "      <td>0</td>\n",
       "      <td>0</td>\n",
       "      <td>0</td>\n",
       "      <td>0</td>\n",
       "      <td>0</td>\n",
       "    </tr>\n",
       "    <tr>\n",
       "      <th>3</th>\n",
       "      <td>0.260907</td>\n",
       "      <td>0</td>\n",
       "      <td>7816</td>\n",
       "      <td>1</td>\n",
       "      <td>1</td>\n",
       "      <td>1</td>\n",
       "      <td>1</td>\n",
       "      <td>1</td>\n",
       "      <td>1</td>\n",
       "      <td>1</td>\n",
       "      <td>1</td>\n",
       "      <td>1</td>\n",
       "      <td>1</td>\n",
       "    </tr>\n",
       "    <tr>\n",
       "      <th>4</th>\n",
       "      <td>0.255975</td>\n",
       "      <td>0</td>\n",
       "      <td>13872</td>\n",
       "      <td>1</td>\n",
       "      <td>1</td>\n",
       "      <td>1</td>\n",
       "      <td>1</td>\n",
       "      <td>1</td>\n",
       "      <td>1</td>\n",
       "      <td>1</td>\n",
       "      <td>1</td>\n",
       "      <td>1</td>\n",
       "      <td>1</td>\n",
       "    </tr>\n",
       "  </tbody>\n",
       "</table>\n",
       "</div>"
      ],
      "text/plain": [
       "   Submitted_Prob  Submitted  Prospect_ID  0.0  0.1  0.2  0.3  0.4  0.5  0.6  \\\n",
       "0        0.226977          0         8099    0    0    0    0    0    0    0   \n",
       "1        0.258738          0         2018    1    1    1    1    1    1    1   \n",
       "2        0.225368          0         7048    0    0    0    0    0    0    0   \n",
       "3        0.260907          0         7816    1    1    1    1    1    1    1   \n",
       "4        0.255975          0        13872    1    1    1    1    1    1    1   \n",
       "\n",
       "   0.7  0.8  0.9  \n",
       "0    0    0    0  \n",
       "1    1    1    1  \n",
       "2    0    0    0  \n",
       "3    1    1    1  \n",
       "4    1    1    1  "
      ]
     },
     "execution_count": 2065,
     "metadata": {},
     "output_type": "execute_result"
    }
   ],
   "source": [
    "numbers = [float(x)/10 for x in range(10)]\n",
    "for i in numbers:\n",
    "    y_train_pred_final[i]= y_train_pred_final.Submitted_Prob.map(lambda x: 1 if x > 0.25 else 0)\n",
    "y_train_pred_final.head()"
   ]
  },
  {
   "cell_type": "code",
   "execution_count": 2066,
   "metadata": {},
   "outputs": [
    {
     "data": {
      "text/html": [
       "<div>\n",
       "<style scoped>\n",
       "    .dataframe tbody tr th:only-of-type {\n",
       "        vertical-align: middle;\n",
       "    }\n",
       "\n",
       "    .dataframe tbody tr th {\n",
       "        vertical-align: top;\n",
       "    }\n",
       "\n",
       "    .dataframe thead th {\n",
       "        text-align: right;\n",
       "    }\n",
       "</style>\n",
       "<table border=\"1\" class=\"dataframe\">\n",
       "  <thead>\n",
       "    <tr style=\"text-align: right;\">\n",
       "      <th></th>\n",
       "      <th>Submitted_Prob</th>\n",
       "      <th>Submitted</th>\n",
       "      <th>Prospect_ID</th>\n",
       "      <th>0.0</th>\n",
       "      <th>0.1</th>\n",
       "      <th>0.2</th>\n",
       "      <th>0.3</th>\n",
       "      <th>0.4</th>\n",
       "      <th>0.5</th>\n",
       "      <th>0.6</th>\n",
       "      <th>0.7</th>\n",
       "      <th>0.8</th>\n",
       "      <th>0.9</th>\n",
       "      <th>predicted</th>\n",
       "    </tr>\n",
       "  </thead>\n",
       "  <tbody>\n",
       "    <tr>\n",
       "      <th>0</th>\n",
       "      <td>0.226977</td>\n",
       "      <td>0</td>\n",
       "      <td>8099</td>\n",
       "      <td>0</td>\n",
       "      <td>0</td>\n",
       "      <td>0</td>\n",
       "      <td>0</td>\n",
       "      <td>0</td>\n",
       "      <td>0</td>\n",
       "      <td>0</td>\n",
       "      <td>0</td>\n",
       "      <td>0</td>\n",
       "      <td>0</td>\n",
       "      <td>0</td>\n",
       "    </tr>\n",
       "    <tr>\n",
       "      <th>1</th>\n",
       "      <td>0.258738</td>\n",
       "      <td>0</td>\n",
       "      <td>2018</td>\n",
       "      <td>1</td>\n",
       "      <td>1</td>\n",
       "      <td>1</td>\n",
       "      <td>1</td>\n",
       "      <td>1</td>\n",
       "      <td>1</td>\n",
       "      <td>1</td>\n",
       "      <td>1</td>\n",
       "      <td>1</td>\n",
       "      <td>1</td>\n",
       "      <td>1</td>\n",
       "    </tr>\n",
       "    <tr>\n",
       "      <th>2</th>\n",
       "      <td>0.225368</td>\n",
       "      <td>0</td>\n",
       "      <td>7048</td>\n",
       "      <td>0</td>\n",
       "      <td>0</td>\n",
       "      <td>0</td>\n",
       "      <td>0</td>\n",
       "      <td>0</td>\n",
       "      <td>0</td>\n",
       "      <td>0</td>\n",
       "      <td>0</td>\n",
       "      <td>0</td>\n",
       "      <td>0</td>\n",
       "      <td>0</td>\n",
       "    </tr>\n",
       "    <tr>\n",
       "      <th>3</th>\n",
       "      <td>0.260907</td>\n",
       "      <td>0</td>\n",
       "      <td>7816</td>\n",
       "      <td>1</td>\n",
       "      <td>1</td>\n",
       "      <td>1</td>\n",
       "      <td>1</td>\n",
       "      <td>1</td>\n",
       "      <td>1</td>\n",
       "      <td>1</td>\n",
       "      <td>1</td>\n",
       "      <td>1</td>\n",
       "      <td>1</td>\n",
       "      <td>1</td>\n",
       "    </tr>\n",
       "    <tr>\n",
       "      <th>4</th>\n",
       "      <td>0.255975</td>\n",
       "      <td>0</td>\n",
       "      <td>13872</td>\n",
       "      <td>1</td>\n",
       "      <td>1</td>\n",
       "      <td>1</td>\n",
       "      <td>1</td>\n",
       "      <td>1</td>\n",
       "      <td>1</td>\n",
       "      <td>1</td>\n",
       "      <td>1</td>\n",
       "      <td>1</td>\n",
       "      <td>1</td>\n",
       "      <td>1</td>\n",
       "    </tr>\n",
       "  </tbody>\n",
       "</table>\n",
       "</div>"
      ],
      "text/plain": [
       "   Submitted_Prob  Submitted  Prospect_ID  0.0  0.1  0.2  0.3  0.4  0.5  0.6  \\\n",
       "0        0.226977          0         8099    0    0    0    0    0    0    0   \n",
       "1        0.258738          0         2018    1    1    1    1    1    1    1   \n",
       "2        0.225368          0         7048    0    0    0    0    0    0    0   \n",
       "3        0.260907          0         7816    1    1    1    1    1    1    1   \n",
       "4        0.255975          0        13872    1    1    1    1    1    1    1   \n",
       "\n",
       "   0.7  0.8  0.9  predicted  \n",
       "0    0    0    0          0  \n",
       "1    1    1    1          1  \n",
       "2    0    0    0          0  \n",
       "3    1    1    1          1  \n",
       "4    1    1    1          1  "
      ]
     },
     "execution_count": 2066,
     "metadata": {},
     "output_type": "execute_result"
    }
   ],
   "source": [
    "y_train_pred_final['predicted'] = y_train_pred_final.Submitted_Prob.apply(lambda x: 1 if x > 0.25 else 0)\n",
    "\n",
    "# Let's see the head\n",
    "y_train_pred_final.head()"
   ]
  },
  {
   "cell_type": "code",
   "execution_count": 2067,
   "metadata": {},
   "outputs": [
    {
     "name": "stdout",
     "output_type": "stream",
     "text": [
      "[[6888 1917]\n",
      " [1354  742]]\n"
     ]
    }
   ],
   "source": [
    "from sklearn import metrics\n",
    "\n",
    "# Confusion matrix \n",
    "confusion = metrics.confusion_matrix(y_train_pred_final.Submitted, y_train_pred_final.predicted )\n",
    "print(confusion)"
   ]
  },
  {
   "cell_type": "code",
   "execution_count": 2068,
   "metadata": {},
   "outputs": [
    {
     "name": "stdout",
     "output_type": "stream",
     "text": [
      "0.6999357857077332\n"
     ]
    }
   ],
   "source": [
    "print(metrics.accuracy_score(y_train_pred_final.Submitted, y_train_pred_final.predicted))"
   ]
  },
  {
   "cell_type": "code",
   "execution_count": 2069,
   "metadata": {},
   "outputs": [],
   "source": [
    "# Check for the VIF values of the feature variables. \n",
    "from statsmodels.stats.outliers_influence import variance_inflation_factor"
   ]
  },
  {
   "cell_type": "code",
   "execution_count": 2070,
   "metadata": {},
   "outputs": [
    {
     "data": {
      "text/html": [
       "<div>\n",
       "<style scoped>\n",
       "    .dataframe tbody tr th:only-of-type {\n",
       "        vertical-align: middle;\n",
       "    }\n",
       "\n",
       "    .dataframe tbody tr th {\n",
       "        vertical-align: top;\n",
       "    }\n",
       "\n",
       "    .dataframe thead th {\n",
       "        text-align: right;\n",
       "    }\n",
       "</style>\n",
       "<table border=\"1\" class=\"dataframe\">\n",
       "  <thead>\n",
       "    <tr style=\"text-align: right;\">\n",
       "      <th></th>\n",
       "      <th>Features</th>\n",
       "      <th>VIF</th>\n",
       "    </tr>\n",
       "  </thead>\n",
       "  <tbody>\n",
       "    <tr>\n",
       "      <th>6</th>\n",
       "      <td>Web_Ad_Outlet_Source_code</td>\n",
       "      <td>5.43</td>\n",
       "    </tr>\n",
       "    <tr>\n",
       "      <th>4</th>\n",
       "      <td>LS_Self_Graded_Credit</td>\n",
       "      <td>3.30</td>\n",
       "    </tr>\n",
       "    <tr>\n",
       "      <th>7</th>\n",
       "      <td>LS_State_code</td>\n",
       "      <td>3.16</td>\n",
       "    </tr>\n",
       "    <tr>\n",
       "      <th>5</th>\n",
       "      <td>Web_Ad_Outlet_code</td>\n",
       "      <td>2.21</td>\n",
       "    </tr>\n",
       "    <tr>\n",
       "      <th>0</th>\n",
       "      <td>Check_LLC_in_Name</td>\n",
       "      <td>2.12</td>\n",
       "    </tr>\n",
       "    <tr>\n",
       "      <th>2</th>\n",
       "      <td>LS_Amount_to_Borrow</td>\n",
       "      <td>1.85</td>\n",
       "    </tr>\n",
       "    <tr>\n",
       "      <th>3</th>\n",
       "      <td>LS_Months_in_Business</td>\n",
       "      <td>1.61</td>\n",
       "    </tr>\n",
       "    <tr>\n",
       "      <th>1</th>\n",
       "      <td>Email_Domain</td>\n",
       "      <td>1.55</td>\n",
       "    </tr>\n",
       "  </tbody>\n",
       "</table>\n",
       "</div>"
      ],
      "text/plain": [
       "                    Features   VIF\n",
       "6  Web_Ad_Outlet_Source_code  5.43\n",
       "4      LS_Self_Graded_Credit  3.30\n",
       "7              LS_State_code  3.16\n",
       "5         Web_Ad_Outlet_code  2.21\n",
       "0          Check_LLC_in_Name  2.12\n",
       "2        LS_Amount_to_Borrow  1.85\n",
       "3      LS_Months_in_Business  1.61\n",
       "1               Email_Domain  1.55"
      ]
     },
     "execution_count": 2070,
     "metadata": {},
     "output_type": "execute_result"
    }
   ],
   "source": [
    "# Create a dataframe that will contain the names of all the feature variables and their respective VIFs\n",
    "vif = pd.DataFrame()\n",
    "vif['Features'] = X_train[col].columns\n",
    "vif['VIF'] = [variance_inflation_factor(X_train[col].values, i) for i in range(X_train[col].shape[1])]\n",
    "vif['VIF'] = round(vif['VIF'], 2)\n",
    "vif = vif.sort_values(by = \"VIF\", ascending = False)\n",
    "vif"
   ]
  },
  {
   "cell_type": "code",
   "execution_count": 2071,
   "metadata": {},
   "outputs": [],
   "source": [
    "TP = confusion[1,1] # true positive \n",
    "TN = confusion[0,0] # true negatives\n",
    "FP = confusion[0,1] # false positives\n",
    "FN = confusion[1,0] # false negatives"
   ]
  },
  {
   "cell_type": "code",
   "execution_count": 2072,
   "metadata": {},
   "outputs": [
    {
     "data": {
      "text/plain": [
       "0.35400763358778625"
      ]
     },
     "execution_count": 2072,
     "metadata": {},
     "output_type": "execute_result"
    }
   ],
   "source": [
    "# Let's see the sensitivity of our logistic regression model\n",
    "TP / float(TP+FN)"
   ]
  },
  {
   "cell_type": "code",
   "execution_count": 2073,
   "metadata": {},
   "outputs": [
    {
     "data": {
      "text/plain": [
       "0.782282793867121"
      ]
     },
     "execution_count": 2073,
     "metadata": {},
     "output_type": "execute_result"
    }
   ],
   "source": [
    "TN / float(TN+FP)\n",
    "# calculate specificity"
   ]
  },
  {
   "cell_type": "code",
   "execution_count": 2074,
   "metadata": {},
   "outputs": [
    {
     "name": "stdout",
     "output_type": "stream",
     "text": [
      "0.21771720613287904\n"
     ]
    }
   ],
   "source": [
    "# Calculate false postive rate - predicting churn when customer does not have churned\n",
    "print(FP/ float(TN+FP))"
   ]
  },
  {
   "cell_type": "code",
   "execution_count": 2075,
   "metadata": {},
   "outputs": [
    {
     "name": "stdout",
     "output_type": "stream",
     "text": [
      "0.279052275291463\n"
     ]
    }
   ],
   "source": [
    "# positive predictive value \n",
    "print (TP / float(TP+FP))"
   ]
  },
  {
   "cell_type": "code",
   "execution_count": 2076,
   "metadata": {},
   "outputs": [
    {
     "name": "stdout",
     "output_type": "stream",
     "text": [
      "0.8357194855617569\n"
     ]
    }
   ],
   "source": [
    "# Negative predictive value\n",
    "print (TN / float(TN+ FN))"
   ]
  },
  {
   "cell_type": "code",
   "execution_count": 2077,
   "metadata": {},
   "outputs": [],
   "source": [
    "from sklearn.metrics import roc_curve\n",
    "def draw_roc( actual, probs ):\n",
    "    fpr, tpr, thresholds = metrics.roc_curve( actual, probs,\n",
    "                                              drop_intermediate = False )\n",
    "    auc_score = metrics.roc_auc_score( actual, probs )\n",
    "    plt.figure(figsize=(5, 5))\n",
    "    plt.plot( fpr, tpr, label='ROC curve (area = %0.2f)' % auc_score )\n",
    "    plt.plot([0, 1], [0, 1], 'k--')\n",
    "    plt.xlim([0.0, 1.0])\n",
    "    plt.ylim([0.0, 1.05])\n",
    "    plt.xlabel('False Positive Rate or [1 - True Negative Rate]')\n",
    "    plt.ylabel('True Positive Rate')\n",
    "    plt.title('Receiver operating characteristic example')\n",
    "    plt.legend(loc=\"lower right\")\n",
    "    plt.show()\n",
    "\n",
    "    return None"
   ]
  },
  {
   "cell_type": "code",
   "execution_count": 2078,
   "metadata": {},
   "outputs": [],
   "source": [
    "fpr, tpr, thresholds = metrics.roc_curve( y_train_pred_final.Submitted, y_train_pred_final.Submitted_Prob, drop_intermediate = False )"
   ]
  },
  {
   "cell_type": "code",
   "execution_count": 2079,
   "metadata": {},
   "outputs": [
    {
     "data": {
      "image/png": "[encoded data removed]",
      "text/plain": [
       "<Figure size 360x360 with 1 Axes>"
      ]
     },
     "metadata": {
      "needs_background": "light"
     },
     "output_type": "display_data"
    }
   ],
   "source": [
    "draw_roc(y_train_pred_final.Submitted, y_train_pred_final.Submitted_Prob)"
   ]
  },
  {
   "cell_type": "code",
   "execution_count": 2080,
   "metadata": {},
   "outputs": [
    {
     "name": "stdout",
     "output_type": "stream",
     "text": [
      "     prob  accuracy     sensi     speci\n",
      "0.0   0.0  0.699936  0.354008  0.782283\n",
      "0.1   0.1  0.699936  0.354008  0.782283\n",
      "0.2   0.2  0.699936  0.354008  0.782283\n",
      "0.3   0.3  0.699936  0.354008  0.782283\n",
      "0.4   0.4  0.699936  0.354008  0.782283\n",
      "0.5   0.5  0.699936  0.354008  0.782283\n",
      "0.6   0.6  0.699936  0.354008  0.782283\n",
      "0.7   0.7  0.699936  0.354008  0.782283\n",
      "0.8   0.8  0.699936  0.354008  0.782283\n",
      "0.9   0.9  0.699936  0.354008  0.782283\n"
     ]
    }
   ],
   "source": [
    "# Now let's calculate accuracy sensitivity and specificity for various probability cutoffs.\n",
    "cutoff_df = pd.DataFrame( columns = ['prob','accuracy','sensi','speci'])\n",
    "from sklearn.metrics import confusion_matrix\n",
    "\n",
    "# TP = confusion[1,1] # true positive \n",
    "# TN = confusion[0,0] # true negatives\n",
    "# FP = confusion[0,1] # false positives\n",
    "# FN = confusion[1,0] # false negatives\n",
    "\n",
    "num = [0.0,0.1,0.2,0.3,0.4,0.5,0.6,0.7,0.8,0.9]\n",
    "for i in num:\n",
    "    cm1 = metrics.confusion_matrix(y_train_pred_final.Submitted, y_train_pred_final[i] )\n",
    "    total1=sum(sum(cm1))\n",
    "    accuracy = (cm1[0,0]+cm1[1,1])/total1\n",
    "    speci = cm1[0,0]/(cm1[0,0]+cm1[0,1])\n",
    "    sensi = cm1[1,1]/(cm1[1,0]+cm1[1,1])\n",
    "    cutoff_df.loc[i] =[ i ,accuracy,sensi,speci]\n",
    "print(cutoff_df)"
   ]
  },
  {
   "cell_type": "code",
   "execution_count": 2081,
   "metadata": {},
   "outputs": [
    {
     "data": {
      "text/html": [
       "<div>\n",
       "<style scoped>\n",
       "    .dataframe tbody tr th:only-of-type {\n",
       "        vertical-align: middle;\n",
       "    }\n",
       "\n",
       "    .dataframe tbody tr th {\n",
       "        vertical-align: top;\n",
       "    }\n",
       "\n",
       "    .dataframe thead th {\n",
       "        text-align: right;\n",
       "    }\n",
       "</style>\n",
       "<table border=\"1\" class=\"dataframe\">\n",
       "  <thead>\n",
       "    <tr style=\"text-align: right;\">\n",
       "      <th></th>\n",
       "      <th>Submitted_Prob</th>\n",
       "      <th>Submitted</th>\n",
       "      <th>Prospect_ID</th>\n",
       "      <th>0.0</th>\n",
       "      <th>0.1</th>\n",
       "      <th>0.2</th>\n",
       "      <th>0.3</th>\n",
       "      <th>0.4</th>\n",
       "      <th>0.5</th>\n",
       "      <th>0.6</th>\n",
       "      <th>0.7</th>\n",
       "      <th>0.8</th>\n",
       "      <th>0.9</th>\n",
       "      <th>predicted</th>\n",
       "    </tr>\n",
       "  </thead>\n",
       "  <tbody>\n",
       "    <tr>\n",
       "      <th>0</th>\n",
       "      <td>0.226977</td>\n",
       "      <td>0</td>\n",
       "      <td>8099</td>\n",
       "      <td>1</td>\n",
       "      <td>1</td>\n",
       "      <td>1</td>\n",
       "      <td>0</td>\n",
       "      <td>0</td>\n",
       "      <td>0</td>\n",
       "      <td>0</td>\n",
       "      <td>0</td>\n",
       "      <td>0</td>\n",
       "      <td>0</td>\n",
       "      <td>0</td>\n",
       "    </tr>\n",
       "    <tr>\n",
       "      <th>1</th>\n",
       "      <td>0.258738</td>\n",
       "      <td>0</td>\n",
       "      <td>2018</td>\n",
       "      <td>1</td>\n",
       "      <td>1</td>\n",
       "      <td>1</td>\n",
       "      <td>0</td>\n",
       "      <td>0</td>\n",
       "      <td>0</td>\n",
       "      <td>0</td>\n",
       "      <td>0</td>\n",
       "      <td>0</td>\n",
       "      <td>0</td>\n",
       "      <td>1</td>\n",
       "    </tr>\n",
       "    <tr>\n",
       "      <th>2</th>\n",
       "      <td>0.225368</td>\n",
       "      <td>0</td>\n",
       "      <td>7048</td>\n",
       "      <td>1</td>\n",
       "      <td>1</td>\n",
       "      <td>1</td>\n",
       "      <td>0</td>\n",
       "      <td>0</td>\n",
       "      <td>0</td>\n",
       "      <td>0</td>\n",
       "      <td>0</td>\n",
       "      <td>0</td>\n",
       "      <td>0</td>\n",
       "      <td>0</td>\n",
       "    </tr>\n",
       "    <tr>\n",
       "      <th>3</th>\n",
       "      <td>0.260907</td>\n",
       "      <td>0</td>\n",
       "      <td>7816</td>\n",
       "      <td>1</td>\n",
       "      <td>1</td>\n",
       "      <td>1</td>\n",
       "      <td>0</td>\n",
       "      <td>0</td>\n",
       "      <td>0</td>\n",
       "      <td>0</td>\n",
       "      <td>0</td>\n",
       "      <td>0</td>\n",
       "      <td>0</td>\n",
       "      <td>1</td>\n",
       "    </tr>\n",
       "    <tr>\n",
       "      <th>4</th>\n",
       "      <td>0.255975</td>\n",
       "      <td>0</td>\n",
       "      <td>13872</td>\n",
       "      <td>1</td>\n",
       "      <td>1</td>\n",
       "      <td>1</td>\n",
       "      <td>0</td>\n",
       "      <td>0</td>\n",
       "      <td>0</td>\n",
       "      <td>0</td>\n",
       "      <td>0</td>\n",
       "      <td>0</td>\n",
       "      <td>0</td>\n",
       "      <td>1</td>\n",
       "    </tr>\n",
       "  </tbody>\n",
       "</table>\n",
       "</div>"
      ],
      "text/plain": [
       "   Submitted_Prob  Submitted  Prospect_ID  0.0  0.1  0.2  0.3  0.4  0.5  0.6  \\\n",
       "0        0.226977          0         8099    1    1    1    0    0    0    0   \n",
       "1        0.258738          0         2018    1    1    1    0    0    0    0   \n",
       "2        0.225368          0         7048    1    1    1    0    0    0    0   \n",
       "3        0.260907          0         7816    1    1    1    0    0    0    0   \n",
       "4        0.255975          0        13872    1    1    1    0    0    0    0   \n",
       "\n",
       "   0.7  0.8  0.9  predicted  \n",
       "0    0    0    0          0  \n",
       "1    0    0    0          1  \n",
       "2    0    0    0          0  \n",
       "3    0    0    0          1  \n",
       "4    0    0    0          1  "
      ]
     },
     "execution_count": 2081,
     "metadata": {},
     "output_type": "execute_result"
    }
   ],
   "source": [
    "# Let's create columns with different probability cutoffs \n",
    "numbers = [float(x)/10 for x in range(10)]\n",
    "for i in numbers:\n",
    "    y_train_pred_final[i]= y_train_pred_final.Submitted_Prob.map(lambda x: 1 if x > i else 0)\n",
    "y_train_pred_final.head()"
   ]
  },
  {
   "cell_type": "code",
   "execution_count": 2082,
   "metadata": {},
   "outputs": [
    {
     "data": {
      "text/html": [
       "<div>\n",
       "<style scoped>\n",
       "    .dataframe tbody tr th:only-of-type {\n",
       "        vertical-align: middle;\n",
       "    }\n",
       "\n",
       "    .dataframe tbody tr th {\n",
       "        vertical-align: top;\n",
       "    }\n",
       "\n",
       "    .dataframe thead th {\n",
       "        text-align: right;\n",
       "    }\n",
       "</style>\n",
       "<table border=\"1\" class=\"dataframe\">\n",
       "  <thead>\n",
       "    <tr style=\"text-align: right;\">\n",
       "      <th></th>\n",
       "      <th>Submitted_Prob</th>\n",
       "      <th>Submitted</th>\n",
       "      <th>Prospect_ID</th>\n",
       "      <th>0.0</th>\n",
       "      <th>0.1</th>\n",
       "      <th>0.2</th>\n",
       "      <th>0.3</th>\n",
       "      <th>0.4</th>\n",
       "      <th>0.5</th>\n",
       "      <th>0.6</th>\n",
       "      <th>0.7</th>\n",
       "      <th>0.8</th>\n",
       "      <th>0.9</th>\n",
       "      <th>predicted</th>\n",
       "      <th>Lead_Score</th>\n",
       "    </tr>\n",
       "  </thead>\n",
       "  <tbody>\n",
       "    <tr>\n",
       "      <th>0</th>\n",
       "      <td>0.226977</td>\n",
       "      <td>0</td>\n",
       "      <td>8099</td>\n",
       "      <td>1</td>\n",
       "      <td>1</td>\n",
       "      <td>1</td>\n",
       "      <td>0</td>\n",
       "      <td>0</td>\n",
       "      <td>0</td>\n",
       "      <td>0</td>\n",
       "      <td>0</td>\n",
       "      <td>0</td>\n",
       "      <td>0</td>\n",
       "      <td>0</td>\n",
       "      <td>23</td>\n",
       "    </tr>\n",
       "    <tr>\n",
       "      <th>1</th>\n",
       "      <td>0.258738</td>\n",
       "      <td>0</td>\n",
       "      <td>2018</td>\n",
       "      <td>1</td>\n",
       "      <td>1</td>\n",
       "      <td>1</td>\n",
       "      <td>0</td>\n",
       "      <td>0</td>\n",
       "      <td>0</td>\n",
       "      <td>0</td>\n",
       "      <td>0</td>\n",
       "      <td>0</td>\n",
       "      <td>0</td>\n",
       "      <td>1</td>\n",
       "      <td>26</td>\n",
       "    </tr>\n",
       "    <tr>\n",
       "      <th>2</th>\n",
       "      <td>0.225368</td>\n",
       "      <td>0</td>\n",
       "      <td>7048</td>\n",
       "      <td>1</td>\n",
       "      <td>1</td>\n",
       "      <td>1</td>\n",
       "      <td>0</td>\n",
       "      <td>0</td>\n",
       "      <td>0</td>\n",
       "      <td>0</td>\n",
       "      <td>0</td>\n",
       "      <td>0</td>\n",
       "      <td>0</td>\n",
       "      <td>0</td>\n",
       "      <td>23</td>\n",
       "    </tr>\n",
       "    <tr>\n",
       "      <th>3</th>\n",
       "      <td>0.260907</td>\n",
       "      <td>0</td>\n",
       "      <td>7816</td>\n",
       "      <td>1</td>\n",
       "      <td>1</td>\n",
       "      <td>1</td>\n",
       "      <td>0</td>\n",
       "      <td>0</td>\n",
       "      <td>0</td>\n",
       "      <td>0</td>\n",
       "      <td>0</td>\n",
       "      <td>0</td>\n",
       "      <td>0</td>\n",
       "      <td>1</td>\n",
       "      <td>26</td>\n",
       "    </tr>\n",
       "    <tr>\n",
       "      <th>4</th>\n",
       "      <td>0.255975</td>\n",
       "      <td>0</td>\n",
       "      <td>13872</td>\n",
       "      <td>1</td>\n",
       "      <td>1</td>\n",
       "      <td>1</td>\n",
       "      <td>0</td>\n",
       "      <td>0</td>\n",
       "      <td>0</td>\n",
       "      <td>0</td>\n",
       "      <td>0</td>\n",
       "      <td>0</td>\n",
       "      <td>0</td>\n",
       "      <td>1</td>\n",
       "      <td>26</td>\n",
       "    </tr>\n",
       "  </tbody>\n",
       "</table>\n",
       "</div>"
      ],
      "text/plain": [
       "   Submitted_Prob  Submitted  Prospect_ID  0.0  0.1  0.2  0.3  0.4  0.5  0.6  \\\n",
       "0        0.226977          0         8099    1    1    1    0    0    0    0   \n",
       "1        0.258738          0         2018    1    1    1    0    0    0    0   \n",
       "2        0.225368          0         7048    1    1    1    0    0    0    0   \n",
       "3        0.260907          0         7816    1    1    1    0    0    0    0   \n",
       "4        0.255975          0        13872    1    1    1    0    0    0    0   \n",
       "\n",
       "   0.7  0.8  0.9  predicted  Lead_Score  \n",
       "0    0    0    0          0          23  \n",
       "1    0    0    0          1          26  \n",
       "2    0    0    0          0          23  \n",
       "3    0    0    0          1          26  \n",
       "4    0    0    0          1          26  "
      ]
     },
     "execution_count": 2082,
     "metadata": {},
     "output_type": "execute_result"
    }
   ],
   "source": [
    "y_train_pred_final['Lead_Score'] = y_train_pred_final.Submitted_Prob.map( lambda x: round(x*100))\n",
    "\n",
    "y_train_pred_final.head()"
   ]
  },
  {
   "cell_type": "code",
   "execution_count": 2083,
   "metadata": {},
   "outputs": [
    {
     "data": {
      "text/plain": [
       "array([[6888, 1917],\n",
       "       [1354,  742]], dtype=int64)"
      ]
     },
     "execution_count": 2083,
     "metadata": {},
     "output_type": "execute_result"
    }
   ],
   "source": [
    "#Looking at the confusion matrix again\n",
    "\n",
    "confusion = metrics.confusion_matrix(y_train_pred_final.Submitted, y_train_pred_final.predicted )\n",
    "confusion"
   ]
  },
  {
   "cell_type": "code",
   "execution_count": 2084,
   "metadata": {},
   "outputs": [
    {
     "data": {
      "text/plain": [
       "0.279052275291463"
      ]
     },
     "execution_count": 2084,
     "metadata": {},
     "output_type": "execute_result"
    }
   ],
   "source": [
    "##### Precision\n",
    "TP / TP + FP\n",
    "\n",
    "confusion[1,1]/(confusion[0,1]+confusion[1,1])"
   ]
  },
  {
   "cell_type": "code",
   "execution_count": 2085,
   "metadata": {},
   "outputs": [
    {
     "data": {
      "text/plain": [
       "0.35400763358778625"
      ]
     },
     "execution_count": 2085,
     "metadata": {},
     "output_type": "execute_result"
    }
   ],
   "source": [
    "##### Recall\n",
    "TP / TP + FN\n",
    "\n",
    "confusion[1,1]/(confusion[1,0]+confusion[1,1])"
   ]
  },
  {
   "cell_type": "code",
   "execution_count": 2086,
   "metadata": {},
   "outputs": [],
   "source": [
    "from sklearn.metrics import precision_score, recall_score"
   ]
  },
  {
   "cell_type": "code",
   "execution_count": 2087,
   "metadata": {},
   "outputs": [
    {
     "data": {
      "text/plain": [
       "0.279052275291463"
      ]
     },
     "execution_count": 2087,
     "metadata": {},
     "output_type": "execute_result"
    }
   ],
   "source": [
    "precision_score(y_train_pred_final.Submitted , y_train_pred_final.predicted)"
   ]
  },
  {
   "cell_type": "code",
   "execution_count": 2088,
   "metadata": {},
   "outputs": [
    {
     "data": {
      "text/plain": [
       "0.35400763358778625"
      ]
     },
     "execution_count": 2088,
     "metadata": {},
     "output_type": "execute_result"
    }
   ],
   "source": [
    "recall_score(y_train_pred_final.Submitted, y_train_pred_final.predicted)"
   ]
  },
  {
   "cell_type": "code",
   "execution_count": 2089,
   "metadata": {},
   "outputs": [],
   "source": [
    "from sklearn.metrics import precision_recall_curve"
   ]
  },
  {
   "cell_type": "code",
   "execution_count": 2090,
   "metadata": {},
   "outputs": [
    {
     "data": {
      "text/plain": [
       "(0        0\n",
       " 1        0\n",
       " 2        0\n",
       " 3        0\n",
       " 4        0\n",
       "         ..\n",
       " 10896    0\n",
       " 10897    0\n",
       " 10898    1\n",
       " 10899    0\n",
       " 10900    0\n",
       " Name: Submitted, Length: 10901, dtype: int64,\n",
       " 0        0\n",
       " 1        1\n",
       " 2        0\n",
       " 3        1\n",
       " 4        1\n",
       "         ..\n",
       " 10896    0\n",
       " 10897    0\n",
       " 10898    1\n",
       " 10899    0\n",
       " 10900    0\n",
       " Name: predicted, Length: 10901, dtype: int64)"
      ]
     },
     "execution_count": 2090,
     "metadata": {},
     "output_type": "execute_result"
    }
   ],
   "source": [
    "y_train_pred_final.Submitted, y_train_pred_final.predicted"
   ]
  },
  {
   "cell_type": "code",
   "execution_count": 2091,
   "metadata": {},
   "outputs": [],
   "source": [
    "p, r, thresholds = precision_recall_curve(y_train_pred_final.Submitted, y_train_pred_final.Submitted_Prob)"
   ]
  },
  {
   "cell_type": "code",
   "execution_count": 2092,
   "metadata": {},
   "outputs": [
    {
     "data": {
      "image/png": "[encoded data removed]",
      "text/plain": [
       "<Figure size 432x288 with 1 Axes>"
      ]
     },
     "metadata": {
      "needs_background": "light"
     },
     "output_type": "display_data"
    }
   ],
   "source": [
    "plt.plot(thresholds, p[:-1], \"g-\")\n",
    "plt.plot(thresholds, r[:-1], \"r-\")\n",
    "plt.show()"
   ]
  },
  {
   "cell_type": "code",
   "execution_count": 2093,
   "metadata": {},
   "outputs": [
    {
     "data": {
      "image/png": "[encoded data removed]",
      "text/plain": [
       "<Figure size 432x288 with 1 Axes>"
      ]
     },
     "metadata": {
      "needs_background": "light"
     },
     "output_type": "display_data"
    }
   ],
   "source": [
    "# Let's plot accuracy sensitivity and specificity for various probabilities.\n",
    "cutoff_df.plot.line(x='prob', y=['accuracy','sensi','speci'])\n",
    "plt.show()"
   ]
  },
  {
   "cell_type": "code",
   "execution_count": 2094,
   "metadata": {},
   "outputs": [],
   "source": [
    "col = X_test.columns[rfe.support_]"
   ]
  },
  {
   "cell_type": "code",
   "execution_count": 2095,
   "metadata": {},
   "outputs": [],
   "source": [
    "#Making predictions on the test set\n",
    "\n",
    "X_test_sm = sm.add_constant(X_test[col].values)"
   ]
  },
  {
   "cell_type": "code",
   "execution_count": 2096,
   "metadata": {},
   "outputs": [],
   "source": [
    "y_test_pred = res.predict(X_test_sm)"
   ]
  },
  {
   "cell_type": "code",
   "execution_count": 2097,
   "metadata": {},
   "outputs": [
    {
     "data": {
      "text/plain": [
       "array([0.1052336 , 0.22719394, 0.23323625, 0.1154309 , 0.23983499,\n",
       "       0.32728168, 0.19115908, 0.24796654, 0.11357576, 0.2707403 ])"
      ]
     },
     "execution_count": 2097,
     "metadata": {},
     "output_type": "execute_result"
    }
   ],
   "source": [
    "y_test_pred[:10]"
   ]
  },
  {
   "cell_type": "code",
   "execution_count": 2098,
   "metadata": {},
   "outputs": [],
   "source": [
    "# Converting y_pred to a dataframe which is an array\n",
    "y_pred_1 = pd.DataFrame(y_test_pred)"
   ]
  },
  {
   "cell_type": "code",
   "execution_count": 2099,
   "metadata": {},
   "outputs": [
    {
     "data": {
      "text/html": [
       "<div>\n",
       "<style scoped>\n",
       "    .dataframe tbody tr th:only-of-type {\n",
       "        vertical-align: middle;\n",
       "    }\n",
       "\n",
       "    .dataframe tbody tr th {\n",
       "        vertical-align: top;\n",
       "    }\n",
       "\n",
       "    .dataframe thead th {\n",
       "        text-align: right;\n",
       "    }\n",
       "</style>\n",
       "<table border=\"1\" class=\"dataframe\">\n",
       "  <thead>\n",
       "    <tr style=\"text-align: right;\">\n",
       "      <th></th>\n",
       "      <th>0</th>\n",
       "    </tr>\n",
       "  </thead>\n",
       "  <tbody>\n",
       "    <tr>\n",
       "      <th>0</th>\n",
       "      <td>0.105234</td>\n",
       "    </tr>\n",
       "    <tr>\n",
       "      <th>1</th>\n",
       "      <td>0.227194</td>\n",
       "    </tr>\n",
       "    <tr>\n",
       "      <th>2</th>\n",
       "      <td>0.233236</td>\n",
       "    </tr>\n",
       "    <tr>\n",
       "      <th>3</th>\n",
       "      <td>0.115431</td>\n",
       "    </tr>\n",
       "    <tr>\n",
       "      <th>4</th>\n",
       "      <td>0.239835</td>\n",
       "    </tr>\n",
       "  </tbody>\n",
       "</table>\n",
       "</div>"
      ],
      "text/plain": [
       "          0\n",
       "0  0.105234\n",
       "1  0.227194\n",
       "2  0.233236\n",
       "3  0.115431\n",
       "4  0.239835"
      ]
     },
     "execution_count": 2099,
     "metadata": {},
     "output_type": "execute_result"
    }
   ],
   "source": [
    "# Let's see the head\n",
    "y_pred_1.head()"
   ]
  },
  {
   "cell_type": "code",
   "execution_count": 2100,
   "metadata": {},
   "outputs": [],
   "source": [
    "# Converting y_test to dataframe\n",
    "y_test_df = pd.DataFrame(y_test)"
   ]
  },
  {
   "cell_type": "code",
   "execution_count": 2101,
   "metadata": {},
   "outputs": [],
   "source": [
    "# Putting CustID to index\n",
    "y_test_df['Prospect ID'] = y_test_df.index"
   ]
  },
  {
   "cell_type": "code",
   "execution_count": 2102,
   "metadata": {},
   "outputs": [],
   "source": [
    "# Removing index for both dataframes to append them side by side \n",
    "y_pred_1.reset_index(drop=True, inplace=True)\n",
    "y_test_df.reset_index(drop=True, inplace=True)"
   ]
  },
  {
   "cell_type": "code",
   "execution_count": 2103,
   "metadata": {},
   "outputs": [],
   "source": [
    "# Appending y_test_df and y_pred_1\n",
    "y_pred_final = pd.concat([y_test_df, y_pred_1],axis=1)"
   ]
  },
  {
   "cell_type": "code",
   "execution_count": 2104,
   "metadata": {},
   "outputs": [
    {
     "data": {
      "text/html": [
       "<div>\n",
       "<style scoped>\n",
       "    .dataframe tbody tr th:only-of-type {\n",
       "        vertical-align: middle;\n",
       "    }\n",
       "\n",
       "    .dataframe tbody tr th {\n",
       "        vertical-align: top;\n",
       "    }\n",
       "\n",
       "    .dataframe thead th {\n",
       "        text-align: right;\n",
       "    }\n",
       "</style>\n",
       "<table border=\"1\" class=\"dataframe\">\n",
       "  <thead>\n",
       "    <tr style=\"text-align: right;\">\n",
       "      <th></th>\n",
       "      <th>Is_Submitted</th>\n",
       "      <th>Prospect ID</th>\n",
       "      <th>0</th>\n",
       "    </tr>\n",
       "  </thead>\n",
       "  <tbody>\n",
       "    <tr>\n",
       "      <th>3209</th>\n",
       "      <td>0</td>\n",
       "      <td>15361</td>\n",
       "      <td>0.140120</td>\n",
       "    </tr>\n",
       "    <tr>\n",
       "      <th>2891</th>\n",
       "      <td>1</td>\n",
       "      <td>14864</td>\n",
       "      <td>0.163442</td>\n",
       "    </tr>\n",
       "    <tr>\n",
       "      <th>4542</th>\n",
       "      <td>1</td>\n",
       "      <td>14384</td>\n",
       "      <td>0.284635</td>\n",
       "    </tr>\n",
       "    <tr>\n",
       "      <th>3274</th>\n",
       "      <td>0</td>\n",
       "      <td>11451</td>\n",
       "      <td>0.116477</td>\n",
       "    </tr>\n",
       "    <tr>\n",
       "      <th>2010</th>\n",
       "      <td>0</td>\n",
       "      <td>15364</td>\n",
       "      <td>0.115183</td>\n",
       "    </tr>\n",
       "    <tr>\n",
       "      <th>3259</th>\n",
       "      <td>1</td>\n",
       "      <td>284</td>\n",
       "      <td>0.243894</td>\n",
       "    </tr>\n",
       "    <tr>\n",
       "      <th>4326</th>\n",
       "      <td>1</td>\n",
       "      <td>4309</td>\n",
       "      <td>0.236846</td>\n",
       "    </tr>\n",
       "    <tr>\n",
       "      <th>1104</th>\n",
       "      <td>0</td>\n",
       "      <td>14934</td>\n",
       "      <td>0.114309</td>\n",
       "    </tr>\n",
       "    <tr>\n",
       "      <th>3614</th>\n",
       "      <td>0</td>\n",
       "      <td>16392</td>\n",
       "      <td>0.257912</td>\n",
       "    </tr>\n",
       "    <tr>\n",
       "      <th>1676</th>\n",
       "      <td>0</td>\n",
       "      <td>9737</td>\n",
       "      <td>0.154711</td>\n",
       "    </tr>\n",
       "  </tbody>\n",
       "</table>\n",
       "</div>"
      ],
      "text/plain": [
       "      Is_Submitted  Prospect ID         0\n",
       "3209             0        15361  0.140120\n",
       "2891             1        14864  0.163442\n",
       "4542             1        14384  0.284635\n",
       "3274             0        11451  0.116477\n",
       "2010             0        15364  0.115183\n",
       "3259             1          284  0.243894\n",
       "4326             1         4309  0.236846\n",
       "1104             0        14934  0.114309\n",
       "3614             0        16392  0.257912\n",
       "1676             0         9737  0.154711"
      ]
     },
     "execution_count": 2104,
     "metadata": {},
     "output_type": "execute_result"
    }
   ],
   "source": [
    "y_pred_final.sample(10)"
   ]
  },
  {
   "cell_type": "code",
   "execution_count": 2105,
   "metadata": {},
   "outputs": [],
   "source": [
    "#y_pred_final.reset_index(inplace=True)"
   ]
  },
  {
   "cell_type": "code",
   "execution_count": 2106,
   "metadata": {},
   "outputs": [],
   "source": [
    "# Renaming the column \n",
    "y_pred_final= y_pred_final.rename(columns = { 0:\"Submitted_prob\"})"
   ]
  },
  {
   "cell_type": "code",
   "execution_count": 2107,
   "metadata": {},
   "outputs": [
    {
     "data": {
      "text/html": [
       "<div>\n",
       "<style scoped>\n",
       "    .dataframe tbody tr th:only-of-type {\n",
       "        vertical-align: middle;\n",
       "    }\n",
       "\n",
       "    .dataframe tbody tr th {\n",
       "        vertical-align: top;\n",
       "    }\n",
       "\n",
       "    .dataframe thead th {\n",
       "        text-align: right;\n",
       "    }\n",
       "</style>\n",
       "<table border=\"1\" class=\"dataframe\">\n",
       "  <thead>\n",
       "    <tr style=\"text-align: right;\">\n",
       "      <th></th>\n",
       "      <th>Is_Submitted</th>\n",
       "      <th>Prospect ID</th>\n",
       "      <th>Submitted_prob</th>\n",
       "    </tr>\n",
       "  </thead>\n",
       "  <tbody>\n",
       "    <tr>\n",
       "      <th>1734</th>\n",
       "      <td>1</td>\n",
       "      <td>203</td>\n",
       "      <td>0.332256</td>\n",
       "    </tr>\n",
       "    <tr>\n",
       "      <th>1829</th>\n",
       "      <td>0</td>\n",
       "      <td>398</td>\n",
       "      <td>0.119159</td>\n",
       "    </tr>\n",
       "    <tr>\n",
       "      <th>409</th>\n",
       "      <td>0</td>\n",
       "      <td>10409</td>\n",
       "      <td>0.226077</td>\n",
       "    </tr>\n",
       "    <tr>\n",
       "      <th>3043</th>\n",
       "      <td>0</td>\n",
       "      <td>12292</td>\n",
       "      <td>0.272265</td>\n",
       "    </tr>\n",
       "    <tr>\n",
       "      <th>2452</th>\n",
       "      <td>0</td>\n",
       "      <td>14456</td>\n",
       "      <td>0.204884</td>\n",
       "    </tr>\n",
       "    <tr>\n",
       "      <th>828</th>\n",
       "      <td>0</td>\n",
       "      <td>15199</td>\n",
       "      <td>0.270105</td>\n",
       "    </tr>\n",
       "    <tr>\n",
       "      <th>660</th>\n",
       "      <td>0</td>\n",
       "      <td>1282</td>\n",
       "      <td>0.158246</td>\n",
       "    </tr>\n",
       "    <tr>\n",
       "      <th>2636</th>\n",
       "      <td>1</td>\n",
       "      <td>2112</td>\n",
       "      <td>0.240111</td>\n",
       "    </tr>\n",
       "    <tr>\n",
       "      <th>3455</th>\n",
       "      <td>0</td>\n",
       "      <td>4268</td>\n",
       "      <td>0.162736</td>\n",
       "    </tr>\n",
       "    <tr>\n",
       "      <th>3004</th>\n",
       "      <td>0</td>\n",
       "      <td>6958</td>\n",
       "      <td>0.235268</td>\n",
       "    </tr>\n",
       "  </tbody>\n",
       "</table>\n",
       "</div>"
      ],
      "text/plain": [
       "      Is_Submitted  Prospect ID  Submitted_prob\n",
       "1734             1          203        0.332256\n",
       "1829             0          398        0.119159\n",
       "409              0        10409        0.226077\n",
       "3043             0        12292        0.272265\n",
       "2452             0        14456        0.204884\n",
       "828              0        15199        0.270105\n",
       "660              0         1282        0.158246\n",
       "2636             1         2112        0.240111\n",
       "3455             0         4268        0.162736\n",
       "3004             0         6958        0.235268"
      ]
     },
     "execution_count": 2107,
     "metadata": {},
     "output_type": "execute_result"
    }
   ],
   "source": [
    "y_pred_final.sample(10)"
   ]
  },
  {
   "cell_type": "code",
   "execution_count": 2108,
   "metadata": {},
   "outputs": [],
   "source": [
    "y_pred_final['final_predicted'] = y_pred_final.Submitted_prob.map(lambda x: 1 if x > 0.25 else 0)"
   ]
  },
  {
   "cell_type": "code",
   "execution_count": 2109,
   "metadata": {},
   "outputs": [
    {
     "data": {
      "text/html": [
       "<div>\n",
       "<style scoped>\n",
       "    .dataframe tbody tr th:only-of-type {\n",
       "        vertical-align: middle;\n",
       "    }\n",
       "\n",
       "    .dataframe tbody tr th {\n",
       "        vertical-align: top;\n",
       "    }\n",
       "\n",
       "    .dataframe thead th {\n",
       "        text-align: right;\n",
       "    }\n",
       "</style>\n",
       "<table border=\"1\" class=\"dataframe\">\n",
       "  <thead>\n",
       "    <tr style=\"text-align: right;\">\n",
       "      <th></th>\n",
       "      <th>Is_Submitted</th>\n",
       "      <th>Prospect ID</th>\n",
       "      <th>Submitted_prob</th>\n",
       "      <th>final_predicted</th>\n",
       "    </tr>\n",
       "  </thead>\n",
       "  <tbody>\n",
       "    <tr>\n",
       "      <th>0</th>\n",
       "      <td>0</td>\n",
       "      <td>13108</td>\n",
       "      <td>0.105234</td>\n",
       "      <td>0</td>\n",
       "    </tr>\n",
       "    <tr>\n",
       "      <th>1</th>\n",
       "      <td>0</td>\n",
       "      <td>1744</td>\n",
       "      <td>0.227194</td>\n",
       "      <td>0</td>\n",
       "    </tr>\n",
       "    <tr>\n",
       "      <th>2</th>\n",
       "      <td>0</td>\n",
       "      <td>15886</td>\n",
       "      <td>0.233236</td>\n",
       "      <td>0</td>\n",
       "    </tr>\n",
       "    <tr>\n",
       "      <th>3</th>\n",
       "      <td>0</td>\n",
       "      <td>15546</td>\n",
       "      <td>0.115431</td>\n",
       "      <td>0</td>\n",
       "    </tr>\n",
       "    <tr>\n",
       "      <th>4</th>\n",
       "      <td>0</td>\n",
       "      <td>7397</td>\n",
       "      <td>0.239835</td>\n",
       "      <td>0</td>\n",
       "    </tr>\n",
       "  </tbody>\n",
       "</table>\n",
       "</div>"
      ],
      "text/plain": [
       "   Is_Submitted  Prospect ID  Submitted_prob  final_predicted\n",
       "0             0        13108        0.105234                0\n",
       "1             0         1744        0.227194                0\n",
       "2             0        15886        0.233236                0\n",
       "3             0        15546        0.115431                0\n",
       "4             0         7397        0.239835                0"
      ]
     },
     "execution_count": 2109,
     "metadata": {},
     "output_type": "execute_result"
    }
   ],
   "source": [
    "# Let's see the head of y_pred_final\n",
    "y_pred_final.head()"
   ]
  },
  {
   "cell_type": "code",
   "execution_count": 2111,
   "metadata": {},
   "outputs": [
    {
     "data": {
      "text/plain": [
       "0.7027605392681361"
      ]
     },
     "execution_count": 2111,
     "metadata": {},
     "output_type": "execute_result"
    }
   ],
   "source": [
    "metrics.accuracy_score(y_pred_final.Is_Submitted, y_pred_final.final_predicted)"
   ]
  },
  {
   "cell_type": "code",
   "execution_count": 2112,
   "metadata": {},
   "outputs": [
    {
     "data": {
      "text/plain": [
       "array([[2979,  819],\n",
       "       [ 570,  305]], dtype=int64)"
      ]
     },
     "execution_count": 2112,
     "metadata": {},
     "output_type": "execute_result"
    }
   ],
   "source": [
    "confusion2 = metrics.confusion_matrix(y_pred_final.Is_Submitted, y_pred_final.final_predicted )\n",
    "confusion2"
   ]
  },
  {
   "cell_type": "code",
   "execution_count": 2113,
   "metadata": {},
   "outputs": [],
   "source": [
    "TP = confusion2[1,1] # true positive \n",
    "TN = confusion2[0,0] # true negatives\n",
    "FP = confusion2[0,1] # false positives\n",
    "FN = confusion2[1,0] # false negatives"
   ]
  },
  {
   "cell_type": "code",
   "execution_count": 2114,
   "metadata": {},
   "outputs": [
    {
     "data": {
      "text/plain": [
       "0.3485714285714286"
      ]
     },
     "execution_count": 2114,
     "metadata": {},
     "output_type": "execute_result"
    }
   ],
   "source": [
    "TP / float(TP+FN)"
   ]
  },
  {
   "cell_type": "code",
   "execution_count": 2115,
   "metadata": {},
   "outputs": [
    {
     "data": {
      "text/plain": [
       "0.7843601895734598"
      ]
     },
     "execution_count": 2115,
     "metadata": {},
     "output_type": "execute_result"
    }
   ],
   "source": [
    "TN / float(TN+FP)"
   ]
  },
  {
   "cell_type": "code",
   "execution_count": 1423,
   "metadata": {},
   "outputs": [],
   "source": [
    "#ax = y_train_pred_final['Submitted_Prob'].plot.hist(bins=30)"
   ]
  },
  {
   "cell_type": "code",
   "execution_count": 1424,
   "metadata": {},
   "outputs": [],
   "source": [
    "#ax = y_train_pred_final['Submitted'].plot.hist(bins=20)"
   ]
  },
  {
   "cell_type": "code",
   "execution_count": 1425,
   "metadata": {},
   "outputs": [],
   "source": [
    "#ax = y_train_pred_final['predicted'].plot.hist(bins=20)"
   ]
  },
  {
   "cell_type": "code",
   "execution_count": null,
   "metadata": {},
   "outputs": [],
   "source": [
    "#y_train_pred_final.to_csv('Sub_probmm4-11.csv', index = True)"
   ]
  },
  {
   "cell_type": "code",
   "execution_count": 2116,
   "metadata": {},
   "outputs": [
    {
     "name": "stdout",
     "output_type": "stream",
     "text": [
      "Mean ROC AUC: 0.747\n"
     ]
    }
   ],
   "source": [
    "from sklearn.model_selection import RepeatedStratifiedKFold\n",
    "from sklearn.tree import DecisionTreeClassifier\n",
    "from imblearn.pipeline import Pipeline\n",
    "from numpy import mean\n",
    "\n",
    "# define pipeline\n",
    "steps = [('over', SMOTE()), ('model', DecisionTreeClassifier())]\n",
    "pipeline = Pipeline(steps=steps)\n",
    "# evaluate pipeline\n",
    "cv = RepeatedStratifiedKFold(n_splits=5, n_repeats=3, random_state=1)\n",
    "scores = cross_val_score(pipeline, X, y, scoring='roc_auc', cv=cv, n_jobs=-1)\n",
    "print('Mean ROC AUC: %.3f' % mean(scores))"
   ]
  },
  {
   "cell_type": "code",
   "execution_count": 2117,
   "metadata": {},
   "outputs": [],
   "source": [
    "#  Logistic regression\n",
    "from sklearn.linear_model import LogisticRegression\n",
    "\n",
    "\n",
    "model = LogisticRegression(solver='liblinear')\n",
    "model.fit(X_train, y_train)\n",
    "y_pred = model.predict(X_test)"
   ]
  },
  {
   "cell_type": "code",
   "execution_count": 2118,
   "metadata": {},
   "outputs": [
    {
     "name": "stdout",
     "output_type": "stream",
     "text": [
      "Cross Validation Scores for Log Reg: [0.39369298 0.34457449 0.48859353 0.42511406 0.34874033]\n",
      "Mean Accuracy Score for Log Reg: 0.40014307903277224\n",
      "\n"
     ]
    }
   ],
   "source": [
    "accuracy_logreg = cross_val_score(model, X, y, cv=5, scoring='accuracy')\n",
    "print(\"Cross Validation Scores for Log Reg: {}\".format(accuracy_logreg))\n",
    "print(\"Mean Accuracy Score for Log Reg: {}\".format(np.mean(accuracy_logreg)))\n",
    "print()"
   ]
  },
  {
   "cell_type": "code",
   "execution_count": 2121,
   "metadata": {},
   "outputs": [],
   "source": [
    "#accuracy_score(y_test,y_pred, normalize=True) * 100"
   ]
  },
  {
   "cell_type": "code",
   "execution_count": 2122,
   "metadata": {},
   "outputs": [
    {
     "name": "stdout",
     "output_type": "stream",
     "text": [
      "Training score: 0.8077240620126593\n"
     ]
    }
   ],
   "source": [
    "print(\"Training score:\", model.score(X_train, y_train))"
   ]
  },
  {
   "cell_type": "code",
   "execution_count": 2123,
   "metadata": {},
   "outputs": [],
   "source": [
    "from sklearn.model_selection import cross_validate\n",
    "\n",
    "scoring = {'acc': 'accuracy',\n",
    "           'prec': 'precision',\n",
    "           'rec': 'recall',\n",
    "           'f1':'f1'}\n",
    "\n",
    "scores = cross_validate(model,  X, y, scoring=scoring, cv=5, \n",
    "                        return_train_score=False)"
   ]
  },
  {
   "cell_type": "code",
   "execution_count": 2124,
   "metadata": {},
   "outputs": [
    {
     "data": {
      "text/plain": [
       "{'fit_time': array([0.11299944, 0.15545297, 0.07814789, 0.07300425, 0.23643875]),\n",
       " 'score_time': array([0.01400328, 0.01563931, 0.01614213, 0.01034141, 0.01484132]),\n",
       " 'test_acc': array([0.39369298, 0.34457449, 0.48859353, 0.42511406, 0.34874033]),\n",
       " 'test_prec': array([0.39612403, 0.32356918, 0.33714286, 0.42846329, 0.39207921]),\n",
       " 'test_rec': array([0.40539468, 0.28480762, 0.02340341, 0.44920635, 0.55      ]),\n",
       " 'test_f1': array([0.40070574, 0.30295359, 0.04376855, 0.43858969, 0.45780347])}"
      ]
     },
     "execution_count": 2124,
     "metadata": {},
     "output_type": "execute_result"
    }
   ],
   "source": [
    "scores"
   ]
  },
  {
   "cell_type": "code",
   "execution_count": 2125,
   "metadata": {},
   "outputs": [],
   "source": [
    "KNN_model = KNeighborsClassifier()"
   ]
  },
  {
   "cell_type": "code",
   "execution_count": 2126,
   "metadata": {},
   "outputs": [
    {
     "name": "stdout",
     "output_type": "stream",
     "text": [
      "Cross Validation Scores for Log KNN: [0.70666402 0.68875223 0.69311645 0.68895061 0.69371157]\n",
      "Mean Accuracy Score for KNN: 0.6942389738535126\n"
     ]
    }
   ],
   "source": [
    "from sklearn.model_selection import StratifiedKFold\n",
    "\n",
    "cv = StratifiedKFold(n_splits=5, random_state=0, shuffle=True)\n",
    "accuracy_KNN = cross_val_score(KNN_model, X, y, cv=cv, scoring='accuracy')\n",
    "\n",
    "print(\"Cross Validation Scores for Log KNN: {}\".format(accuracy_KNN))\n",
    "print(\"Mean Accuracy Score for KNN: {}\".format(np.mean(accuracy_KNN)))"
   ]
  },
  {
   "cell_type": "code",
   "execution_count": 2135,
   "metadata": {},
   "outputs": [
    {
     "name": "stdout",
     "output_type": "stream",
     "text": [
      "Best Parameter: {'n_neighbors': 1}\n",
      "Best Cross Vlidation Score: 0.7120923146580429\n"
     ]
    }
   ],
   "source": [
    "param_grid = {'n_neighbors': [1,2,3,4,5,6]}\n",
    "cv = StratifiedKFold(n_splits=5, random_state=0, shuffle=True)\n",
    "grid = GridSearchCV(KNN_model, param_grid, cv = cv, scoring='accuracy',\n",
    "                    return_train_score=True)\n",
    "grid.fit(X, y)\n",
    "\n",
    "print(\"Best Parameter: {}\".format(grid.best_params_))\n",
    "print(\"Best Cross Vlidation Score: {}\".format(grid.best_score_))"
   ]
  },
  {
   "cell_type": "code",
   "execution_count": 2136,
   "metadata": {},
   "outputs": [
    {
     "data": {
      "text/plain": [
       "{'criterion': 'entropy',\n",
       " 'max_depth': 6,\n",
       " 'max_features': None,\n",
       " 'splitter': 'best'}"
      ]
     },
     "execution_count": 2136,
     "metadata": {},
     "output_type": "execute_result"
    }
   ],
   "source": [
    "parameters = {'splitter': ('best','random'),\n",
    "             'max_depth': [2,4,6],\n",
    "             'max_features':[2,4,6, None],\n",
    "             'criterion': ['gini', 'entropy']}\n",
    "\n",
    "grid_search = GridSearchCV(DecisionTreeClassifier(), parameters, cv=5,\n",
    "                          return_train_score=True)\n",
    "grid_search.fit(X_train, y_train)\n",
    "\n",
    "grid_search.best_params_"
   ]
  },
  {
   "cell_type": "code",
   "execution_count": 2137,
   "metadata": {},
   "outputs": [
    {
     "data": {
      "text/plain": [
       "DecisionTreeClassifier(criterion='entropy', max_depth=6)"
      ]
     },
     "execution_count": 2137,
     "metadata": {},
     "output_type": "execute_result"
    }
   ],
   "source": [
    "model = DecisionTreeClassifier(splitter=grid_search.best_params_['splitter'],\n",
    "                                       max_depth=grid_search.best_params_['max_depth'],\n",
    "                                      max_features=grid_search.best_params_['max_features'],\n",
    "                                       criterion= grid_search.best_params_['criterion'])\n",
    "\n",
    "X_train, X_test, y_train, y_test = train_test_split(X,y, random_state=0)\n",
    "model.fit(X_train, y_train)"
   ]
  },
  {
   "cell_type": "code",
   "execution_count": 2138,
   "metadata": {},
   "outputs": [
    {
     "name": "stdout",
     "output_type": "stream",
     "text": [
      "In-sample Accuracy: 62.04506982649175\n",
      "Out-of-sample Accuracy: 61.32973659155824\n"
     ]
    }
   ],
   "source": [
    "y_train_hat = model.predict(X_train)\n",
    "y_pred = model.predict(X_test)\n",
    "\n",
    "in_sample_acc = accuracy_score(y_train,y_train_hat, normalize=True) * 100\n",
    "\n",
    "out_of_sample_acc = accuracy_score(y_test,y_pred, normalize=True) * 100\n",
    "\n",
    "print(\"In-sample Accuracy:\", in_sample_acc)\n",
    "print(\"Out-of-sample Accuracy:\", out_of_sample_acc)"
   ]
  },
  {
   "cell_type": "code",
   "execution_count": 2139,
   "metadata": {},
   "outputs": [
    {
     "name": "stdout",
     "output_type": "stream",
     "text": [
      "Confusion Matrix\n",
      "[[1661 1500]\n",
      " [ 937 2204]]\n",
      "              precision    recall  f1-score   support\n",
      "\n",
      "           0       0.64      0.53      0.58      3161\n",
      "           1       0.60      0.70      0.64      3141\n",
      "\n",
      "    accuracy                           0.61      6302\n",
      "   macro avg       0.62      0.61      0.61      6302\n",
      "weighted avg       0.62      0.61      0.61      6302\n",
      "\n"
     ]
    }
   ],
   "source": [
    "from sklearn.metrics import classification_report, confusion_matrix\n",
    "\n",
    "print(\"Confusion Matrix\")\n",
    "print(confusion_matrix(y_test,y_pred))\n",
    "print(classification_report(y_test,y_pred))"
   ]
  },
  {
   "cell_type": "code",
   "execution_count": 2140,
   "metadata": {},
   "outputs": [
    {
     "data": {
      "image/png": "[encoded data removed]",
      "text/plain": [
       "<Figure size 432x288 with 1 Axes>"
      ]
     },
     "metadata": {
      "needs_background": "light"
     },
     "output_type": "display_data"
    }
   ],
   "source": [
    "from sklearn.metrics import roc_curve\n",
    "fpr, tpr, thresholds = roc_curve(y_test, model.predict_proba(X_test)[:,1])\n",
    "plt.plot(fpr, tpr, label=\"ROC Curve\")\n",
    "plt.xlabel(\"FPR\")\n",
    "plt.ylabel(\"TPR (recall)\");"
   ]
  },
  {
   "cell_type": "code",
   "execution_count": 2141,
   "metadata": {},
   "outputs": [],
   "source": [
    "y_pred_prob =model.predict_proba(X_test)[:,1]\n",
    "fpr,tpr, threshold= roc_curve(y_test,y_pred_prob)"
   ]
  },
  {
   "cell_type": "code",
   "execution_count": 2142,
   "metadata": {},
   "outputs": [
    {
     "name": "stdout",
     "output_type": "stream",
     "text": [
      "AUC for logreg: 0.648\n"
     ]
    }
   ],
   "source": [
    "from sklearn.metrics import roc_auc_score\n",
    "\n",
    "logreg_auc = roc_auc_score(y_test, model.predict_proba(X_test)[:,1]) \n",
    "print(\"AUC for logreg: {:.3f}\".format(logreg_auc))"
   ]
  },
  {
   "cell_type": "code",
   "execution_count": 466,
   "metadata": {},
   "outputs": [],
   "source": [
    "#from sklearn.model_selection import cross_val_score\n",
    "#cv_scores = cross_val_score(model,X,y, cv=5, scoring='roc_auc')\n",
    "#print(cv_scores)"
   ]
  },
  {
   "cell_type": "code",
   "execution_count": 2143,
   "metadata": {},
   "outputs": [],
   "source": [
    "feature_names = X = LeadScore_df.drop('Is_Submitted', axis =1)"
   ]
  },
  {
   "cell_type": "code",
   "execution_count": 2144,
   "metadata": {},
   "outputs": [
    {
     "data": {
      "text/plain": [
       "array([0.02897495, 0.14836589, 0.1384599 , 0.05415849, 0.06582437,\n",
       "       0.10392947, 0.17437628, 0.18753844, 0.09837221])"
      ]
     },
     "execution_count": 2144,
     "metadata": {},
     "output_type": "execute_result"
    }
   ],
   "source": [
    "#print(feature_names)\n",
    "model.feature_importances_"
   ]
  },
  {
   "cell_type": "code",
   "execution_count": 2149,
   "metadata": {},
   "outputs": [],
   "source": [
    "#from sklearn import tree\n",
    "#import graphviz\n",
    "#fig = plt.figure(figsize=(20,15))\n",
    "\n",
    "#class_names = ['0', '1']\n",
    "#feature_names = X.columns\n",
    "\n",
    "#dot_data = tree.export_graphviz(model, \n",
    "                  #feature_names=feature_names, \n",
    "                  #class_names=class_names,  \n",
    "                 # filled=True, rounded=True,  \n",
    "                  #special_characters=True,\n",
    "                  #out_file=None)\n",
    "                           \n",
    "#graph = graphviz.Source(dot_data)\n",
    "#graph"
   ]
  },
  {
   "cell_type": "code",
   "execution_count": 108,
   "metadata": {},
   "outputs": [],
   "source": [
    "#graph.render(\"decision_treeLeadN_graphviz\")\n",
    "#'decision_treeLeadN_graphviz.png'"
   ]
  },
  {
   "cell_type": "code",
   "execution_count": 2146,
   "metadata": {},
   "outputs": [
    {
     "data": {
      "text/html": [
       "<div>\n",
       "<style scoped>\n",
       "    .dataframe tbody tr th:only-of-type {\n",
       "        vertical-align: middle;\n",
       "    }\n",
       "\n",
       "    .dataframe tbody tr th {\n",
       "        vertical-align: top;\n",
       "    }\n",
       "\n",
       "    .dataframe thead th {\n",
       "        text-align: right;\n",
       "    }\n",
       "</style>\n",
       "<table border=\"1\" class=\"dataframe\">\n",
       "  <thead>\n",
       "    <tr style=\"text-align: right;\">\n",
       "      <th></th>\n",
       "      <th>Feature_Importance</th>\n",
       "    </tr>\n",
       "  </thead>\n",
       "  <tbody>\n",
       "    <tr>\n",
       "      <th>Web_Ad_Outlet_Source_code</th>\n",
       "      <td>0.187538</td>\n",
       "    </tr>\n",
       "    <tr>\n",
       "      <th>Web_Ad_Outlet_code</th>\n",
       "      <td>0.174376</td>\n",
       "    </tr>\n",
       "    <tr>\n",
       "      <th>Email_Domain</th>\n",
       "      <td>0.148366</td>\n",
       "    </tr>\n",
       "    <tr>\n",
       "      <th>LS_Amount_to_Borrow</th>\n",
       "      <td>0.138460</td>\n",
       "    </tr>\n",
       "    <tr>\n",
       "      <th>LS_Self_Graded_Credit</th>\n",
       "      <td>0.103929</td>\n",
       "    </tr>\n",
       "  </tbody>\n",
       "</table>\n",
       "</div>"
      ],
      "text/plain": [
       "                           Feature_Importance\n",
       "Web_Ad_Outlet_Source_code            0.187538\n",
       "Web_Ad_Outlet_code                   0.174376\n",
       "Email_Domain                         0.148366\n",
       "LS_Amount_to_Borrow                  0.138460\n",
       "LS_Self_Graded_Credit                0.103929"
      ]
     },
     "execution_count": 2146,
     "metadata": {},
     "output_type": "execute_result"
    }
   ],
   "source": [
    "## Calculating feature_importance = \n",
    "model.tree_.compute_feature_importances(normalize=False)\n",
    "feat_imp_dict = dict(zip(feature_names, model.feature_importances_))\n",
    "feat_imp = pd.DataFrame.from_dict(feat_imp_dict, orient='index')\n",
    "feat_imp.rename(columns = {0:'Feature_Importance'}, inplace = True)\n",
    "feat_imp.sort_values(by=['Feature_Importance'], ascending=False).head()"
   ]
  },
  {
   "cell_type": "code",
   "execution_count": 520,
   "metadata": {},
   "outputs": [
    {
     "name": "stdout",
     "output_type": "stream",
     "text": [
      "In-sample Accuracy: 93.28184511214558\n",
      "Out-of-sample Accuracy: 78.45128530625199\n"
     ]
    }
   ],
   "source": [
    "from sklearn.ensemble import RandomForestClassifier\n",
    "model = RandomForestClassifier(n_estimators=100, random_state=0)\n",
    "\n",
    "model.fit(X_train, y_train)\n",
    "\n",
    "y_train_hat = model.predict(X_train)\n",
    "y_pred = model.predict(X_test)\n",
    "\n",
    "in_sample_acc = accuracy_score(y_train,y_train_hat, normalize=True) * 100\n",
    "\n",
    "out_of_sample_acc = accuracy_score(y_test,y_pred, normalize=True) * 100\n",
    "print(\"In-sample Accuracy:\", in_sample_acc)\n",
    "print(\"Out-of-sample Accuracy:\", out_of_sample_acc)"
   ]
  },
  {
   "cell_type": "code",
   "execution_count": 521,
   "metadata": {},
   "outputs": [],
   "source": [
    "from sklearn.preprocessing import MinMaxScaler\n",
    "scaling = MinMaxScaler(feature_range=(0,1)).fit(X_train)\n",
    "X_train = scaling.transform(X_train)\n",
    "X_test = scaling.transform(X_test)"
   ]
  },
  {
   "cell_type": "code",
   "execution_count": 148,
   "metadata": {},
   "outputs": [],
   "source": [
    "from sklearn import svm\n",
    "\n",
    "clf = svm.SVC(kernel='linear')\n",
    "clf.fit(X_train, y_train)\n",
    "y_pred = clf.predict(X_test)"
   ]
  },
  {
   "cell_type": "code",
   "execution_count": 149,
   "metadata": {},
   "outputs": [
    {
     "name": "stdout",
     "output_type": "stream",
     "text": [
      "Accuracy: 0.5817929358673957\n"
     ]
    }
   ],
   "source": [
    "from sklearn import metrics\n",
    "\n",
    "print(\"Accuracy:\",metrics.accuracy_score(y_test, y_pred))"
   ]
  },
  {
   "cell_type": "code",
   "execution_count": null,
   "metadata": {},
   "outputs": [],
   "source": []
  },
  {
   "cell_type": "code",
   "execution_count": null,
   "metadata": {},
   "outputs": [],
   "source": [
    "#len(CreditRisk_merge['contract_number'].unique())"
   ]
  }
 ],
 "metadata": {
  "kernelspec": {
   "display_name": "Python 3",
   "language": "python",
   "name": "python3"
  },
  "language_info": {
   "codemirror_mode": {
    "name": "ipython",
    "version": 3
   },
   "file_extension": ".py",
   "mimetype": "text/x-python",
   "name": "python",
   "nbconvert_exporter": "python",
   "pygments_lexer": "ipython3",
   "version": "3.7.2"
  }
 },
 "nbformat": 4,
 "nbformat_minor": 5
}
